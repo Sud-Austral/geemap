{
 "cells": [
  {
   "cell_type": "markdown",
   "metadata": {},
   "source": [
    "# Curso de geemap\n",
    "#### Christian  Castro. DI.\n",
    "#### 29 de Diciembre del 2020."
   ]
  },
  {
   "cell_type": "markdown",
   "metadata": {},
   "source": [
    "# <span style=\"color:green\"> *I Elementos básicos*</span>"
   ]
  },
  {
   "cell_type": "markdown",
   "metadata": {},
   "source": [
    "En comparación con la documentación completa y el IDE interactivo (es decir, el editor de código JavaScript de GEE) de la API de JavaScript de GEE, la API de Python de GEE tiene relativamente poca documentación y una funcionalidad limitada para visualizar los resultados de forma interactiva. El paquete geemap Python se creó para llenar este vacío.\n",
    " \n",
    "geemap es un paquete de Python para mapeo interactivo con Google Earth Engine (GEE). GEE proporciona APIs de JavaScript y Python para realizar solicitudes a los servidores de Earth Engine. Se basa en ipyleaflet e ipywidgets y permite analizar y visualizar conjuntos de datos de Earth Engine de forma interactiva dentro de un entorno basado en Jupyter.\n",
    "\n",
    "Está diseñado para usuarios de GEE que deseen realizar la transición de la API de JavaScript a la API de Python. El módulo de conversión automatizada de JavaScript a Python del paquete geemap puede reducir en gran medida el tiempo necesario para convertir los JavaScripts GEE existentes en scripts Python y cuadernos Jupyter."
   ]
  },
  {
   "cell_type": "markdown",
   "metadata": {},
   "source": [
    "#### 1 Importamos la libreria geemap y desplegaremos un mapa."
   ]
  },
  {
   "cell_type": "code",
   "execution_count": 1,
   "metadata": {},
   "outputs": [],
   "source": [
    "import geemap\n",
    "from IPython.display import Image\n",
    "from IPython.core.display import HTML\n",
    "import pyppdf.patch_pyppeteer"
   ]
  },
  {
   "cell_type": "code",
   "execution_count": 2,
   "metadata": {
    "scrolled": false
   },
   "outputs": [
    {
     "data": {
      "application/vnd.jupyter.widget-view+json": {
       "model_id": "2310162d440845d2a9f345b33b4722e6",
       "version_major": 2,
       "version_minor": 0
      },
      "text/plain": [
       "Map(center=[40, -100], controls=(WidgetControl(options=['position'], widget=HBox(children=(ToggleButton(value=…"
      ]
     },
     "metadata": {},
     "output_type": "display_data"
    }
   ],
   "source": [
    "m = geemap.Map(center=[40, -100], zoom=4)\n",
    "m"
   ]
  },
  {
   "cell_type": "markdown",
   "metadata": {},
   "source": [
    "#### 2 Agregamos una capa\n",
    "\n",
    "La cual se va a agregar automaticamente a nuestro mapa GEE en el administrador de capas."
   ]
  },
  {
   "cell_type": "code",
   "execution_count": 3,
   "metadata": {},
   "outputs": [],
   "source": [
    "m.add_basemap('Esri Topo World')"
   ]
  },
  {
   "cell_type": "markdown",
   "metadata": {},
   "source": [
    "#### 3 Podemos ver todas las capas disponibles para ser integradas a nuestro mapa."
   ]
  },
  {
   "cell_type": "code",
   "execution_count": 4,
   "metadata": {},
   "outputs": [
    {
     "name": "stdout",
     "output_type": "stream",
     "text": [
      "ROADMAP\n",
      "SATELLITE\n",
      "TERRAIN\n",
      "HYBRID\n",
      "ESRI\n",
      "Esri Ocean\n",
      "Esri Satellite\n",
      "Esri Standard\n",
      "Esri Terrain\n",
      "Esri Transportation\n",
      "Esri Topo World\n",
      "Esri National Geographic\n",
      "Esri Shaded Relief\n",
      "Esri Physical Map\n",
      "FWS NWI Wetlands\n",
      "FWS NWI Wetlands Raster\n",
      "Google Maps\n",
      "Google Satellite\n",
      "Google Terrain\n",
      "Google Satellite Hybrid\n",
      "NLCD 2016 CONUS Land Cover\n",
      "NLCD 2013 CONUS Land Cover\n",
      "NLCD 2011 CONUS Land Cover\n",
      "NLCD 2008 CONUS Land Cover\n",
      "NLCD 2006 CONUS Land Cover\n",
      "NLCD 2004 CONUS Land Cover\n",
      "NLCD 2001 CONUS Land Cover\n",
      "USGS NAIP Imagery\n",
      "USGS Hydrography\n",
      "USGS 3DEP Elevation\n",
      "OpenStreetMap.Mapnik\n",
      "OpenStreetMap.BlackAndWhite\n",
      "OpenStreetMap.DE\n",
      "OpenStreetMap.France\n",
      "OpenStreetMap.HOT\n",
      "OpenTopoMap\n",
      "Hydda.Full\n",
      "Hydda.Base\n",
      "Esri.WorldStreetMap\n",
      "Esri.DeLorme\n",
      "Esri.WorldTopoMap\n",
      "Esri.WorldImagery\n",
      "Esri.NatGeoWorldMap\n",
      "HikeBike.HikeBike\n",
      "MtbMap\n",
      "CartoDB.Positron\n",
      "CartoDB.DarkMatter\n",
      "NASAGIBS.ModisTerraTrueColorCR\n",
      "NASAGIBS.ModisTerraBands367CR\n",
      "NASAGIBS.ModisTerraBands721CR\n",
      "NASAGIBS.ModisAquaTrueColorCR\n",
      "NASAGIBS.ModisAquaBands721CR\n",
      "NASAGIBS.ViirsTrueColorCR\n",
      "NASAGIBS.ViirsEarthAtNight2012\n",
      "NASAGIBS.BlueMarble3413\n",
      "NASAGIBS.BlueMarble3031\n",
      "NASAGIBS.BlueMarble\n",
      "Strava.All\n",
      "Strava.Ride\n",
      "Strava.Run\n",
      "Strava.Water\n",
      "Strava.Winter\n",
      "Stamen.Terrain\n",
      "Stamen.Toner\n",
      "Stamen.Watercolor\n"
     ]
    }
   ],
   "source": [
    "basemaps = geemap.ee_basemaps\n",
    "for basemap in basemaps:\n",
    "    print(basemap)"
   ]
  },
  {
   "cell_type": "markdown",
   "metadata": {},
   "source": [
    "#### 4 Agreguemos Capas "
   ]
  },
  {
   "cell_type": "code",
   "execution_count": 5,
   "metadata": {},
   "outputs": [],
   "source": [
    "m.add_basemap('OpenTopoMap')"
   ]
  },
  {
   "cell_type": "code",
   "execution_count": 6,
   "metadata": {},
   "outputs": [],
   "source": [
    "from ipyleaflet import TileLayer, WMSLayer, basemaps, basemap_to_tiles"
   ]
  },
  {
   "cell_type": "code",
   "execution_count": 7,
   "metadata": {},
   "outputs": [],
   "source": [
    "url = 'https://mt1.google.com/vt/lyrs=m&x={x}&y={y}&z={z}'\n",
    "m.add_tile_layer(url, name='Mapa Google', attribution='Google')"
   ]
  },
  {
   "cell_type": "code",
   "execution_count": 8,
   "metadata": {},
   "outputs": [],
   "source": [
    "# naip_url = 'https://services.nationalmap.gov/arcgis/services/USGSNAIPImagery/ImageServer/WMSServer?'\n",
    "# m.add_wms_layer(url=naip_url, layers='0', name='NAIP Imagery', format='image/png', shown=True)"
   ]
  },
  {
   "cell_type": "markdown",
   "metadata": {},
   "source": [
    "#### 5 Control para administrar capas"
   ]
  },
  {
   "cell_type": "code",
   "execution_count": 9,
   "metadata": {},
   "outputs": [
    {
     "data": {
      "application/vnd.jupyter.widget-view+json": {
       "model_id": "a936b86d2bd64d6795d49da93090b740",
       "version_major": 2,
       "version_minor": 0
      },
      "text/plain": [
       "Map(center=[40, -100], controls=(WidgetControl(options=['position'], widget=HBox(children=(ToggleButton(value=…"
      ]
     },
     "metadata": {},
     "output_type": "display_data"
    }
   ],
   "source": [
    "m = geemap.Map()\n",
    "# geemap.update_package()\n",
    "m.basemap_demo()\n",
    "m"
   ]
  },
  {
   "cell_type": "markdown",
   "metadata": {},
   "source": [
    "La capa NLCD 2004 CONUS Land Cover es interesante. El Servicio Geológico de los Estados Unidos (USGS), en asociación con varias agencias federales, ha desarrollado y lanzado cuatro productos de la Base de datos nacional de cobertura terrestre (NLCD) durante las últimas dos décadas: NLCD 1992, 2001, 2006 y 2011."
   ]
  },
  {
   "cell_type": "code",
   "execution_count": 10,
   "metadata": {},
   "outputs": [
    {
     "data": {
      "text/html": [
       "<img src=\"https://www.mrlc.gov/sites/default/files/statistics/CONUS_NLCD16_Pie_2004.png\"/>"
      ],
      "text/plain": [
       "<IPython.core.display.Image object>"
      ]
     },
     "execution_count": 10,
     "metadata": {},
     "output_type": "execute_result"
    }
   ],
   "source": [
    "Image(url= \"https://www.mrlc.gov/sites/default/files/statistics/CONUS_NLCD16_Pie_2004.png\")"
   ]
  },
  {
   "cell_type": "markdown",
   "metadata": {},
   "source": [
    "#### 6 Anadir capas desde la web\n",
    "Podemos anadir capas WMS dersde la web a nuestro control de capas. El servicio Web Map (WMS) definido por el OGC (Open Geospatial Consortium) produce mapas de datos referenciados espacialmente, de forma dinámica a partir de información geográfica. "
   ]
  },
  {
   "cell_type": "code",
   "execution_count": 11,
   "metadata": {},
   "outputs": [],
   "source": [
    "from ipyleaflet import TileLayer, WMSLayer, basemaps, basemap_to_tiles"
   ]
  },
  {
   "cell_type": "markdown",
   "metadata": {},
   "source": [
    "Podemos agregar capas del Servicio Geológico de Estados Unidos:\n",
    "\n",
    "https://viewer.nationalmap.gov/services/\n",
    "\n",
    "Vamos a base map y seleccionemos la web de cualquier WMS y copiamos la URL.\n",
    "\n",
    "https://nowcoast.noaa.gov/arcgis/services/nowcoast/radar_meteo_imagery_nexrad_time/MapServer/WMSServer?request=GetCapabilities&service=WMS"
   ]
  },
  {
   "cell_type": "markdown",
   "metadata": {},
   "source": [
    "#### 7 La herramienta *Inspector* tutorial 3"
   ]
  },
  {
   "cell_type": "markdown",
   "metadata": {},
   "source": [
    "Sólo por buena práctica, carguemos nuevamente nuestra librería geemap y generemos un mapa base y una capa. Esto lo vamos a hacer siempre."
   ]
  },
  {
   "cell_type": "code",
   "execution_count": 12,
   "metadata": {},
   "outputs": [
    {
     "data": {
      "application/vnd.jupyter.widget-view+json": {
       "model_id": "132ccb1d86344ba99a567c4dfe9e50d6",
       "version_major": 2,
       "version_minor": 0
      },
      "text/plain": [
       "Map(center=[40, -100], controls=(WidgetControl(options=['position'], widget=HBox(children=(ToggleButton(value=…"
      ]
     },
     "metadata": {},
     "output_type": "display_data"
    }
   ],
   "source": [
    "import geemap\n",
    "Map = geemap.Map()\n",
    "Map.add_basemap(\"OpenTopoMap\")\n",
    "Map"
   ]
  },
  {
   "cell_type": "markdown",
   "metadata": {},
   "source": [
    "Con la Herramienta Inspector , podemos desplegar la informacion relacionada a cada una de las capas en detalle, dando click a Inspector, y luego al lugar del mapa de donde queremos obtener la información."
   ]
  },
  {
   "cell_type": "code",
   "execution_count": 13,
   "metadata": {},
   "outputs": [],
   "source": [
    "import ee\n",
    "\n",
    "# generemos objetos con mapas GEE:\n",
    "dem = ee.Image('USGS/SRTMGL1_003')\n",
    "landcover = ee.Image(\"ESA/GLOBCOVER_L4_200901_200912_V2_3\").select('landcover')\n",
    "landsat7 = ee.Image('LE7_TOA_5YEAR/1999_2003')\n",
    "states = ee.FeatureCollection(\"TIGER/2018/States\")\n",
    "\n",
    "# Establezcamos los parametros de visualizacion:\n",
    "vis_params = {\n",
    "  'min': 0,\n",
    "  'max': 4000,\n",
    "  'palette': ['006633', 'E5FFCC', '662A00', 'D8D8D8', 'F5F5F5']}\n",
    "\n",
    "# Agreguemos las capas GEE a nuestro mapa:\n",
    "Map.addLayer(dem, vis_params, 'STRM DEM', True, 0.5)\n",
    "Map.addLayer(landcover, {}, 'Land cover')\n",
    "Map.addLayer(landsat7, {'bands': ['B4', 'B3', 'B2'], 'min': 20, 'max': 200}, 'Landsat 7')\n",
    "Map.addLayer(states, {}, \"US States\")\n"
   ]
  },
  {
   "cell_type": "markdown",
   "metadata": {},
   "source": [
    "# <span style=\"color:green\"> *II Manipulando los mapas: divisiones*</span>"
   ]
  },
  {
   "cell_type": "markdown",
   "metadata": {},
   "source": [
    "#### 8 Como crear un panel dividido para nuestros mapas.\n",
    "\n",
    "Podemos dividir nuestro mapa en dos secciones asignando las capas que queremos ver respectivamente a izquierda y derecha."
   ]
  },
  {
   "cell_type": "code",
   "execution_count": 14,
   "metadata": {},
   "outputs": [
    {
     "data": {
      "application/vnd.jupyter.widget-view+json": {
       "model_id": "5def0eff260a414baca943d832fe9af8",
       "version_major": 2,
       "version_minor": 0
      },
      "text/plain": [
       "Map(center=[40, -100], controls=(WidgetControl(options=['position'], widget=HBox(children=(ToggleButton(value=…"
      ]
     },
     "metadata": {},
     "output_type": "display_data"
    }
   ],
   "source": [
    "import geemap\n",
    "Map = geemap.Map()\n",
    "Map.split_map(left_layer = \"HYBRID\", right_layer = \"ESRI\")\n",
    "Map"
   ]
  },
  {
   "cell_type": "code",
   "execution_count": 15,
   "metadata": {},
   "outputs": [
    {
     "data": {
      "application/vnd.jupyter.widget-view+json": {
       "model_id": "b2f30e6fb13241ed89fd892f8143fc0f",
       "version_major": 2,
       "version_minor": 0
      },
      "text/plain": [
       "Map(center=[40, -100], controls=(WidgetControl(options=['position'], widget=HBox(children=(ToggleButton(value=…"
      ]
     },
     "metadata": {},
     "output_type": "display_data"
    }
   ],
   "source": [
    "import geemap\n",
    "Map = geemap.Map()\n",
    "Map.split_map(left_layer = \"HYBRID\", right_layer = \"ROADMAP\")\n",
    "Map"
   ]
  },
  {
   "cell_type": "markdown",
   "metadata": {},
   "source": [
    "Selecionemos algunas nuevas capas para en despliegue en dos paneles."
   ]
  },
  {
   "cell_type": "code",
   "execution_count": 16,
   "metadata": {},
   "outputs": [
    {
     "name": "stdout",
     "output_type": "stream",
     "text": [
      "dict_keys(['ROADMAP', 'SATELLITE', 'TERRAIN', 'HYBRID', 'ESRI', 'Esri Ocean', 'Esri Satellite', 'Esri Standard', 'Esri Terrain', 'Esri Transportation', 'Esri Topo World', 'Esri National Geographic', 'Esri Shaded Relief', 'Esri Physical Map', 'FWS NWI Wetlands', 'FWS NWI Wetlands Raster', 'Google Maps', 'Google Satellite', 'Google Terrain', 'Google Satellite Hybrid', 'NLCD 2016 CONUS Land Cover', 'NLCD 2013 CONUS Land Cover', 'NLCD 2011 CONUS Land Cover', 'NLCD 2008 CONUS Land Cover', 'NLCD 2006 CONUS Land Cover', 'NLCD 2004 CONUS Land Cover', 'NLCD 2001 CONUS Land Cover', 'USGS NAIP Imagery', 'USGS Hydrography', 'USGS 3DEP Elevation', 'OpenStreetMap.Mapnik', 'OpenStreetMap.BlackAndWhite', 'OpenStreetMap.DE', 'OpenStreetMap.France', 'OpenStreetMap.HOT', 'OpenTopoMap', 'Hydda.Full', 'Hydda.Base', 'Esri.WorldStreetMap', 'Esri.DeLorme', 'Esri.WorldTopoMap', 'Esri.WorldImagery', 'Esri.NatGeoWorldMap', 'HikeBike.HikeBike', 'MtbMap', 'CartoDB.Positron', 'CartoDB.DarkMatter', 'NASAGIBS.ModisTerraTrueColorCR', 'NASAGIBS.ModisTerraBands367CR', 'NASAGIBS.ModisTerraBands721CR', 'NASAGIBS.ModisAquaTrueColorCR', 'NASAGIBS.ModisAquaBands721CR', 'NASAGIBS.ViirsTrueColorCR', 'NASAGIBS.ViirsEarthAtNight2012', 'NASAGIBS.BlueMarble3413', 'NASAGIBS.BlueMarble3031', 'NASAGIBS.BlueMarble', 'Strava.All', 'Strava.Ride', 'Strava.Run', 'Strava.Water', 'Strava.Winter', 'Stamen.Terrain', 'Stamen.Toner', 'Stamen.Watercolor'])\n"
     ]
    }
   ],
   "source": [
    "basemaps = geemap.ee_basemaps.keys()\n",
    "print(basemaps)"
   ]
  },
  {
   "cell_type": "code",
   "execution_count": 17,
   "metadata": {
    "scrolled": true
   },
   "outputs": [
    {
     "name": "stdout",
     "output_type": "stream",
     "text": [
      "ROADMAP\n",
      "SATELLITE\n",
      "TERRAIN\n",
      "HYBRID\n",
      "ESRI\n",
      "Esri Ocean\n",
      "Esri Satellite\n",
      "Esri Standard\n",
      "Esri Terrain\n",
      "Esri Transportation\n",
      "Esri Topo World\n",
      "Esri National Geographic\n",
      "Esri Shaded Relief\n",
      "Esri Physical Map\n",
      "FWS NWI Wetlands\n",
      "FWS NWI Wetlands Raster\n",
      "Google Maps\n",
      "Google Satellite\n",
      "Google Terrain\n",
      "Google Satellite Hybrid\n",
      "NLCD 2016 CONUS Land Cover\n",
      "NLCD 2013 CONUS Land Cover\n",
      "NLCD 2011 CONUS Land Cover\n",
      "NLCD 2008 CONUS Land Cover\n",
      "NLCD 2006 CONUS Land Cover\n",
      "NLCD 2004 CONUS Land Cover\n",
      "NLCD 2001 CONUS Land Cover\n",
      "USGS NAIP Imagery\n",
      "USGS Hydrography\n",
      "USGS 3DEP Elevation\n",
      "OpenStreetMap.Mapnik\n",
      "OpenStreetMap.BlackAndWhite\n",
      "OpenStreetMap.DE\n",
      "OpenStreetMap.France\n",
      "OpenStreetMap.HOT\n",
      "OpenTopoMap\n",
      "Hydda.Full\n",
      "Hydda.Base\n",
      "Esri.WorldStreetMap\n",
      "Esri.DeLorme\n",
      "Esri.WorldTopoMap\n",
      "Esri.WorldImagery\n",
      "Esri.NatGeoWorldMap\n",
      "HikeBike.HikeBike\n",
      "MtbMap\n",
      "CartoDB.Positron\n",
      "CartoDB.DarkMatter\n",
      "NASAGIBS.ModisTerraTrueColorCR\n",
      "NASAGIBS.ModisTerraBands367CR\n",
      "NASAGIBS.ModisTerraBands721CR\n",
      "NASAGIBS.ModisAquaTrueColorCR\n",
      "NASAGIBS.ModisAquaBands721CR\n",
      "NASAGIBS.ViirsTrueColorCR\n",
      "NASAGIBS.ViirsEarthAtNight2012\n",
      "NASAGIBS.BlueMarble3413\n",
      "NASAGIBS.BlueMarble3031\n",
      "NASAGIBS.BlueMarble\n",
      "Strava.All\n",
      "Strava.Ride\n",
      "Strava.Run\n",
      "Strava.Water\n",
      "Strava.Winter\n",
      "Stamen.Terrain\n",
      "Stamen.Toner\n",
      "Stamen.Watercolor\n"
     ]
    }
   ],
   "source": [
    "for basemap in basemaps:\n",
    "    print(basemap)"
   ]
  },
  {
   "cell_type": "markdown",
   "metadata": {},
   "source": [
    "Y así podemos comparar la misma base de datos durante dos años distintos, por ejemplo, cubierta de tierras de la National Land Cover Database (NLCD) para el 2016 y el 2001."
   ]
  },
  {
   "cell_type": "code",
   "execution_count": 18,
   "metadata": {},
   "outputs": [
    {
     "data": {
      "application/vnd.jupyter.widget-view+json": {
       "model_id": "6faef9a55c0e433089a6cdb88c42f8df",
       "version_major": 2,
       "version_minor": 0
      },
      "text/plain": [
       "Map(center=[40, -100], controls=(WidgetControl(options=['position'], widget=HBox(children=(ToggleButton(value=…"
      ]
     },
     "metadata": {},
     "output_type": "display_data"
    }
   ],
   "source": [
    "Map = geemap.Map()\n",
    "Map.split_map(left_layer='NLCD 2016 CONUS Land Cover', right_layer='NLCD 2001 CONUS Land Cover')\n",
    "Map"
   ]
  },
  {
   "cell_type": "markdown",
   "metadata": {},
   "source": [
    "Revisemos con un poco mas de detalle el Earth Engine Data Catalog para consumir de su Earth Engine Snippet:\\\n",
    "https://developers.google.com/earth-engine/datasets/catalog/USGS_NLCD"
   ]
  },
  {
   "cell_type": "markdown",
   "metadata": {},
   "source": [
    "![title](nlcd.jpg)"
   ]
  },
  {
   "cell_type": "code",
   "execution_count": 19,
   "metadata": {},
   "outputs": [
    {
     "name": "stdout",
     "output_type": "stream",
     "text": [
      "['USGS/NLCD/NLCD1992', 'USGS/NLCD/NLCD2001', 'USGS/NLCD/NLCD2001_AK', 'USGS/NLCD/NLCD2001_HI', 'USGS/NLCD/NLCD2001_PR', 'USGS/NLCD/NLCD2004', 'USGS/NLCD/NLCD2006', 'USGS/NLCD/NLCD2008', 'USGS/NLCD/NLCD2011', 'USGS/NLCD/NLCD2011_AK', 'USGS/NLCD/NLCD2011_HI', 'USGS/NLCD/NLCD2011_PR', 'USGS/NLCD/NLCD2013', 'USGS/NLCD/NLCD2016']\n"
     ]
    }
   ],
   "source": [
    "collection = ee.ImageCollection(\"USGS/NLCD\")\n",
    "print(collection.aggregate_array('system:id').getInfo())"
   ]
  },
  {
   "cell_type": "markdown",
   "metadata": {},
   "source": [
    "y seleccionemos la banda landcover para 'USGS/NLCD/NLCD2001' y 'USGS/NLCD/NLCD2016':"
   ]
  },
  {
   "cell_type": "markdown",
   "metadata": {},
   "source": [
    "![title](banda_landcover.jpg)"
   ]
  },
  {
   "cell_type": "code",
   "execution_count": 20,
   "metadata": {
    "scrolled": true
   },
   "outputs": [
    {
     "data": {
      "application/vnd.jupyter.widget-view+json": {
       "model_id": "1a53acdde8a846e084f1463ad7aa3320",
       "version_major": 2,
       "version_minor": 0
      },
      "text/plain": [
       "Map(center=[40, -100], controls=(WidgetControl(options=['position'], widget=HBox(children=(ToggleButton(value=…"
      ]
     },
     "metadata": {},
     "output_type": "display_data"
    }
   ],
   "source": [
    "nlcd_2001 = ee.Image('USGS/NLCD/NLCD2001').select('landcover')\n",
    "nlcd_2016 = ee.Image('USGS/NLCD/NLCD2016').select('landcover')\n",
    "\n",
    "left_layer = geemap.ee_tile_layer(nlcd_2001, {}, 'NLCD 2001')\n",
    "right_layer = geemap.ee_tile_layer(nlcd_2016, {}, 'NLCD 2016')\n",
    "\n",
    "Map = geemap.Map()\n",
    "Map.split_map(left_layer, right_layer)\n",
    "Map"
   ]
  },
  {
   "cell_type": "markdown",
   "metadata": {},
   "source": [
    "#### 9 Herramientas de dibujo para interactuar con la data de GEE."
   ]
  },
  {
   "cell_type": "code",
   "execution_count": 21,
   "metadata": {},
   "outputs": [
    {
     "data": {
      "application/vnd.jupyter.widget-view+json": {
       "model_id": "704c881f5a84406a873a65c9ebff4dc3",
       "version_major": 2,
       "version_minor": 0
      },
      "text/plain": [
       "Map(center=[40, -100], controls=(WidgetControl(options=['position'], widget=HBox(children=(ToggleButton(value=…"
      ]
     },
     "metadata": {},
     "output_type": "display_data"
    }
   ],
   "source": [
    "import geemap\n",
    "# construyamos un mapa interactivo del satelite google\n",
    "m = geemap.Map()\n",
    "m"
   ]
  },
  {
   "cell_type": "code",
   "execution_count": 22,
   "metadata": {},
   "outputs": [],
   "source": [
    "import ee\n",
    "\n",
    "# agregamos un dataset GEE:\n",
    "image = ee.Image('USGS/SRTMGL1_003')\n",
    "\n",
    "\n",
    "# Establezcamos los parametros de visualizacion:\n",
    "vis_params = {\n",
    "  'min': 0,\n",
    "  'max': 4000,\n",
    "  'palette': ['006633', 'E5FFCC', '662A00', 'D8D8D8', 'F5F5F5']}\n",
    "\n",
    "# Agreguemos las capas GEE a nuestro mapa:\n",
    "m.addLayer(image, vis_params, 'STRM DEM')\n",
    "\n",
    "states = ee.FeatureCollection(\"TIGER/2018/States\")\n",
    "\n",
    "m.addLayer(states, {}, \"US States\")\n"
   ]
  },
  {
   "cell_type": "markdown",
   "metadata": {},
   "source": [
    "Supongamos que estamos interesados en un analisis sobre la costa oeste de EEUU.\n",
    "\n",
    "Podemos utilizar la herramienta de la izquierda.\n",
    "Dibujamos por ejemplo un poligono. Las areas quedan marcadas de un azul oscuro.\n",
    "\n",
    "Establecemos en definitiva geometrías que pueden ser rescatadas con:"
   ]
  },
  {
   "cell_type": "code",
   "execution_count": 23,
   "metadata": {},
   "outputs": [
    {
     "data": {
      "text/plain": [
       "[]"
      ]
     },
     "execution_count": 23,
     "metadata": {},
     "output_type": "execute_result"
    }
   ],
   "source": [
    "m.draw_features"
   ]
  },
  {
   "cell_type": "code",
   "execution_count": 24,
   "metadata": {},
   "outputs": [],
   "source": [
    "m.draw_last_feature"
   ]
  },
  {
   "cell_type": "markdown",
   "metadata": {},
   "source": [
    "Intersecciones"
   ]
  },
  {
   "cell_type": "code",
   "execution_count": 28,
   "metadata": {},
   "outputs": [],
   "source": [
    "roi = ee.FeatureCollection(m.draw_last_feature)\n",
    "selected_states = states.filterBounds(roi)\n",
    "m.addLayer(selected_states, {}, \"Selected states\")"
   ]
  },
  {
   "cell_type": "code",
   "execution_count": 29,
   "metadata": {},
   "outputs": [],
   "source": [
    "clipped_image = image.clip(selected_states)\n",
    "m.addLayer(clipped_image, vis_params, 'Clipped image')"
   ]
  },
  {
   "cell_type": "markdown",
   "metadata": {},
   "source": [
    "Logramos extraer sólo el trozo de mapa que hemos seleccionado.\n",
    "No funciona con m.draw_features debiéndolo hacerlo. Investigar."
   ]
  },
  {
   "cell_type": "code",
   "execution_count": null,
   "metadata": {},
   "outputs": [],
   "source": []
  },
  {
   "cell_type": "markdown",
   "metadata": {},
   "source": [
    "******************\n",
    "******************"
   ]
  },
  {
   "cell_type": "markdown",
   "metadata": {},
   "source": [
    "## 10 Marker Cluster"
   ]
  },
  {
   "cell_type": "markdown",
   "metadata": {},
   "source": [
    "La utilidad de agrupación de marcadores le ayuda a administrar varios marcadores en diferentes niveles de zoom. Cuando un usuario ve el mapa en un nivel de zoom alto, los marcadores individuales se muestran en el mapa. Cuando el usuario se aleja, los marcadores se juntan en grupos para facilitar la visualización del mapa.\n",
    "Si tiene muchos marcadores en el mapa, es mejor usar la configuración de Grupo de marcadores para organizarlos mejor visualmente."
   ]
  },
  {
   "cell_type": "code",
   "execution_count": 30,
   "metadata": {},
   "outputs": [],
   "source": [
    "import geemap\n",
    "import json\n",
    "import os\n",
    "import requests\n",
    "from geemap import geojson_to_ee, ee_to_geojson\n",
    "from ipyleaflet import GeoJSON, Marker, MarkerCluster"
   ]
  },
  {
   "cell_type": "code",
   "execution_count": 31,
   "metadata": {
    "scrolled": true
   },
   "outputs": [
    {
     "data": {
      "application/vnd.jupyter.widget-view+json": {
       "model_id": "208fdea69e4a4306845ea8370d6d56c0",
       "version_major": 2,
       "version_minor": 0
      },
      "text/plain": [
       "Map(center=[40, -100], controls=(WidgetControl(options=['position'], widget=HBox(children=(ToggleButton(value=…"
      ]
     },
     "metadata": {},
     "output_type": "display_data"
    }
   ],
   "source": [
    "Map = geemap.Map()\n",
    "Map"
   ]
  },
  {
   "cell_type": "code",
   "execution_count": 32,
   "metadata": {},
   "outputs": [],
   "source": [
    "file_path = os.path.abspath('C:/Users/usuario/Desktop/geemap/geemap2/examples/data/us-cities.json')\n",
    "\n",
    "if not os.path.exists(file_path):\n",
    "    url = 'https://github.com/giswqs/geemap/raw/master/examples/data/us-cities.json'\n",
    "    r = requests.get(url)\n",
    "    with open(file_path, 'w') as f:\n",
    "        f.write(r.content.decode(\"utf-8\"))        \n",
    "\n",
    "with open(file_path) as f:\n",
    "    json_data = json.load(f)"
   ]
  },
  {
   "cell_type": "code",
   "execution_count": 33,
   "metadata": {},
   "outputs": [],
   "source": [
    "maker_cluster = MarkerCluster(\n",
    "    markers=[Marker(location=feature['geometry']['coordinates'][::-1]) for feature in json_data['features']],\n",
    "    name = 'Markers')"
   ]
  },
  {
   "cell_type": "code",
   "execution_count": 34,
   "metadata": {},
   "outputs": [],
   "source": [
    "Map.add_layer(maker_cluster)"
   ]
  },
  {
   "cell_type": "code",
   "execution_count": 35,
   "metadata": {},
   "outputs": [],
   "source": [
    "ee_fc = geojson_to_ee(json_data)\n",
    "Map.addLayer(ee_fc, {}, \"US Cities EE\")"
   ]
  },
  {
   "cell_type": "markdown",
   "metadata": {},
   "source": [
    "******************\n",
    "******************"
   ]
  },
  {
   "cell_type": "markdown",
   "metadata": {},
   "source": [
    "## 11 Geojson"
   ]
  },
  {
   "cell_type": "code",
   "execution_count": 176,
   "metadata": {},
   "outputs": [],
   "source": [
    "import geemap\n",
    "import json\n",
    "import os\n",
    "import requests\n",
    "from geemap import geojson_to_ee, ee_to_geojson\n",
    "from ipyleaflet import GeoJSON"
   ]
  },
  {
   "cell_type": "code",
   "execution_count": 182,
   "metadata": {},
   "outputs": [
    {
     "data": {
      "application/vnd.jupyter.widget-view+json": {
       "model_id": "bfe0912215754291a7d483a287d53320",
       "version_major": 2,
       "version_minor": 0
      },
      "text/plain": [
       "Map(center=[40, -100], controls=(WidgetControl(options=['position'], widget=HBox(children=(ToggleButton(value=…"
      ]
     },
     "metadata": {},
     "output_type": "display_data"
    }
   ],
   "source": [
    "Map = geemap.Map()\n",
    "Map"
   ]
  },
  {
   "cell_type": "code",
   "execution_count": 183,
   "metadata": {},
   "outputs": [],
   "source": [
    "file_path = os.path.abspath('C:/Users/usuario/Desktop/geemap/geemap2/examples/data/us-states.json')\n",
    "\n",
    "if not os.path.exists(file_path):\n",
    "    url = 'https://github.com/giswqs/geemap/raw/master/examples/data/us-states.json'\n",
    "    r = requests.get(url)\n",
    "    with open(file_path, 'w') as f:\n",
    "        f.write(r.content.decode(\"utf-8\"))        \n",
    "\n",
    "with open(file_path) as f:\n",
    "    json_data = json.load(f)"
   ]
  },
  {
   "cell_type": "code",
   "execution_count": 184,
   "metadata": {},
   "outputs": [],
   "source": [
    "json_layer = GeoJSON(data=json_data, name='US States JSON', hover_style={'fillColor': 'red' , 'fillOpacity': 0.5})\n",
    "Map.add_layer(json_layer)"
   ]
  },
  {
   "cell_type": "code",
   "execution_count": 185,
   "metadata": {},
   "outputs": [],
   "source": [
    "ee_data = geojson_to_ee(json_data)\n",
    "Map.addLayer(ee_data, {}, \"US States EE\")"
   ]
  },
  {
   "cell_type": "code",
   "execution_count": 186,
   "metadata": {},
   "outputs": [],
   "source": [
    "json_data_2 = ee_to_geojson(ee_data)\n",
    "json_layer_2 = GeoJSON(data=json_data_2, name='US States EE JSON', hover_style={'fillColor': 'red' , 'fillOpacity': 0.5})\n",
    "Map.add_layer(json_layer_2)"
   ]
  },
  {
   "cell_type": "code",
   "execution_count": 187,
   "metadata": {},
   "outputs": [],
   "source": [
    "file_path = os.path.abspath('C:/Users/usuario/Desktop/geemap/geemap2/examples/data/countries.json')\n",
    "\n",
    "if not os.path.exists(file_path):\n",
    "    url = 'https://github.com/giswqs/geemap/raw/master/examples/data/countries.json'\n",
    "    r = requests.get(url)\n",
    "    with open(file_path, 'w') as f:\n",
    "        f.write(r.content.decode(\"utf-8\"))        \n",
    "\n",
    "with open(file_path) as f:\n",
    "    json_data = json.load(f)"
   ]
  },
  {
   "cell_type": "code",
   "execution_count": 188,
   "metadata": {},
   "outputs": [],
   "source": [
    "json_layer = GeoJSON(data=json_data, name='Counties', hover_style={'fillColor': 'red' , 'fillOpacity': 0.5})\n",
    "Map.add_layer(json_layer)"
   ]
  },
  {
   "cell_type": "code",
   "execution_count": 189,
   "metadata": {},
   "outputs": [],
   "source": [
    "from ipywidgets import Text, HTML\n",
    "from ipyleaflet import WidgetControl, GeoJSON \n",
    "\n",
    "html1 = HTML('''\n",
    "    <h4>Country</h4>\n",
    "    Hover over a country\n",
    "''')\n",
    "html1.layout.margin = '0px 20px 20px 20px'\n",
    "control1 = WidgetControl(widget=html1, position='bottomright')\n",
    "Map.add_control(control1)\n",
    "\n",
    "def update_html(feature, **kwargs):\n",
    "    html1.value = '''\n",
    "        <h4>Country code: <b>{}</b></h4>\n",
    "        Country name: {}\n",
    "    '''.format(feature['id'], feature['properties']['name'])\n",
    "\n",
    "json_layer.on_hover(update_html)"
   ]
  },
  {
   "cell_type": "markdown",
   "metadata": {},
   "source": [
    "******************\n",
    "******************"
   ]
  },
  {
   "cell_type": "markdown",
   "metadata": {},
   "source": [
    "## 11 plotting"
   ]
  },
  {
   "cell_type": "code",
   "execution_count": 190,
   "metadata": {},
   "outputs": [],
   "source": [
    "import ee\n",
    "Map\n",
    "Map = geemap.Map()"
   ]
  },
  {
   "cell_type": "code",
   "execution_count": 191,
   "metadata": {},
   "outputs": [],
   "source": [
    "landsat7 = ee.Image('LE7_TOA_5YEAR/1999_2003') \\\n",
    "    .select([0, 1, 2, 3, 4, 6])\n",
    "landsat_vis = {\n",
    "    'bands': ['B4', 'B3', 'B2'], \n",
    "    'gamma': 1.4\n",
    "}\n",
    "Map.addLayer(landsat7, landsat_vis, \"LE7_TOA_5YEAR/1999_2003\")\n",
    "\n",
    "hyperion = ee.ImageCollection('EO1/HYPERION') \\\n",
    "    .filter(ee.Filter.date('2016-01-01', '2017-03-01'));\n",
    "hyperion_vis = {\n",
    "  'min': 1000.0,\n",
    "  'max': 14000.0,\n",
    "  'gamma': 2.5,\n",
    "}\n",
    "Map.addLayer(hyperion, hyperion_vis, 'EO1/HYPERION');"
   ]
  },
  {
   "cell_type": "code",
   "execution_count": 192,
   "metadata": {},
   "outputs": [],
   "source": [
    "Map.set_plot_options(plot_type='bar', add_marker_cluster=True)"
   ]
  },
  {
   "cell_type": "code",
   "execution_count": 193,
   "metadata": {},
   "outputs": [
    {
     "data": {
      "application/vnd.jupyter.widget-view+json": {
       "model_id": "847d99122b1a4257baf789107a483dd1",
       "version_major": 2,
       "version_minor": 0
      },
      "text/plain": [
       "Map(center=[40, -100], controls=(WidgetControl(options=['position'], widget=HBox(children=(ToggleButton(value=…"
      ]
     },
     "metadata": {},
     "output_type": "display_data"
    }
   ],
   "source": [
    "m = geemap.Map()\n",
    "m"
   ]
  },
  {
   "cell_type": "code",
   "execution_count": 194,
   "metadata": {},
   "outputs": [],
   "source": [
    "m.plot_demo()"
   ]
  },
  {
   "cell_type": "markdown",
   "metadata": {},
   "source": [
    "******************\n",
    "******************"
   ]
  },
  {
   "cell_type": "markdown",
   "metadata": {},
   "source": [
    "## 11 shapefiles"
   ]
  },
  {
   "cell_type": "code",
   "execution_count": 195,
   "metadata": {},
   "outputs": [
    {
     "data": {
      "application/vnd.jupyter.widget-view+json": {
       "model_id": "c63e301b27f34b92a0fa2a9321ca50f3",
       "version_major": 2,
       "version_minor": 0
      },
      "text/plain": [
       "Map(center=[40, -100], controls=(WidgetControl(options=['position'], widget=HBox(children=(ToggleButton(value=…"
      ]
     },
     "metadata": {},
     "output_type": "display_data"
    },
    {
     "data": {
      "application/javascript": [
       "\n",
       "        var code = IPython.notebook.insert_cell_below('code');\n",
       "        code.set_text(atob(\"dmlzX3BhcmFtcyA9IHsnY29sb3InOiAnZmYwMDAwZmMnLCAncG9pbnRTaXplJzogNCwgJ3BvaW50U2hhcGUnOiAnaGV4YWdvbicsICd3aWR0aCc6IDIsICdsaW5lVHlwZSc6ICdkb3R0ZWQnLCAnZmlsbENvbG9yJzogJzAwODA0MGE1J30=\"));\n",
       "    "
      ],
      "text/plain": [
       "<IPython.core.display.Javascript object>"
      ]
     },
     "metadata": {},
     "output_type": "display_data"
    },
    {
     "ename": "AttributeError",
     "evalue": "'NoneType' object has no attribute 'comm_id'",
     "output_type": "error",
     "traceback": [
      "\u001b[1;31m---------------------------------------------------------------------------\u001b[0m",
      "\u001b[1;31mAttributeError\u001b[0m                            Traceback (most recent call last)",
      "\u001b[1;32m~\\anaconda3\\lib\\site-packages\\geemap\\geemap.py\u001b[0m in \u001b[0;36mclose_btn_clicked\u001b[1;34m(b)\u001b[0m\n\u001b[0;32m   4013\u001b[0m \u001b[1;33m\u001b[0m\u001b[0m\n\u001b[0;32m   4014\u001b[0m             \u001b[1;32mdef\u001b[0m \u001b[0mclose_btn_clicked\u001b[0m\u001b[1;33m(\u001b[0m\u001b[0mb\u001b[0m\u001b[1;33m)\u001b[0m\u001b[1;33m:\u001b[0m\u001b[1;33m\u001b[0m\u001b[1;33m\u001b[0m\u001b[0m\n\u001b[1;32m-> 4015\u001b[1;33m                 \u001b[0mself\u001b[0m\u001b[1;33m.\u001b[0m\u001b[0mremove_control\u001b[0m\u001b[1;33m(\u001b[0m\u001b[0mself\u001b[0m\u001b[1;33m.\u001b[0m\u001b[0mvis_control\u001b[0m\u001b[1;33m)\u001b[0m\u001b[1;33m\u001b[0m\u001b[1;33m\u001b[0m\u001b[0m\n\u001b[0m\u001b[0;32m   4016\u001b[0m                 \u001b[0mself\u001b[0m\u001b[1;33m.\u001b[0m\u001b[0mvis_control\u001b[0m\u001b[1;33m.\u001b[0m\u001b[0mclose\u001b[0m\u001b[1;33m(\u001b[0m\u001b[1;33m)\u001b[0m\u001b[1;33m\u001b[0m\u001b[1;33m\u001b[0m\u001b[0m\n\u001b[0;32m   4017\u001b[0m                 \u001b[0mself\u001b[0m\u001b[1;33m.\u001b[0m\u001b[0mvis_widget\u001b[0m\u001b[1;33m.\u001b[0m\u001b[0mclose\u001b[0m\u001b[1;33m(\u001b[0m\u001b[1;33m)\u001b[0m\u001b[1;33m\u001b[0m\u001b[1;33m\u001b[0m\u001b[0m\n",
      "\u001b[1;32m~\\anaconda3\\lib\\site-packages\\ipyleaflet\\leaflet.py\u001b[0m in \u001b[0;36mremove_control\u001b[1;34m(self, control)\u001b[0m\n\u001b[0;32m   2015\u001b[0m             \u001b[0mThe\u001b[0m \u001b[0mcontrol\u001b[0m \u001b[0mto\u001b[0m \u001b[0mremove\u001b[0m\u001b[1;33m.\u001b[0m\u001b[1;33m\u001b[0m\u001b[1;33m\u001b[0m\u001b[0m\n\u001b[0;32m   2016\u001b[0m         \"\"\"\n\u001b[1;32m-> 2017\u001b[1;33m         \u001b[1;32mif\u001b[0m \u001b[0mcontrol\u001b[0m\u001b[1;33m.\u001b[0m\u001b[0mmodel_id\u001b[0m \u001b[1;32mnot\u001b[0m \u001b[1;32min\u001b[0m \u001b[0mself\u001b[0m\u001b[1;33m.\u001b[0m\u001b[0m_control_ids\u001b[0m\u001b[1;33m:\u001b[0m\u001b[1;33m\u001b[0m\u001b[1;33m\u001b[0m\u001b[0m\n\u001b[0m\u001b[0;32m   2018\u001b[0m             \u001b[1;32mraise\u001b[0m \u001b[0mControlException\u001b[0m\u001b[1;33m(\u001b[0m\u001b[1;34m'control not on map: %r'\u001b[0m \u001b[1;33m%\u001b[0m \u001b[0mcontrol\u001b[0m\u001b[1;33m)\u001b[0m\u001b[1;33m\u001b[0m\u001b[1;33m\u001b[0m\u001b[0m\n\u001b[0;32m   2019\u001b[0m         \u001b[0mself\u001b[0m\u001b[1;33m.\u001b[0m\u001b[0mcontrols\u001b[0m \u001b[1;33m=\u001b[0m \u001b[0mtuple\u001b[0m\u001b[1;33m(\u001b[0m\u001b[1;33m[\u001b[0m\u001b[0mc\u001b[0m \u001b[1;32mfor\u001b[0m \u001b[0mc\u001b[0m \u001b[1;32min\u001b[0m \u001b[0mself\u001b[0m\u001b[1;33m.\u001b[0m\u001b[0mcontrols\u001b[0m \u001b[1;32mif\u001b[0m \u001b[0mc\u001b[0m\u001b[1;33m.\u001b[0m\u001b[0mmodel_id\u001b[0m \u001b[1;33m!=\u001b[0m \u001b[0mcontrol\u001b[0m\u001b[1;33m.\u001b[0m\u001b[0mmodel_id\u001b[0m\u001b[1;33m]\u001b[0m\u001b[1;33m)\u001b[0m\u001b[1;33m\u001b[0m\u001b[1;33m\u001b[0m\u001b[0m\n",
      "\u001b[1;32m~\\anaconda3\\lib\\site-packages\\ipywidgets\\widgets\\widget.py\u001b[0m in \u001b[0;36mmodel_id\u001b[1;34m(self)\u001b[0m\n\u001b[0;32m    453\u001b[0m \u001b[1;33m\u001b[0m\u001b[0m\n\u001b[0;32m    454\u001b[0m         If a Comm doesn't exist yet, a Comm will be created automagically.\"\"\"\n\u001b[1;32m--> 455\u001b[1;33m         \u001b[1;32mreturn\u001b[0m \u001b[0mself\u001b[0m\u001b[1;33m.\u001b[0m\u001b[0mcomm\u001b[0m\u001b[1;33m.\u001b[0m\u001b[0mcomm_id\u001b[0m\u001b[1;33m\u001b[0m\u001b[1;33m\u001b[0m\u001b[0m\n\u001b[0m\u001b[0;32m    456\u001b[0m \u001b[1;33m\u001b[0m\u001b[0m\n\u001b[0;32m    457\u001b[0m     \u001b[1;31m#-------------------------------------------------------------------------\u001b[0m\u001b[1;33m\u001b[0m\u001b[1;33m\u001b[0m\u001b[1;33m\u001b[0m\u001b[0m\n",
      "\u001b[1;31mAttributeError\u001b[0m: 'NoneType' object has no attribute 'comm_id'"
     ]
    },
    {
     "ename": "AttributeError",
     "evalue": "'NoneType' object has no attribute 'comm_id'",
     "output_type": "error",
     "traceback": [
      "\u001b[1;31m---------------------------------------------------------------------------\u001b[0m",
      "\u001b[1;31mAttributeError\u001b[0m                            Traceback (most recent call last)",
      "\u001b[1;32m~\\anaconda3\\lib\\site-packages\\geemap\\geemap.py\u001b[0m in \u001b[0;36mclose_btn_clicked\u001b[1;34m(b)\u001b[0m\n\u001b[0;32m   4013\u001b[0m \u001b[1;33m\u001b[0m\u001b[0m\n\u001b[0;32m   4014\u001b[0m             \u001b[1;32mdef\u001b[0m \u001b[0mclose_btn_clicked\u001b[0m\u001b[1;33m(\u001b[0m\u001b[0mb\u001b[0m\u001b[1;33m)\u001b[0m\u001b[1;33m:\u001b[0m\u001b[1;33m\u001b[0m\u001b[1;33m\u001b[0m\u001b[0m\n\u001b[1;32m-> 4015\u001b[1;33m                 \u001b[0mself\u001b[0m\u001b[1;33m.\u001b[0m\u001b[0mremove_control\u001b[0m\u001b[1;33m(\u001b[0m\u001b[0mself\u001b[0m\u001b[1;33m.\u001b[0m\u001b[0mvis_control\u001b[0m\u001b[1;33m)\u001b[0m\u001b[1;33m\u001b[0m\u001b[1;33m\u001b[0m\u001b[0m\n\u001b[0m\u001b[0;32m   4016\u001b[0m                 \u001b[0mself\u001b[0m\u001b[1;33m.\u001b[0m\u001b[0mvis_control\u001b[0m\u001b[1;33m.\u001b[0m\u001b[0mclose\u001b[0m\u001b[1;33m(\u001b[0m\u001b[1;33m)\u001b[0m\u001b[1;33m\u001b[0m\u001b[1;33m\u001b[0m\u001b[0m\n\u001b[0;32m   4017\u001b[0m                 \u001b[0mself\u001b[0m\u001b[1;33m.\u001b[0m\u001b[0mvis_widget\u001b[0m\u001b[1;33m.\u001b[0m\u001b[0mclose\u001b[0m\u001b[1;33m(\u001b[0m\u001b[1;33m)\u001b[0m\u001b[1;33m\u001b[0m\u001b[1;33m\u001b[0m\u001b[0m\n",
      "\u001b[1;32m~\\anaconda3\\lib\\site-packages\\ipyleaflet\\leaflet.py\u001b[0m in \u001b[0;36mremove_control\u001b[1;34m(self, control)\u001b[0m\n\u001b[0;32m   2015\u001b[0m             \u001b[0mThe\u001b[0m \u001b[0mcontrol\u001b[0m \u001b[0mto\u001b[0m \u001b[0mremove\u001b[0m\u001b[1;33m.\u001b[0m\u001b[1;33m\u001b[0m\u001b[1;33m\u001b[0m\u001b[0m\n\u001b[0;32m   2016\u001b[0m         \"\"\"\n\u001b[1;32m-> 2017\u001b[1;33m         \u001b[1;32mif\u001b[0m \u001b[0mcontrol\u001b[0m\u001b[1;33m.\u001b[0m\u001b[0mmodel_id\u001b[0m \u001b[1;32mnot\u001b[0m \u001b[1;32min\u001b[0m \u001b[0mself\u001b[0m\u001b[1;33m.\u001b[0m\u001b[0m_control_ids\u001b[0m\u001b[1;33m:\u001b[0m\u001b[1;33m\u001b[0m\u001b[1;33m\u001b[0m\u001b[0m\n\u001b[0m\u001b[0;32m   2018\u001b[0m             \u001b[1;32mraise\u001b[0m \u001b[0mControlException\u001b[0m\u001b[1;33m(\u001b[0m\u001b[1;34m'control not on map: %r'\u001b[0m \u001b[1;33m%\u001b[0m \u001b[0mcontrol\u001b[0m\u001b[1;33m)\u001b[0m\u001b[1;33m\u001b[0m\u001b[1;33m\u001b[0m\u001b[0m\n\u001b[0;32m   2019\u001b[0m         \u001b[0mself\u001b[0m\u001b[1;33m.\u001b[0m\u001b[0mcontrols\u001b[0m \u001b[1;33m=\u001b[0m \u001b[0mtuple\u001b[0m\u001b[1;33m(\u001b[0m\u001b[1;33m[\u001b[0m\u001b[0mc\u001b[0m \u001b[1;32mfor\u001b[0m \u001b[0mc\u001b[0m \u001b[1;32min\u001b[0m \u001b[0mself\u001b[0m\u001b[1;33m.\u001b[0m\u001b[0mcontrols\u001b[0m \u001b[1;32mif\u001b[0m \u001b[0mc\u001b[0m\u001b[1;33m.\u001b[0m\u001b[0mmodel_id\u001b[0m \u001b[1;33m!=\u001b[0m \u001b[0mcontrol\u001b[0m\u001b[1;33m.\u001b[0m\u001b[0mmodel_id\u001b[0m\u001b[1;33m]\u001b[0m\u001b[1;33m)\u001b[0m\u001b[1;33m\u001b[0m\u001b[1;33m\u001b[0m\u001b[0m\n",
      "\u001b[1;32m~\\anaconda3\\lib\\site-packages\\ipywidgets\\widgets\\widget.py\u001b[0m in \u001b[0;36mmodel_id\u001b[1;34m(self)\u001b[0m\n\u001b[0;32m    453\u001b[0m \u001b[1;33m\u001b[0m\u001b[0m\n\u001b[0;32m    454\u001b[0m         If a Comm doesn't exist yet, a Comm will be created automagically.\"\"\"\n\u001b[1;32m--> 455\u001b[1;33m         \u001b[1;32mreturn\u001b[0m \u001b[0mself\u001b[0m\u001b[1;33m.\u001b[0m\u001b[0mcomm\u001b[0m\u001b[1;33m.\u001b[0m\u001b[0mcomm_id\u001b[0m\u001b[1;33m\u001b[0m\u001b[1;33m\u001b[0m\u001b[0m\n\u001b[0m\u001b[0;32m    456\u001b[0m \u001b[1;33m\u001b[0m\u001b[0m\n\u001b[0;32m    457\u001b[0m     \u001b[1;31m#-------------------------------------------------------------------------\u001b[0m\u001b[1;33m\u001b[0m\u001b[1;33m\u001b[0m\u001b[1;33m\u001b[0m\u001b[0m\n",
      "\u001b[1;31mAttributeError\u001b[0m: 'NoneType' object has no attribute 'comm_id'"
     ]
    },
    {
     "ename": "AttributeError",
     "evalue": "'NoneType' object has no attribute 'comm_id'",
     "output_type": "error",
     "traceback": [
      "\u001b[1;31m---------------------------------------------------------------------------\u001b[0m",
      "\u001b[1;31mAttributeError\u001b[0m                            Traceback (most recent call last)",
      "\u001b[1;32m~\\anaconda3\\lib\\site-packages\\geemap\\geemap.py\u001b[0m in \u001b[0;36mclose_btn_clicked\u001b[1;34m(b)\u001b[0m\n\u001b[0;32m   4013\u001b[0m \u001b[1;33m\u001b[0m\u001b[0m\n\u001b[0;32m   4014\u001b[0m             \u001b[1;32mdef\u001b[0m \u001b[0mclose_btn_clicked\u001b[0m\u001b[1;33m(\u001b[0m\u001b[0mb\u001b[0m\u001b[1;33m)\u001b[0m\u001b[1;33m:\u001b[0m\u001b[1;33m\u001b[0m\u001b[1;33m\u001b[0m\u001b[0m\n\u001b[1;32m-> 4015\u001b[1;33m                 \u001b[0mself\u001b[0m\u001b[1;33m.\u001b[0m\u001b[0mremove_control\u001b[0m\u001b[1;33m(\u001b[0m\u001b[0mself\u001b[0m\u001b[1;33m.\u001b[0m\u001b[0mvis_control\u001b[0m\u001b[1;33m)\u001b[0m\u001b[1;33m\u001b[0m\u001b[1;33m\u001b[0m\u001b[0m\n\u001b[0m\u001b[0;32m   4016\u001b[0m                 \u001b[0mself\u001b[0m\u001b[1;33m.\u001b[0m\u001b[0mvis_control\u001b[0m\u001b[1;33m.\u001b[0m\u001b[0mclose\u001b[0m\u001b[1;33m(\u001b[0m\u001b[1;33m)\u001b[0m\u001b[1;33m\u001b[0m\u001b[1;33m\u001b[0m\u001b[0m\n\u001b[0;32m   4017\u001b[0m                 \u001b[0mself\u001b[0m\u001b[1;33m.\u001b[0m\u001b[0mvis_widget\u001b[0m\u001b[1;33m.\u001b[0m\u001b[0mclose\u001b[0m\u001b[1;33m(\u001b[0m\u001b[1;33m)\u001b[0m\u001b[1;33m\u001b[0m\u001b[1;33m\u001b[0m\u001b[0m\n",
      "\u001b[1;32m~\\anaconda3\\lib\\site-packages\\ipyleaflet\\leaflet.py\u001b[0m in \u001b[0;36mremove_control\u001b[1;34m(self, control)\u001b[0m\n\u001b[0;32m   2015\u001b[0m             \u001b[0mThe\u001b[0m \u001b[0mcontrol\u001b[0m \u001b[0mto\u001b[0m \u001b[0mremove\u001b[0m\u001b[1;33m.\u001b[0m\u001b[1;33m\u001b[0m\u001b[1;33m\u001b[0m\u001b[0m\n\u001b[0;32m   2016\u001b[0m         \"\"\"\n\u001b[1;32m-> 2017\u001b[1;33m         \u001b[1;32mif\u001b[0m \u001b[0mcontrol\u001b[0m\u001b[1;33m.\u001b[0m\u001b[0mmodel_id\u001b[0m \u001b[1;32mnot\u001b[0m \u001b[1;32min\u001b[0m \u001b[0mself\u001b[0m\u001b[1;33m.\u001b[0m\u001b[0m_control_ids\u001b[0m\u001b[1;33m:\u001b[0m\u001b[1;33m\u001b[0m\u001b[1;33m\u001b[0m\u001b[0m\n\u001b[0m\u001b[0;32m   2018\u001b[0m             \u001b[1;32mraise\u001b[0m \u001b[0mControlException\u001b[0m\u001b[1;33m(\u001b[0m\u001b[1;34m'control not on map: %r'\u001b[0m \u001b[1;33m%\u001b[0m \u001b[0mcontrol\u001b[0m\u001b[1;33m)\u001b[0m\u001b[1;33m\u001b[0m\u001b[1;33m\u001b[0m\u001b[0m\n\u001b[0;32m   2019\u001b[0m         \u001b[0mself\u001b[0m\u001b[1;33m.\u001b[0m\u001b[0mcontrols\u001b[0m \u001b[1;33m=\u001b[0m \u001b[0mtuple\u001b[0m\u001b[1;33m(\u001b[0m\u001b[1;33m[\u001b[0m\u001b[0mc\u001b[0m \u001b[1;32mfor\u001b[0m \u001b[0mc\u001b[0m \u001b[1;32min\u001b[0m \u001b[0mself\u001b[0m\u001b[1;33m.\u001b[0m\u001b[0mcontrols\u001b[0m \u001b[1;32mif\u001b[0m \u001b[0mc\u001b[0m\u001b[1;33m.\u001b[0m\u001b[0mmodel_id\u001b[0m \u001b[1;33m!=\u001b[0m \u001b[0mcontrol\u001b[0m\u001b[1;33m.\u001b[0m\u001b[0mmodel_id\u001b[0m\u001b[1;33m]\u001b[0m\u001b[1;33m)\u001b[0m\u001b[1;33m\u001b[0m\u001b[1;33m\u001b[0m\u001b[0m\n",
      "\u001b[1;32m~\\anaconda3\\lib\\site-packages\\ipywidgets\\widgets\\widget.py\u001b[0m in \u001b[0;36mmodel_id\u001b[1;34m(self)\u001b[0m\n\u001b[0;32m    453\u001b[0m \u001b[1;33m\u001b[0m\u001b[0m\n\u001b[0;32m    454\u001b[0m         If a Comm doesn't exist yet, a Comm will be created automagically.\"\"\"\n\u001b[1;32m--> 455\u001b[1;33m         \u001b[1;32mreturn\u001b[0m \u001b[0mself\u001b[0m\u001b[1;33m.\u001b[0m\u001b[0mcomm\u001b[0m\u001b[1;33m.\u001b[0m\u001b[0mcomm_id\u001b[0m\u001b[1;33m\u001b[0m\u001b[1;33m\u001b[0m\u001b[0m\n\u001b[0m\u001b[0;32m    456\u001b[0m \u001b[1;33m\u001b[0m\u001b[0m\n\u001b[0;32m    457\u001b[0m     \u001b[1;31m#-------------------------------------------------------------------------\u001b[0m\u001b[1;33m\u001b[0m\u001b[1;33m\u001b[0m\u001b[1;33m\u001b[0m\u001b[0m\n",
      "\u001b[1;31mAttributeError\u001b[0m: 'NoneType' object has no attribute 'comm_id'"
     ]
    },
    {
     "ename": "AttributeError",
     "evalue": "'NoneType' object has no attribute 'comm_id'",
     "output_type": "error",
     "traceback": [
      "\u001b[1;31m---------------------------------------------------------------------------\u001b[0m",
      "\u001b[1;31mAttributeError\u001b[0m                            Traceback (most recent call last)",
      "\u001b[1;32m~\\anaconda3\\lib\\site-packages\\geemap\\geemap.py\u001b[0m in \u001b[0;36mclose_btn_clicked\u001b[1;34m(b)\u001b[0m\n\u001b[0;32m   4013\u001b[0m \u001b[1;33m\u001b[0m\u001b[0m\n\u001b[0;32m   4014\u001b[0m             \u001b[1;32mdef\u001b[0m \u001b[0mclose_btn_clicked\u001b[0m\u001b[1;33m(\u001b[0m\u001b[0mb\u001b[0m\u001b[1;33m)\u001b[0m\u001b[1;33m:\u001b[0m\u001b[1;33m\u001b[0m\u001b[1;33m\u001b[0m\u001b[0m\n\u001b[1;32m-> 4015\u001b[1;33m                 \u001b[0mself\u001b[0m\u001b[1;33m.\u001b[0m\u001b[0mremove_control\u001b[0m\u001b[1;33m(\u001b[0m\u001b[0mself\u001b[0m\u001b[1;33m.\u001b[0m\u001b[0mvis_control\u001b[0m\u001b[1;33m)\u001b[0m\u001b[1;33m\u001b[0m\u001b[1;33m\u001b[0m\u001b[0m\n\u001b[0m\u001b[0;32m   4016\u001b[0m                 \u001b[0mself\u001b[0m\u001b[1;33m.\u001b[0m\u001b[0mvis_control\u001b[0m\u001b[1;33m.\u001b[0m\u001b[0mclose\u001b[0m\u001b[1;33m(\u001b[0m\u001b[1;33m)\u001b[0m\u001b[1;33m\u001b[0m\u001b[1;33m\u001b[0m\u001b[0m\n\u001b[0;32m   4017\u001b[0m                 \u001b[0mself\u001b[0m\u001b[1;33m.\u001b[0m\u001b[0mvis_widget\u001b[0m\u001b[1;33m.\u001b[0m\u001b[0mclose\u001b[0m\u001b[1;33m(\u001b[0m\u001b[1;33m)\u001b[0m\u001b[1;33m\u001b[0m\u001b[1;33m\u001b[0m\u001b[0m\n",
      "\u001b[1;32m~\\anaconda3\\lib\\site-packages\\ipyleaflet\\leaflet.py\u001b[0m in \u001b[0;36mremove_control\u001b[1;34m(self, control)\u001b[0m\n\u001b[0;32m   2015\u001b[0m             \u001b[0mThe\u001b[0m \u001b[0mcontrol\u001b[0m \u001b[0mto\u001b[0m \u001b[0mremove\u001b[0m\u001b[1;33m.\u001b[0m\u001b[1;33m\u001b[0m\u001b[1;33m\u001b[0m\u001b[0m\n\u001b[0;32m   2016\u001b[0m         \"\"\"\n\u001b[1;32m-> 2017\u001b[1;33m         \u001b[1;32mif\u001b[0m \u001b[0mcontrol\u001b[0m\u001b[1;33m.\u001b[0m\u001b[0mmodel_id\u001b[0m \u001b[1;32mnot\u001b[0m \u001b[1;32min\u001b[0m \u001b[0mself\u001b[0m\u001b[1;33m.\u001b[0m\u001b[0m_control_ids\u001b[0m\u001b[1;33m:\u001b[0m\u001b[1;33m\u001b[0m\u001b[1;33m\u001b[0m\u001b[0m\n\u001b[0m\u001b[0;32m   2018\u001b[0m             \u001b[1;32mraise\u001b[0m \u001b[0mControlException\u001b[0m\u001b[1;33m(\u001b[0m\u001b[1;34m'control not on map: %r'\u001b[0m \u001b[1;33m%\u001b[0m \u001b[0mcontrol\u001b[0m\u001b[1;33m)\u001b[0m\u001b[1;33m\u001b[0m\u001b[1;33m\u001b[0m\u001b[0m\n\u001b[0;32m   2019\u001b[0m         \u001b[0mself\u001b[0m\u001b[1;33m.\u001b[0m\u001b[0mcontrols\u001b[0m \u001b[1;33m=\u001b[0m \u001b[0mtuple\u001b[0m\u001b[1;33m(\u001b[0m\u001b[1;33m[\u001b[0m\u001b[0mc\u001b[0m \u001b[1;32mfor\u001b[0m \u001b[0mc\u001b[0m \u001b[1;32min\u001b[0m \u001b[0mself\u001b[0m\u001b[1;33m.\u001b[0m\u001b[0mcontrols\u001b[0m \u001b[1;32mif\u001b[0m \u001b[0mc\u001b[0m\u001b[1;33m.\u001b[0m\u001b[0mmodel_id\u001b[0m \u001b[1;33m!=\u001b[0m \u001b[0mcontrol\u001b[0m\u001b[1;33m.\u001b[0m\u001b[0mmodel_id\u001b[0m\u001b[1;33m]\u001b[0m\u001b[1;33m)\u001b[0m\u001b[1;33m\u001b[0m\u001b[1;33m\u001b[0m\u001b[0m\n",
      "\u001b[1;32m~\\anaconda3\\lib\\site-packages\\ipywidgets\\widgets\\widget.py\u001b[0m in \u001b[0;36mmodel_id\u001b[1;34m(self)\u001b[0m\n\u001b[0;32m    453\u001b[0m \u001b[1;33m\u001b[0m\u001b[0m\n\u001b[0;32m    454\u001b[0m         If a Comm doesn't exist yet, a Comm will be created automagically.\"\"\"\n\u001b[1;32m--> 455\u001b[1;33m         \u001b[1;32mreturn\u001b[0m \u001b[0mself\u001b[0m\u001b[1;33m.\u001b[0m\u001b[0mcomm\u001b[0m\u001b[1;33m.\u001b[0m\u001b[0mcomm_id\u001b[0m\u001b[1;33m\u001b[0m\u001b[1;33m\u001b[0m\u001b[0m\n\u001b[0m\u001b[0;32m    456\u001b[0m \u001b[1;33m\u001b[0m\u001b[0m\n\u001b[0;32m    457\u001b[0m     \u001b[1;31m#-------------------------------------------------------------------------\u001b[0m\u001b[1;33m\u001b[0m\u001b[1;33m\u001b[0m\u001b[1;33m\u001b[0m\u001b[0m\n",
      "\u001b[1;31mAttributeError\u001b[0m: 'NoneType' object has no attribute 'comm_id'"
     ]
    },
    {
     "ename": "AttributeError",
     "evalue": "'NoneType' object has no attribute 'comm_id'",
     "output_type": "error",
     "traceback": [
      "\u001b[1;31m---------------------------------------------------------------------------\u001b[0m",
      "\u001b[1;31mAttributeError\u001b[0m                            Traceback (most recent call last)",
      "\u001b[1;32m~\\anaconda3\\lib\\site-packages\\geemap\\geemap.py\u001b[0m in \u001b[0;36mclose_btn_clicked\u001b[1;34m(b)\u001b[0m\n\u001b[0;32m   4013\u001b[0m \u001b[1;33m\u001b[0m\u001b[0m\n\u001b[0;32m   4014\u001b[0m             \u001b[1;32mdef\u001b[0m \u001b[0mclose_btn_clicked\u001b[0m\u001b[1;33m(\u001b[0m\u001b[0mb\u001b[0m\u001b[1;33m)\u001b[0m\u001b[1;33m:\u001b[0m\u001b[1;33m\u001b[0m\u001b[1;33m\u001b[0m\u001b[0m\n\u001b[1;32m-> 4015\u001b[1;33m                 \u001b[0mself\u001b[0m\u001b[1;33m.\u001b[0m\u001b[0mremove_control\u001b[0m\u001b[1;33m(\u001b[0m\u001b[0mself\u001b[0m\u001b[1;33m.\u001b[0m\u001b[0mvis_control\u001b[0m\u001b[1;33m)\u001b[0m\u001b[1;33m\u001b[0m\u001b[1;33m\u001b[0m\u001b[0m\n\u001b[0m\u001b[0;32m   4016\u001b[0m                 \u001b[0mself\u001b[0m\u001b[1;33m.\u001b[0m\u001b[0mvis_control\u001b[0m\u001b[1;33m.\u001b[0m\u001b[0mclose\u001b[0m\u001b[1;33m(\u001b[0m\u001b[1;33m)\u001b[0m\u001b[1;33m\u001b[0m\u001b[1;33m\u001b[0m\u001b[0m\n\u001b[0;32m   4017\u001b[0m                 \u001b[0mself\u001b[0m\u001b[1;33m.\u001b[0m\u001b[0mvis_widget\u001b[0m\u001b[1;33m.\u001b[0m\u001b[0mclose\u001b[0m\u001b[1;33m(\u001b[0m\u001b[1;33m)\u001b[0m\u001b[1;33m\u001b[0m\u001b[1;33m\u001b[0m\u001b[0m\n",
      "\u001b[1;32m~\\anaconda3\\lib\\site-packages\\ipyleaflet\\leaflet.py\u001b[0m in \u001b[0;36mremove_control\u001b[1;34m(self, control)\u001b[0m\n\u001b[0;32m   2015\u001b[0m             \u001b[0mThe\u001b[0m \u001b[0mcontrol\u001b[0m \u001b[0mto\u001b[0m \u001b[0mremove\u001b[0m\u001b[1;33m.\u001b[0m\u001b[1;33m\u001b[0m\u001b[1;33m\u001b[0m\u001b[0m\n\u001b[0;32m   2016\u001b[0m         \"\"\"\n\u001b[1;32m-> 2017\u001b[1;33m         \u001b[1;32mif\u001b[0m \u001b[0mcontrol\u001b[0m\u001b[1;33m.\u001b[0m\u001b[0mmodel_id\u001b[0m \u001b[1;32mnot\u001b[0m \u001b[1;32min\u001b[0m \u001b[0mself\u001b[0m\u001b[1;33m.\u001b[0m\u001b[0m_control_ids\u001b[0m\u001b[1;33m:\u001b[0m\u001b[1;33m\u001b[0m\u001b[1;33m\u001b[0m\u001b[0m\n\u001b[0m\u001b[0;32m   2018\u001b[0m             \u001b[1;32mraise\u001b[0m \u001b[0mControlException\u001b[0m\u001b[1;33m(\u001b[0m\u001b[1;34m'control not on map: %r'\u001b[0m \u001b[1;33m%\u001b[0m \u001b[0mcontrol\u001b[0m\u001b[1;33m)\u001b[0m\u001b[1;33m\u001b[0m\u001b[1;33m\u001b[0m\u001b[0m\n\u001b[0;32m   2019\u001b[0m         \u001b[0mself\u001b[0m\u001b[1;33m.\u001b[0m\u001b[0mcontrols\u001b[0m \u001b[1;33m=\u001b[0m \u001b[0mtuple\u001b[0m\u001b[1;33m(\u001b[0m\u001b[1;33m[\u001b[0m\u001b[0mc\u001b[0m \u001b[1;32mfor\u001b[0m \u001b[0mc\u001b[0m \u001b[1;32min\u001b[0m \u001b[0mself\u001b[0m\u001b[1;33m.\u001b[0m\u001b[0mcontrols\u001b[0m \u001b[1;32mif\u001b[0m \u001b[0mc\u001b[0m\u001b[1;33m.\u001b[0m\u001b[0mmodel_id\u001b[0m \u001b[1;33m!=\u001b[0m \u001b[0mcontrol\u001b[0m\u001b[1;33m.\u001b[0m\u001b[0mmodel_id\u001b[0m\u001b[1;33m]\u001b[0m\u001b[1;33m)\u001b[0m\u001b[1;33m\u001b[0m\u001b[1;33m\u001b[0m\u001b[0m\n",
      "\u001b[1;32m~\\anaconda3\\lib\\site-packages\\ipywidgets\\widgets\\widget.py\u001b[0m in \u001b[0;36mmodel_id\u001b[1;34m(self)\u001b[0m\n\u001b[0;32m    453\u001b[0m \u001b[1;33m\u001b[0m\u001b[0m\n\u001b[0;32m    454\u001b[0m         If a Comm doesn't exist yet, a Comm will be created automagically.\"\"\"\n\u001b[1;32m--> 455\u001b[1;33m         \u001b[1;32mreturn\u001b[0m \u001b[0mself\u001b[0m\u001b[1;33m.\u001b[0m\u001b[0mcomm\u001b[0m\u001b[1;33m.\u001b[0m\u001b[0mcomm_id\u001b[0m\u001b[1;33m\u001b[0m\u001b[1;33m\u001b[0m\u001b[0m\n\u001b[0m\u001b[0;32m    456\u001b[0m \u001b[1;33m\u001b[0m\u001b[0m\n\u001b[0;32m    457\u001b[0m     \u001b[1;31m#-------------------------------------------------------------------------\u001b[0m\u001b[1;33m\u001b[0m\u001b[1;33m\u001b[0m\u001b[1;33m\u001b[0m\u001b[0m\n",
      "\u001b[1;31mAttributeError\u001b[0m: 'NoneType' object has no attribute 'comm_id'"
     ]
    }
   ],
   "source": [
    "Map = geemap.Map()\n",
    "Map"
   ]
  },
  {
   "cell_type": "code",
   "execution_count": null,
   "metadata": {},
   "outputs": [],
   "source": [
    "vis_params = {'color': 'ff0000fc', 'pointSize': 4, 'pointShape': 'hexagon', 'width': 2, 'lineType': 'dotted', 'fillColor': '008040a5'}"
   ]
  },
  {
   "cell_type": "code",
   "execution_count": 196,
   "metadata": {},
   "outputs": [],
   "source": [
    "countries_shp = 'C:/Users/usuario/Desktop/geemap/geemap2/examples/data/countries.shp'\n",
    "countries = geemap.shp_to_ee(countries_shp)\n",
    "Map.addLayer(countries, {}, 'Countries')"
   ]
  },
  {
   "cell_type": "code",
   "execution_count": 197,
   "metadata": {},
   "outputs": [],
   "source": [
    "states_shp = 'C:/Users/usuario/Desktop/geemap/geemap2/examples/data/us-states.shp'\n",
    "states = geemap.shp_to_ee(states_shp)\n",
    "Map.addLayer(states, {}, 'US States')"
   ]
  },
  {
   "cell_type": "code",
   "execution_count": 198,
   "metadata": {},
   "outputs": [],
   "source": [
    "cities_shp = 'C:/Users/usuario/Desktop/geemap/geemap2/examples/data/us-cities.shp'\n",
    "cities = geemap.shp_to_ee(cities_shp)\n",
    "Map.addLayer(cities, {}, 'US Cities')"
   ]
  },
  {
   "cell_type": "code",
   "execution_count": 199,
   "metadata": {},
   "outputs": [
    {
     "name": "stdout",
     "output_type": "stream",
     "text": [
      "Generating URL ...\n",
      "Downloading data from https://earthengine.googleapis.com/v1alpha/projects/earthengine-legacy/tables/6fce2b2b4ec8bf1b72da55f3a9a72e6b-887b633e5374b55c8587110cc232a680:getFeatures\n",
      "Please wait ...\n",
      "Data downloaded to C:\\Users\\usuario\\Desktop\\geemap\\geemap2\\examples\\data\\countries_new.shp\n"
     ]
    }
   ],
   "source": [
    "geemap.ee_to_shp(countries, filename='C:/Users/usuario/Desktop/geemap/geemap2/examples/data/countries_new.shp')"
   ]
  },
  {
   "cell_type": "code",
   "execution_count": 200,
   "metadata": {},
   "outputs": [
    {
     "name": "stdout",
     "output_type": "stream",
     "text": [
      "Generating URL ...\n",
      "Downloading data from https://earthengine.googleapis.com/v1alpha/projects/earthengine-legacy/tables/88f52b84ca2b38fadb3199e232045e2b-287856eeaf64cbd1c6cc4af9737e266d:getFeatures\n",
      "Please wait ...\n",
      "Data downloaded to C:\\Users\\usuario\\Desktop\\geemap\\geemap2\\examples\\data\\states.csv\n"
     ]
    }
   ],
   "source": [
    "geemap.ee_export_vector(states, filename='C:/Users/usuario/Desktop/geemap/geemap2/examples/data/states.csv')"
   ]
  },
  {
   "cell_type": "code",
   "execution_count": 201,
   "metadata": {},
   "outputs": [
    {
     "name": "stdout",
     "output_type": "stream",
     "text": [
      "Generating URL ...\n",
      "Downloading data from https://earthengine.googleapis.com/v1alpha/projects/earthengine-legacy/tables/4951e2eac32582dabc90005cc84ed16e-387e12999f17581d3a965c4adadc1dd7:getFeatures\n",
      "Please wait ...\n",
      "Data downloaded to C:\\Users\\usuario\\Desktop\\geemap\\geemap2\\examples\\data\\states.kml\n",
      "Generating URL ...\n",
      "Downloading data from https://earthengine.googleapis.com/v1alpha/projects/earthengine-legacy/tables/c629a6b07e90524204fa8a79526b3cdc-f5032ecfcf05b1a2f964298e8d95d487:getFeatures\n",
      "Please wait ...\n",
      "Data downloaded to C:\\Users\\usuario\\Desktop\\geemap\\geemap2\\examples\\data\\states.kmz\n"
     ]
    }
   ],
   "source": [
    "geemap.ee_export_vector(states, filename='C:/Users/usuario/Desktop/geemap/geemap2/examples/data/states.kml')\n",
    "geemap.ee_export_vector(states, filename='C:/Users/usuario/Desktop/geemap/geemap2/examples/data/states.kmz')"
   ]
  },
  {
   "cell_type": "markdown",
   "metadata": {},
   "source": [
    "******************\n",
    "******************"
   ]
  },
  {
   "cell_type": "markdown",
   "metadata": {},
   "source": [
    "## 11 Exportando imágenes  \n",
    "### export_image"
   ]
  },
  {
   "cell_type": "code",
   "execution_count": null,
   "metadata": {},
   "outputs": [],
   "source": [
    "import ee\n",
    "import geemap\n",
    "import os\n",
    "Map = geemap.Map()\n",
    "Map\n"
   ]
  },
  {
   "cell_type": "code",
   "execution_count": null,
   "metadata": {},
   "outputs": [],
   "source": [
    "image = ee.Image('LE7_TOA_5YEAR/1999_2003')\n",
    "\n",
    "landsat_vis = {\n",
    "    'bands': ['B4', 'B3', 'B2'], \n",
    "    'gamma': 1.4\n",
    "}\n",
    "Map.addLayer(image, landsat_vis, \"LE7_TOA_5YEAR/1999_2003\", True, 0.7)"
   ]
  },
  {
   "cell_type": "code",
   "execution_count": null,
   "metadata": {},
   "outputs": [],
   "source": [
    "# Draw any shapes on the map using the Drawing tools before executing this code block\n",
    "feature = Map.draw_last_feature\n",
    "roi = feature.geometry()"
   ]
  },
  {
   "cell_type": "code",
   "execution_count": null,
   "metadata": {},
   "outputs": [],
   "source": [
    "out_dir = os.path.join(os.path.expanduser('~'), 'Downloads')\n",
    "filename = os.path.join(out_dir, 'landsat.tif')"
   ]
  },
  {
   "cell_type": "code",
   "execution_count": null,
   "metadata": {},
   "outputs": [],
   "source": [
    "image = image.clip(roi).unmask()\n",
    "geemap.ee_export_image(image, filename=filename, scale=90, region=roi, file_per_band=False)"
   ]
  },
  {
   "cell_type": "code",
   "execution_count": null,
   "metadata": {},
   "outputs": [],
   "source": [
    "geemap.ee_export_image(image, filename=filename, scale=90, region=roi, file_per_band=True)"
   ]
  },
  {
   "cell_type": "code",
   "execution_count": null,
   "metadata": {},
   "outputs": [],
   "source": [
    "geemap.ee_export_image_to_drive(image, description='landsat', folder='export', region=roi, scale=30)"
   ]
  },
  {
   "cell_type": "code",
   "execution_count": null,
   "metadata": {},
   "outputs": [],
   "source": [
    "import ee\n",
    "import geemap\n",
    "import os"
   ]
  },
  {
   "cell_type": "code",
   "execution_count": null,
   "metadata": {},
   "outputs": [],
   "source": [
    "loc = ee.Geometry.Point(-99.2222, 46.7816)\n",
    "collection = ee.ImageCollection('USDA/NAIP/DOQQ') \\\n",
    "    .filterBounds(loc) \\\n",
    "    .filterDate('2008-01-01', '2020-01-01') \\\n",
    "    .filter(ee.Filter.listContains(\"system:band_names\", \"N\"))"
   ]
  },
  {
   "cell_type": "code",
   "execution_count": null,
   "metadata": {},
   "outputs": [],
   "source": [
    "out_dir = os.path.join(os.path.expanduser('~'), 'Downloads')"
   ]
  },
  {
   "cell_type": "code",
   "execution_count": null,
   "metadata": {},
   "outputs": [],
   "source": [
    "print(collection.aggregate_array('system:index').getInfo())"
   ]
  },
  {
   "cell_type": "code",
   "execution_count": null,
   "metadata": {},
   "outputs": [],
   "source": [
    "geemap.ee_export_image_collection(collection, out_dir=out_dir)"
   ]
  },
  {
   "cell_type": "code",
   "execution_count": null,
   "metadata": {
    "scrolled": true
   },
   "outputs": [],
   "source": [
    "geemap.ee_export_image_collection_to_drive(collection, folder='export', scale=10)"
   ]
  },
  {
   "cell_type": "markdown",
   "metadata": {},
   "source": [
    "#### podemos extraer pixeles como arrays numpy"
   ]
  },
  {
   "cell_type": "code",
   "execution_count": null,
   "metadata": {},
   "outputs": [],
   "source": [
    "import ee\n",
    "import geemap\n",
    "import numpy as np\n",
    "import matplotlib.pyplot as plt\n",
    "\n",
    "img = ee.Image('LANDSAT/LC08/C01/T1_SR/LC08_038029_20180810') \\\n",
    "  .select(['B4', 'B5', 'B6'])\n",
    "\n",
    "aoi = ee.Geometry.Polygon(\n",
    "  [[[-110.8, 44.7],\n",
    "    [-110.8, 44.6],\n",
    "    [-110.6, 44.6],\n",
    "    [-110.6, 44.7]]], None, False)\n",
    "\n",
    "rgb_img = geemap.ee_to_numpy(img, region=aoi)\n",
    "print(rgb_img.shape)"
   ]
  },
  {
   "cell_type": "code",
   "execution_count": null,
   "metadata": {},
   "outputs": [],
   "source": [
    "# Scale the data to [0, 255] to show as an RGB image. \n",
    "# Adapted from https://bit.ly/2XlmQY8. Credits to Justin Braaten\n",
    "rgb_img_test = (255*((rgb_img[:, :, 0:3] - 100)/3500)).astype('uint8')\n",
    "plt.imshow(rgb_img_test)\n",
    "plt.show()"
   ]
  },
  {
   "cell_type": "markdown",
   "metadata": {},
   "source": [
    "******************\n",
    "******************"
   ]
  },
  {
   "cell_type": "markdown",
   "metadata": {},
   "source": [
    "## 12_zonal_statistics\n",
    "### zonal_statistics_by_group"
   ]
  },
  {
   "cell_type": "code",
   "execution_count": 202,
   "metadata": {},
   "outputs": [],
   "source": [
    "import ee\n",
    "import geemap\n",
    "import os"
   ]
  },
  {
   "cell_type": "code",
   "execution_count": 203,
   "metadata": {},
   "outputs": [
    {
     "data": {
      "application/vnd.jupyter.widget-view+json": {
       "model_id": "43d669ef545342b68995e42ff52f1981",
       "version_major": 2,
       "version_minor": 0
      },
      "text/plain": [
       "Map(center=[40, -100], controls=(WidgetControl(options=['position'], widget=HBox(children=(ToggleButton(value=…"
      ]
     },
     "metadata": {},
     "output_type": "display_data"
    }
   ],
   "source": [
    "Map = geemap.Map()\n",
    "Map"
   ]
  },
  {
   "cell_type": "code",
   "execution_count": 204,
   "metadata": {},
   "outputs": [],
   "source": [
    "# Add Earth Engine dataset\n",
    "dem = ee.Image('USGS/SRTMGL1_003')\n",
    "\n",
    "# Set visualization parameters.\n",
    "dem_vis = {\n",
    "  'min': 0,\n",
    "  'max': 4000,\n",
    "  'palette': ['006633', 'E5FFCC', '662A00', 'D8D8D8', 'F5F5F5']}\n",
    "\n",
    "# Add Earth Engine DEM to map\n",
    "Map.addLayer(dem, dem_vis, 'SRTM DEM')\n",
    "\n",
    "# Add Landsat data to map\n",
    "landsat = ee.Image('LE7_TOA_5YEAR/1999_2003')\n",
    "\n",
    "landsat_vis = {\n",
    "    'bands': ['B4', 'B3', 'B2'], \n",
    "    'gamma': 1.4\n",
    "}\n",
    "Map.addLayer(landsat, landsat_vis, \"LE7_TOA_5YEAR/1999_2003\")\n",
    "\n",
    "states = ee.FeatureCollection(\"TIGER/2018/States\")\n",
    "Map.addLayer(states, {}, 'US States')"
   ]
  },
  {
   "cell_type": "code",
   "execution_count": 205,
   "metadata": {},
   "outputs": [
    {
     "name": "stdout",
     "output_type": "stream",
     "text": [
      "Computing statistics ...\n",
      "Generating URL ...\n",
      "Downloading data from https://earthengine.googleapis.com/v1alpha/projects/earthengine-legacy/tables/12c2b4c69f8909de6757f0ea4a348aa8-2f135dde957ffb39b475021f2ab1bdc5:getFeatures\n",
      "Please wait ...\n",
      "Data downloaded to C:\\Users\\usuario\\Downloads\\dem_stats.csv\n"
     ]
    }
   ],
   "source": [
    "out_dir = os.path.join(os.path.expanduser('~'), 'Downloads')\n",
    "out_dem_stats = os.path.join(out_dir, 'dem_stats.csv')  \n",
    "\n",
    "if not os.path.exists(out_dir):\n",
    "    os.makedirs(out_dir)\n",
    "\n",
    "# Allowed output formats: csv, shp, json, kml, kmz\n",
    "# Allowed statistics type: MEAN, MAXIMUM, MINIMUM, MEDIAN, STD, MIN_MAX, VARIANCE, SUM\n",
    "geemap.zonal_statistics(dem, states, out_dem_stats, statistics_type='MEAN', scale=1000)"
   ]
  },
  {
   "cell_type": "code",
   "execution_count": 206,
   "metadata": {},
   "outputs": [
    {
     "name": "stdout",
     "output_type": "stream",
     "text": [
      "Computing statistics ...\n",
      "Generating URL ...\n",
      "Downloading data from https://earthengine.googleapis.com/v1alpha/projects/earthengine-legacy/tables/ef7da058fa8cecffdece8d714da68ec8-67804c2e34c14ce19e499c471ceba78c:getFeatures\n",
      "Please wait ...\n",
      "Data downloaded to C:\\Users\\usuario\\Downloads\\landsat_stats.csv\n"
     ]
    }
   ],
   "source": [
    "out_landsat_stats = os.path.join(out_dir, 'landsat_stats.csv')  \n",
    "geemap.zonal_statistics(landsat, states, out_landsat_stats, statistics_type='SUM', scale=1000)"
   ]
  },
  {
   "cell_type": "code",
   "execution_count": 207,
   "metadata": {},
   "outputs": [
    {
     "data": {
      "text/html": [
       "<a download=\"dem_stats.csv\" href=\"data:text/csv;base64,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\" style=\"color:#0000FF;\" target=\"_blank\">Click here to download:  dem_stats.csv</a>"
      ],
      "text/plain": [
       "<IPython.core.display.HTML object>"
      ]
     },
     "execution_count": 207,
     "metadata": {},
     "output_type": "execute_result"
    }
   ],
   "source": [
    "geemap.create_download_link(out_dem_stats)"
   ]
  },
  {
   "cell_type": "code",
   "execution_count": 208,
   "metadata": {},
   "outputs": [
    {
     "data": {
      "text/html": [
       "<a download=\"landsat_stats.csv\" href=\"data:text/csv;base64,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\" style=\"color:#0000FF;\" target=\"_blank\">Click here to download:  landsat_stats.csv</a>"
      ],
      "text/plain": [
       "<IPython.core.display.HTML object>"
      ]
     },
     "execution_count": 208,
     "metadata": {},
     "output_type": "execute_result"
    }
   ],
   "source": [
    "geemap.create_download_link(out_landsat_stats)"
   ]
  },
  {
   "cell_type": "markdown",
   "metadata": {},
   "source": [
    "******************\n",
    "******************"
   ]
  },
  {
   "cell_type": "markdown",
   "metadata": {},
   "source": [
    "## 13 Estadisticas zonales por grupo\n",
    "### zonal_statistics_by_group"
   ]
  },
  {
   "cell_type": "code",
   "execution_count": 209,
   "metadata": {},
   "outputs": [
    {
     "data": {
      "application/vnd.jupyter.widget-view+json": {
       "model_id": "2e58be3edf8d456395da41e1e508a6d8",
       "version_major": 2,
       "version_minor": 0
      },
      "text/plain": [
       "Map(center=[40, -100], controls=(WidgetControl(options=['position'], widget=HBox(children=(ToggleButton(value=…"
      ]
     },
     "metadata": {},
     "output_type": "display_data"
    }
   ],
   "source": [
    "import ee\n",
    "import geemap\n",
    "import os\n",
    "\n",
    "Map = geemap.Map()\n",
    "Map"
   ]
  },
  {
   "cell_type": "markdown",
   "metadata": {},
   "source": [
    "Cargamos un par de capas"
   ]
  },
  {
   "cell_type": "code",
   "execution_count": 210,
   "metadata": {},
   "outputs": [],
   "source": [
    "dataset = ee.Image('USGS/NLCD/NLCD2016')\n",
    "landcover = ee.Image(dataset.select('landcover'))\n",
    "Map.addLayer(landcover, {}, 'NLCD 2016')\n",
    "\n",
    "states = ee.FeatureCollection(\"TIGER/2018/States\")\n",
    "Map.addLayer(states, {}, 'US States')\n"
   ]
  },
  {
   "cell_type": "markdown",
   "metadata": {},
   "source": [
    "Agregamos una leyenda asociada"
   ]
  },
  {
   "cell_type": "code",
   "execution_count": 211,
   "metadata": {},
   "outputs": [],
   "source": [
    "Map.add_legend(builtin_legend='NLCD')"
   ]
  },
  {
   "cell_type": "markdown",
   "metadata": {},
   "source": [
    "Calculamos la composicion de cubierta de suelos de cada estado de USA"
   ]
  },
  {
   "cell_type": "code",
   "execution_count": 212,
   "metadata": {},
   "outputs": [
    {
     "name": "stdout",
     "output_type": "stream",
     "text": [
      "Computing ... \n",
      "Generating URL ...\n",
      "Downloading data from https://earthengine.googleapis.com/v1alpha/projects/earthengine-legacy/tables/99166d806c99aa38d3441e34b76c5bfe-95a8ceabd897337572a897f6e3e2c9f8:getFeatures\n",
      "Please wait ...\n",
      "Data downloaded to C:\\Users\\usuario\\Downloads\\nlcd_stats.csv\n"
     ]
    }
   ],
   "source": [
    "out_dir = os.path.join(os.path.expanduser('~'), 'Downloads')\n",
    "nlcd_stats = os.path.join(out_dir, 'nlcd_stats.csv')  \n",
    "\n",
    "if not os.path.exists(out_dir):\n",
    "    os.makedirs(out_dir)\n",
    "    \n",
    "# statistics_type can be either 'SUM' or 'PERCENTAGE'\n",
    "# denominator can be used to convert square meters to other areal units, such as square kilimeters\n",
    "geemap.zonal_statistics_by_group(landcover, states, nlcd_stats, statistics_type='SUM', denominator=1000000, decimal_places=2)"
   ]
  },
  {
   "cell_type": "code",
   "execution_count": 213,
   "metadata": {},
   "outputs": [
    {
     "data": {
      "text/html": [
       "<a download=\"nlcd_stats.csv\" href=\"data:text/csv;base64,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\" style=\"color:#0000FF;\" target=\"_blank\">Click here to download:  nlcd_stats.csv</a>"
      ],
      "text/plain": [
       "<IPython.core.display.HTML object>"
      ]
     },
     "execution_count": 213,
     "metadata": {},
     "output_type": "execute_result"
    }
   ],
   "source": [
    "geemap.create_download_link(nlcd_stats)"
   ]
  },
  {
   "cell_type": "markdown",
   "metadata": {},
   "source": [
    "******************\n",
    "******************"
   ]
  },
  {
   "cell_type": "markdown",
   "metadata": {},
   "source": [
    "## 14 Leyendas\n",
    "### add_legend"
   ]
  },
  {
   "cell_type": "code",
   "execution_count": 214,
   "metadata": {},
   "outputs": [
    {
     "name": "stdout",
     "output_type": "stream",
     "text": [
      "NLCD\n",
      "NWI\n",
      "MODIS/051/MCD12Q1\n",
      "GLOBCOVER\n",
      "JAXA/PALSAR\n",
      "MODIS/006/MCD12Q1\n",
      "Oxford\n",
      "AAFC/ACI\n",
      "COPERNICUS/CORINE/V20/100m\n",
      "COPERNICUS/Landcover/100m/Proba-V/Global\n",
      "USDA/NASS/CDL\n"
     ]
    }
   ],
   "source": [
    "legends = geemap.builtin_legends\n",
    "for legend in legends:\n",
    "    print(legend)"
   ]
  },
  {
   "cell_type": "code",
   "execution_count": 215,
   "metadata": {},
   "outputs": [
    {
     "data": {
      "application/vnd.jupyter.widget-view+json": {
       "model_id": "4769d6f695dd4f119827f705a6a7aa0a",
       "version_major": 2,
       "version_minor": 0
      },
      "text/plain": [
       "Map(center=[40, -100], controls=(WidgetControl(options=['position'], widget=HBox(children=(ToggleButton(value=…"
      ]
     },
     "metadata": {},
     "output_type": "display_data"
    }
   ],
   "source": [
    "Map = geemap.Map()\n",
    "Map.add_basemap('HYBRID')\n",
    "landcover = ee.Image('USGS/NLCD/NLCD2016').select('landcover')\n",
    "Map.addLayer(landcover, {}, 'NLCD Land Cover')\n",
    "Map.add_legend(builtin_legend='NLCD')\n",
    "Map"
   ]
  },
  {
   "cell_type": "code",
   "execution_count": 216,
   "metadata": {},
   "outputs": [
    {
     "data": {
      "application/vnd.jupyter.widget-view+json": {
       "model_id": "da7eaef3e12441fbbda2513303735f5c",
       "version_major": 2,
       "version_minor": 0
      },
      "text/plain": [
       "Map(center=[40, -100], controls=(WidgetControl(options=['position'], widget=HBox(children=(ToggleButton(value=…"
      ]
     },
     "metadata": {},
     "output_type": "display_data"
    }
   ],
   "source": [
    "Map = geemap.Map()\n",
    "Map.add_basemap('HYBRID')\n",
    "Map.add_basemap('FWS NWI Wetlands')\n",
    "Map.add_legend(builtin_legend='NWI')\n",
    "Map"
   ]
  },
  {
   "cell_type": "code",
   "execution_count": 217,
   "metadata": {},
   "outputs": [
    {
     "data": {
      "application/vnd.jupyter.widget-view+json": {
       "model_id": "56178902364a4276be9aaa648f2f9dc9",
       "version_major": 2,
       "version_minor": 0
      },
      "text/plain": [
       "Map(center=[46.529, 6.746], controls=(WidgetControl(options=['position'], widget=HBox(children=(ToggleButton(v…"
      ]
     },
     "metadata": {},
     "output_type": "display_data"
    }
   ],
   "source": [
    "Map = geemap.Map()\n",
    "Map.add_basemap('HYBRID')\n",
    "\n",
    "landcover = ee.Image('MODIS/051/MCD12Q1/2013_01_01') \\\n",
    "    .select('Land_Cover_Type_1')\n",
    "\n",
    "Map.setCenter(6.746, 46.529, 2)\n",
    "Map.addLayer(landcover, {}, 'MODIS Land Cover')\n",
    "Map.add_legend(builtin_legend='MODIS/051/MCD12Q1')\n",
    "\n",
    "Map"
   ]
  },
  {
   "cell_type": "code",
   "execution_count": 218,
   "metadata": {},
   "outputs": [
    {
     "data": {
      "application/vnd.jupyter.widget-view+json": {
       "model_id": "bf88afca8e6541e4b4fefe65282b188f",
       "version_major": 2,
       "version_minor": 0
      },
      "text/plain": [
       "Map(center=[40, -100], controls=(WidgetControl(options=['position'], widget=HBox(children=(ToggleButton(value=…"
      ]
     },
     "metadata": {},
     "output_type": "display_data"
    }
   ],
   "source": [
    "Map = geemap.Map()\n",
    "\n",
    "legend_keys = ['One', 'Two', 'Three', 'Four', 'ect']\n",
    " #colorS can be defined using either hex code or RGB (0-255, 0-255, 0-255)\n",
    "#legend_colors = ['#8DD3C7', '#FFFFB3', '#BEBADA', '#FB8072', '#80B1D3']\n",
    "legend_colors = [(255, 0, 0), (127, 255, 0), (127, 18, 25), (36, 70, 180), (96, 68 ,123)]\n",
    "\n",
    "Map.add_legend(legend_keys=legend_keys, legend_colors=legend_colors, position='bottomleft')\n",
    "Map"
   ]
  },
  {
   "cell_type": "code",
   "execution_count": 219,
   "metadata": {},
   "outputs": [
    {
     "data": {
      "application/vnd.jupyter.widget-view+json": {
       "model_id": "a041768a79114b30870b0dc368ca80cc",
       "version_major": 2,
       "version_minor": 0
      },
      "text/plain": [
       "Map(center=[40, -100], controls=(WidgetControl(options=['position'], widget=HBox(children=(ToggleButton(value=…"
      ]
     },
     "metadata": {},
     "output_type": "display_data"
    }
   ],
   "source": [
    "Map = geemap.Map()\n",
    "\n",
    "legend_dict = {\n",
    "    '11 Open Water': '466b9f',\n",
    "    '12 Perennial Ice/Snow': 'd1def8',\n",
    "    '21 Developed, Open Space': 'dec5c5',\n",
    "    '22 Developed, Low Intensity': 'd99282',\n",
    "    '23 Developed, Medium Intensity': 'eb0000',\n",
    "    '24 Developed High Intensity': 'ab0000',\n",
    "    '31 Barren Land (Rock/Sand/Clay)': 'b3ac9f',\n",
    "    '41 Deciduous Forest': '68ab5f',\n",
    "    '42 Evergreen Forest': '1c5f2c',\n",
    "    '43 Mixed Forest': 'b5c58f',\n",
    "    '51 Dwarf Scrub': 'af963c',\n",
    "    '52 Shrub/Scrub': 'ccb879',\n",
    "    '71 Grassland/Herbaceous': 'dfdfc2',\n",
    "    '72 Sedge/Herbaceous': 'd1d182',\n",
    "    '73 Lichens': 'a3cc51',\n",
    "    '74 Moss': '82ba9e',\n",
    "    '81 Pasture/Hay': 'dcd939',\n",
    "    '82 Cultivated Crops': 'ab6c28',\n",
    "    '90 Woody Wetlands': 'b8d9eb',\n",
    "    '95 Emergent Herbaceous Wetlands': '6c9fb8'\n",
    "}\n",
    "\n",
    "landcover = ee.Image('USGS/NLCD/NLCD2016').select('landcover')\n",
    "Map.addLayer(landcover, {}, 'NLCD Land Cover')\n",
    "\n",
    "Map.add_legend(legend_title=\"NLCD Land Cover Classification\", legend_dict=legend_dict)\n",
    "Map"
   ]
  },
  {
   "cell_type": "code",
   "execution_count": 220,
   "metadata": {
    "scrolled": true
   },
   "outputs": [
    {
     "data": {
      "application/vnd.jupyter.widget-view+json": {
       "model_id": "bb0c30e6b5ff41ae97ce4feb5a2578e6",
       "version_major": 2,
       "version_minor": 0
      },
      "text/plain": [
       "Map(center=[46.529, 6.746], controls=(WidgetControl(options=['position'], widget=HBox(children=(ToggleButton(v…"
      ]
     },
     "metadata": {},
     "output_type": "display_data"
    }
   ],
   "source": [
    "Map = geemap.Map()\n",
    "\n",
    "ee_class_table = \"\"\"\n",
    "\n",
    "Value\tColor\tDescription\n",
    "0\t1c0dff\tWater\n",
    "1\t05450a\tEvergreen needleleaf forest\n",
    "2\t086a10\tEvergreen broadleaf forest\n",
    "3\t54a708\tDeciduous needleleaf forest\n",
    "4\t78d203\tDeciduous broadleaf forest\n",
    "5\t009900\tMixed forest\n",
    "6\tc6b044\tClosed shrublands\n",
    "7\tdcd159\tOpen shrublands\n",
    "8\tdade48\tWoody savannas\n",
    "9\tfbff13\tSavannas\n",
    "10\tb6ff05\tGrasslands\n",
    "11\t27ff87\tPermanent wetlands\n",
    "12\tc24f44\tCroplands\n",
    "13\ta5a5a5\tUrban and built-up\n",
    "14\tff6d4c\tCropland/natural vegetation mosaic\n",
    "15\t69fff8\tSnow and ice\n",
    "16\tf9ffa4\tBarren or sparsely vegetated\n",
    "254\tffffff\tUnclassified\n",
    "\n",
    "\"\"\"\n",
    "\n",
    "landcover = ee.Image('MODIS/051/MCD12Q1/2013_01_01') \\\n",
    "    .select('Land_Cover_Type_1')\n",
    "Map.setCenter(6.746, 46.529, 2)\n",
    "Map.addLayer(landcover, {}, 'MODIS Land Cover')\n",
    "\n",
    "legend_dict = geemap.legend_from_ee(ee_class_table)\n",
    "Map.add_legend(legend_title=\"MODIS Global Land Cover\", legend_dict=legend_dict)\n",
    "\n",
    "Map"
   ]
  },
  {
   "cell_type": "markdown",
   "metadata": {},
   "source": [
    "******************\n",
    "******************"
   ]
  },
  {
   "cell_type": "markdown",
   "metadata": {},
   "source": [
    "# Tercera parte: conversion de js a python"
   ]
  },
  {
   "cell_type": "markdown",
   "metadata": {},
   "source": [
    "## 15 Podemos convertir fácilmente el código JavaScript de GEE en código Python.\n",
    "### convert_js_to_py\n",
    "# <span style=\"color:red\">Podemos convertir fácilmente el código JavaScript de GEE en código Python</span>"
   ]
  },
  {
   "cell_type": "code",
   "execution_count": null,
   "metadata": {},
   "outputs": [],
   "source": [
    "import ee\n",
    "import geemap\n",
    "\n",
    "Map = geemap.Map()\n",
    "ee.Initialize()"
   ]
  },
  {
   "cell_type": "markdown",
   "metadata": {},
   "source": [
    "La funcion js_snippet_to_py nos permite rapida y simplemente hacerlo. Debemos dejar un bloque con el siguiente codigo que se convertira en py automaticamente un a vez ejecutada la funcion.\n",
    "\n",
    "js_snippet = \"\"\"\n",
    "\n",
    "\"\"\""
   ]
  },
  {
   "cell_type": "markdown",
   "metadata": {},
   "source": [
    "1 ejemplo"
   ]
  },
  {
   "cell_type": "code",
   "execution_count": 36,
   "metadata": {},
   "outputs": [],
   "source": [
    "js_snippet = \"\"\"\n",
    "// Load an image.\n",
    "var image = ee.Image('LANDSAT/LC08/C01/T1_TOA/LC08_044034_20140318');\n",
    "\n",
    "// Define the visualization parameters.\n",
    "var vizParams = {\n",
    "  bands: ['B5', 'B4', 'B3'],\n",
    "  min: 0,\n",
    "  max: 0.5,\n",
    "  gamma: [0.95, 1.1, 1]\n",
    "};\n",
    "\n",
    "// Center the map and display the image.\n",
    "Map.setCenter(-122.1899, 37.5010, 10); // San Francisco Bay\n",
    "Map.addLayer(image, vizParams, 'false color composite');\n",
    "\"\"\""
   ]
  },
  {
   "cell_type": "code",
   "execution_count": 38,
   "metadata": {},
   "outputs": [],
   "source": [
    "geemap.js_snippet_to_py(js_snippet, add_new_cell=True, import_ee=True, import_geemap=True, show_map=True)"
   ]
  },
  {
   "cell_type": "code",
   "execution_count": 40,
   "metadata": {},
   "outputs": [
    {
     "data": {
      "application/vnd.jupyter.widget-view+json": {
       "model_id": "12b7d7fd132a4a18999df30355c3764c",
       "version_major": 2,
       "version_minor": 0
      },
      "text/plain": [
       "Map(center=[37.501, -122.1899], controls=(WidgetControl(options=['position'], widget=HBox(children=(ToggleButt…"
      ]
     },
     "metadata": {},
     "output_type": "display_data"
    }
   ],
   "source": [
    "import ee\n",
    "import geemap\n",
    "\n",
    "Map = geemap.Map()\n",
    "\n",
    "# Load an image.\n",
    "image = ee.Image('LANDSAT/LC08/C01/T1_TOA/LC08_044034_20140318')\n",
    "\n",
    "# Define the visualization parameters.\n",
    "vizParams = {\n",
    "  'bands': ['B5', 'B4', 'B3'],\n",
    "  'min': 0,\n",
    "  'max': 0.5,\n",
    "  'gamma': [0.95, 1.1, 1]\n",
    "}\n",
    "\n",
    "# Center the map and display the image.\n",
    "Map.setCenter(-122.1899, 37.5010, 10); # San Francisco Bay\n",
    "Map.addLayer(image, vizParams, 'False color composite')\n",
    "Map\n"
   ]
  },
  {
   "cell_type": "code",
   "execution_count": null,
   "metadata": {},
   "outputs": [],
   "source": [
    "js_snippet = \"\"\"\n",
    "\n",
    "\"\"\""
   ]
  },
  {
   "cell_type": "code",
   "execution_count": null,
   "metadata": {},
   "outputs": [],
   "source": [
    "import ee\n",
    "import geemap\n",
    "\n",
    "Map = geemap.Map()\n",
    "\n",
    "# Load an image.\n",
    "image = ee.Image('LANDSAT/LC08/C01/T1_TOA/LC08_044034_20140318')\n",
    "\n",
    "# Define the visualization parameters.\n",
    "vizParams = {\n",
    "  'bands': ['B5', 'B4', 'B3'],\n",
    "  'min': 0,\n",
    "  'max': 0.5,\n",
    "  'gamma': [0.95, 1.1, 1]\n",
    "}\n",
    "\n",
    "# Center the map and display the image.\n",
    "Map.setCenter(-122.1899, 37.5010, 10); # San Francisco Bay\n",
    "Map.addLayer(image, vizParams, 'False color composite')\n",
    "Map\n"
   ]
  },
  {
   "cell_type": "markdown",
   "metadata": {},
   "source": [
    "2 ejemplo"
   ]
  },
  {
   "cell_type": "code",
   "execution_count": null,
   "metadata": {},
   "outputs": [],
   "source": [
    "js_snippet = \"\"\"\n",
    "\n",
    "// Load an image.\n",
    "var image = ee.Image('LANDSAT/LC08/C01/T1_TOA/LC08_044034_20140318');\n",
    "\n",
    "// Create an NDWI image, define visualization parameters and display.\n",
    "var ndwi = image.normalizedDifference(['B3', 'B5']);\n",
    "var ndwiViz = {min: 0.5, max: 1, palette: ['00FFFF', '0000FF']};\n",
    "Map.addLayer(ndwi, ndwiViz, 'NDWI', false);\n",
    "\n",
    "\"\"\""
   ]
  },
  {
   "cell_type": "code",
   "execution_count": null,
   "metadata": {},
   "outputs": [],
   "source": [
    "geemap.js_snippet_to_py(js_snippet)"
   ]
  },
  {
   "cell_type": "code",
   "execution_count": null,
   "metadata": {},
   "outputs": [],
   "source": [
    "import ee\n",
    "import geemap\n",
    "\n",
    "Map = geemap.Map()\n",
    "\n",
    "# Load an image.\n",
    "image = ee.Image('LANDSAT/LC08/C01/T1_TOA/LC08_044034_20140318')\n",
    "\n",
    "# Create an NDWI image, define visualization parameters and display.\n",
    "ndwi = image.normalizedDifference(['B3', 'B5'])\n",
    "ndwiViz = {'min': 0.5, 'max': 1, 'palette': ['00FFFF', '0000FF']}\n",
    "Map.addLayer(ndwi, ndwiViz, 'NDWI', False)\n",
    "Map\n"
   ]
  },
  {
   "cell_type": "markdown",
   "metadata": {},
   "source": [
    "3 ejemplo"
   ]
  },
  {
   "cell_type": "code",
   "execution_count": null,
   "metadata": {},
   "outputs": [],
   "source": [
    "js_snippet = \"\"\"\n",
    "\n",
    "// Load 2012 MODIS land cover and select the IGBP classification.\n",
    "var cover = ee.Image('MODIS/051/MCD12Q1/2012_01_01')\n",
    "  .select('Land_Cover_Type_1');\n",
    "\n",
    "// Define a palette for the 18 distinct land cover classes.\n",
    "var igbpPalette = [\n",
    "  'aec3d4', // water\n",
    "  '152106', '225129', '369b47', '30eb5b', '387242', // forest\n",
    "  '6a2325', 'c3aa69', 'b76031', 'd9903d', '91af40',  // shrub, grass\n",
    "  '111149', // wetlands\n",
    "  'cdb33b', // croplands\n",
    "  'cc0013', // urban\n",
    "  '33280d', // crop mosaic\n",
    "  'd7cdcc', // snow and ice\n",
    "  'f7e084', // barren\n",
    "  '6f6f6f'  // tundra\n",
    "];\n",
    "\n",
    "// Specify the min and max labels and the color palette matching the labels.\n",
    "Map.setCenter(-99.229, 40.413, 5);\n",
    "Map.addLayer(cover,\n",
    "             {min: 0, max: 17, palette: igbpPalette},\n",
    "             'IGBP classification');\n",
    "\n",
    "\"\"\""
   ]
  },
  {
   "cell_type": "code",
   "execution_count": null,
   "metadata": {},
   "outputs": [],
   "source": [
    "geemap.js_snippet_to_py(js_snippet)"
   ]
  },
  {
   "cell_type": "code",
   "execution_count": null,
   "metadata": {},
   "outputs": [],
   "source": [
    "import ee\n",
    "import geemap\n",
    "\n",
    "Map = geemap.Map()\n",
    "\n",
    "# Load 2012 MODIS land cover and select the IGBP classification.\n",
    "cover = ee.Image('MODIS/051/MCD12Q1/2012_01_01') \\\n",
    "  .select('Land_Cover_Type_1')\n",
    "\n",
    "# Define a palette for the 18 distinct land cover classes.\n",
    "igbpPalette = [\n",
    "  'aec3d4', # water\n",
    "  '152106', '225129', '369b47', '30eb5b', '387242', # forest\n",
    "  '6a2325', 'c3aa69', 'b76031', 'd9903d', '91af40',  # shrub, grass\n",
    "  '111149', # wetlands\n",
    "  'cdb33b', # croplands\n",
    "  'cc0013', # urban\n",
    "  '33280d', # crop mosaic\n",
    "  'd7cdcc', # snow and ice\n",
    "  'f7e084', # barren\n",
    "  '6f6f6f'  # tundra\n",
    "]\n",
    "\n",
    "# Specify the min and max labels and the color palette matching the labels.\n",
    "Map.setCenter(-99.229, 40.413, 5)\n",
    "Map.addLayer(cover,\n",
    "             {'min': 0, 'max': 17, 'palette': igbpPalette},\n",
    "             'IGBP classification')\n",
    "Map\n"
   ]
  },
  {
   "cell_type": "markdown",
   "metadata": {},
   "source": [
    "******************\n",
    "******************"
   ]
  },
  {
   "cell_type": "markdown",
   "metadata": {},
   "source": [
    "# Cuarta parte: animaciones"
   ]
  },
  {
   "cell_type": "markdown",
   "metadata": {},
   "source": [
    "## 16 Podemos agregar texto animado.\n",
    "### show_image\n",
    "\n",
    "Podemos desplegar gifs y anadirle cosas, pero lo importante son las imagenes reales."
   ]
  },
  {
   "cell_type": "code",
   "execution_count": 41,
   "metadata": {},
   "outputs": [],
   "source": [
    "import geemap\n",
    "import os"
   ]
  },
  {
   "cell_type": "markdown",
   "metadata": {},
   "source": [
    "C:/Users/usuario/Desktop/geemap/geemap2/examples/data/animation.gif"
   ]
  },
  {
   "cell_type": "markdown",
   "metadata": {},
   "source": [
    "#### gifts basicos"
   ]
  },
  {
   "cell_type": "code",
   "execution_count": 55,
   "metadata": {},
   "outputs": [],
   "source": [
    "in_gif = os.path.abspath('C:/Users/usuario/Desktop/geemap/geemap2/examples/data/animation.gif')\n",
    "out_dir = os.path.join(os.path.expanduser('~'), 'Downloads')\n",
    "out_gif = os.path.join(out_dir, 'output.gif')\n",
    "if not os.path.exists(out_dir):\n",
    "    os.makedirs(out_dir)"
   ]
  },
  {
   "cell_type": "code",
   "execution_count": 43,
   "metadata": {},
   "outputs": [
    {
     "data": {
      "application/vnd.jupyter.widget-view+json": {
       "model_id": "f8f39a1ca2f34df1b12558e845e337a5",
       "version_major": 2,
       "version_minor": 0
      },
      "text/plain": [
       "Output()"
      ]
     },
     "metadata": {},
     "output_type": "display_data"
    }
   ],
   "source": [
    "geemap.show_image(in_gif)"
   ]
  },
  {
   "cell_type": "code",
   "execution_count": 45,
   "metadata": {},
   "outputs": [],
   "source": [
    "geemap.add_text_to_gif(in_gif, out_gif, xy=('5%', '5%'), text_sequence=1984, font_size=30, font_color='#0000ff', duration=100)"
   ]
  },
  {
   "cell_type": "code",
   "execution_count": 46,
   "metadata": {},
   "outputs": [
    {
     "data": {
      "application/vnd.jupyter.widget-view+json": {
       "model_id": "43602852cb6b4821b5938656ccf12f6b",
       "version_major": 2,
       "version_minor": 0
      },
      "text/plain": [
       "Output()"
      ]
     },
     "metadata": {},
     "output_type": "display_data"
    }
   ],
   "source": [
    "geemap.show_image(out_gif)"
   ]
  },
  {
   "cell_type": "code",
   "execution_count": 47,
   "metadata": {},
   "outputs": [],
   "source": [
    "geemap.add_text_to_gif(out_gif, out_gif, xy=('30%', '85%'), text_sequence=\"Las Vegas\", font_color='black')"
   ]
  },
  {
   "cell_type": "code",
   "execution_count": 48,
   "metadata": {},
   "outputs": [
    {
     "data": {
      "application/vnd.jupyter.widget-view+json": {
       "model_id": "757b9ec7518c4636aef9fb36222aec3e",
       "version_major": 2,
       "version_minor": 0
      },
      "text/plain": [
       "Output()"
      ]
     },
     "metadata": {},
     "output_type": "display_data"
    }
   ],
   "source": [
    "geemap.show_image(out_gif)"
   ]
  },
  {
   "cell_type": "code",
   "execution_count": 49,
   "metadata": {},
   "outputs": [
    {
     "data": {
      "text/plain": [
       "['AGENCYB.TTF',\n",
       " 'AGENCYB.TTF',\n",
       " 'AGENCYR.TTF',\n",
       " 'AGENCYR.TTF',\n",
       " 'ALGER.TTF',\n",
       " 'ALGER.TTF',\n",
       " 'ANTQUAB.TTF',\n",
       " 'ANTQUAB.TTF',\n",
       " 'ANTQUABI.TTF',\n",
       " 'ANTQUABI.TTF',\n",
       " 'ANTQUAI.TTF',\n",
       " 'ANTQUAI.TTF',\n",
       " 'ARIALN.TTF',\n",
       " 'ARIALN.TTF',\n",
       " 'ARIALNB.TTF',\n",
       " 'ARIALNB.TTF',\n",
       " 'ARIALNBI.TTF',\n",
       " 'ARIALNBI.TTF',\n",
       " 'ARIALNI.TTF',\n",
       " 'ARIALNI.TTF',\n",
       " 'ARLRDBD.TTF',\n",
       " 'ARLRDBD.TTF',\n",
       " 'BASKVILL.TTF',\n",
       " 'BASKVILL.TTF',\n",
       " 'BAUHS93.TTF',\n",
       " 'BAUHS93.TTF',\n",
       " 'BELL.TTF',\n",
       " 'BELL.TTF',\n",
       " 'BELLB.TTF',\n",
       " 'BELLB.TTF',\n",
       " 'BELLI.TTF',\n",
       " 'BELLI.TTF',\n",
       " 'BERNHC.TTF',\n",
       " 'BERNHC.TTF',\n",
       " 'BKANT.TTF',\n",
       " 'BKANT.TTF',\n",
       " 'BOD_B.TTF',\n",
       " 'BOD_B.TTF',\n",
       " 'BOD_BI.TTF',\n",
       " 'BOD_BI.TTF',\n",
       " 'BOD_BLAI.TTF',\n",
       " 'BOD_BLAI.TTF',\n",
       " 'BOD_BLAR.TTF',\n",
       " 'BOD_BLAR.TTF',\n",
       " 'BOD_CB.TTF',\n",
       " 'BOD_CB.TTF',\n",
       " 'BOD_CBI.TTF',\n",
       " 'BOD_CBI.TTF',\n",
       " 'BOD_CI.TTF',\n",
       " 'BOD_CI.TTF',\n",
       " 'BOD_CR.TTF',\n",
       " 'BOD_CR.TTF',\n",
       " 'BOD_I.TTF',\n",
       " 'BOD_I.TTF',\n",
       " 'BOD_PSTC.TTF',\n",
       " 'BOD_PSTC.TTF',\n",
       " 'BOD_R.TTF',\n",
       " 'BOD_R.TTF',\n",
       " 'BOOKOS.TTF',\n",
       " 'BOOKOS.TTF',\n",
       " 'BOOKOSB.TTF',\n",
       " 'BOOKOSB.TTF',\n",
       " 'BOOKOSBI.TTF',\n",
       " 'BOOKOSBI.TTF',\n",
       " 'BOOKOSI.TTF',\n",
       " 'BOOKOSI.TTF',\n",
       " 'BRADHITC.TTF',\n",
       " 'BRADHITC.TTF',\n",
       " 'BRITANIC.TTF',\n",
       " 'BRITANIC.TTF',\n",
       " 'BRLNSB.TTF',\n",
       " 'BRLNSB.TTF',\n",
       " 'BRLNSDB.TTF',\n",
       " 'BRLNSDB.TTF',\n",
       " 'BRLNSR.TTF',\n",
       " 'BRLNSR.TTF',\n",
       " 'BROADW.TTF',\n",
       " 'BROADW.TTF',\n",
       " 'BRUSHSCI.TTF',\n",
       " 'BRUSHSCI.TTF',\n",
       " 'BSSYM7.TTF',\n",
       " 'BSSYM7.TTF',\n",
       " 'CALIFB.TTF',\n",
       " 'CALIFB.TTF',\n",
       " 'CALIFI.TTF',\n",
       " 'CALIFI.TTF',\n",
       " 'CALIFR.TTF',\n",
       " 'CALIFR.TTF',\n",
       " 'CALIST.TTF',\n",
       " 'CALIST.TTF',\n",
       " 'CALISTB.TTF',\n",
       " 'CALISTB.TTF',\n",
       " 'CALISTBI.TTF',\n",
       " 'CALISTBI.TTF',\n",
       " 'CALISTI.TTF',\n",
       " 'CALISTI.TTF',\n",
       " 'CASTELAR.TTF',\n",
       " 'CASTELAR.TTF',\n",
       " 'CENSCBK.TTF',\n",
       " 'CENSCBK.TTF',\n",
       " 'CENTAUR.TTF',\n",
       " 'CENTAUR.TTF',\n",
       " 'CENTURY.TTF',\n",
       " 'CENTURY.TTF',\n",
       " 'CHILLER.TTF',\n",
       " 'CHILLER.TTF',\n",
       " 'COLONNA.TTF',\n",
       " 'COLONNA.TTF',\n",
       " 'COOPBL.TTF',\n",
       " 'COOPBL.TTF',\n",
       " 'COPRGTB.TTF',\n",
       " 'COPRGTB.TTF',\n",
       " 'COPRGTL.TTF',\n",
       " 'COPRGTL.TTF',\n",
       " 'CURLZ___.TTF',\n",
       " 'CURLZ___.TTF',\n",
       " 'Candara.ttf',\n",
       " 'Candara.ttf',\n",
       " 'Candarab.ttf',\n",
       " 'Candarab.ttf',\n",
       " 'Candarai.ttf',\n",
       " 'Candarai.ttf',\n",
       " 'Candaral.ttf',\n",
       " 'Candaral.ttf',\n",
       " 'Candarali.ttf',\n",
       " 'Candarali.ttf',\n",
       " 'Candaraz.ttf',\n",
       " 'Candaraz.ttf',\n",
       " 'DUBAI-BOLD.TTF',\n",
       " 'DUBAI-BOLD.TTF',\n",
       " 'DUBAI-LIGHT.TTF',\n",
       " 'DUBAI-LIGHT.TTF',\n",
       " 'DUBAI-MEDIUM.TTF',\n",
       " 'DUBAI-MEDIUM.TTF',\n",
       " 'DUBAI-REGULAR.TTF',\n",
       " 'DUBAI-REGULAR.TTF',\n",
       " 'ELEPHNT.TTF',\n",
       " 'ELEPHNT.TTF',\n",
       " 'ELEPHNTI.TTF',\n",
       " 'ELEPHNTI.TTF',\n",
       " 'ENGR.TTF',\n",
       " 'ENGR.TTF',\n",
       " 'ERASBD.TTF',\n",
       " 'ERASBD.TTF',\n",
       " 'ERASDEMI.TTF',\n",
       " 'ERASDEMI.TTF',\n",
       " 'ERASLGHT.TTF',\n",
       " 'ERASLGHT.TTF',\n",
       " 'ERASMD.TTF',\n",
       " 'ERASMD.TTF',\n",
       " 'FELIXTI.TTF',\n",
       " 'FELIXTI.TTF',\n",
       " 'FORTE.TTF',\n",
       " 'FORTE.TTF',\n",
       " 'FRABK.TTF',\n",
       " 'FRABK.TTF',\n",
       " 'FRABKIT.TTF',\n",
       " 'FRABKIT.TTF',\n",
       " 'FRADM.TTF',\n",
       " 'FRADM.TTF',\n",
       " 'FRADMCN.TTF',\n",
       " 'FRADMCN.TTF',\n",
       " 'FRADMIT.TTF',\n",
       " 'FRADMIT.TTF',\n",
       " 'FRAHV.TTF',\n",
       " 'FRAHV.TTF',\n",
       " 'FRAHVIT.TTF',\n",
       " 'FRAHVIT.TTF',\n",
       " 'FRAMDCN.TTF',\n",
       " 'FRAMDCN.TTF',\n",
       " 'FREESCPT.TTF',\n",
       " 'FREESCPT.TTF',\n",
       " 'FRSCRIPT.TTF',\n",
       " 'FRSCRIPT.TTF',\n",
       " 'FTLTLT.TTF',\n",
       " 'FTLTLT.TTF',\n",
       " 'GARA.TTF',\n",
       " 'GARA.TTF',\n",
       " 'GARABD.TTF',\n",
       " 'GARABD.TTF',\n",
       " 'GARAIT.TTF',\n",
       " 'GARAIT.TTF',\n",
       " 'GIGI.TTF',\n",
       " 'GIGI.TTF',\n",
       " 'GILBI___.TTF',\n",
       " 'GILBI___.TTF',\n",
       " 'GILB____.TTF',\n",
       " 'GILB____.TTF',\n",
       " 'GILC____.TTF',\n",
       " 'GILC____.TTF',\n",
       " 'GILI____.TTF',\n",
       " 'GILI____.TTF',\n",
       " 'GILLUBCD.TTF',\n",
       " 'GILLUBCD.TTF',\n",
       " 'GILSANUB.TTF',\n",
       " 'GILSANUB.TTF',\n",
       " 'GIL_____.TTF',\n",
       " 'GIL_____.TTF',\n",
       " 'GLECB.TTF',\n",
       " 'GLECB.TTF',\n",
       " 'GLSNECB.TTF',\n",
       " 'GLSNECB.TTF',\n",
       " 'GOTHIC.TTF',\n",
       " 'GOTHIC.TTF',\n",
       " 'GOTHICB.TTF',\n",
       " 'GOTHICB.TTF',\n",
       " 'GOTHICBI.TTF',\n",
       " 'GOTHICBI.TTF',\n",
       " 'GOTHICI.TTF',\n",
       " 'GOTHICI.TTF',\n",
       " 'GOUDOS.TTF',\n",
       " 'GOUDOS.TTF',\n",
       " 'GOUDOSB.TTF',\n",
       " 'GOUDOSB.TTF',\n",
       " 'GOUDOSI.TTF',\n",
       " 'GOUDOSI.TTF',\n",
       " 'GOUDYSTO.TTF',\n",
       " 'GOUDYSTO.TTF',\n",
       " 'Gabriola.ttf',\n",
       " 'Gabriola.ttf',\n",
       " 'HARLOWSI.TTF',\n",
       " 'HARLOWSI.TTF',\n",
       " 'HARNGTON.TTF',\n",
       " 'HARNGTON.TTF',\n",
       " 'HATTEN.TTF',\n",
       " 'HATTEN.TTF',\n",
       " 'HTOWERT.TTF',\n",
       " 'HTOWERT.TTF',\n",
       " 'HTOWERTI.TTF',\n",
       " 'HTOWERTI.TTF',\n",
       " 'IMPRISHA.TTF',\n",
       " 'IMPRISHA.TTF',\n",
       " 'INFROMAN.TTF',\n",
       " 'INFROMAN.TTF',\n",
       " 'ITCBLKAD.TTF',\n",
       " 'ITCBLKAD.TTF',\n",
       " 'ITCEDSCR.TTF',\n",
       " 'ITCEDSCR.TTF',\n",
       " 'ITCKRIST.TTF',\n",
       " 'ITCKRIST.TTF',\n",
       " 'Inkfree.ttf',\n",
       " 'Inkfree.ttf',\n",
       " 'JOKERMAN.TTF',\n",
       " 'JOKERMAN.TTF',\n",
       " 'JUICE___.TTF',\n",
       " 'JUICE___.TTF',\n",
       " 'KUNSTLER.TTF',\n",
       " 'KUNSTLER.TTF',\n",
       " 'LATINWD.TTF',\n",
       " 'LATINWD.TTF',\n",
       " 'LBRITE.TTF',\n",
       " 'LBRITE.TTF',\n",
       " 'LBRITED.TTF',\n",
       " 'LBRITED.TTF',\n",
       " 'LBRITEDI.TTF',\n",
       " 'LBRITEDI.TTF',\n",
       " 'LBRITEI.TTF',\n",
       " 'LBRITEI.TTF',\n",
       " 'LCALLIG.TTF',\n",
       " 'LCALLIG.TTF',\n",
       " 'LEELAWAD.TTF',\n",
       " 'LEELAWAD.TTF',\n",
       " 'LEELAWDB.TTF',\n",
       " 'LEELAWDB.TTF',\n",
       " 'LFAX.TTF',\n",
       " 'LFAX.TTF',\n",
       " 'LFAXD.TTF',\n",
       " 'LFAXD.TTF',\n",
       " 'LFAXDI.TTF',\n",
       " 'LFAXDI.TTF',\n",
       " 'LFAXI.TTF',\n",
       " 'LFAXI.TTF',\n",
       " 'LHANDW.TTF',\n",
       " 'LHANDW.TTF',\n",
       " 'LSANS.TTF',\n",
       " 'LSANS.TTF',\n",
       " 'LSANSD.TTF',\n",
       " 'LSANSD.TTF',\n",
       " 'LSANSDI.TTF',\n",
       " 'LSANSDI.TTF',\n",
       " 'LSANSI.TTF',\n",
       " 'LSANSI.TTF',\n",
       " 'LTYPE.TTF',\n",
       " 'LTYPE.TTF',\n",
       " 'LTYPEB.TTF',\n",
       " 'LTYPEB.TTF',\n",
       " 'LTYPEBO.TTF',\n",
       " 'LTYPEBO.TTF',\n",
       " 'LTYPEO.TTF',\n",
       " 'LTYPEO.TTF',\n",
       " 'LeelUIsl.ttf',\n",
       " 'LeelUIsl.ttf',\n",
       " 'LeelaUIb.ttf',\n",
       " 'LeelaUIb.ttf',\n",
       " 'LeelawUI.ttf',\n",
       " 'LeelawUI.ttf',\n",
       " 'MAGNETOB.TTF',\n",
       " 'MAGNETOB.TTF',\n",
       " 'MAIAN.TTF',\n",
       " 'MAIAN.TTF',\n",
       " 'MATURASC.TTF',\n",
       " 'MATURASC.TTF',\n",
       " 'MISTRAL.TTF',\n",
       " 'MISTRAL.TTF',\n",
       " 'MOD20.TTF',\n",
       " 'MOD20.TTF',\n",
       " 'MSUIGHUB.TTF',\n",
       " 'MSUIGHUB.TTF',\n",
       " 'MSUIGHUR.TTF',\n",
       " 'MSUIGHUR.TTF',\n",
       " 'MTCORSVA.TTF',\n",
       " 'MTCORSVA.TTF',\n",
       " 'MTEXTRA.TTF',\n",
       " 'MTEXTRA.TTF',\n",
       " 'NIAGENG.TTF',\n",
       " 'NIAGENG.TTF',\n",
       " 'NIAGSOL.TTF',\n",
       " 'NIAGSOL.TTF',\n",
       " 'Nirmala.ttf',\n",
       " 'Nirmala.ttf',\n",
       " 'NirmalaB.ttf',\n",
       " 'NirmalaB.ttf',\n",
       " 'NirmalaS.ttf',\n",
       " 'NirmalaS.ttf',\n",
       " 'OCRAEXT.TTF',\n",
       " 'OCRAEXT.TTF',\n",
       " 'OLDENGL.TTF',\n",
       " 'OLDENGL.TTF',\n",
       " 'ONYX.TTF',\n",
       " 'ONYX.TTF',\n",
       " 'OUTLOOK.TTF',\n",
       " 'OUTLOOK.TTF',\n",
       " 'PALSCRI.TTF',\n",
       " 'PALSCRI.TTF',\n",
       " 'PAPYRUS.TTF',\n",
       " 'PAPYRUS.TTF',\n",
       " 'PARCHM.TTF',\n",
       " 'PARCHM.TTF',\n",
       " 'PERBI___.TTF',\n",
       " 'PERBI___.TTF',\n",
       " 'PERB____.TTF',\n",
       " 'PERB____.TTF',\n",
       " 'PERI____.TTF',\n",
       " 'PERI____.TTF',\n",
       " 'PERTIBD.TTF',\n",
       " 'PERTIBD.TTF',\n",
       " 'PERTILI.TTF',\n",
       " 'PERTILI.TTF',\n",
       " 'PER_____.TTF',\n",
       " 'PER_____.TTF',\n",
       " 'PLAYBILL.TTF',\n",
       " 'PLAYBILL.TTF',\n",
       " 'POORICH.TTF',\n",
       " 'POORICH.TTF',\n",
       " 'PRISTINA.TTF',\n",
       " 'PRISTINA.TTF',\n",
       " 'RAGE.TTF',\n",
       " 'RAGE.TTF',\n",
       " 'RAVIE.TTF',\n",
       " 'RAVIE.TTF',\n",
       " 'REFSAN.TTF',\n",
       " 'REFSAN.TTF',\n",
       " 'REFSPCL.TTF',\n",
       " 'REFSPCL.TTF',\n",
       " 'ROCCB___.TTF',\n",
       " 'ROCCB___.TTF',\n",
       " 'ROCC____.TTF',\n",
       " 'ROCC____.TTF',\n",
       " 'ROCK.TTF',\n",
       " 'ROCK.TTF',\n",
       " 'ROCKB.TTF',\n",
       " 'ROCKB.TTF',\n",
       " 'ROCKBI.TTF',\n",
       " 'ROCKBI.TTF',\n",
       " 'ROCKEB.TTF',\n",
       " 'ROCKEB.TTF',\n",
       " 'ROCKI.TTF',\n",
       " 'ROCKI.TTF',\n",
       " 'SCHLBKB.TTF',\n",
       " 'SCHLBKB.TTF',\n",
       " 'SCHLBKBI.TTF',\n",
       " 'SCHLBKBI.TTF',\n",
       " 'SCHLBKI.TTF',\n",
       " 'SCHLBKI.TTF',\n",
       " 'SCRIPTBL.TTF',\n",
       " 'SCRIPTBL.TTF',\n",
       " 'SHOWG.TTF',\n",
       " 'SHOWG.TTF',\n",
       " 'SNAP____.TTF',\n",
       " 'SNAP____.TTF',\n",
       " 'STENCIL.TTF',\n",
       " 'STENCIL.TTF',\n",
       " 'Sitka.ttc',\n",
       " 'Sitka.ttc',\n",
       " 'SitkaB.ttc',\n",
       " 'SitkaB.ttc',\n",
       " 'SitkaI.ttc',\n",
       " 'SitkaI.ttc',\n",
       " 'SitkaZ.ttc',\n",
       " 'SitkaZ.ttc',\n",
       " 'TCBI____.TTF',\n",
       " 'TCBI____.TTF',\n",
       " 'TCB_____.TTF',\n",
       " 'TCB_____.TTF',\n",
       " 'TCCB____.TTF',\n",
       " 'TCCB____.TTF',\n",
       " 'TCCEB.TTF',\n",
       " 'TCCEB.TTF',\n",
       " 'TCCM____.TTF',\n",
       " 'TCCM____.TTF',\n",
       " 'TCMI____.TTF',\n",
       " 'TCMI____.TTF',\n",
       " 'TCM_____.TTF',\n",
       " 'TCM_____.TTF',\n",
       " 'TEMPSITC.TTF',\n",
       " 'TEMPSITC.TTF',\n",
       " 'VINERITC.TTF',\n",
       " 'VINERITC.TTF',\n",
       " 'VIVALDII.TTF',\n",
       " 'VIVALDII.TTF',\n",
       " 'VLADIMIR.TTF',\n",
       " 'VLADIMIR.TTF',\n",
       " 'WINGDNG2.TTF',\n",
       " 'WINGDNG2.TTF',\n",
       " 'WINGDNG3.TTF',\n",
       " 'WINGDNG3.TTF',\n",
       " 'YuGothB.ttc',\n",
       " 'YuGothB.ttc',\n",
       " 'YuGothL.ttc',\n",
       " 'YuGothL.ttc',\n",
       " 'YuGothM.ttc',\n",
       " 'YuGothM.ttc',\n",
       " 'YuGothR.ttc',\n",
       " 'YuGothR.ttc',\n",
       " 'arial.ttf',\n",
       " 'arial.ttf',\n",
       " 'arialbd.ttf',\n",
       " 'arialbd.ttf',\n",
       " 'arialbi.ttf',\n",
       " 'arialbi.ttf',\n",
       " 'ariali.ttf',\n",
       " 'ariali.ttf',\n",
       " 'ariblk.ttf',\n",
       " 'ariblk.ttf',\n",
       " 'bahnschrift.ttf',\n",
       " 'bahnschrift.ttf',\n",
       " 'calibri.ttf',\n",
       " 'calibri.ttf',\n",
       " 'calibrib.ttf',\n",
       " 'calibrib.ttf',\n",
       " 'calibrii.ttf',\n",
       " 'calibrii.ttf',\n",
       " 'calibril.ttf',\n",
       " 'calibril.ttf',\n",
       " 'calibrili.ttf',\n",
       " 'calibrili.ttf',\n",
       " 'calibriz.ttf',\n",
       " 'calibriz.ttf',\n",
       " 'cambria.ttc',\n",
       " 'cambria.ttc',\n",
       " 'cambriab.ttf',\n",
       " 'cambriab.ttf',\n",
       " 'cambriai.ttf',\n",
       " 'cambriai.ttf',\n",
       " 'cambriaz.ttf',\n",
       " 'cambriaz.ttf',\n",
       " 'comic.ttf',\n",
       " 'comic.ttf',\n",
       " 'comicbd.ttf',\n",
       " 'comicbd.ttf',\n",
       " 'comici.ttf',\n",
       " 'comici.ttf',\n",
       " 'comicz.ttf',\n",
       " 'comicz.ttf',\n",
       " 'consola.ttf',\n",
       " 'consola.ttf',\n",
       " 'consolab.ttf',\n",
       " 'consolab.ttf',\n",
       " 'consolai.ttf',\n",
       " 'consolai.ttf',\n",
       " 'consolaz.ttf',\n",
       " 'consolaz.ttf',\n",
       " 'constan.ttf',\n",
       " 'constan.ttf',\n",
       " 'constanb.ttf',\n",
       " 'constanb.ttf',\n",
       " 'constani.ttf',\n",
       " 'constani.ttf',\n",
       " 'constanz.ttf',\n",
       " 'constanz.ttf',\n",
       " 'corbel.ttf',\n",
       " 'corbel.ttf',\n",
       " 'corbelb.ttf',\n",
       " 'corbelb.ttf',\n",
       " 'corbeli.ttf',\n",
       " 'corbeli.ttf',\n",
       " 'corbell.ttf',\n",
       " 'corbell.ttf',\n",
       " 'corbelli.ttf',\n",
       " 'corbelli.ttf',\n",
       " 'corbelz.ttf',\n",
       " 'corbelz.ttf',\n",
       " 'cour.ttf',\n",
       " 'cour.ttf',\n",
       " 'courbd.ttf',\n",
       " 'courbd.ttf',\n",
       " 'courbi.ttf',\n",
       " 'courbi.ttf',\n",
       " 'couri.ttf',\n",
       " 'couri.ttf',\n",
       " 'ebrima.ttf',\n",
       " 'ebrima.ttf',\n",
       " 'ebrimabd.ttf',\n",
       " 'ebrimabd.ttf',\n",
       " 'framd.ttf',\n",
       " 'framd.ttf',\n",
       " 'framdit.ttf',\n",
       " 'framdit.ttf',\n",
       " 'gadugi.ttf',\n",
       " 'gadugi.ttf',\n",
       " 'gadugib.ttf',\n",
       " 'gadugib.ttf',\n",
       " 'georgia.ttf',\n",
       " 'georgia.ttf',\n",
       " 'georgiab.ttf',\n",
       " 'georgiab.ttf',\n",
       " 'georgiai.ttf',\n",
       " 'georgiai.ttf',\n",
       " 'georgiaz.ttf',\n",
       " 'georgiaz.ttf',\n",
       " 'himalaya.ttf',\n",
       " 'himalaya.ttf',\n",
       " 'holomdl2.ttf',\n",
       " 'holomdl2.ttf',\n",
       " 'impact.ttf',\n",
       " 'impact.ttf',\n",
       " 'javatext.ttf',\n",
       " 'javatext.ttf',\n",
       " 'l_10646.ttf',\n",
       " 'l_10646.ttf',\n",
       " 'lucon.ttf',\n",
       " 'lucon.ttf',\n",
       " 'malgun.ttf',\n",
       " 'malgun.ttf',\n",
       " 'malgunbd.ttf',\n",
       " 'malgunbd.ttf',\n",
       " 'malgunsl.ttf',\n",
       " 'malgunsl.ttf',\n",
       " 'marlett.ttf',\n",
       " 'micross.ttf',\n",
       " 'micross.ttf',\n",
       " 'mingliub.ttc',\n",
       " 'mingliub.ttc',\n",
       " 'mmrtext.ttf',\n",
       " 'mmrtext.ttf',\n",
       " 'mmrtextb.ttf',\n",
       " 'mmrtextb.ttf',\n",
       " 'monbaiti.ttf',\n",
       " 'monbaiti.ttf',\n",
       " 'msgothic.ttc',\n",
       " 'msgothic.ttc',\n",
       " 'msjh.ttc',\n",
       " 'msjh.ttc',\n",
       " 'msjhbd.ttc',\n",
       " 'msjhbd.ttc',\n",
       " 'msjhl.ttc',\n",
       " 'msjhl.ttc',\n",
       " 'msyh.ttc',\n",
       " 'msyh.ttc',\n",
       " 'msyhbd.ttc',\n",
       " 'msyhbd.ttc',\n",
       " 'msyhl.ttc',\n",
       " 'msyhl.ttc',\n",
       " 'msyi.ttf',\n",
       " 'msyi.ttf',\n",
       " 'mvboli.ttf',\n",
       " 'mvboli.ttf',\n",
       " 'ntailu.ttf',\n",
       " 'ntailu.ttf',\n",
       " 'ntailub.ttf',\n",
       " 'ntailub.ttf',\n",
       " 'pala.ttf',\n",
       " 'pala.ttf',\n",
       " 'palab.ttf',\n",
       " 'palab.ttf',\n",
       " 'palabi.ttf',\n",
       " 'palabi.ttf',\n",
       " 'palai.ttf',\n",
       " 'palai.ttf',\n",
       " 'phagspa.ttf',\n",
       " 'phagspa.ttf',\n",
       " 'phagspab.ttf',\n",
       " 'phagspab.ttf',\n",
       " 'segmdl2.ttf',\n",
       " 'segmdl2.ttf',\n",
       " 'segoepr.ttf',\n",
       " 'segoepr.ttf',\n",
       " 'segoeprb.ttf',\n",
       " 'segoeprb.ttf',\n",
       " 'segoesc.ttf',\n",
       " 'segoesc.ttf',\n",
       " 'segoescb.ttf',\n",
       " 'segoescb.ttf',\n",
       " 'segoeui.ttf',\n",
       " 'segoeui.ttf',\n",
       " 'segoeuib.ttf',\n",
       " 'segoeuib.ttf',\n",
       " 'segoeuii.ttf',\n",
       " 'segoeuii.ttf',\n",
       " 'segoeuil.ttf',\n",
       " 'segoeuil.ttf',\n",
       " 'segoeuisl.ttf',\n",
       " 'segoeuisl.ttf',\n",
       " 'segoeuiz.ttf',\n",
       " 'segoeuiz.ttf',\n",
       " 'seguibl.ttf',\n",
       " 'seguibl.ttf',\n",
       " 'seguibli.ttf',\n",
       " 'seguibli.ttf',\n",
       " 'seguiemj.ttf',\n",
       " 'seguiemj.ttf',\n",
       " 'seguihis.ttf',\n",
       " 'seguihis.ttf',\n",
       " 'seguili.ttf',\n",
       " 'seguili.ttf',\n",
       " 'seguisb.ttf',\n",
       " 'seguisb.ttf',\n",
       " 'seguisbi.ttf',\n",
       " 'seguisbi.ttf',\n",
       " 'seguisli.ttf',\n",
       " 'seguisli.ttf',\n",
       " 'seguisym.ttf',\n",
       " 'seguisym.ttf',\n",
       " 'simsun.ttc',\n",
       " 'simsun.ttc',\n",
       " 'simsunb.ttf',\n",
       " 'simsunb.ttf',\n",
       " 'sylfaen.ttf',\n",
       " 'sylfaen.ttf',\n",
       " 'symbol.ttf',\n",
       " 'symbol.ttf',\n",
       " 'tahoma.ttf',\n",
       " 'tahoma.ttf',\n",
       " 'tahomabd.ttf',\n",
       " 'tahomabd.ttf',\n",
       " 'taile.ttf',\n",
       " 'taile.ttf',\n",
       " 'taileb.ttf',\n",
       " 'taileb.ttf',\n",
       " 'times.ttf',\n",
       " 'times.ttf',\n",
       " 'timesbd.ttf',\n",
       " 'timesbd.ttf',\n",
       " 'timesbi.ttf',\n",
       " 'timesbi.ttf',\n",
       " 'timesi.ttf',\n",
       " 'timesi.ttf',\n",
       " 'trebuc.ttf',\n",
       " 'trebuc.ttf',\n",
       " 'trebucbd.ttf',\n",
       " 'trebucbd.ttf',\n",
       " 'trebucbi.ttf',\n",
       " 'trebucbi.ttf',\n",
       " 'trebucit.ttf',\n",
       " 'trebucit.ttf',\n",
       " 'verdana.ttf',\n",
       " 'verdana.ttf',\n",
       " 'verdanab.ttf',\n",
       " 'verdanab.ttf',\n",
       " 'verdanai.ttf',\n",
       " 'verdanai.ttf',\n",
       " 'verdanaz.ttf',\n",
       " 'verdanaz.ttf',\n",
       " 'webdings.ttf',\n",
       " 'webdings.ttf',\n",
       " 'wingding.ttf',\n",
       " 'wingding.ttf']"
      ]
     },
     "execution_count": 49,
     "metadata": {},
     "output_type": "execute_result"
    }
   ],
   "source": [
    "geemap.system_fonts()"
   ]
  },
  {
   "cell_type": "code",
   "execution_count": 50,
   "metadata": {
    "scrolled": true
   },
   "outputs": [
    {
     "data": {
      "application/vnd.jupyter.widget-view+json": {
       "model_id": "425b88a25d354a71b20c7efff2cc2e9d",
       "version_major": 2,
       "version_minor": 0
      },
      "text/plain": [
       "Output()"
      ]
     },
     "metadata": {},
     "output_type": "display_data"
    }
   ],
   "source": [
    "geemap.add_text_to_gif(in_gif, out_gif, xy=('5%', '5%'), text_sequence=1984, font_size=30, font_color='#0000ff', duration=100)\n",
    "geemap.add_text_to_gif(out_gif, out_gif, xy=('30%', '85%'), text_sequence=\"Las Vegas\",  font_type=\"timesbd.ttf\", font_size = 30, font_color='black')\n",
    "geemap.show_image(out_gif)"
   ]
  },
  {
   "cell_type": "markdown",
   "metadata": {},
   "source": [
    "#### un despliegue en el tiempo del calor mundial (1 dia) de hace dos dias"
   ]
  },
  {
   "cell_type": "markdown",
   "metadata": {},
   "source": [
    "#### Data del NOAA/GFS0P25\n",
    "The Global Forecast System (GFS) is a weather forecast model produced by the National Centers for Environmental Prediction (NCEP). \n",
    "\n",
    "GFS: Global Forecast System 384-Hour Predicted Atmosphere Data\n",
    "NOAA/GFS0P25\n",
    "\n",
    "Dataset Availability\n",
    "    2015-07-01T00:00:00 - 2020-12-25T00:00:00\n",
    "Dataset Provider\n",
    "    NOAA/NCEP/EMC \n",
    "Earth Engine Snippet\n",
    "    ee.ImageCollection(\"NOAA/GFS0P25\")\n",
    "    \n",
    "https://developers.google.com/earth-engine/datasets/catalog/NOAA_GFS0P25\n",
    "\n",
    "Bands\n",
    "Name \tUnits \tMin \tMax \tDescription\n",
    "temperature_2m_above_ground \t°C \t-69.18* \t52.25* \t\n",
    "\n",
    "Temperature 2m above ground\n",
    "specific_humidity_2m_above_ground \tkg/kg \t0* \t0.03* \t\n",
    "\n",
    "Specific humidity 2m above ground\n",
    "relative_humidity_2m_above_ground \t% \t1* \t100.05* \t\n",
    "\n",
    "Relative humidity 2m above ground\n",
    "u_component_of_wind_10m_above_ground \tm/s \t-60.73* \t59.28* \t\n",
    "\n",
    "U component of wind 10m above ground\n",
    "v_component_of_wind_10m_above_ground \tm/s \t-63.78* \t59.39* \t\n",
    "\n",
    "V component of wind 10m above ground\n",
    "total_precipitation_surface \tkg/m^2 \t0* \t626.75* \t\n",
    "\n",
    "Cumulative precipitation at surface added together from all forecasts starting from hour 0 (only for assets with forecast_hours > 0)\n",
    "precipitable_water_entire_atmosphere \tkg/m^2 \t0* \t100* \t\n",
    "\n",
    "Precipitable water for entire atmosphere\n",
    "total_cloud_cover_entire_atmosphere \t% \t0* \t100* \t\n",
    "\n",
    "Total cloud cover for entire atmosphere (only for assets with forecast_hours > 0)\n",
    "downward_shortwave_radiation_flux \tW/m^2 \t0* \t1230* \t\n",
    "\n",
    "Downward shortwave radiation flux (only for assets with forecast_hours > 0)"
   ]
  },
  {
   "cell_type": "code",
   "execution_count": 88,
   "metadata": {},
   "outputs": [],
   "source": [
    "import ee\n",
    "import geemap\n",
    "\n",
    "ee.Initialize()\n",
    "\n",
    "# Define an area of interest geometry with a global non-polar extent.\n",
    "aoi = ee.Geometry.Polygon(\n",
    "  [[[-179.0, 78.0], [-179.0, -58.0], [179.0, -58.0], [179.0, 78.0]]], None, False)\n",
    "\n",
    "# Import hourly predicted temperature image collection for northern winter\n",
    "# solstice. Note that predictions extend for 384 hours; limit the collection\n",
    "# to the first 24 hours.\n",
    "tempCol = ee.ImageCollection('NOAA/GFS0P25') \\\n",
    "  .filterDate('2020-12-22', '2020-12-23') \\\n",
    "  .limit(24) \\\n",
    "  .select('temperature_2m_above_ground')\n",
    "\n",
    "# Define arguments for animation function parameters.\n",
    "videoArgs = {\n",
    "  'dimensions': 768,\n",
    "  'region': aoi,\n",
    "  'framesPerSecond': 10,\n",
    "  'crs': 'EPSG:3857',\n",
    "  'min': -40.0,\n",
    "  'max': 35.0,\n",
    "  'palette': ['blue', 'purple', 'cyan', 'green', 'yellow', 'red']\n",
    "}"
   ]
  },
  {
   "cell_type": "code",
   "execution_count": 141,
   "metadata": {},
   "outputs": [
    {
     "name": "stdout",
     "output_type": "stream",
     "text": [
      "Generating URL...\n",
      "Downloading GIF image from https://earthengine.googleapis.com/v1alpha/projects/earthengine-legacy/videoThumbnails/e7f3ba65b93b5fe2607a769b5ef2d5ce-680863f743856537434a6ba5c01265a8:getPixels\n",
      "Please wait ...\n",
      "The GIF image has been saved to: C:\\Users\\usuario\\Desktop\\geemap\\geemap2\\examples\\data\\temperature.gif\n"
     ]
    }
   ],
   "source": [
    "saved_gif = os.path.join(os.path.expanduser('~'), 'C:/Users/usuario/Desktop/geemap/geemap2/examples/data/temperature.gif')\n",
    "geemap.download_ee_video(tempCol, videoArgs, saved_gif)"
   ]
  },
  {
   "cell_type": "code",
   "execution_count": 142,
   "metadata": {
    "scrolled": true
   },
   "outputs": [
    {
     "data": {
      "application/vnd.jupyter.widget-view+json": {
       "model_id": "026e2b947e32469286eabddfd87016b9",
       "version_major": 2,
       "version_minor": 0
      },
      "text/plain": [
       "Output()"
      ]
     },
     "metadata": {},
     "output_type": "display_data"
    }
   ],
   "source": [
    "geemap.show_image(saved_gif)"
   ]
  },
  {
   "cell_type": "markdown",
   "metadata": {},
   "source": [
    "#### le podemos agregar parametros"
   ]
  },
  {
   "cell_type": "code",
   "execution_count": 143,
   "metadata": {},
   "outputs": [
    {
     "name": "stdout",
     "output_type": "stream",
     "text": [
      "['00:00', '01:00', '02:00', '03:00', '04:00', '05:00', '06:00', '07:00', '08:00', '09:00', '10:00', '11:00', '12:00', '13:00', '14:00', '15:00', '16:00', '17:00', '18:00', '19:00', '20:00', '21:00', '22:00', '23:00']\n"
     ]
    }
   ],
   "source": [
    "text = [str(n).zfill(2) + \":00\" for n in range(0, 24)]\n",
    "print(text)"
   ]
  },
  {
   "cell_type": "code",
   "execution_count": 144,
   "metadata": {},
   "outputs": [],
   "source": [
    "out_gif = os.path.join(os.path.expanduser('~'), 'C:/Users/usuario/Desktop/geemap/geemap2/examples/data/output2.gif')"
   ]
  },
  {
   "cell_type": "code",
   "execution_count": 145,
   "metadata": {},
   "outputs": [],
   "source": [
    "geemap.add_text_to_gif(saved_gif, out_gif, xy=('3%', '5%'), text_sequence=text, font_size=30, font_color='#ffffff')"
   ]
  },
  {
   "cell_type": "code",
   "execution_count": 146,
   "metadata": {},
   "outputs": [],
   "source": [
    "geemap.add_text_to_gif(out_gif, out_gif, xy=('32%', '92%'), text_sequence='Analisis DataIntelligence', font_color='white')"
   ]
  },
  {
   "cell_type": "code",
   "execution_count": 147,
   "metadata": {},
   "outputs": [
    {
     "data": {
      "application/vnd.jupyter.widget-view+json": {
       "model_id": "62ba506bd2194777834565ab08cb7ddd",
       "version_major": 2,
       "version_minor": 0
      },
      "text/plain": [
       "Output()"
      ]
     },
     "metadata": {},
     "output_type": "display_data"
    }
   ],
   "source": [
    "geemap.show_image(out_gif)"
   ]
  },
  {
   "cell_type": "markdown",
   "metadata": {},
   "source": [
    "******************\n",
    "******************"
   ]
  },
  {
   "cell_type": "markdown",
   "metadata": {},
   "source": [
    "#### podemos anadir logos de nuestras instituciones\n"
   ]
  },
  {
   "cell_type": "code",
   "execution_count": 157,
   "metadata": {},
   "outputs": [],
   "source": [
    "import geemap\n",
    "import os\n",
    "\n",
    "from geemap import *\n",
    "\n"
   ]
  },
  {
   "cell_type": "code",
   "execution_count": 158,
   "metadata": {},
   "outputs": [
    {
     "name": "stdout",
     "output_type": "stream",
     "text": [
      "Downloading https://i.imgur.com/MSde1om.gif ...\n",
      "Data downloaded to: C:\\Users\\usuario\\Downloads\\temp.gif\n"
     ]
    }
   ],
   "source": [
    "url = 'https://i.imgur.com/MSde1om.gif'\n",
    "out_dir = os.path.join(os.path.expanduser('~'), 'Downloads')\n",
    "if not os.path.exists(out_dir):\n",
    "    os.makedirs(out_dir)\n",
    "download_from_url(url, out_file_name='temp.gif', out_dir=out_dir)"
   ]
  },
  {
   "cell_type": "code",
   "execution_count": 159,
   "metadata": {},
   "outputs": [
    {
     "data": {
      "application/vnd.jupyter.widget-view+json": {
       "model_id": "4f9ef58b568149a791b2854e97279904",
       "version_major": 2,
       "version_minor": 0
      },
      "text/plain": [
       "Output()"
      ]
     },
     "metadata": {},
     "output_type": "display_data"
    }
   ],
   "source": [
    "in_gif = os.path.join(out_dir, 'temp.gif')\n",
    "show_image(in_gif)"
   ]
  },
  {
   "cell_type": "code",
   "execution_count": 160,
   "metadata": {},
   "outputs": [],
   "source": [
    "noaa_logo = 'https://bit.ly/3ahJoMq'\n",
    "ee_logo = 'https://bit.ly/2RJYSCo'"
   ]
  },
  {
   "cell_type": "code",
   "execution_count": 149,
   "metadata": {},
   "outputs": [],
   "source": [
    "#out_gif = os.path.join(out_dir, 'output.gif')"
   ]
  },
  {
   "cell_type": "code",
   "execution_count": 150,
   "metadata": {},
   "outputs": [],
   "source": [
    "add_image_to_gif(in_gif, out_gif, in_image=noaa_logo, xy = ('2%', '80%'), image_size=(80, 80))"
   ]
  },
  {
   "cell_type": "code",
   "execution_count": 151,
   "metadata": {},
   "outputs": [],
   "source": [
    "add_image_to_gif(out_gif, out_gif, in_image=ee_logo, xy = ('13%', '79%'), image_size=(85, 85))"
   ]
  },
  {
   "cell_type": "code",
   "execution_count": 152,
   "metadata": {},
   "outputs": [
    {
     "data": {
      "application/vnd.jupyter.widget-view+json": {
       "model_id": "391de2ff0a60445f930a0b2e2da0a92d",
       "version_major": 2,
       "version_minor": 0
      },
      "text/plain": [
       "Output()"
      ]
     },
     "metadata": {},
     "output_type": "display_data"
    }
   ],
   "source": [
    "show_image(out_gif)"
   ]
  },
  {
   "cell_type": "code",
   "execution_count": 153,
   "metadata": {},
   "outputs": [],
   "source": [
    "width = 250\n",
    "height = 30\n",
    "palette = ['blue', 'purple', 'cyan', 'green', 'yellow', 'red']\n",
    "labels = [-40, 35]\n",
    "colorbar = create_colorbar(width=width, height=height, palette=palette, vertical=False,\n",
    "                    add_labels=True, font_size=20, labels=labels)"
   ]
  },
  {
   "cell_type": "code",
   "execution_count": 154,
   "metadata": {},
   "outputs": [
    {
     "data": {
      "application/vnd.jupyter.widget-view+json": {
       "model_id": "4d0a533fc8de4395990c183d8d9cae3d",
       "version_major": 2,
       "version_minor": 0
      },
      "text/plain": [
       "Output()"
      ]
     },
     "metadata": {},
     "output_type": "display_data"
    }
   ],
   "source": [
    "show_image(colorbar)"
   ]
  },
  {
   "cell_type": "code",
   "execution_count": 155,
   "metadata": {},
   "outputs": [],
   "source": [
    "add_image_to_gif(out_gif, out_gif, in_image=colorbar, xy = ('69%', '89%'), image_size=(250, 250))"
   ]
  },
  {
   "cell_type": "code",
   "execution_count": 156,
   "metadata": {},
   "outputs": [
    {
     "data": {
      "application/vnd.jupyter.widget-view+json": {
       "model_id": "3244a6751640430abb3c107635280e90",
       "version_major": 2,
       "version_minor": 0
      },
      "text/plain": [
       "Output()"
      ]
     },
     "metadata": {},
     "output_type": "display_data"
    }
   ],
   "source": [
    "show_image(out_gif)"
   ]
  },
  {
   "cell_type": "markdown",
   "metadata": {},
   "source": [
    "******************\n",
    "******************"
   ]
  },
  {
   "cell_type": "markdown",
   "metadata": {},
   "source": [
    "#### y algo mas complejo: una serie de tiempo del crecimiento urbanmo en las vegas de imagenes landsat desde 1985"
   ]
  },
  {
   "cell_type": "code",
   "execution_count": 70,
   "metadata": {},
   "outputs": [],
   "source": [
    "import geemap"
   ]
  },
  {
   "cell_type": "code",
   "execution_count": 71,
   "metadata": {},
   "outputs": [
    {
     "data": {
      "application/vnd.jupyter.widget-view+json": {
       "model_id": "c81198762c3c4620a7134895aeddd338",
       "version_major": 2,
       "version_minor": 0
      },
      "text/plain": [
       "Map(center=[40, -100], controls=(WidgetControl(options=['position'], widget=HBox(children=(ToggleButton(value=…"
      ]
     },
     "metadata": {},
     "output_type": "display_data"
    }
   ],
   "source": [
    "Map = geemap.Map()\n",
    "Map"
   ]
  },
  {
   "cell_type": "code",
   "execution_count": 72,
   "metadata": {},
   "outputs": [],
   "source": [
    "import os\n",
    "out_dir = os.path.join(os.path.expanduser(\"~\"), 'Downloads')\n",
    "if not os.path.exists(out_dir):\n",
    "    os.makedirs(out_dir)"
   ]
  },
  {
   "cell_type": "code",
   "execution_count": 73,
   "metadata": {},
   "outputs": [
    {
     "name": "stdout",
     "output_type": "stream",
     "text": [
      "Generating URL...\n",
      "Downloading GIF image from https://earthengine.googleapis.com/v1alpha/projects/earthengine-legacy/videoThumbnails/aa7859c3776743ee5030057343bd0260-5f83ae85043ebab97a68ec320b9d84d6:getPixels\n",
      "Please wait ...\n",
      "The GIF image has been saved to: C:\\Users\\usuario\\Downloads\\landsat_ts_nvf.gif\n",
      "Adding animated text to GIF ...\n",
      "Adding GIF to the map ...\n",
      "The timelapse has been added to the map.\n"
     ]
    }
   ],
   "source": [
    "label = 'Urban Growth in Las Vegas'\n",
    "Map.add_landsat_ts_gif(label=label, start_year=1985, bands=['Red', 'Green', 'Blue'], font_color='white', frames_per_second=10, progress_bar_color='blue')"
   ]
  },
  {
   "cell_type": "code",
   "execution_count": 74,
   "metadata": {},
   "outputs": [],
   "source": [
    "import os\n",
    "import ee\n",
    "import geemap"
   ]
  },
  {
   "cell_type": "code",
   "execution_count": 75,
   "metadata": {},
   "outputs": [
    {
     "data": {
      "application/vnd.jupyter.widget-view+json": {
       "model_id": "f1226a7aa957457d96d8d9162ae5ce64",
       "version_major": 2,
       "version_minor": 0
      },
      "text/plain": [
       "Map(center=[40, -100], controls=(WidgetControl(options=['position'], widget=HBox(children=(ToggleButton(value=…"
      ]
     },
     "metadata": {},
     "output_type": "display_data"
    }
   ],
   "source": [
    "Map = geemap.Map()\n",
    "Map"
   ]
  },
  {
   "cell_type": "code",
   "execution_count": 76,
   "metadata": {},
   "outputs": [],
   "source": [
    "roi = ee.Geometry.Polygon(\n",
    "    [[[-115.471773, 35.892718],\n",
    "      [-115.471773, 36.409454],\n",
    "        [-114.271283, 36.409454],\n",
    "        [-114.271283, 35.892718],\n",
    "        [-115.471773, 35.892718]]], None, False)"
   ]
  },
  {
   "cell_type": "code",
   "execution_count": 77,
   "metadata": {},
   "outputs": [],
   "source": [
    "collection = geemap.landsat_timeseries(roi=roi, start_year=1985, end_year=2019, start_date='06-10', end_date='09-20')"
   ]
  },
  {
   "cell_type": "code",
   "execution_count": 78,
   "metadata": {},
   "outputs": [
    {
     "name": "stdout",
     "output_type": "stream",
     "text": [
      "35\n"
     ]
    }
   ],
   "source": [
    "print(collection.size().getInfo())"
   ]
  },
  {
   "cell_type": "code",
   "execution_count": 79,
   "metadata": {},
   "outputs": [],
   "source": [
    "first_image = collection.first()\n",
    "\n",
    "vis = {\n",
    "    'bands': ['NIR', 'Red', 'Green'],\n",
    "    'min': 0,\n",
    "    'max': 4000,\n",
    "    'gamma': [1, 1, 1]\n",
    "}\n",
    "\n",
    "Map.addLayer(first_image, vis, 'First image')"
   ]
  },
  {
   "cell_type": "code",
   "execution_count": 80,
   "metadata": {},
   "outputs": [],
   "source": [
    "# Define arguments for animation function parameters.\n",
    "video_args = {\n",
    "  'dimensions': 768,\n",
    "  'region': roi,\n",
    "  'framesPerSecond': 10,\n",
    "  'bands': ['NIR', 'Red', 'Green'],\n",
    "  'min': 0,\n",
    "  'max': 4000,\n",
    "  'gamma': [1, 1, 1]\n",
    "}"
   ]
  },
  {
   "cell_type": "code",
   "execution_count": 81,
   "metadata": {},
   "outputs": [],
   "source": [
    "work_dir = os.path.join(os.path.expanduser(\"~\"), 'Downloads')\n",
    "if not os.path.exists(work_dir):\n",
    "    os.makedirs(work_dir)\n",
    "out_gif = os.path.join(work_dir, \"landsat_ts.gif\")"
   ]
  },
  {
   "cell_type": "code",
   "execution_count": 82,
   "metadata": {},
   "outputs": [
    {
     "name": "stdout",
     "output_type": "stream",
     "text": [
      "Generating URL...\n",
      "Downloading GIF image from https://earthengine.googleapis.com/v1alpha/projects/earthengine-legacy/videoThumbnails/bebd57c312b3305c72e76cc6475e687c-3d50e9f5b344d8a2886bb38847eefea0:getPixels\n",
      "Please wait ...\n",
      "The GIF image has been saved to: C:\\Users\\usuario\\Downloads\\landsat_ts.gif\n"
     ]
    }
   ],
   "source": [
    "geemap.download_ee_video(collection, video_args, out_gif)"
   ]
  },
  {
   "cell_type": "code",
   "execution_count": 83,
   "metadata": {},
   "outputs": [
    {
     "data": {
      "application/vnd.jupyter.widget-view+json": {
       "model_id": "afb81f10e5ee45e3b72740fb242c5b0f",
       "version_major": 2,
       "version_minor": 0
      },
      "text/plain": [
       "Output()"
      ]
     },
     "metadata": {},
     "output_type": "display_data"
    }
   ],
   "source": [
    "geemap.show_image(out_gif)"
   ]
  },
  {
   "cell_type": "code",
   "execution_count": null,
   "metadata": {},
   "outputs": [],
   "source": [
    "texted_gif = os.path.join(work_dir, \"landsat_ts_text.gif\")\n",
    "geemap.add_text_to_gif(out_gif, texted_gif, xy=('3%', '5%'), text_sequence=1985, font_size=30, font_color='#ffffff', add_progress_bar=False)"
   ]
  },
  {
   "cell_type": "code",
   "execution_count": null,
   "metadata": {},
   "outputs": [],
   "source": [
    "label = 'Urban Growth in Las Vegas'\n",
    "geemap.add_text_to_gif(texted_gif, texted_gif, xy=('2%', '88%'), text_sequence=label, font_size=30, font_color='#ffffff', progress_bar_color='cyan')"
   ]
  },
  {
   "cell_type": "code",
   "execution_count": null,
   "metadata": {},
   "outputs": [],
   "source": [
    "geemap.show_image(texted_gif)"
   ]
  },
  {
   "cell_type": "markdown",
   "metadata": {},
   "source": [
    "### 19_search_places_and_datasets"
   ]
  },
  {
   "cell_type": "code",
   "execution_count": null,
   "metadata": {},
   "outputs": [],
   "source": [
    "import ee\n",
    "import geemap"
   ]
  },
  {
   "cell_type": "code",
   "execution_count": null,
   "metadata": {},
   "outputs": [],
   "source": [
    "Map = geemap.Map()\n",
    "Map"
   ]
  },
  {
   "cell_type": "code",
   "execution_count": null,
   "metadata": {},
   "outputs": [],
   "source": [
    "Map.search_locations"
   ]
  },
  {
   "cell_type": "code",
   "execution_count": null,
   "metadata": {},
   "outputs": [],
   "source": [
    "Map.search_loc_geom"
   ]
  },
  {
   "cell_type": "code",
   "execution_count": null,
   "metadata": {},
   "outputs": [],
   "source": [
    "location = Map.search_loc_geom\n",
    "# print(location.getInfo())"
   ]
  },
  {
   "cell_type": "markdown",
   "metadata": {},
   "source": [
    "******************\n",
    "******************"
   ]
  },
  {
   "cell_type": "markdown",
   "metadata": {},
   "source": [
    "### 20 Comparaciones de imagenes satelitales en el tiempo\n",
    "ts_inspector"
   ]
  },
  {
   "cell_type": "markdown",
   "metadata": {},
   "source": [
    "Compararemos en series en el tiempo a pantalla dividida tres conjuntos de imagenes referidas a :\n",
    "\n",
    "1 **El Programa Nacional de Imágenes Agrícolas** (NAIP, por sus siglas en inglés) adquiere imágenes aéreas durante las temporadas de cultivo agrícola en los EE. UU. Continentales.Un objetivo principal del programa NAIP es hacer que la ortofotografía digital esté disponible para las agencias gubernamentales y el público dentro de un año de la adquisición.\n",
    "\n",
    "2 **Los Landsat**: una serie de satélites construidos y puestos en órbita por EE. UU. para la observación en alta resolución de la superficie terrestre.\n",
    "Los Landsat orbitan alrededor de la Tierra en órbita circular heliosincrónica, a 705 km de altura, con una inclinación de 98.2º respecto del Ecuador y un período de 99 minutos. \n",
    "El primer satélite Landsat (en principio denominado ERTS-1) fue lanzado el 23 de julio de 1972. El último de la serie es el Landsat 8, puesto en órbita el 11 de febrero de 2013. \n",
    "\n",
    "3 **National Land Cover Database**\n",
    "La Base de Datos Nacional de Cobertura Terrestre (NLCD) sirve como la base de datos definitiva de cobertura terrestre basada en Landsat, con una resolución de 30 metros para la nación. NLCD proporciona referencias espaciales y datos descriptivos para las características de la superficie de la tierra, como la clase temática (por ejemplo, urbano, agrícola y forestal), porcentaje de superficie impermeable y porcentaje de cobertura de dosel de árboles."
   ]
  },
  {
   "cell_type": "markdown",
   "metadata": {},
   "source": [
    "1 **El Programa Nacional de Imágenes Agrícolas**"
   ]
  },
  {
   "cell_type": "code",
   "execution_count": 161,
   "metadata": {},
   "outputs": [],
   "source": [
    "import ee\n",
    "import geemap"
   ]
  },
  {
   "cell_type": "code",
   "execution_count": 162,
   "metadata": {},
   "outputs": [
    {
     "name": "stdout",
     "output_type": "stream",
     "text": [
      "['NAIP 2009', 'NAIP 2010', 'NAIP 2011', 'NAIP 2012', 'NAIP 2013', 'NAIP 2014', 'NAIP 2015', 'NAIP 2016', 'NAIP 2017', 'NAIP 2018']\n"
     ]
    }
   ],
   "source": [
    "Map = geemap.Map()\n",
    "naip_ts = geemap.naip_timeseries(start_year=2009, end_year=2018)\n",
    "\n",
    "layer_names = ['NAIP ' + str(year) for year in range(2009, 2019)]\n",
    "print(layer_names)\n"
   ]
  },
  {
   "cell_type": "code",
   "execution_count": 163,
   "metadata": {},
   "outputs": [],
   "source": [
    "naip_vis = {'bands': ['N', 'R', 'G']}"
   ]
  },
  {
   "cell_type": "code",
   "execution_count": 164,
   "metadata": {
    "scrolled": true
   },
   "outputs": [
    {
     "data": {
      "application/vnd.jupyter.widget-view+json": {
       "model_id": "4a5f99a5f0a64d619aa9d415594db34b",
       "version_major": 2,
       "version_minor": 0
      },
      "text/plain": [
       "Map(center=[40, -100], controls=(WidgetControl(options=['position'], widget=Dropdown(layout=Layout(max_width='…"
      ]
     },
     "metadata": {},
     "output_type": "display_data"
    }
   ],
   "source": [
    "Map = geemap.Map()\n",
    "Map.ts_inspector(left_ts=naip_ts, right_ts=naip_ts, left_names=layer_names, right_names=layer_names, left_vis=naip_vis, right_vis=naip_vis)\n",
    "Map"
   ]
  },
  {
   "cell_type": "markdown",
   "metadata": {},
   "source": [
    "2 **Los Landsat**"
   ]
  },
  {
   "cell_type": "code",
   "execution_count": 165,
   "metadata": {},
   "outputs": [],
   "source": [
    "region = Map.draw_last_feature"
   ]
  },
  {
   "cell_type": "code",
   "execution_count": 166,
   "metadata": {},
   "outputs": [],
   "source": [
    "if region is not None:\n",
    "    roi = region.geometry()\n",
    "else: \n",
    "    roi = ee.Geometry.Polygon(\n",
    "        [[[-115.897448, 35.640766], \n",
    "          [-115.897448, 36.603608], \n",
    "          [-113.784915, 36.603608], \n",
    "          [-113.784915, 35.640766], \n",
    "          [-115.897448, 35.640766]]], None, False)"
   ]
  },
  {
   "cell_type": "code",
   "execution_count": 167,
   "metadata": {},
   "outputs": [
    {
     "name": "stdout",
     "output_type": "stream",
     "text": [
      "{'geodesic': False, 'type': 'Polygon', 'coordinates': [[[-115.897448, 35.640766], [-115.897448, 36.603608], [-113.784915, 36.603608], [-113.784915, 35.640766], [-115.897448, 35.640766]]]}\n"
     ]
    }
   ],
   "source": [
    "print(roi.getInfo())"
   ]
  },
  {
   "cell_type": "code",
   "execution_count": 168,
   "metadata": {},
   "outputs": [],
   "source": [
    "landsat_ts = geemap.landsat_timeseries(roi=roi, start_year=1984, end_year=2019, start_date='01-01', end_date='12-31')"
   ]
  },
  {
   "cell_type": "code",
   "execution_count": 169,
   "metadata": {},
   "outputs": [
    {
     "name": "stdout",
     "output_type": "stream",
     "text": [
      "['Landsat 1984', 'Landsat 1985', 'Landsat 1986', 'Landsat 1987', 'Landsat 1988', 'Landsat 1989', 'Landsat 1990', 'Landsat 1991', 'Landsat 1992', 'Landsat 1993', 'Landsat 1994', 'Landsat 1995', 'Landsat 1996', 'Landsat 1997', 'Landsat 1998', 'Landsat 1999', 'Landsat 2000', 'Landsat 2001', 'Landsat 2002', 'Landsat 2003', 'Landsat 2004', 'Landsat 2005', 'Landsat 2006', 'Landsat 2007', 'Landsat 2008', 'Landsat 2009', 'Landsat 2010', 'Landsat 2011', 'Landsat 2012', 'Landsat 2013', 'Landsat 2014', 'Landsat 2015', 'Landsat 2016', 'Landsat 2017', 'Landsat 2018', 'Landsat 2019']\n"
     ]
    }
   ],
   "source": [
    "layer_names = ['Landsat ' + str(year) for year in range(1984, 2020)]\n",
    "print(layer_names)"
   ]
  },
  {
   "cell_type": "code",
   "execution_count": 170,
   "metadata": {},
   "outputs": [],
   "source": [
    "landsat_vis = {\n",
    "    'min': 0,\n",
    "    'max': 4000,\n",
    "    'gamma': [1, 1, 1],\n",
    "    'bands': ['NIR', 'Red', 'Green']}"
   ]
  },
  {
   "cell_type": "code",
   "execution_count": 171,
   "metadata": {},
   "outputs": [
    {
     "data": {
      "application/vnd.jupyter.widget-view+json": {
       "model_id": "3d38e66a031c4fe2a82cadc112623d76",
       "version_major": 2,
       "version_minor": 0
      },
      "text/plain": [
       "Map(center=[36.12274913882652, -114.84118150000003], controls=(WidgetControl(options=['position'], widget=Drop…"
      ]
     },
     "metadata": {},
     "output_type": "display_data"
    }
   ],
   "source": [
    "Map = geemap.Map()\n",
    "Map.ts_inspector(left_ts=landsat_ts, right_ts=landsat_ts, left_names=layer_names, right_names=layer_names, left_vis=landsat_vis, right_vis=landsat_vis)\n",
    "Map.centerObject(roi, zoom=8)\n",
    "Map"
   ]
  },
  {
   "cell_type": "markdown",
   "metadata": {},
   "source": [
    "3 Comparacion entre las imágenes de **Landsat** y la Base de datos nacional de cobertura terrestre (**NLCD**)."
   ]
  },
  {
   "cell_type": "code",
   "execution_count": null,
   "metadata": {},
   "outputs": [],
   "source": [
    "NLCD = ee.ImageCollection('USGS/NLCD')"
   ]
  },
  {
   "cell_type": "code",
   "execution_count": null,
   "metadata": {},
   "outputs": [],
   "source": [
    "NLCD_layers = NLCD.aggregate_array('system:id').getInfo()\n",
    "print(NLCD_layers)"
   ]
  },
  {
   "cell_type": "code",
   "execution_count": null,
   "metadata": {},
   "outputs": [],
   "source": [
    "NLCD2001 = ee.Image('USGS/NLCD/NLCD2001').select('landcover')\n",
    "NLCD2006 = ee.Image('USGS/NLCD/NLCD2006').select('landcover')\n",
    "NLCD2011 = ee.Image('USGS/NLCD/NLCD2011').select('landcover')\n",
    "NLCD2016 = ee.Image('USGS/NLCD/NLCD2016').select('landcover')"
   ]
  },
  {
   "cell_type": "code",
   "execution_count": null,
   "metadata": {},
   "outputs": [],
   "source": [
    "NLCD = ee.ImageCollection([NLCD2001, NLCD2006, NLCD2011, NLCD2016])"
   ]
  },
  {
   "cell_type": "code",
   "execution_count": null,
   "metadata": {},
   "outputs": [],
   "source": [
    "NLCD_layer_names = ['NLCD ' + str(year) for year in range(2001, 2017, 5)]\n",
    "print(NLCD_layer_names)"
   ]
  },
  {
   "cell_type": "code",
   "execution_count": null,
   "metadata": {},
   "outputs": [],
   "source": [
    "roi = ee.Geometry.Polygon(\n",
    "    [[[-115.897448, 35.640766], \n",
    "      [-115.897448, 36.603608], \n",
    "      [-113.784915, 36.603608], \n",
    "      [-113.784915, 35.640766], \n",
    "      [-115.897448, 35.640766]]], None, False)"
   ]
  },
  {
   "cell_type": "code",
   "execution_count": null,
   "metadata": {},
   "outputs": [],
   "source": [
    "landsat_ts = geemap.landsat_timeseries(roi=roi, start_year=2001, end_year=2016, start_date='01-01', end_date='12-31')"
   ]
  },
  {
   "cell_type": "code",
   "execution_count": null,
   "metadata": {},
   "outputs": [],
   "source": [
    "landsat_layer_names = ['Landsat ' + str(year) for year in range(2001, 2017)]"
   ]
  },
  {
   "cell_type": "code",
   "execution_count": null,
   "metadata": {},
   "outputs": [],
   "source": [
    "landsat_vis = {\n",
    "    'min': 0,\n",
    "    'max': 4000,\n",
    "    'gamma': [1, 1, 1],\n",
    "    'bands': ['NIR', 'Red', 'Green']}\n",
    "\n",
    "nlcd_vis = {\n",
    "    'bands': ['landcover']\n",
    "}"
   ]
  },
  {
   "cell_type": "code",
   "execution_count": null,
   "metadata": {},
   "outputs": [],
   "source": [
    "Map = geemap.Map()\n",
    "Map.ts_inspector(left_ts=landsat_ts, right_ts=NLCD, left_names=landsat_layer_names, right_names=NLCD_layer_names, left_vis=landsat_vis, right_vis=nlcd_vis)\n",
    "Map.centerObject(roi, zoom=8)\n",
    "Map"
   ]
  },
  {
   "cell_type": "markdown",
   "metadata": {},
   "source": [
    "******************\n",
    "******************"
   ]
  },
  {
   "cell_type": "markdown",
   "metadata": {},
   "source": [
    "### 21 export_map_to_html_png"
   ]
  },
  {
   "cell_type": "code",
   "execution_count": null,
   "metadata": {},
   "outputs": [],
   "source": [
    "import ee\n",
    "import geemap"
   ]
  },
  {
   "cell_type": "code",
   "execution_count": null,
   "metadata": {},
   "outputs": [],
   "source": [
    "Map = geemap.Map(toolbar_ctrl=True)\n",
    "Map"
   ]
  },
  {
   "cell_type": "code",
   "execution_count": null,
   "metadata": {},
   "outputs": [],
   "source": [
    "# Add Earth Engine dataset\n",
    "dem = ee.Image('USGS/SRTMGL1_003')\n",
    "landcover = ee.Image(\"ESA/GLOBCOVER_L4_200901_200912_V2_3\").select('landcover')\n",
    "landsat7 = ee.Image('LE7_TOA_5YEAR/1999_2003')\n",
    "states = ee.FeatureCollection(\"TIGER/2018/States\")\n",
    "\n",
    "# Set visualization parameters.\n",
    "vis_params = {\n",
    "  'min': 0,\n",
    "  'max': 4000,\n",
    "  'palette': ['006633', 'E5FFCC', '662A00', 'D8D8D8', 'F5F5F5']}\n",
    "\n",
    "# Add Earth Eninge layers to Map\n",
    "Map.addLayer(dem, vis_params, 'STRM DEM', True, 0.5)\n",
    "Map.addLayer(landcover, {}, 'Land cover')\n",
    "Map.addLayer(landsat7, {'bands': ['B4', 'B3', 'B2'], 'min': 20, 'max': 200}, 'Landsat 7')\n",
    "Map.addLayer(states, {}, \"US States\")"
   ]
  },
  {
   "cell_type": "code",
   "execution_count": null,
   "metadata": {},
   "outputs": [],
   "source": [
    "import os"
   ]
  },
  {
   "cell_type": "code",
   "execution_count": null,
   "metadata": {},
   "outputs": [],
   "source": [
    "download_dir = os.path.join(os.path.expanduser('~'), 'Downloads')\n",
    "if not os.path.exists(download_dir):\n",
    "    os.makedirs(download_dir)\n",
    "html_file = os.path.join(download_dir, 'my_map.html')"
   ]
  },
  {
   "cell_type": "code",
   "execution_count": null,
   "metadata": {},
   "outputs": [],
   "source": [
    "Map.to_html(outfile=html_file, title='My Map', width='100%', height='880px')"
   ]
  },
  {
   "cell_type": "code",
   "execution_count": null,
   "metadata": {},
   "outputs": [],
   "source": [
    "png_file = os.path.join(download_dir, 'my_map.png')"
   ]
  },
  {
   "cell_type": "code",
   "execution_count": null,
   "metadata": {},
   "outputs": [],
   "source": [
    "Map.to_image(outfile=png_file, monitor=1)"
   ]
  },
  {
   "cell_type": "code",
   "execution_count": null,
   "metadata": {},
   "outputs": [],
   "source": [
    "jpg_file = os.path.join(download_dir, 'my_map.jpg')"
   ]
  },
  {
   "cell_type": "code",
   "execution_count": null,
   "metadata": {},
   "outputs": [],
   "source": [
    "Map.to_image(outfile=jpg_file, monitor=1)"
   ]
  },
  {
   "cell_type": "markdown",
   "metadata": {},
   "source": [
    "### 22 Importar scripts en formato python"
   ]
  },
  {
   "cell_type": "markdown",
   "metadata": {},
   "source": [
    "En un notebook podemos abrir una consola que simula la plataforma gee, desde la cual podemos importar scripts en formato Python, listos para ser ejecutados."
   ]
  },
  {
   "cell_type": "code",
   "execution_count": 221,
   "metadata": {},
   "outputs": [],
   "source": [
    "import ee\n",
    "import geemap"
   ]
  },
  {
   "cell_type": "code",
   "execution_count": 222,
   "metadata": {
    "scrolled": true
   },
   "outputs": [
    {
     "data": {
      "application/vnd.jupyter.widget-view+json": {
       "model_id": "889cdd4cf71741f3b0dfcc381b24e121",
       "version_major": 2,
       "version_minor": 0
      },
      "text/plain": [
       "Map(center=[40, -100], controls=(WidgetControl(options=['position'], widget=HBox(children=(ToggleButton(value=…"
      ]
     },
     "metadata": {},
     "output_type": "display_data"
    }
   ],
   "source": [
    "Map = geemap.Map()\n",
    "Map"
   ]
  },
  {
   "cell_type": "markdown",
   "metadata": {},
   "source": [
    "1 examples, earthengine-py-examples, FeaturedCollection, idw_interpolation.py"
   ]
  },
  {
   "cell_type": "code",
   "execution_count": 223,
   "metadata": {},
   "outputs": [
    {
     "data": {
      "application/vnd.jupyter.widget-view+json": {
       "model_id": "aa3df44b76574f7694a5bf1ef62da583",
       "version_major": 2,
       "version_minor": 0
      },
      "text/plain": [
       "HBox(children=(VBox(), VBox()))"
      ]
     },
     "metadata": {},
     "output_type": "display_data"
    },
    {
     "data": {
      "application/javascript": [
       "\n",
       "        var code = IPython.notebook.insert_cell_below('code');\n",
       "        code.set_text(atob(\"aW1wb3J0IGVlCmltcG9ydCBnZWVtYXAKCiMgQ3JlYXRlIGEgbWFwIGNlbnRlcmVkIGF0IChsYXQsIGxvbikuCk1hcCA9IGdlZW1hcC5NYXAoY2VudGVyPVs0MCwgLTEwMF0sIHpvb209NCkKCmNvbGxlY3Rpb24gPSBlZS5JbWFnZUNvbGxlY3Rpb24oJ0xBTkRTQVQvTEM4X0wxVF9UT0EnKQoKcGF0aCA9IGNvbGxlY3Rpb24uZmlsdGVyKGVlLkZpbHRlci5lcSgnV1JTX1BBVEgnLCA0NCkpCnJvdyA9IHBhdGguZmlsdGVyKGVlLkZpbHRlci5lcSgnV1JTX1JPVycsIDM0KSkKCmltYWdlcyA9IHJvdy5maWx0ZXJEYXRlKCcyMDE2LTAxLTAxJywgJzIwMTYtMTItMzEnKQpwcmludChpbWFnZXMuc2l6ZSgpLmdldEluZm8oKSkKIyBpbWFnZXMubWFwKGxhbWJkYSBpbWFnZTogaW1hZ2UuZ2V0SW5mbygpKQoKbG5nID0gLTEyMi4zNTc4CmxhdCA9IDM3Ljc3MjYKCm1lZGlhbiA9IGltYWdlcy5tZWRpYW4oKQpNYXAuc2V0Q2VudGVyKGxuZywgbGF0LCAxMikKdmlzID0geydiYW5kcyc6IFsnQjUnLCAnQjQnLCAnQjMnXSwgJ21heCc6IDAuM30KTWFwLmFkZExheWVyKG1lZGlhbiwgdmlzKQoKIyBEaXNwbGF5IHRoZSBtYXAuCk1hcAo=\"));\n",
       "    "
      ],
      "text/plain": [
       "<IPython.core.display.Javascript object>"
      ]
     },
     "metadata": {},
     "output_type": "display_data"
    },
    {
     "data": {
      "application/javascript": [
       "\n",
       "        var code = IPython.notebook.insert_cell_below('code');\n",
       "        code.set_text(atob(\"aW1wb3J0IGVlCmltcG9ydCBnZWVtYXAKCiMgQ3JlYXRlIGEgbWFwIGNlbnRlcmVkIGF0IChsYXQsIGxvbikuCk1hcCA9IGdlZW1hcC5NYXAoY2VudGVyPVs0MCwgLTEwMF0sIHpvb209NCkKCmNvbGxlY3Rpb24gPSBlZS5JbWFnZUNvbGxlY3Rpb24oJ0xBTkRTQVQvTEM4X0wxVF9UT0EnKQoKcGF0aCA9IGNvbGxlY3Rpb24uZmlsdGVyKGVlLkZpbHRlci5lcSgnV1JTX1BBVEgnLCA0NCkpCnJvdyA9IHBhdGguZmlsdGVyKGVlLkZpbHRlci5lcSgnV1JTX1JPVycsIDM0KSkKCmltYWdlcyA9IHJvdy5maWx0ZXJEYXRlKCcyMDE2LTAxLTAxJywgJzIwMTYtMTItMzEnKQpwcmludChpbWFnZXMuc2l6ZSgpLmdldEluZm8oKSkKIyBpbWFnZXMubWFwKGxhbWJkYSBpbWFnZTogaW1hZ2UuZ2V0SW5mbygpKQoKbG5nID0gLTEyMi4zNTc4CmxhdCA9IDM3Ljc3MjYKCm1lZGlhbiA9IGltYWdlcy5tZWRpYW4oKQpNYXAuc2V0Q2VudGVyKGxuZywgbGF0LCAxMikKdmlzID0geydiYW5kcyc6IFsnQjUnLCAnQjQnLCAnQjMnXSwgJ21heCc6IDAuM30KTWFwLmFkZExheWVyKG1lZGlhbiwgdmlzKQoKIyBEaXNwbGF5IHRoZSBtYXAuCk1hcAo=\"));\n",
       "    "
      ],
      "text/plain": [
       "<IPython.core.display.Javascript object>"
      ]
     },
     "metadata": {},
     "output_type": "display_data"
    },
    {
     "data": {
      "application/javascript": [
       "\n",
       "        var code = IPython.notebook.insert_cell_below('code');\n",
       "        code.set_text(atob(\"aW1wb3J0IGVlCmltcG9ydCBnZWVtYXAKCiMgQ3JlYXRlIGEgbWFwIGNlbnRlcmVkIGF0IChsYXQsIGxvbikuCk1hcCA9IGdlZW1hcC5NYXAoY2VudGVyPVs0MCwgLTEwMF0sIHpvb209NCkKCmltYWdlID0gZWUuSW1hZ2UucGl4ZWxMb25MYXQoKSBcCiAgICAuYWRkKFsxODAsIDkwXSkuZGl2aWRlKFszNjAsIDE4MF0pCgojIGltYWdlID0gaW1hZ2UubXVsdGlwbHkoNTApLnNpbigpCgpNYXAuc2V0Q2VudGVyKDAsIDI4LCAyLjUpCk1hcC5hZGRMYXllcihpbWFnZSwge30sICdjb29yZHMnLCBUcnVlKQoKIyBEaXNwbGF5IHRoZSBtYXAuCk1hcAo=\"));\n",
       "    "
      ],
      "text/plain": [
       "<IPython.core.display.Javascript object>"
      ]
     },
     "metadata": {},
     "output_type": "display_data"
    },
    {
     "data": {
      "application/javascript": [
       "\n",
       "        var code = IPython.notebook.insert_cell_below('code');\n",
       "        code.set_text(atob(\"aW1wb3J0IGVlCmltcG9ydCBnZWVtYXAKCiMgQ3JlYXRlIGEgbWFwIGNlbnRlcmVkIGF0IChsYXQsIGxvbikuCk1hcCA9IGdlZW1hcC5NYXAoY2VudGVyPVs0MCwgLTEwMF0sIHpvb209NCkKZnJvbSBlZV9wbHVnaW4uY29udHJpYiBpbXBvcnQgcGFsZXR0ZXMKCmRlbSA9IGVlLkltYWdlKCJKQVhBL0FMT1MvQVczRDMwX1YxXzEiKS5zZWxlY3QoJ01FRCcpCmRlbSA9IGRlbS51cGRhdGVNYXNrKGRlbS5ndCgwKSkKcGFsZXR0ZSA9IHBhbGV0dGVzLmNiWydQYXN0ZWwxJ11bN10KI3BhbGV0dGUgPSBbJ2JsYWNrJywgJ3doaXRlJ10KcmdiID0gZGVtLnZpc3VhbGl6ZSgqKnsnbWluJzogMCwgJ21heCc6IDUwMDAsICdwYWxldHRlJzogcGFsZXR0ZSB9KQpoc3YgPSByZ2IudW5pdFNjYWxlKDAsIDI1NSkucmdiVG9Ic3YoKQoKZXh0cnVzaW9uID0gMzAKd2VpZ2h0ID0gMC43CgpocyA9IGVlLlRlcnJhaW4uaGlsbHNoYWRlKGRlbS5tdWx0aXBseShleHRydXNpb24pLCAzMTUsIDM1KS51bml0U2NhbGUoMTAsIDI1MCkucmVzYW1wbGUoJ2JpY3ViaWMnKQoKaHMgPSBocy5tdWx0aXBseSh3ZWlnaHQpLmFkZChoc3Yuc2VsZWN0KCd2YWx1ZScpLm11bHRpcGx5KDEgLSB3ZWlnaHQpKQpoc3YgPSBoc3YuYWRkQmFuZHMoaHMucmVuYW1lKCd2YWx1ZScpLCBbJ3ZhbHVlJ10sIFRydWUpCnJnYiA9IGhzdi5oc3ZUb1JnYigpCgpNYXAuYWRkTGF5ZXIocmdiLCB7fSwgJ0FMT1MgREVNJywgVHJ1ZSwgMC41KQoKd2F0ZXJfb2NjdXJyZW5jZSA9ICggZWUuSW1hZ2UoIkpSQy9HU1cxXzAvR2xvYmFsU3VyZmFjZVdhdGVyIikKICAuc2VsZWN0KCdvY2N1cnJlbmNlJykKICAuZGl2aWRlKDEwMCkKICAudW5tYXNrKDApCiAgLnJlc2FtcGxlKCdiaWN1YmljJykgKQogIApwYWxldHRlID0gWyJmZmZmY2MiLCJmZmVkYTAiLCJmZWQ5NzYiLCJmZWIyNGMiLCJmZDhkM2MiLCJmYzRlMmEiLCJlMzFhMWMiLCJiZDAwMjYiLCI4MDAwMjYiXVs6Oi0xXVsxOl0KCmxhbmQgPSBlZS5JbWFnZSgidXNlcnMvZ2VuYS9sYW5kX3BvbHlnb25zX2ltYWdlIikubWFzaygpCgpNYXAuYWRkTGF5ZXIod2F0ZXJfb2NjdXJyZW5jZS5tYXNrKHdhdGVyX29jY3VycmVuY2UubXVsdGlwbHkoMikubXVsdGlwbHkobGFuZCkpLCB7J21pbic6IDAsICdtYXgnOiAxLCAncGFsZXR0ZSc6IHBhbGV0dGV9LCAnd2F0ZXIgb2NjdXJyZW5jZScsIFRydWUpCgoKCgoKIyBEaXNwbGF5IHRoZSBtYXAuCk1hcAo=\"));\n",
       "    "
      ],
      "text/plain": [
       "<IPython.core.display.Javascript object>"
      ]
     },
     "metadata": {},
     "output_type": "display_data"
    },
    {
     "data": {
      "application/javascript": [
       "\n",
       "        var code = IPython.notebook.insert_cell_below('code');\n",
       "        code.set_text(atob(\"aW1wb3J0IGVlIAppbXBvcnQgZ2VlbWFwCgojIENyZWF0ZSBhIG1hcCBjZW50ZXJlZCBhdCAobGF0LCBsb24pLgpNYXAgPSBnZWVtYXAuTWFwKGNlbnRlcj1bNDAsIC0xMDBdLCB6b29tPTQpCgojIElucHV0IGltYWdlcnkgaXMgYSBjbG91ZC1mcmVlIExhbmRzYXQgOCBjb21wb3NpdGUuCmw4ID0gZWUuSW1hZ2VDb2xsZWN0aW9uKCdMQU5EU0FUL0xDMDgvQzAxL1QxJykKCmltYWdlID0gZWUuQWxnb3JpdGhtcy5MYW5kc2F0LnNpbXBsZUNvbXBvc2l0ZSgqKnsKICAnY29sbGVjdGlvbic6IGw4LmZpbHRlckRhdGUoJzIwMTgtMDEtMDEnLCAnMjAxOC0xMi0zMScpLAogICdhc0Zsb2F0JzogVHJ1ZQp9KQoKIyBVc2UgdGhlc2UgYmFuZHMgZm9yIHByZWRpY3Rpb24uCmJhbmRzID0gWydCMicsICdCMycsICdCNCcsICdCNScsICdCNicsICdCNycsICdCMTAnLCAnQjExJ10KCiMgTG9hZCB0cmFpbmluZyBwb2ludHMuIFRoZSBudW1lcmljIHByb3BlcnR5ICdjbGFzcycgc3RvcmVzIGtub3duIGxhYmVscy4KcG9pbnRzID0gZWUuRmVhdHVyZUNvbGxlY3Rpb24oJ0dPT0dMRS9FRS9ERU1PUy9kZW1vX2xhbmRjb3Zlcl9sYWJlbHMnKQoKIyBUaGlzIHByb3BlcnR5IG9mIHRoZSB0YWJsZSBzdG9yZXMgdGhlIGxhbmQgY292ZXIgbGFiZWxzLgpsYWJlbCA9ICdsYW5kY292ZXInCgojIE92ZXJsYXkgdGhlIHBvaW50cyBvbiB0aGUgaW1hZ2VyeSB0byBnZXQgdHJhaW5pbmcuCnRyYWluaW5nID0gaW1hZ2Uuc2VsZWN0KGJhbmRzKS5zYW1wbGVSZWdpb25zKCoqewogICdjb2xsZWN0aW9uJzogcG9pbnRzLAogICdwcm9wZXJ0aWVzJzogW2xhYmVsXSwKICAnc2NhbGUnOiAzMAp9KQoKIyBUcmFpbiBhIENBUlQgY2xhc3NpZmllciB3aXRoIGRlZmF1bHQgcGFyYW1ldGVycy4KdHJhaW5lZCA9IGVlLkNsYXNzaWZpZXIuY2FydCgpLnRyYWluKHRyYWluaW5nLCBsYWJlbCwgYmFuZHMpCgojIENsYXNzaWZ5IHRoZSBpbWFnZSB3aXRoIHRoZSBzYW1lIGJhbmRzIHVzZWQgZm9yIHRyYWluaW5nLgpjbGFzc2lmaWVkID0gaW1hZ2Uuc2VsZWN0KGJhbmRzKS5jbGFzc2lmeSh0cmFpbmVkKQoKIyBEaXNwbGF5IHRoZSBpbnB1dHMgYW5kIHRoZSByZXN1bHRzLgpNYXAuY2VudGVyT2JqZWN0KHBvaW50cywgMTEpCk1hcC5hZGRMYXllcihpbWFnZSwgeydiYW5kcyc6IFsnQjQnLCAnQjMnLCAnQjInXSwgJ21heCc6IDAuNH0sICdpbWFnZScpCk1hcC5hZGRMYXllcihjbGFzc2lmaWVkLAogICAgICAgICAgICAgeydtaW4nOiAwLCAnbWF4JzogMiwgJ3BhbGV0dGUnOiBbJ3JlZCcsICdncmVlbicsICdibHVlJ119LAogICAgICAgICAgICAgJ2NsYXNzaWZpY2F0aW9uJykKCgojIERpc3BsYXkgdGhlIG1hcC4KTWFwCg==\"));\n",
       "    "
      ],
      "text/plain": [
       "<IPython.core.display.Javascript object>"
      ]
     },
     "metadata": {},
     "output_type": "display_data"
    },
    {
     "data": {
      "application/javascript": [
       "\n",
       "        var code = IPython.notebook.insert_cell_below('code');\n",
       "        code.set_text(atob(\"aW1wb3J0IGVlIAppbXBvcnQgZ2VlbWFwCgojIENyZWF0ZSBhIG1hcCBjZW50ZXJlZCBhdCAobGF0LCBsb24pLgpNYXAgPSBnZWVtYXAuTWFwKGNlbnRlcj1bNDAsIC0xMDBdLCB6b29tPTQpCgojIFRoaXMgZXhhbXBsZSB1c2VzIHRoZSBTZW50aW5lbC0yIFFBIGJhbmQgdG8gY2xvdWQgbWFzawojIHRoZSBjb2xsZWN0aW9uLiAgVGhlIFNlbnRpbmVsLTIgY2xvdWQgZmxhZ3MgYXJlIGxlc3MKIyBzZWxlY3RpdmUsIHNvIHRoZSBjb2xsZWN0aW9uIGlzIGFsc28gcHJlLWZpbHRlcmVkIGJ5IHRoZQojIENMT1VEWV9QSVhFTF9QRVJDRU5UQUdFIGZsYWcsIHRvIHVzZSBvbmx5IHJlbGF0aXZlbHkKIyBjbG91ZC1mcmVlIGdyYW51bGUuCgojIEZ1bmN0aW9uIHRvIG1hc2sgY2xvdWRzIHVzaW5nIHRoZSBTZW50aW5lbC0yIFFBIGJhbmQuCiMgZnVuY3Rpb24gbWFza1MyY2xvdWRzKGltYWdlKSB7CmRlZiBtYXNrUzJjbG91ZHMoaW1hZ2UpOgogIHFhID0gaW1hZ2Uuc2VsZWN0KCdRQTYwJykKCiAgIyBCaXRzIDEwIGFuZCAxMSBhcmUgY2xvdWRzIGFuZCBjaXJydXMsIHJlc3BlY3RpdmVseS4KICBjbG91ZEJpdE1hc2sgPSAxIDw8IDEwCiAgY2lycnVzQml0TWFzayA9IDEgPDwgMTEKCiAgIyBCb3RoIGZsYWdzIHNob3VsZCBiZSBzZXQgdG8gemVybywgaW5kaWNhdGluZyBjbGVhciBjb25kaXRpb25zLgogIG1hc2sgPSBxYS5iaXR3aXNlQW5kKGNsb3VkQml0TWFzaykuZXEoMCkuQW5kKAogICAgICAgICAgICAgcWEuYml0d2lzZUFuZChjaXJydXNCaXRNYXNrKS5lcSgwKSkKCiAgIyBSZXR1cm4gdGhlIG1hc2tlZCBhbmQgc2NhbGVkIGRhdGEsIHdpdGhvdXQgdGhlIFFBIGJhbmRzLgogIHJldHVybiBpbWFnZS51cGRhdGVNYXNrKG1hc2spLmRpdmlkZSgxMDAwMCkgXAogICAgICAuc2VsZWN0KCJCLioiKSBcCiAgICAgIC5jb3B5UHJvcGVydGllcyhpbWFnZSwgWyJzeXN0ZW06dGltZV9zdGFydCJdKQojIH0KCiMgTWFwIHRoZSBmdW5jdGlvbiBvdmVyIG9uZSB5ZWFyIG9mIGRhdGEgYW5kIHRha2UgdGhlIG1lZGlhbi4KIyBMb2FkIFNlbnRpbmVsLTIgVE9BIHJlZmxlY3RhbmNlIGRhdGEuCmNvbGxlY3Rpb24gPSBlZS5JbWFnZUNvbGxlY3Rpb24oJ0NPUEVSTklDVVMvUzInKSBcCiAgICAuZmlsdGVyRGF0ZSgnMjAxNi0wMS0wMScsICcyMDE2LTEyLTMxJykgXAogICAgLmZpbHRlcihlZS5GaWx0ZXIubHQoJ0NMT1VEWV9QSVhFTF9QRVJDRU5UQUdFJywgMjApKSBcCiAgICAubWFwKG1hc2tTMmNsb3VkcykKCmNvbXBvc2l0ZSA9IGNvbGxlY3Rpb24ubWVkaWFuKCkKCiMgRGlzcGxheSB0aGUgcmVzdWx0cy4KTWFwLmFkZExheWVyKGNvbXBvc2l0ZSwgeydiYW5kcyc6IFsnQjQnLCAnQjMnLCAnQjInXSwgJ21pbic6IDAsICdtYXgnOiAwLjN9LCAnUkdCJykKCiMgRGlzcGxheSB0aGUgbWFwLgpNYXAK\"));\n",
       "    "
      ],
      "text/plain": [
       "<IPython.core.display.Javascript object>"
      ]
     },
     "metadata": {},
     "output_type": "display_data"
    },
    {
     "data": {
      "application/javascript": [
       "\n",
       "        var code = IPython.notebook.insert_cell_below('code');\n",
       "        code.set_text(atob(\"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\"));\n",
       "    "
      ],
      "text/plain": [
       "<IPython.core.display.Javascript object>"
      ]
     },
     "metadata": {},
     "output_type": "display_data"
    }
   ],
   "source": [
    "geemap.ee_search()"
   ]
  },
  {
   "cell_type": "code",
   "execution_count": 231,
   "metadata": {},
   "outputs": [
    {
     "data": {
      "application/vnd.jupyter.widget-view+json": {
       "model_id": "23de4b5d439c469ca930387a00704578",
       "version_major": 2,
       "version_minor": 0
      },
      "text/plain": [
       "Map(center=[40, -100], controls=(WidgetControl(options=['position'], widget=HBox(children=(ToggleButton(value=…"
      ]
     },
     "metadata": {},
     "output_type": "display_data"
    }
   ],
   "source": [
    "import ee \n",
    "import geemap\n",
    "\n",
    "# Create a map centered at (lat, lon).\n",
    "Map = geemap.Map(center=[40, -100], zoom=4)\n",
    "\n",
    "def sampling(sample):\n",
    "    lat = sample.get('latitude')\n",
    "    lon = sample.get('longitude')\n",
    "    ch4 = sample.get('ch4')\n",
    "    return ee.Feature(ee.Geometry.Point([lon, lat]), {'ch4': ch4})\n",
    "\n",
    "# Import two weeks of S5P methane and composite by mean.\n",
    "# OFFL / L3_CH4\n",
    "\n",
    "#Este conjunto de datos proporciona imágenes sin conexión de alta resolución de concentraciones de metano.\n",
    "\n",
    "#El metano (CH4) es, después del dióxido de carbono (CO2), el contribuyente \n",
    "#más importante al efecto invernadero aumentado antropogénicamente. Aproximadamente \n",
    "#las tres cuartas partes de las emisiones de metano son antropogénicas y, como tal, \n",
    "#es importante continuar con el registro de mediciones basadas en satélites. \n",
    "#TROPOMI tiene como objetivo proporcionar concentraciones de columna de CH4 \n",
    "#con alta sensibilidad a la superficie de la Tierra, buena cobertura espacio-temporal \n",
    "#y suficiente precisión para facilitar el modelado inverso de fuentes y sumideros. \n",
    "#TROPOMI utiliza información de absorción de la banda de oxígeno A (760 nm) y el rango \n",
    "#espectral SWIR para monitorear la abundancia de CH4 en la atmósfera de la Tierra. \n",
    "\n",
    "\n",
    "ch4 = ee.ImageCollection('COPERNICUS/S5P/OFFL/L3_CH4') \\\n",
    "  .select('CH4_column_volume_mixing_ratio_dry_air') \\\n",
    "  .filterDate('2019-08-01', '2019-08-15') \\\n",
    "  .mean() \\\n",
    "  .rename('ch4')\n",
    "\n",
    "# Define an area to perform interpolation over.\n",
    "aoi = ee.Geometry.Polygon(\n",
    "    [[[-95.68487605978851, 43.09844605027055],\n",
    "       [-95.68487605978851, 37.39358590079781],\n",
    "       [-87.96148738791351, 37.39358590079781],\n",
    "       [-87.96148738791351, 43.09844605027055]]], {}, False)\n",
    "\n",
    "# Sample the methane composite to generate a FeatureCollection.\n",
    "samples = ch4.addBands(ee.Image.pixelLonLat()) \\\n",
    "  .sample(**{'region': aoi, 'numPixels': 1500,\n",
    "    'scale':1000, 'projection': 'EPSG:4326'}) \\\n",
    "  .map(sampling)\n",
    "\n",
    "# Combine mean and standard deviation reducers for efficiency.\n",
    "combinedReducer = ee.Reducer.mean().combine(**{\n",
    "  'reducer2': ee.Reducer.stdDev(),\n",
    "  'sharedInputs': True})\n",
    "\n",
    "# Estimate global mean and standard deviation from the points.\n",
    "stats = samples.reduceColumns(**{\n",
    "  'reducer': combinedReducer,\n",
    "  'selectors': ['ch4']})\n",
    "\n",
    "# Do the interpolation, valid to 70 kilometers.\n",
    "interpolated = samples.inverseDistance(**{\n",
    "  'range': 7e4,\n",
    "  'propertyName': 'ch4',\n",
    "  'mean': stats.get('mean'),\n",
    "  'stdDev': stats.get('stdDev'),\n",
    "  'gamma': 0.3})\n",
    "\n",
    "# Define visualization arguments.\n",
    "band_viz = {\n",
    "  'min': 1800,\n",
    "  'max': 1900,\n",
    "  'palette': ['0D0887', '5B02A3', '9A179B', 'CB4678',\n",
    "            'EB7852', 'FBB32F', 'F0F921']}\n",
    "\n",
    "# Display to map.\n",
    "# Map.centerObject(ee.FeatureCollection(aoi), 7)\n",
    "Map.addLayer(ch4, band_viz, 'CH4')\n",
    "# Map.addLayer(interpolated, band_viz, 'CH4 Interpolated')\n",
    "\n",
    "# Display the map.\n",
    "Map\n"
   ]
  },
  {
   "cell_type": "code",
   "execution_count": 230,
   "metadata": {},
   "outputs": [
    {
     "data": {
      "application/vnd.jupyter.widget-view+json": {
       "model_id": "db87837caea04ffdb7ceb57955786cbe",
       "version_major": 2,
       "version_minor": 0
      },
      "text/plain": [
       "Map(center=[40, -100], controls=(WidgetControl(options=['position'], widget=HBox(children=(ToggleButton(value=…"
      ]
     },
     "metadata": {},
     "output_type": "display_data"
    }
   ],
   "source": [
    "import ee \n",
    "import geemap\n",
    "\n",
    "# Create a map centered at (lat, lon).\n",
    "Map = geemap.Map(center=[40, -100], zoom=4)\n",
    "\n",
    "# This example uses the Sentinel-2 QA band to cloud mask\n",
    "# the collection.  The Sentinel-2 cloud flags are less\n",
    "# selective, so the collection is also pre-filtered by the\n",
    "# CLOUDY_PIXEL_PERCENTAGE flag, to use only relatively\n",
    "# cloud-free granule.\n",
    "\n",
    "# Function to mask clouds using the Sentinel-2 QA band.\n",
    "# function maskS2clouds(image) {\n",
    "def maskS2clouds(image):\n",
    "  qa = image.select('QA60')\n",
    "\n",
    "  # Bits 10 and 11 are clouds and cirrus, respectively.\n",
    "  cloudBitMask = 1 << 10\n",
    "  cirrusBitMask = 1 << 11\n",
    "\n",
    "  # Both flags should be set to zero, indicating clear conditions.\n",
    "  mask = qa.bitwiseAnd(cloudBitMask).eq(0).And(\n",
    "             qa.bitwiseAnd(cirrusBitMask).eq(0))\n",
    "\n",
    "  # Return the masked and scaled data, without the QA bands.\n",
    "  return image.updateMask(mask).divide(10000) \\\n",
    "      .select(\"B.*\") \\\n",
    "      .copyProperties(image, [\"system:time_start\"])\n",
    "# }\n",
    "\n",
    "# Map the function over one year of data and take the median.\n",
    "# Load Sentinel-2 TOA reflectance data.\n",
    "collection = ee.ImageCollection('COPERNICUS/S2') \\\n",
    "    .filterDate('2016-01-01', '2016-12-31') \\\n",
    "    .filter(ee.Filter.lt('CLOUDY_PIXEL_PERCENTAGE', 20)) \\\n",
    "    .map(maskS2clouds)\n",
    "\n",
    "composite = collection.median()\n",
    "\n",
    "# Display the results.\n",
    "Map.addLayer(composite, {'bands': ['B4', 'B3', 'B2'], 'min': 0, 'max': 0.3}, 'RGB')\n",
    "\n",
    "# Display the map.\n",
    "Map\n"
   ]
  },
  {
   "cell_type": "code",
   "execution_count": 229,
   "metadata": {},
   "outputs": [
    {
     "data": {
      "application/vnd.jupyter.widget-view+json": {
       "model_id": "75854d8889204e8f89b89eff5cdfb540",
       "version_major": 2,
       "version_minor": 0
      },
      "text/plain": [
       "Map(center=[37.778253523653376, -122.37538216245599], controls=(WidgetControl(options=['position'], widget=HBo…"
      ]
     },
     "metadata": {},
     "output_type": "display_data"
    }
   ],
   "source": [
    "import ee \n",
    "import geemap\n",
    "\n",
    "# Create a map centered at (lat, lon).\n",
    "Map = geemap.Map(center=[40, -100], zoom=4)\n",
    "\n",
    "# Input imagery is a cloud-free Landsat 8 composite.\n",
    "l8 = ee.ImageCollection('LANDSAT/LC08/C01/T1')\n",
    "\n",
    "image = ee.Algorithms.Landsat.simpleComposite(**{\n",
    "  'collection': l8.filterDate('2018-01-01', '2018-12-31'),\n",
    "  'asFloat': True\n",
    "})\n",
    "\n",
    "# Use these bands for prediction.\n",
    "bands = ['B2', 'B3', 'B4', 'B5', 'B6', 'B7', 'B10', 'B11']\n",
    "\n",
    "# Load training points. The numeric property 'class' stores known labels.\n",
    "points = ee.FeatureCollection('GOOGLE/EE/DEMOS/demo_landcover_labels')\n",
    "\n",
    "# This property of the table stores the land cover labels.\n",
    "label = 'landcover'\n",
    "\n",
    "# Overlay the points on the imagery to get training.\n",
    "training = image.select(bands).sampleRegions(**{\n",
    "  'collection': points,\n",
    "  'properties': [label],\n",
    "  'scale': 30\n",
    "})\n",
    "\n",
    "# Train a CART classifier with default parameters.\n",
    "trained = ee.Classifier.cart().train(training, label, bands)\n",
    "\n",
    "# Classify the image with the same bands used for training.\n",
    "classified = image.select(bands).classify(trained)\n",
    "\n",
    "# Display the inputs and the results.\n",
    "Map.centerObject(points, 11)\n",
    "Map.addLayer(image, {'bands': ['B4', 'B3', 'B2'], 'max': 0.4}, 'image')\n",
    "Map.addLayer(classified,\n",
    "             {'min': 0, 'max': 2, 'palette': ['red', 'green', 'blue']},\n",
    "             'classification')\n",
    "\n",
    "\n",
    "# Display the map.\n",
    "Map\n"
   ]
  },
  {
   "cell_type": "code",
   "execution_count": 228,
   "metadata": {},
   "outputs": [
    {
     "ename": "ModuleNotFoundError",
     "evalue": "No module named 'ee_plugin'",
     "output_type": "error",
     "traceback": [
      "\u001b[1;31m---------------------------------------------------------------------------\u001b[0m",
      "\u001b[1;31mModuleNotFoundError\u001b[0m                       Traceback (most recent call last)",
      "\u001b[1;32m<ipython-input-228-6c09291d1808>\u001b[0m in \u001b[0;36m<module>\u001b[1;34m\u001b[0m\n\u001b[0;32m      4\u001b[0m \u001b[1;31m# Create a map centered at (lat, lon).\u001b[0m\u001b[1;33m\u001b[0m\u001b[1;33m\u001b[0m\u001b[1;33m\u001b[0m\u001b[0m\n\u001b[0;32m      5\u001b[0m \u001b[0mMap\u001b[0m \u001b[1;33m=\u001b[0m \u001b[0mgeemap\u001b[0m\u001b[1;33m.\u001b[0m\u001b[0mMap\u001b[0m\u001b[1;33m(\u001b[0m\u001b[0mcenter\u001b[0m\u001b[1;33m=\u001b[0m\u001b[1;33m[\u001b[0m\u001b[1;36m40\u001b[0m\u001b[1;33m,\u001b[0m \u001b[1;33m-\u001b[0m\u001b[1;36m100\u001b[0m\u001b[1;33m]\u001b[0m\u001b[1;33m,\u001b[0m \u001b[0mzoom\u001b[0m\u001b[1;33m=\u001b[0m\u001b[1;36m4\u001b[0m\u001b[1;33m)\u001b[0m\u001b[1;33m\u001b[0m\u001b[1;33m\u001b[0m\u001b[0m\n\u001b[1;32m----> 6\u001b[1;33m \u001b[1;32mfrom\u001b[0m \u001b[0mee_plugin\u001b[0m\u001b[1;33m.\u001b[0m\u001b[0mcontrib\u001b[0m \u001b[1;32mimport\u001b[0m \u001b[0mpalettes\u001b[0m\u001b[1;33m\u001b[0m\u001b[1;33m\u001b[0m\u001b[0m\n\u001b[0m\u001b[0;32m      7\u001b[0m \u001b[1;33m\u001b[0m\u001b[0m\n\u001b[0;32m      8\u001b[0m \u001b[0mdem\u001b[0m \u001b[1;33m=\u001b[0m \u001b[0mee\u001b[0m\u001b[1;33m.\u001b[0m\u001b[0mImage\u001b[0m\u001b[1;33m(\u001b[0m\u001b[1;34m\"JAXA/ALOS/AW3D30_V1_1\"\u001b[0m\u001b[1;33m)\u001b[0m\u001b[1;33m.\u001b[0m\u001b[0mselect\u001b[0m\u001b[1;33m(\u001b[0m\u001b[1;34m'MED'\u001b[0m\u001b[1;33m)\u001b[0m\u001b[1;33m\u001b[0m\u001b[1;33m\u001b[0m\u001b[0m\n",
      "\u001b[1;31mModuleNotFoundError\u001b[0m: No module named 'ee_plugin'"
     ]
    }
   ],
   "source": [
    "import ee\n",
    "import geemap\n",
    "\n",
    "# Create a map centered at (lat, lon).\n",
    "Map = geemap.Map(center=[40, -100], zoom=4)\n",
    "from ee_plugin.contrib import palettes\n",
    "\n",
    "dem = ee.Image(\"JAXA/ALOS/AW3D30_V1_1\").select('MED')\n",
    "dem = dem.updateMask(dem.gt(0))\n",
    "palette = palettes.cb['Pastel1'][7]\n",
    "#palette = ['black', 'white']\n",
    "rgb = dem.visualize(**{'min': 0, 'max': 5000, 'palette': palette })\n",
    "hsv = rgb.unitScale(0, 255).rgbToHsv()\n",
    "\n",
    "extrusion = 30\n",
    "weight = 0.7\n",
    "\n",
    "hs = ee.Terrain.hillshade(dem.multiply(extrusion), 315, 35).unitScale(10, 250).resample('bicubic')\n",
    "\n",
    "hs = hs.multiply(weight).add(hsv.select('value').multiply(1 - weight))\n",
    "hsv = hsv.addBands(hs.rename('value'), ['value'], True)\n",
    "rgb = hsv.hsvToRgb()\n",
    "\n",
    "Map.addLayer(rgb, {}, 'ALOS DEM', True, 0.5)\n",
    "\n",
    "water_occurrence = ( ee.Image(\"JRC/GSW1_0/GlobalSurfaceWater\")\n",
    "  .select('occurrence')\n",
    "  .divide(100)\n",
    "  .unmask(0)\n",
    "  .resample('bicubic') )\n",
    "  \n",
    "palette = [\"ffffcc\",\"ffeda0\",\"fed976\",\"feb24c\",\"fd8d3c\",\"fc4e2a\",\"e31a1c\",\"bd0026\",\"800026\"][::-1][1:]\n",
    "\n",
    "land = ee.Image(\"users/gena/land_polygons_image\").mask()\n",
    "\n",
    "Map.addLayer(water_occurrence.mask(water_occurrence.multiply(2).multiply(land)), {'min': 0, 'max': 1, 'palette': palette}, 'water occurrence', True)\n",
    "\n",
    "\n",
    "\n",
    "\n",
    "\n",
    "# Display the map.\n",
    "Map\n"
   ]
  },
  {
   "cell_type": "code",
   "execution_count": 227,
   "metadata": {},
   "outputs": [
    {
     "data": {
      "application/vnd.jupyter.widget-view+json": {
       "model_id": "e40f7466810842ef9335c5f2626ddbcc",
       "version_major": 2,
       "version_minor": 0
      },
      "text/plain": [
       "Map(center=[28, 0], controls=(WidgetControl(options=['position'], widget=HBox(children=(ToggleButton(value=Fal…"
      ]
     },
     "metadata": {},
     "output_type": "display_data"
    }
   ],
   "source": [
    "import ee\n",
    "import geemap\n",
    "\n",
    "# Create a map centered at (lat, lon).\n",
    "Map = geemap.Map(center=[40, -100], zoom=4)\n",
    "\n",
    "image = ee.Image.pixelLonLat() \\\n",
    "    .add([180, 90]).divide([360, 180])\n",
    "\n",
    "# image = image.multiply(50).sin()\n",
    "\n",
    "Map.setCenter(0, 28, 2.5)\n",
    "Map.addLayer(image, {}, 'coords', True)\n",
    "\n",
    "# Display the map.\n",
    "Map\n"
   ]
  },
  {
   "cell_type": "code",
   "execution_count": 226,
   "metadata": {},
   "outputs": [
    {
     "name": "stdout",
     "output_type": "stream",
     "text": [
      "22\n"
     ]
    },
    {
     "data": {
      "application/vnd.jupyter.widget-view+json": {
       "model_id": "5309d46154f4412492c401931e51966c",
       "version_major": 2,
       "version_minor": 0
      },
      "text/plain": [
       "Map(center=[37.7726, -122.3578], controls=(WidgetControl(options=['position'], widget=HBox(children=(ToggleBut…"
      ]
     },
     "metadata": {},
     "output_type": "display_data"
    }
   ],
   "source": [
    "import ee\n",
    "import geemap\n",
    "\n",
    "# Create a map centered at (lat, lon).\n",
    "Map = geemap.Map(center=[40, -100], zoom=4)\n",
    "\n",
    "collection = ee.ImageCollection('LANDSAT/LC8_L1T_TOA')\n",
    "\n",
    "path = collection.filter(ee.Filter.eq('WRS_PATH', 44))\n",
    "row = path.filter(ee.Filter.eq('WRS_ROW', 34))\n",
    "\n",
    "images = row.filterDate('2016-01-01', '2016-12-31')\n",
    "print(images.size().getInfo())\n",
    "# images.map(lambda image: image.getInfo())\n",
    "\n",
    "lng = -122.3578\n",
    "lat = 37.7726\n",
    "\n",
    "median = images.median()\n",
    "Map.setCenter(lng, lat, 12)\n",
    "vis = {'bands': ['B5', 'B4', 'B3'], 'max': 0.3}\n",
    "Map.addLayer(median, vis)\n",
    "\n",
    "# Display the map.\n",
    "Map\n"
   ]
  },
  {
   "cell_type": "code",
   "execution_count": null,
   "metadata": {},
   "outputs": [],
   "source": [
    "import ee\n",
    "import geemap\n",
    "\n",
    "# Create a map centered at (lat, lon).\n",
    "Map = geemap.Map(center=[40, -100], zoom=4)\n",
    "\n",
    "collection = ee.ImageCollection('LANDSAT/LC8_L1T_TOA')\n",
    "\n",
    "path = collection.filter(ee.Filter.eq('WRS_PATH', 44))\n",
    "row = path.filter(ee.Filter.eq('WRS_ROW', 34))\n",
    "\n",
    "images = row.filterDate('2016-01-01', '2016-12-31')\n",
    "print(images.size().getInfo())\n",
    "# images.map(lambda image: image.getInfo())\n",
    "\n",
    "lng = -122.3578\n",
    "lat = 37.7726\n",
    "\n",
    "median = images.median()\n",
    "Map.setCenter(lng, lat, 12)\n",
    "vis = {'bands': ['B5', 'B4', 'B3'], 'max': 0.3}\n",
    "Map.addLayer(median, vis)\n",
    "\n",
    "# Display the map.\n",
    "Map\n"
   ]
  },
  {
   "cell_type": "code",
   "execution_count": 224,
   "metadata": {},
   "outputs": [
    {
     "data": {
      "application/vnd.jupyter.widget-view+json": {
       "model_id": "e075966eb6de43b1be5234f1c72c7cf9",
       "version_major": 2,
       "version_minor": 0
      },
      "text/plain": [
       "Map(center=[37.778253523653376, -122.37538216245599], controls=(WidgetControl(options=['position'], widget=HBo…"
      ]
     },
     "metadata": {},
     "output_type": "display_data"
    }
   ],
   "source": [
    "import ee \n",
    "import geemap\n",
    "\n",
    "# Create a map centered at (lat, lon).\n",
    "Map = geemap.Map(center=[40, -100], zoom=4)\n",
    "\n",
    "# Input imagery is a cloud-free Landsat 8 composite.\n",
    "l8 = ee.ImageCollection('LANDSAT/LC08/C01/T1')\n",
    "\n",
    "image = ee.Algorithms.Landsat.simpleComposite(**{\n",
    "  'collection': l8.filterDate('2018-01-01', '2018-12-31'),\n",
    "  'asFloat': True\n",
    "})\n",
    "\n",
    "# Use these bands for prediction.\n",
    "bands = ['B2', 'B3', 'B4', 'B5', 'B6', 'B7', 'B10', 'B11']\n",
    "\n",
    "# Load training points. The numeric property 'class' stores known labels.\n",
    "points = ee.FeatureCollection('GOOGLE/EE/DEMOS/demo_landcover_labels')\n",
    "\n",
    "# This property of the table stores the land cover labels.\n",
    "label = 'landcover'\n",
    "\n",
    "# Overlay the points on the imagery to get training.\n",
    "training = image.select(bands).sampleRegions(**{\n",
    "  'collection': points,\n",
    "  'properties': [label],\n",
    "  'scale': 30\n",
    "})\n",
    "\n",
    "# Train a CART classifier with default parameters.\n",
    "trained = ee.Classifier.cart().train(training, label, bands)\n",
    "\n",
    "# Classify the image with the same bands used for training.\n",
    "classified = image.select(bands).classify(trained)\n",
    "\n",
    "# Display the inputs and the results.\n",
    "Map.centerObject(points, 11)\n",
    "Map.addLayer(image, {'bands': ['B4', 'B3', 'B2'], 'max': 0.4}, 'image')\n",
    "Map.addLayer(classified,\n",
    "             {'min': 0, 'max': 2, 'palette': ['red', 'green', 'blue']},\n",
    "             'classification')\n",
    "\n",
    "\n",
    "# Display the map.\n",
    "Map\n"
   ]
  },
  {
   "cell_type": "code",
   "execution_count": 225,
   "metadata": {},
   "outputs": [
    {
     "data": {
      "application/vnd.jupyter.widget-view+json": {
       "model_id": "79c7a644100e45f5bec2696ee850d19b",
       "version_major": 2,
       "version_minor": 0
      },
      "text/plain": [
       "Map(center=[40, -110], controls=(WidgetControl(options=['position'], widget=HBox(children=(ToggleButton(value=…"
      ]
     },
     "metadata": {},
     "output_type": "display_data"
    }
   ],
   "source": [
    "import ee \n",
    "import geemap\n",
    "\n",
    "# Create a map centered at (lat, lon).\n",
    "Map = geemap.Map(center=[40, -100], zoom=4)\n",
    "\n",
    "# Composite an image collection and clip it to a boundary.\n",
    "\n",
    "# Load Landsat 7 raw imagery and filter it to April-July 2000.\n",
    "collection = ee.ImageCollection('LANDSAT/LE07/C01/T1') \\\n",
    "    .filterDate('2000-04-01', '2000-07-01')\n",
    "\n",
    "# Reduce the collection by taking the median.\n",
    "median = collection.median()\n",
    "\n",
    "# Load a table of state boundaries and filter.\n",
    "fc = ee.FeatureCollection('TIGER/2016/States') \\\n",
    "    .filter(ee.Filter.Or(\n",
    "        ee.Filter.eq('NAME', 'Nevada'),\n",
    "        ee.Filter.eq('NAME', 'Arizona')))\n",
    "\n",
    "# Clip to the output image to the Nevada and Arizona state boundaries.\n",
    "clipped = median.clipToCollection(fc)\n",
    "\n",
    "# Display the result.\n",
    "Map.setCenter(-110, 40, 5)\n",
    "visParams = {'bands': ['B3', 'B2', 'B1'], 'gain': [1.4, 1.4, 1.1]}\n",
    "Map.addLayer(clipped, visParams, 'clipped composite')\n",
    "\n",
    "# Display the map.\n",
    "Map\n"
   ]
  },
  {
   "cell_type": "code",
   "execution_count": null,
   "metadata": {},
   "outputs": [],
   "source": [
    "import ee \n",
    "import geemap\n",
    "\n",
    "# Create a map centered at (lat, lon).\n",
    "Map = geemap.Map(center=[40, -100], zoom=4)\n",
    "\n",
    "# Load a cloudy Landsat scene and display it.\n",
    "cloudy_scene = ee.Image('LANDSAT/LC08/C01/T1_TOA/LC08_044034_20140926')\n",
    "Map.centerObject(cloudy_scene)\n",
    "Map.addLayer(cloudy_scene, {'bands': ['B4', 'B3', 'B2'], 'max': 0.4}, 'TOA', False)\n",
    "\n",
    "# Add a cloud score band.  It is automatically called 'cloud'.\n",
    "scored = ee.Algorithms.Landsat.simpleCloudScore(cloudy_scene)\n",
    "\n",
    "# Create a mask from the cloud score and combine it with the image mask.\n",
    "mask = scored.select(['cloud']).lte(20)\n",
    "\n",
    "# Apply the mask to the image and display the result.\n",
    "masked = cloudy_scene.updateMask(mask)\n",
    "Map.addLayer(masked, {'bands': ['B4', 'B3', 'B2'], 'max': 0.4}, 'masked')\n",
    "\n",
    "# Load a Landsat 8 composite and set the SENSOR_ID property.\n",
    "mosaic = ee.Image(ee.ImageCollection('LANDSAT/LC8_L1T_8DAY_TOA').first()) \\\n",
    "  .set('SENSOR_ID', 'OLI_TIRS')\n",
    "\n",
    "# Cloud score the mosaic and display the result.\n",
    "scored_mosaic = ee.Algorithms.Landsat.simpleCloudScore(mosaic)\n",
    "Map.addLayer(scored_mosaic, {'bands': ['B4', 'B3', 'B2'], 'max': 0.4},\n",
    "    'TOA mosaic', False)\n",
    "\n",
    "\n",
    "\n",
    "\n",
    "# Display the map.\n",
    "Map\n"
   ]
  },
  {
   "cell_type": "code",
   "execution_count": null,
   "metadata": {},
   "outputs": [],
   "source": []
  },
  {
   "cell_type": "markdown",
   "metadata": {},
   "source": [
    "### 23 importar Assets -haberes-"
   ]
  },
  {
   "cell_type": "code",
   "execution_count": 232,
   "metadata": {},
   "outputs": [],
   "source": [
    "import os\n",
    "import ee\n",
    "import geemap"
   ]
  },
  {
   "cell_type": "code",
   "execution_count": 233,
   "metadata": {},
   "outputs": [
    {
     "data": {
      "application/vnd.jupyter.widget-view+json": {
       "model_id": "f52e7208427f4ab4ba4800357e696872",
       "version_major": 2,
       "version_minor": 0
      },
      "text/plain": [
       "Map(center=[40, -100], controls=(WidgetControl(options=['position'], widget=HBox(children=(ToggleButton(value=…"
      ]
     },
     "metadata": {},
     "output_type": "display_data"
    }
   ],
   "source": [
    "Map = geemap.Map()\n",
    "Map"
   ]
  },
  {
   "cell_type": "code",
   "execution_count": 234,
   "metadata": {},
   "outputs": [],
   "source": [
    "out_dir = os.path.join(os.path.expanduser('~'), 'Downloads')\n",
    "if not os.path.exists(out_dir):\n",
    "    os.makedirs(out_dir)"
   ]
  },
  {
   "cell_type": "markdown",
   "metadata": {},
   "source": [
    "descarguemos una copia de todas las funciones a un archivo local"
   ]
  },
  {
   "cell_type": "code",
   "execution_count": 235,
   "metadata": {},
   "outputs": [],
   "source": [
    "out_csv = os.path.join(out_dir, 'ee_api.csv')\n",
    "geemap.ee_api_to_csv(out_csv)"
   ]
  },
  {
   "cell_type": "markdown",
   "metadata": {},
   "source": [
    "Vamos a Docs"
   ]
  },
  {
   "cell_type": "code",
   "execution_count": 236,
   "metadata": {},
   "outputs": [
    {
     "data": {
      "application/vnd.jupyter.widget-view+json": {
       "model_id": "3542c80bd254400eaadb5ee2905b992b",
       "version_major": 2,
       "version_minor": 0
      },
      "text/plain": [
       "HBox(children=(VBox(), VBox()))"
      ]
     },
     "metadata": {},
     "output_type": "display_data"
    }
   ],
   "source": [
    "geemap.ee_search()"
   ]
  },
  {
   "cell_type": "code",
   "execution_count": 237,
   "metadata": {},
   "outputs": [],
   "source": [
    "dataset_fmq = ee.Image('users/tarredwall/logo_gee_geo')\n",
    "Map.addLayer(dataset_fmq, {}, \"logo_gee_geo\")"
   ]
  },
  {
   "cell_type": "code",
   "execution_count": 238,
   "metadata": {},
   "outputs": [],
   "source": [
    "dataset_rqz = ee.Image('users/tarredwall/logo-blanco-trans_v3')\n",
    "Map.addLayer(dataset_rqz, {}, \"logo-blanco-trans_v3\")"
   ]
  },
  {
   "cell_type": "code",
   "execution_count": null,
   "metadata": {},
   "outputs": [],
   "source": []
  },
  {
   "cell_type": "markdown",
   "metadata": {},
   "source": [
    "### 24 Podemos publicar nuestros mapas en datapane.\n",
    "\n",
    "https://datapane.com/u/c/reports/publicacion-exitosa/"
   ]
  },
  {
   "cell_type": "code",
   "execution_count": 246,
   "metadata": {},
   "outputs": [],
   "source": [
    "import ee \n",
    "import geemap.eefolium as geemap"
   ]
  },
  {
   "cell_type": "code",
   "execution_count": 247,
   "metadata": {},
   "outputs": [],
   "source": [
    "# Create a map centered at (lat, lon).\n",
    "Map = geemap.Map(center=[40, -100], zoom=4)\n",
    "\n",
    "# Use an elevation dataset and terrain functions to create\n",
    "# a custom visualization of topography.\n",
    "\n",
    "# Load a global elevation image.\n",
    "elev = ee.Image('USGS/GMTED2010')\n",
    "\n",
    "# Zoom to an area of interest.\n",
    "Map.setCenter(-121.069, 50.709, 6)\n",
    "\n",
    "# Add the elevation to the map.\n",
    "Map.addLayer(elev, {}, 'elev')\n",
    "\n",
    "# Use the terrain algorithms to compute a hillshade with 8-bit values.\n",
    "shade = ee.Terrain.hillshade(elev)\n",
    "Map.addLayer(shade, {}, 'hillshade', False)\n",
    "\n",
    "# Create a \"sea\" variable to be used for cartographic purposes\n",
    "sea = elev.lte(0)\n",
    "Map.addLayer(sea.mask(sea), {'palette':'000022'}, 'sea', False)\n",
    "\n",
    "# Create a custom elevation palette from hex strings.\n",
    "elevationPalette = ['006600', '002200', 'fff700', 'ab7634', 'c4d0ff', 'ffffff']\n",
    "# Use these visualization parameters, customized by location.\n",
    "visParams = {'min': 1, 'max': 3000, 'palette': elevationPalette}\n",
    "\n",
    "# Create a mosaic of the sea and the elevation data\n",
    "visualized = ee.ImageCollection([\n",
    "  # Mask the elevation to get only land\n",
    "  elev.mask(sea.Not()).visualize(**visParams),\n",
    "  # Use the sea mask directly to display sea.\n",
    "  sea.mask(sea).visualize(**{'palette':'000022'})\n",
    "]).mosaic()\n",
    "\n",
    "# Note that the visualization image doesn't require visualization parameters.\n",
    "Map.addLayer(visualized, {}, 'elev palette', False)\n",
    "\n",
    "# Convert the visualized elevation to HSV, first converting to [0, 1] data.\n",
    "hsv = visualized.divide(255).rgbToHsv()\n",
    "# Select only the hue and saturation bands.\n",
    "hs = hsv.select(0, 1)\n",
    "# Convert the hillshade to [0, 1] data, as expected by the HSV algorithm.\n",
    "v = shade.divide(255)\n",
    "# Create a visualization image by converting back to RGB from HSV.\n",
    "# Note the cast to byte in order to export the image correctly.\n",
    "rgb = hs.addBands(v).hsvToRgb().multiply(255).byte()\n",
    "Map.addLayer(rgb, {}, 'styled')\n",
    "\n",
    "states = ee.FeatureCollection('TIGER/2018/States')\n",
    "Map.addLayer(ee.Image().paint(states, 0, 2), {}, \"US States\")"
   ]
  },
  {
   "cell_type": "code",
   "execution_count": 248,
   "metadata": {},
   "outputs": [
    {
     "data": {
      "text/html": [
       "<div style=\"width:100%;\"><div style=\"position:relative;width:100%;height:0;padding-bottom:60%;\"><span style=\"color:#565656\">Make this Notebook Trusted to load map: File -> Trust Notebook</span><iframe src=\"about:blank\" style=\"position:absolute;width:100%;height:100%;left:0;top:0;border:none !important;\" data-html=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 onload=\"this.contentDocument.open();this.contentDocument.write(atob(this.getAttribute('data-html')));this.contentDocument.close();\" allowfullscreen webkitallowfullscreen mozallowfullscreen></iframe></div></div>"
      ],
      "text/plain": [
       "<geemap.eefolium.Map at 0x1d664054408>"
      ]
     },
     "execution_count": 248,
     "metadata": {},
     "output_type": "execute_result"
    }
   ],
   "source": [
    "# Add layer control to the map.\n",
    "Map.setControlVisibility()\n",
    "# Display the map.\n",
    "Map"
   ]
  },
  {
   "cell_type": "code",
   "execution_count": 249,
   "metadata": {},
   "outputs": [
    {
     "ename": "SyntaxError",
     "evalue": "invalid syntax (<ipython-input-249-464e557e6523>, line 1)",
     "output_type": "error",
     "traceback": [
      "\u001b[1;36m  File \u001b[1;32m\"<ipython-input-249-464e557e6523>\"\u001b[1;36m, line \u001b[1;32m1\u001b[0m\n\u001b[1;33m    hay que desplegar este codigo primero\u001b[0m\n\u001b[1;37m          ^\u001b[0m\n\u001b[1;31mSyntaxError\u001b[0m\u001b[1;31m:\u001b[0m invalid syntax\n"
     ]
    }
   ],
   "source": [
    "hay que desplegar este codigo primero"
   ]
  },
  {
   "cell_type": "code",
   "execution_count": null,
   "metadata": {
    "scrolled": true
   },
   "outputs": [],
   "source": [
    "import altair as alt\n",
    "import pandas as pd\n",
    "import datapane as dp\n",
    "from datetime import date\n",
    "\n",
    "dp.login(token=\"ff628713b058a0897692d977d13074087b851441\")\n",
    "\n",
    "dataset = pd.read_csv('https://covid.ourworldindata.org/data/owid-covid-data.csv')\n",
    "locations = dataset[['location', 'iso_code']].sample(3) # Replace with you own locations to customize!\n",
    "df = dataset[dataset.iso_code.isin(locations.iso_code)]\n",
    "\n",
    "plot = alt.Chart(df).mark_area(opacity=0.4, stroke='black').encode(\n",
    "    x='date:T', y=alt.Y('new_cases_smoothed_per_million:Q', stack=None),\n",
    "    color=alt.Color('location:N', scale=alt.Scale(scheme='set1')), tooltip='location:N'\n",
    ").interactive().properties(width='container')\n",
    "\n",
    "# Create report\n",
    "r = dp.Report(\n",
    "    f'### Comparing COVID cases in {\", \".join(locations.location)}',\n",
    "    f'_Built using data from [Our World in Data](https://ourworldindata.org/) on {date.today()}_',\n",
    "    dp.Plot(plot),\n",
    "    dp.DataTable(df),\n",
    ")\n",
    "\n",
    "# Publish\n",
    "r.publish(name=f'COVID-19 in {\" \".join(locations.iso_code)}', open=True, description=f'COVID-19 in {\", \".join(locations.location)}')\n",
    "                    "
   ]
  },
  {
   "cell_type": "code",
   "execution_count": 250,
   "metadata": {},
   "outputs": [
    {
     "ename": "SyntaxError",
     "evalue": "invalid syntax (<ipython-input-250-7e136bad1e8f>, line 1)",
     "output_type": "error",
     "traceback": [
      "\u001b[1;36m  File \u001b[1;32m\"<ipython-input-250-7e136bad1e8f>\"\u001b[1;36m, line \u001b[1;32m1\u001b[0m\n\u001b[1;33m    ahora si\u001b[0m\n\u001b[1;37m           ^\u001b[0m\n\u001b[1;31mSyntaxError\u001b[0m\u001b[1;31m:\u001b[0m invalid syntax\n"
     ]
    }
   ],
   "source": [
    "ahora si"
   ]
  },
  {
   "cell_type": "code",
   "execution_count": 251,
   "metadata": {},
   "outputs": [
    {
     "name": "stdout",
     "output_type": "stream",
     "text": [
      "Publishing report and associated data - please wait..\n",
      "Report successfully published at https://datapane.com/u/c/reports/publicacion-exitosa/\n"
     ]
    }
   ],
   "source": [
    "Map.publish(name='publicacion_exitosa', headline='Terrain Visualization', visibility='PUBLIC', overwrite=True)"
   ]
  },
  {
   "cell_type": "code",
   "execution_count": null,
   "metadata": {},
   "outputs": [],
   "source": []
  },
  {
   "cell_type": "markdown",
   "metadata": {},
   "source": [
    "### 25 load_rasters"
   ]
  },
  {
   "cell_type": "code",
   "execution_count": null,
   "metadata": {},
   "outputs": [],
   "source": [
    "import os\n",
    "import geemap"
   ]
  },
  {
   "cell_type": "code",
   "execution_count": null,
   "metadata": {},
   "outputs": [],
   "source": [
    "out_dir = os.path.join(os.path.expanduser('~'), 'Downloads')\n",
    "\n",
    "if not os.path.exists(out_dir):\n",
    "    os.makedirs(out_dir)\n",
    "\n",
    "landsat = os.path.join(out_dir, 'landsat.tif')\n",
    "dem = os.path.join(out_dir, 'dem.tif')"
   ]
  },
  {
   "cell_type": "code",
   "execution_count": null,
   "metadata": {},
   "outputs": [],
   "source": [
    "if not os.path.exists(landsat):\n",
    "    landsat_url = 'https://drive.google.com/file/d/1EV38RjNxdwEozjc9m0FcO3LFgAoAX1Uw/view?usp=sharing'\n",
    "    geemap.download_from_gdrive(landsat_url, 'landsat.tif', out_dir, unzip=False)"
   ]
  },
  {
   "cell_type": "code",
   "execution_count": null,
   "metadata": {},
   "outputs": [],
   "source": [
    "if not os.path.exists(dem):\n",
    "    dem_url = 'https://drive.google.com/file/d/1vRkAWQYsLWCi6vcTMk8vLxoXMFbdMFn8/view?usp=sharing'\n",
    "    geemap.download_from_gdrive(dem_url, 'dem.tif', out_dir, unzip=False)"
   ]
  },
  {
   "cell_type": "code",
   "execution_count": null,
   "metadata": {},
   "outputs": [],
   "source": [
    "Map = geemap.Map()"
   ]
  },
  {
   "cell_type": "code",
   "execution_count": null,
   "metadata": {
    "scrolled": true
   },
   "outputs": [],
   "source": [
    "Map.add_raster(dem, colormap='terrain', layer_name='DEM')"
   ]
  },
  {
   "cell_type": "code",
   "execution_count": null,
   "metadata": {},
   "outputs": [],
   "source": [
    "Map.add_raster(landsat, bands=[5, 4, 3], layer_name='Landsat')"
   ]
  },
  {
   "cell_type": "code",
   "execution_count": null,
   "metadata": {},
   "outputs": [],
   "source": [
    "Map"
   ]
  },
  {
   "cell_type": "code",
   "execution_count": null,
   "metadata": {},
   "outputs": [],
   "source": []
  },
  {
   "cell_type": "markdown",
   "metadata": {},
   "source": [
    "## 26 heroku"
   ]
  },
  {
   "cell_type": "code",
   "execution_count": null,
   "metadata": {},
   "outputs": [],
   "source": [
    "import ee\n",
    "import geemap"
   ]
  },
  {
   "cell_type": "code",
   "execution_count": null,
   "metadata": {},
   "outputs": [],
   "source": [
    "Map = geemap.Map(center=(40, -100), zoom=4)"
   ]
  },
  {
   "cell_type": "code",
   "execution_count": null,
   "metadata": {},
   "outputs": [],
   "source": [
    "# Add Earth Engine dataset\n",
    "dem = ee.Image('USGS/SRTMGL1_003')\n",
    "landcover = ee.Image(\"ESA/GLOBCOVER_L4_200901_200912_V2_3\").select('landcover')\n",
    "landsat7 = ee.Image('LE7_TOA_5YEAR/1999_2003')\n",
    "states = ee.FeatureCollection(\"TIGER/2018/States\")\n",
    "\n",
    "# Set visualization parameters.\n",
    "vis_params = {\n",
    "  'min': 0,\n",
    "  'max': 4000,\n",
    "  'palette': ['006633', 'E5FFCC', '662A00', 'D8D8D8', 'F5F5F5']}\n",
    "\n",
    "# Add Earth Eninge layers to Map\n",
    "Map.addLayer(landsat7, {'bands': ['B4', 'B3', 'B2'], 'min': 20, 'max': 200}, 'Landsat 7')\n",
    "Map.addLayer(landcover, {}, 'Land cover')\n",
    "Map.addLayer(dem, vis_params, 'STRM DEM', True, 1)\n",
    "Map.addLayer(states, {}, \"US States\")\n",
    "\n",
    "Map"
   ]
  },
  {
   "cell_type": "code",
   "execution_count": null,
   "metadata": {},
   "outputs": [],
   "source": [
    "print('Change layer opacity:')\n",
    "dem_layer = Map.layers[-2]\n",
    "dem_layer.interact(opacity=(0, 1, 0.1))"
   ]
  },
  {
   "cell_type": "code",
   "execution_count": null,
   "metadata": {},
   "outputs": [],
   "source": []
  },
  {
   "cell_type": "markdown",
   "metadata": {},
   "source": [
    "### 27 timelapse app"
   ]
  },
  {
   "cell_type": "markdown",
   "metadata": {},
   "source": [
    "Creando Landsat Timelapse\n",
    "\n",
    "Pasos para crear un timelapse de Landsat:\n",
    "\n",
    "     Desplázate y haz zoom en tu región de interés.\n",
    "     Utilice la herramienta de dibujo para dibujar un rectángulo en cualquier lugar del mapa.\n",
    "     Ajuste los parámetros (por ejemplo, año de inicio, año de finalización, título) si es necesario.\n",
    "     Marque Descargar el GIF si desea descargar el GIF de lapso de tiempo.\n",
    "     Haga clic en el botón Enviar para crear un lapso de tiempo.\n",
    "     Implemente la aplicación en heroku. Ver https://github.com/giswqs/earthengine-apps"
   ]
  },
  {
   "cell_type": "code",
   "execution_count": 252,
   "metadata": {},
   "outputs": [],
   "source": [
    "import os\n",
    "import ee\n",
    "import geemap\n",
    "import ipywidgets as widgets"
   ]
  },
  {
   "cell_type": "code",
   "execution_count": 253,
   "metadata": {},
   "outputs": [
    {
     "data": {
      "application/vnd.jupyter.widget-view+json": {
       "model_id": "9eff3d0d9d8845b5a379b046170cb94e",
       "version_major": 2,
       "version_minor": 0
      },
      "text/plain": [
       "Map(center=[40, -100], controls=(WidgetControl(options=['position'], widget=HBox(children=(ToggleButton(value=…"
      ]
     },
     "metadata": {},
     "output_type": "display_data"
    }
   ],
   "source": [
    "Map = geemap.Map()\n",
    "Map"
   ]
  },
  {
   "cell_type": "code",
   "execution_count": 254,
   "metadata": {},
   "outputs": [],
   "source": [
    "out_dir = os.path.join(os.path.expanduser('~'), 'Downloads')\n",
    "if not os.path.exists(out_dir):\n",
    "    os.makedirs(out_dir)"
   ]
  },
  {
   "cell_type": "code",
   "execution_count": 255,
   "metadata": {},
   "outputs": [],
   "source": [
    "style = {'description_width': 'initial'}\n",
    "title = widgets.Text(\n",
    "    description='Title:',\n",
    "    value='Landsat Timelapse',\n",
    "    width=200,\n",
    "    style=style\n",
    ")"
   ]
  },
  {
   "cell_type": "code",
   "execution_count": 256,
   "metadata": {},
   "outputs": [],
   "source": [
    "bands = widgets.Dropdown(\n",
    "    description='Select RGB Combo:',\n",
    "    options=['Red/Green/Blue', 'NIR/Red/Green',  'SWIR2/SWIR1/NIR', 'NIR/SWIR1/Red','SWIR2/NIR/Red', \n",
    "             'SWIR2/SWIR1/Red', 'SWIR1/NIR/Blue', 'NIR/SWIR1/Blue', 'SWIR2/NIR/Green', 'SWIR1/NIR/Red'],\n",
    "    value='NIR/Red/Green',\n",
    "    style=style\n",
    ")"
   ]
  },
  {
   "cell_type": "code",
   "execution_count": 257,
   "metadata": {},
   "outputs": [
    {
     "data": {
      "application/vnd.jupyter.widget-view+json": {
       "model_id": "53d9ad9aa3304b4ea7907abc8a41182b",
       "version_major": 2,
       "version_minor": 0
      },
      "text/plain": [
       "HBox(children=(Text(value='Landsat Timelapse', description='Title:', style=DescriptionStyle(description_width=…"
      ]
     },
     "metadata": {},
     "output_type": "display_data"
    }
   ],
   "source": [
    "hbox1 = widgets.HBox([title, bands])\n",
    "hbox1"
   ]
  },
  {
   "cell_type": "code",
   "execution_count": 258,
   "metadata": {},
   "outputs": [],
   "source": [
    "start_year = widgets.IntSlider(description='Start Year:', value=1984, min=1984, max=2019, style=style)"
   ]
  },
  {
   "cell_type": "code",
   "execution_count": 259,
   "metadata": {},
   "outputs": [],
   "source": [
    "end_year = widgets.IntSlider(description='End Year:', value=2019, min=1984, max=2019, style=style)"
   ]
  },
  {
   "cell_type": "code",
   "execution_count": 260,
   "metadata": {},
   "outputs": [
    {
     "data": {
      "application/vnd.jupyter.widget-view+json": {
       "model_id": "72d18802a95249488f96b41348962b80",
       "version_major": 2,
       "version_minor": 0
      },
      "text/plain": [
       "HBox(children=(IntSlider(value=1984, description='Start Year:', max=2019, min=1984, style=SliderStyle(descript…"
      ]
     },
     "metadata": {},
     "output_type": "display_data"
    }
   ],
   "source": [
    "hbox2 = widgets.HBox([start_year, end_year])\n",
    "hbox2"
   ]
  },
  {
   "cell_type": "code",
   "execution_count": 261,
   "metadata": {},
   "outputs": [],
   "source": [
    "speed = widgets.IntSlider(\n",
    "    description='Frames per second:',\n",
    "    tooltip='Frames per second:',\n",
    "    value=10,\n",
    "    min=1, \n",
    "    max = 30,\n",
    "    style=style\n",
    ")"
   ]
  },
  {
   "cell_type": "code",
   "execution_count": 262,
   "metadata": {},
   "outputs": [],
   "source": [
    "download = widgets.Checkbox(\n",
    "    value=False,\n",
    "    description='Download the GIF',\n",
    "    style=style\n",
    ")"
   ]
  },
  {
   "cell_type": "code",
   "execution_count": 263,
   "metadata": {},
   "outputs": [
    {
     "data": {
      "application/vnd.jupyter.widget-view+json": {
       "model_id": "6751789cd00d494ebc12e849da9fd024",
       "version_major": 2,
       "version_minor": 0
      },
      "text/plain": [
       "HBox(children=(IntSlider(value=10, description='Frames per second:', max=30, min=1, style=SliderStyle(descript…"
      ]
     },
     "metadata": {},
     "output_type": "display_data"
    }
   ],
   "source": [
    "hbox3 = widgets.HBox([speed, download])\n",
    "hbox3"
   ]
  },
  {
   "cell_type": "code",
   "execution_count": 264,
   "metadata": {},
   "outputs": [],
   "source": [
    "font_size = widgets.IntSlider(description='Font size:', value=30, min=10, max=50, style=style)"
   ]
  },
  {
   "cell_type": "code",
   "execution_count": 265,
   "metadata": {},
   "outputs": [],
   "source": [
    "font_color = widgets.ColorPicker(\n",
    "    concise=False,\n",
    "    description='Font color:',\n",
    "    value='white',\n",
    "    style=style\n",
    ")"
   ]
  },
  {
   "cell_type": "code",
   "execution_count": 266,
   "metadata": {},
   "outputs": [],
   "source": [
    "progress_bar_color = widgets.ColorPicker(\n",
    "    concise=False,\n",
    "    description='Progress bar color:',\n",
    "    value='blue',\n",
    "    style=style\n",
    ")"
   ]
  },
  {
   "cell_type": "code",
   "execution_count": 267,
   "metadata": {},
   "outputs": [
    {
     "data": {
      "application/vnd.jupyter.widget-view+json": {
       "model_id": "961f225004ed498ca67a14e9c8cc3e18",
       "version_major": 2,
       "version_minor": 0
      },
      "text/plain": [
       "HBox(children=(IntSlider(value=30, description='Font size:', max=50, min=10, style=SliderStyle(description_wid…"
      ]
     },
     "metadata": {},
     "output_type": "display_data"
    }
   ],
   "source": [
    "hbox4 = widgets.HBox([font_size, font_color, progress_bar_color])\n",
    "hbox4"
   ]
  },
  {
   "cell_type": "code",
   "execution_count": 268,
   "metadata": {},
   "outputs": [],
   "source": [
    "submit = widgets.Button(\n",
    "    description='Submit',\n",
    "    button_style='primary',\n",
    "    tooltip='Click the submit the request to create timelapse',\n",
    "    style=style\n",
    ")\n",
    "\n",
    "output = widgets.Output()"
   ]
  },
  {
   "cell_type": "code",
   "execution_count": 269,
   "metadata": {},
   "outputs": [],
   "source": [
    "def submit_clicked(b):\n",
    "    \n",
    "    with output:\n",
    "        output.clear_output()\n",
    "        if start_year.value >= end_year.value:\n",
    "            print('The end year must be great than the start year.')\n",
    "            return\n",
    "        print('Computing...')\n",
    "        \n",
    "        Map.add_landsat_ts_gif(roi=Map.user_roi, label=title.value, start_year=start_year.value, \n",
    "                               end_year=end_year.value, start_date='05-01', end_date='10-31', \n",
    "                               bands=bands.value.split('/'), font_color=font_color.value, \n",
    "                               frames_per_second=speed.value, font_size=font_size.value, \n",
    "                               progress_bar_color=progress_bar_color.value, download=download.value)    \n",
    "            \n",
    "submit.on_click(submit_clicked)"
   ]
  },
  {
   "cell_type": "code",
   "execution_count": 270,
   "metadata": {},
   "outputs": [
    {
     "data": {
      "application/vnd.jupyter.widget-view+json": {
       "model_id": "a3081002159b4924ab1c3847121bc6de",
       "version_major": 2,
       "version_minor": 0
      },
      "text/plain": [
       "Button(button_style='primary', description='Submit', style=ButtonStyle(), tooltip='Click the submit the reques…"
      ]
     },
     "metadata": {},
     "output_type": "display_data"
    }
   ],
   "source": [
    "submit"
   ]
  },
  {
   "cell_type": "code",
   "execution_count": 271,
   "metadata": {},
   "outputs": [
    {
     "data": {
      "application/vnd.jupyter.widget-view+json": {
       "model_id": "7f657f9dd9bf4cf18c47d1d345316da6",
       "version_major": 2,
       "version_minor": 0
      },
      "text/plain": [
       "Output()"
      ]
     },
     "metadata": {},
     "output_type": "display_data"
    }
   ],
   "source": [
    "output"
   ]
  },
  {
   "cell_type": "code",
   "execution_count": null,
   "metadata": {},
   "outputs": [],
   "source": []
  },
  {
   "cell_type": "markdown",
   "metadata": {},
   "source": [
    "### 28 Implementar aplicaciones de Earth Engine con Voila y ngrok"
   ]
  },
  {
   "cell_type": "markdown",
   "metadata": {},
   "source": [
    "\n",
    "\n",
    "**Steps to deploy an Earth Engine App:**\n",
    "1. Install ngrok by following the [instruction](https://ngrok.com/download)\n",
    "2. Install voila by following the [instruction](https://voila.readthedocs.io/en/stable/install.html)\n",
    "3. Download the notebook [28_voila.ipynb](https://github.com/giswqs/geemap/blob/master/examples/notebooks/28_voila.ipynb) \n",
    "4. Run this from the command line: `voila --no-browser 28_voila.ipynb`\n",
    "5. Run this from the command line: `ngrok http 8866`\n",
    "6. Copy the link from the ngrok terminal window. The links looks like the following: https://randomstring.ngrok.io\n",
    "7. Share the link with anyone. \n",
    "\n",
    "**Optional steps:**\n",
    "* To show code cells from you app, run this from the command line: `voila --no-browser --strip_sources=False 28_voila.ipynb`\n",
    "* To protect your app with a password, run this: `ngrok http -auth=\"username:password\" 8866`\n",
    "* To run python simple http server in the directory, run this:`sudo python -m http.server 80` "
   ]
  },
  {
   "cell_type": "code",
   "execution_count": 272,
   "metadata": {},
   "outputs": [],
   "source": [
    "import os\n",
    "import ee\n",
    "import geemap\n",
    "import ipywidgets as widgets"
   ]
  },
  {
   "cell_type": "code",
   "execution_count": 273,
   "metadata": {},
   "outputs": [
    {
     "data": {
      "application/vnd.jupyter.widget-view+json": {
       "model_id": "49963a4c205b47e8a78fa93d2f9c2c5b",
       "version_major": 2,
       "version_minor": 0
      },
      "text/plain": [
       "Map(center=[40, -100], controls=(WidgetControl(options=['position'], widget=HBox(children=(ToggleButton(value=…"
      ]
     },
     "metadata": {},
     "output_type": "display_data"
    }
   ],
   "source": [
    "Map = geemap.Map()\n",
    "Map.add_basemap('HYBRID')\n",
    "Map"
   ]
  },
  {
   "cell_type": "code",
   "execution_count": 274,
   "metadata": {},
   "outputs": [
    {
     "data": {
      "application/vnd.jupyter.widget-view+json": {
       "model_id": "30dc9074f0c249769ecbdb0287d68e5e",
       "version_major": 2,
       "version_minor": 0
      },
      "text/plain": [
       "HBox(children=(Text(value='Landsat Timelapse', description='Title:', style=DescriptionStyle(description_width=…"
      ]
     },
     "metadata": {},
     "output_type": "display_data"
    }
   ],
   "source": [
    "style = {'description_width': 'initial'}\n",
    "title = widgets.Text(\n",
    "    description='Title:',\n",
    "    value='Landsat Timelapse',\n",
    "    width=200,\n",
    "    style=style\n",
    ")\n",
    "\n",
    "bands = widgets.Dropdown(\n",
    "    description='Select RGB Combo:',\n",
    "    options=['Red/Green/Blue', 'NIR/Red/Green',  'SWIR2/SWIR1/NIR', 'NIR/SWIR1/Red','SWIR2/NIR/Red', \n",
    "             'SWIR2/SWIR1/Red', 'SWIR1/NIR/Blue', 'NIR/SWIR1/Blue', 'SWIR2/NIR/Green', 'SWIR1/NIR/Red'],\n",
    "    value='NIR/Red/Green',\n",
    "    style=style\n",
    ")\n",
    "\n",
    "hbox1 = widgets.HBox([title, bands])\n",
    "hbox1"
   ]
  },
  {
   "cell_type": "code",
   "execution_count": 275,
   "metadata": {},
   "outputs": [
    {
     "data": {
      "application/vnd.jupyter.widget-view+json": {
       "model_id": "6414bf1f23c74dac8d09ec3a0d1e3bc2",
       "version_major": 2,
       "version_minor": 0
      },
      "text/plain": [
       "HBox(children=(IntSlider(value=10, description='  Frames per second:', max=30, min=1, style=SliderStyle(descri…"
      ]
     },
     "metadata": {},
     "output_type": "display_data"
    }
   ],
   "source": [
    "speed = widgets.IntSlider(\n",
    "    description='  Frames per second:',\n",
    "    tooltip='Frames per second:',\n",
    "    value=10,\n",
    "    min=1, \n",
    "    max = 30,\n",
    "    style=style\n",
    ")\n",
    "\n",
    "cloud = widgets.Checkbox(\n",
    "    value=True,\n",
    "    description='Apply fmask (remove clouds, shadows, snow)',\n",
    "    style=style\n",
    ")\n",
    "\n",
    "hbox2 = widgets.HBox([speed, cloud])\n",
    "hbox2"
   ]
  },
  {
   "cell_type": "code",
   "execution_count": 276,
   "metadata": {},
   "outputs": [
    {
     "data": {
      "application/vnd.jupyter.widget-view+json": {
       "model_id": "6487016b1e074128bdfea0360273fae6",
       "version_major": 2,
       "version_minor": 0
      },
      "text/plain": [
       "HBox(children=(IntSlider(value=1984, description='Start Year:', max=2020, min=1984, style=SliderStyle(descript…"
      ]
     },
     "metadata": {},
     "output_type": "display_data"
    }
   ],
   "source": [
    "start_year = widgets.IntSlider(description='Start Year:', value=1984, min=1984, max=2020, style=style)\n",
    "end_year = widgets.IntSlider(description='End Year:', value=2020, min=1984, max=2020, style=style)\n",
    "start_month = widgets.IntSlider(description='Start Month:', value=5, min=1, max=12, style=style)\n",
    "end_month = widgets.IntSlider(description='End Month:', value=10, min=1, max=12, style=style)\n",
    "hbox3 = widgets.HBox([start_year, end_year, start_month, end_month])\n",
    "hbox3"
   ]
  },
  {
   "cell_type": "code",
   "execution_count": 277,
   "metadata": {},
   "outputs": [
    {
     "data": {
      "application/vnd.jupyter.widget-view+json": {
       "model_id": "589f475b55cf4b35adac32cad95b96c2",
       "version_major": 2,
       "version_minor": 0
      },
      "text/plain": [
       "HBox(children=(IntSlider(value=30, description='Font size:', max=50, min=10, style=SliderStyle(description_wid…"
      ]
     },
     "metadata": {},
     "output_type": "display_data"
    }
   ],
   "source": [
    "font_size = widgets.IntSlider(description='Font size:', value=30, min=10, max=50, style=style)\n",
    "\n",
    "font_color = widgets.ColorPicker(\n",
    "    concise=False,\n",
    "    description='Font color:',\n",
    "    value='white',\n",
    "    style=style\n",
    ")\n",
    "\n",
    "progress_bar_color = widgets.ColorPicker(\n",
    "    concise=False,\n",
    "    description='Progress bar color:',\n",
    "    value='blue',\n",
    "    style=style\n",
    ")\n",
    "\n",
    "hbox4 = widgets.HBox([font_size, font_color, progress_bar_color])\n",
    "hbox4"
   ]
  },
  {
   "cell_type": "code",
   "execution_count": 278,
   "metadata": {},
   "outputs": [
    {
     "data": {
      "application/vnd.jupyter.widget-view+json": {
       "model_id": "9977ebade3174a4d8fa739a7abbb2a48",
       "version_major": 2,
       "version_minor": 0
      },
      "text/plain": [
       "HBox(children=(Button(button_style='primary', description='Create timelapse', style=ButtonStyle(), tooltip='Cl…"
      ]
     },
     "metadata": {},
     "output_type": "display_data"
    }
   ],
   "source": [
    "create_gif = widgets.Button(\n",
    "    description='Create timelapse',\n",
    "    button_style='primary',\n",
    "    tooltip='Click to create timelapse',\n",
    "    style=style\n",
    ")\n",
    "\n",
    "download_gif = widgets.Button(\n",
    "    description='Download GIF',\n",
    "    button_style='primary',\n",
    "    tooltip='Click to download timelapse',\n",
    "    disabled=False,\n",
    "    style=style\n",
    ")\n",
    "\n",
    "output = widgets.Output()\n",
    "\n",
    "hbox5 = widgets.HBox([create_gif])\n",
    "hbox5"
   ]
  },
  {
   "cell_type": "code",
   "execution_count": 279,
   "metadata": {},
   "outputs": [],
   "source": [
    "def submit_clicked(b):\n",
    "    \n",
    "    with output:\n",
    "        output.clear_output()\n",
    "        if start_year.value > end_year.value:\n",
    "            print('The end year must be great than the start year.')\n",
    "            return\n",
    "        if start_month.value > end_month.value:\n",
    "            print('The end month must be great than the start month.')\n",
    "            return        \n",
    "        if start_year.value == end_year.value:\n",
    "            add_progress_bar = False\n",
    "        else:\n",
    "            add_progress_bar = True\n",
    "            \n",
    "        start_date = str(start_month.value).zfill(2) + '-01'\n",
    "        end_date = str(end_month.value).zfill(2) + '-30'\n",
    "        \n",
    "        print('Computing...')\n",
    "        \n",
    "        Map.add_landsat_ts_gif(roi=Map.user_roi, label=title.value, start_year=start_year.value, \n",
    "                               end_year=end_year.value, start_date=start_date, end_date=end_date, \n",
    "                               bands=bands.value.split('/'), font_color=font_color.value, \n",
    "                               frames_per_second=speed.value, font_size=font_size.value, \n",
    "                               add_progress_bar= add_progress_bar, progress_bar_color=progress_bar_color.value, \n",
    "                               download=True, apply_fmask=cloud.value) \n",
    "            \n",
    "create_gif.on_click(submit_clicked)"
   ]
  },
  {
   "cell_type": "code",
   "execution_count": 280,
   "metadata": {},
   "outputs": [
    {
     "data": {
      "application/vnd.jupyter.widget-view+json": {
       "model_id": "65b9857aca1b4a24a949d839870966c8",
       "version_major": 2,
       "version_minor": 0
      },
      "text/plain": [
       "Output()"
      ]
     },
     "metadata": {},
     "output_type": "display_data"
    }
   ],
   "source": [
    "output"
   ]
  },
  {
   "cell_type": "code",
   "execution_count": null,
   "metadata": {},
   "outputs": [],
   "source": []
  },
  {
   "cell_type": "code",
   "execution_count": null,
   "metadata": {},
   "outputs": [],
   "source": []
  },
  {
   "cell_type": "code",
   "execution_count": null,
   "metadata": {},
   "outputs": [],
   "source": []
  },
  {
   "cell_type": "code",
   "execution_count": null,
   "metadata": {},
   "outputs": [],
   "source": []
  },
  {
   "cell_type": "code",
   "execution_count": null,
   "metadata": {},
   "outputs": [],
   "source": []
  },
  {
   "cell_type": "code",
   "execution_count": null,
   "metadata": {},
   "outputs": [],
   "source": []
  },
  {
   "cell_type": "markdown",
   "metadata": {},
   "source": [
    "# Clasificación de imágenes"
   ]
  },
  {
   "cell_type": "markdown",
   "metadata": {},
   "source": [
    " La clasificación de imagen hace referencia a la tarea de extraer clases de información de una imagen ráster multibanda en un ráster resultante"
   ]
  },
  {
   "cell_type": "markdown",
   "metadata": {},
   "source": [
    "## 31 Clasificación no supervisada"
   ]
  },
  {
   "cell_type": "markdown",
   "metadata": {},
   "source": [
    "La clasificación sin supervisión busca clases espectrales (o clústeres) en una imagen multibanda sin la intervención del analista. No se posee ningún conocimiento previo y de lo que se trata es de discriminar píxeles en función de una magnitud cuantitativa de diferenciación entre unos y otros.Supone la búsqueda automática de grupos de valores homogéneos.La intervención humana se centra más en la interpretación de resultados que en la consecución de los mismos."
   ]
  },
  {
   "cell_type": "markdown",
   "metadata": {},
   "source": [
    "El paquete ee.Clusterer maneja la clasificación (o agrupación) sin supervisión en Earth Engine.\n",
    "\n",
    "Los Clusters se utilizan de la misma manera que los clasificadores en Earth Engine. El flujo de trabajo general para la agrupación en clústeres es:\n",
    "\n",
    "1. Reúna entidades con propiedades numéricas en las que buscar clústeres.\n",
    "2. Crea una instancia de un clusterer. Configure sus parámetros si es necesario.\n",
    "3. Entrene al clusterer usando los datos de entrenamiento.\n",
    "4. Aplicar el clusterer a una colección de imágenes o características.\n",
    "5. Etiquete a los clusters.\n",
    "\n",
    "Los datos de entrenamiento son un FeatureCollection con propiedades que se ingresarán al clusterer. A diferencia de los clasificadores, no existe un valor de clase de entrada para un Clusterer. Al igual que los clasificadores, se espera que los datos del tren y los pasos de aplicación tengan el mismo número de valores. Cuando un clusterer entrenado se aplica a una imagen o tabla, asigna un ID de clúster entero a cada píxel o característica.\n",
    "\n",
    "A continuación, se muestra un ejemplo sencillo de creación y uso de un ee.Clusterer:"
   ]
  },
  {
   "cell_type": "markdown",
   "metadata": {},
   "source": [
    "### 1 Creemos un mapa y añadámosle data"
   ]
  },
  {
   "cell_type": "code",
   "execution_count": 281,
   "metadata": {},
   "outputs": [
    {
     "data": {
      "application/vnd.jupyter.widget-view+json": {
       "model_id": "83efa4fbf23145bc8cf64d473d8d7f1e",
       "version_major": 2,
       "version_minor": 0
      },
      "text/plain": [
       "Map(center=[40, -100], controls=(WidgetControl(options=['position'], widget=HBox(children=(ToggleButton(value=…"
      ]
     },
     "metadata": {},
     "output_type": "display_data"
    }
   ],
   "source": [
    "import ee\n",
    "import geemap\n",
    "Map = geemap.Map()\n",
    "Map"
   ]
  },
  {
   "cell_type": "code",
   "execution_count": 282,
   "metadata": {},
   "outputs": [],
   "source": [
    "#point = ee.Geometry.Point([-122.4439, 37.7538])\n",
    "point = ee.Geometry.Point([-87.7719, 41.8799])\n",
    "\n",
    "image = ee.ImageCollection('LANDSAT/LC08/C01/T1_SR') \\\n",
    "    .filterBounds(point) \\\n",
    "    .filterDate('2019-01-01', '2019-12-31') \\\n",
    "    .sort('CLOUD_COVER') \\\n",
    "    .first() \\\n",
    "    .select('B[1-7]')\n",
    "\n",
    "vis_params = {\n",
    "    'min': 0,\n",
    "    'max': 3000,\n",
    "    'bands': ['B5', 'B4', 'B3']\n",
    "}\n",
    "\n",
    "Map.centerObject(point, 8)\n",
    "Map.addLayer(image, vis_params, \"Landsat-8\")"
   ]
  },
  {
   "cell_type": "markdown",
   "metadata": {},
   "source": [
    "### 2 Verifiquemos las propiedades de nuestra imagen"
   ]
  },
  {
   "cell_type": "code",
   "execution_count": 283,
   "metadata": {},
   "outputs": [
    {
     "data": {
      "text/plain": [
       "{'CLOUD_COVER': 0.03,\n",
       " 'CLOUD_COVER_LAND': 0.04,\n",
       " 'EARTH_SUN_DISTANCE': 1.016591,\n",
       " 'ESPA_VERSION': '2_23_0_1b',\n",
       " 'GEOMETRIC_RMSE_MODEL': 6.348,\n",
       " 'GEOMETRIC_RMSE_MODEL_X': 4.429,\n",
       " 'GEOMETRIC_RMSE_MODEL_Y': 4.547,\n",
       " 'IMAGE_DATE': '2019-07-12',\n",
       " 'IMAGE_QUALITY_OLI': 9,\n",
       " 'IMAGE_QUALITY_TIRS': 9,\n",
       " 'LANDSAT_ID': 'LC08_L1TP_022031_20190712_20190719_01_T1',\n",
       " 'LEVEL1_PRODUCTION_DATE': 1563565308000,\n",
       " 'NOMINAL_SCALE': 30,\n",
       " 'PIXEL_QA_VERSION': 'generate_pixel_qa_1.6.0',\n",
       " 'SATELLITE': 'LANDSAT_8',\n",
       " 'SENSING_TIME': '2019-07-12T16:28:51.3794760Z',\n",
       " 'SOLAR_AZIMUTH_ANGLE': 131.949371,\n",
       " 'SOLAR_ZENITH_ANGLE': 26.494972,\n",
       " 'SR_APP_VERSION': 'LaSRC_1.3.0',\n",
       " 'WRS_PATH': 22,\n",
       " 'WRS_ROW': 31,\n",
       " 'system:asset_size': '553.046839 MB',\n",
       " 'system:band_names': ['B1', 'B2', 'B3', 'B4', 'B5', 'B6', 'B7'],\n",
       " 'system:id': 'LANDSAT/LC08/C01/T1_SR/LC08_022031_20190712',\n",
       " 'system:index': 'LC08_022031_20190712',\n",
       " 'system:time_end': '2019-07-12 16:28:51',\n",
       " 'system:time_start': '2019-07-12 16:28:51',\n",
       " 'system:version': 1564390084630490.0}"
      ]
     },
     "execution_count": 283,
     "metadata": {},
     "output_type": "execute_result"
    }
   ],
   "source": [
    "props = geemap.image_props(image)\n",
    "props.getInfo()"
   ]
  },
  {
   "cell_type": "code",
   "execution_count": 284,
   "metadata": {},
   "outputs": [
    {
     "data": {
      "text/plain": [
       "'2019-07-12'"
      ]
     },
     "execution_count": 284,
     "metadata": {},
     "output_type": "execute_result"
    }
   ],
   "source": [
    "props.get('IMAGE_DATE').getInfo()"
   ]
  },
  {
   "cell_type": "code",
   "execution_count": null,
   "metadata": {},
   "outputs": [],
   "source": [
    "props.get('CLOUD_COVER').getInfo()"
   ]
  },
  {
   "cell_type": "markdown",
   "metadata": {},
   "source": [
    "### 3 Construyamos un conjunto de datos de entrenamiento\n",
    "<span style=\"color:red\">**Map.user_roi.getInfo()**</span>\\\n",
    "<span style=\"color:red\">**ee.Clusterer.wekaKMeans**</span>"
   ]
  },
  {
   "cell_type": "markdown",
   "metadata": {},
   "source": [
    "Hacer un conjunto de datos de entrenamiento\n",
    "\n",
    "Hay varias formas de crear una región para generar el conjunto de datos de entrenamiento.\n",
    "\n",
    "- Dibuja una forma (por ejemplo, un rectángulo) en el mapa y usa `region = Map.user_roi`\n",
    "- Definir una geometría, como `region = ee.Geometry.Rectangle ([- 122.6003, 37.4831, -121.8036, 37.8288])`\n",
    "- Cree una zona de amortiguación alrededor de un punto, como `region = ee.Geometry.Point ([- 122.4439, 37.7538]). Buffer (10000)`\n",
    "- Si no define una región, utilizará la huella de la imagen de forma predeterminada"
   ]
  },
  {
   "cell_type": "markdown",
   "metadata": {},
   "source": [
    "interesante"
   ]
  },
  {
   "cell_type": "code",
   "execution_count": null,
   "metadata": {},
   "outputs": [],
   "source": [
    "Map.user_roi.getInfo()"
   ]
  },
  {
   "cell_type": "code",
   "execution_count": null,
   "metadata": {},
   "outputs": [],
   "source": [
    "region = Map.user_roi"
   ]
  },
  {
   "cell_type": "markdown",
   "metadata": {},
   "source": [
    "visualicemos nuestros puntos de entrenamiento"
   ]
  },
  {
   "cell_type": "code",
   "execution_count": null,
   "metadata": {
    "scrolled": true
   },
   "outputs": [],
   "source": [
    "# Make the training dataset.\n",
    "training = image.sample(**{\n",
    "    'region': region,\n",
    "    'scale': 30,\n",
    "    'numPixels': 5000,\n",
    "    'seed': 0,\n",
    "    'geometries': True  # Set this to False to ignore geometries\n",
    "})\n",
    "\n",
    "Map.addLayer(training, {}, 'training', False)\n",
    "Map"
   ]
  },
  {
   "cell_type": "markdown",
   "metadata": {},
   "source": [
    "### 4 Entrenemos el cluster"
   ]
  },
  {
   "cell_type": "code",
   "execution_count": null,
   "metadata": {},
   "outputs": [],
   "source": [
    "# Instantiate the clusterer and train it.\n",
    "n_clusters = 5\n",
    "clusterer = ee.Clusterer.wekaKMeans(n_clusters).train(training)"
   ]
  },
  {
   "cell_type": "markdown",
   "metadata": {},
   "source": [
    "## clasificar la imagen"
   ]
  },
  {
   "cell_type": "code",
   "execution_count": null,
   "metadata": {},
   "outputs": [],
   "source": [
    "# Cluster the input using the trained clusterer.\n",
    "result = image.cluster(clusterer)\n",
    "\n",
    "# # Display the clusters with random colors.\n",
    "Map.addLayer(result.randomVisualizer(), {}, 'clusters')\n",
    "Map"
   ]
  },
  {
   "cell_type": "code",
   "execution_count": null,
   "metadata": {},
   "outputs": [],
   "source": [
    "legend_keys = ['One', 'Two', 'Three', 'Four', 'ect']\n",
    "legend_colors = ['#8DD3C7', '#FFFFB3', '#BEBADA', '#FB8072', '#80B1D3']\n",
    "\n",
    "# Reclassify the map\n",
    "result = result.remap([0, 1, 2, 3, 4], [1, 2, 3, 4, 5])\n",
    "\n",
    "Map.addLayer(result, {'min': 1, 'max': 5, 'palette': legend_colors}, 'Labelled clusters')\n",
    "Map.add_legend(legend_keys=legend_keys, legend_colors=legend_colors, position='bottomright')\n",
    "Map"
   ]
  },
  {
   "cell_type": "code",
   "execution_count": null,
   "metadata": {},
   "outputs": [],
   "source": [
    "print('Change layer opacity:')\n",
    "cluster_layer = Map.layers[-1]\n",
    "cluster_layer.interact(opacity=(0, 1, 0.1))"
   ]
  },
  {
   "cell_type": "code",
   "execution_count": null,
   "metadata": {},
   "outputs": [],
   "source": [
    "import os\n",
    "out_dir = os.path.join(os.path.expanduser('~'), 'Downloads')\n",
    "out_file = os.path.join(out_dir, 'cluster.tif')"
   ]
  },
  {
   "cell_type": "code",
   "execution_count": null,
   "metadata": {},
   "outputs": [],
   "source": [
    "geemap.ee_export_image(result, filename=out_file, scale=90)"
   ]
  },
  {
   "cell_type": "code",
   "execution_count": null,
   "metadata": {},
   "outputs": [],
   "source": [
    "geemap.ee_export_image_to_drive(result, description='clusters', folder='export', scale=90)"
   ]
  },
  {
   "cell_type": "code",
   "execution_count": null,
   "metadata": {},
   "outputs": [],
   "source": []
  },
  {
   "cell_type": "code",
   "execution_count": null,
   "metadata": {},
   "outputs": [],
   "source": []
  },
  {
   "cell_type": "markdown",
   "metadata": {},
   "source": [
    "## 32 Clasificación Supervisada\n",
    "\n",
    "<span style=\"color:red\">**ee.Classifier.smileCart().train(training, label, bands)**</span>"
   ]
  },
  {
   "cell_type": "markdown",
   "metadata": {},
   "source": [
    "En el caso de las clasificaciones supervisadas, se requiere del conocimiento de la zona de estudio, adquirido por experiencia previa o por la realización de un trabajo de campo. Es decir, que el intérprete debe tener una gran familiaridad con el área de interés, para poder interpretar y delimitar sobre la imagen, áreas suficientemente representativas, denominadas áreas o regiones de interés (ROI por sus siglas en inglés), de cada una de las categorías representadas y que forman parte de la leyenda. Los pasos básicos para realizar una clasificación supervisada son los siguientes:\n",
    "\n",
    "1. Etapa de entrenamiento: en esta etapa el intérprete identifica áreas de entrenamiento representativas, y genera una descripción numérica de los atributos espectrales de cada categoría de cobertura de la tierra por escena.\n",
    "\n",
    "2. Etapa de clasificación: Cada píxel es categorizado y asociado a una determinada categoría de la leyenda de acuerdo a su mayor semejanza. En el caso que el píxel sea insuficientemente similar, este se catalogará como “desconocido”.\n",
    "\n",
    "3. Etapa de análisis de precisión y verificación de resultados: La estimación de la exactitud de una clasificación es el grado de concordancia entre las clases asignadas por el clasificador y los datos tomados en el terreno obteniendo una estimación más realista de los errores siempre y cuando la muestra de pixeles sea lo suficientemente\n",
    "\n",
    "Etapa de entrenamiento\n",
    "\n",
    "La clasificación supervisada contempla los procedimientos de agrupación de los píxeles de una imagen conforme a su similitud espectral, el nivel de detalle y la leyenda temática, preestablecidos a priori. Para este fin sobre la imagen original se seleccionan y se delimitan los grupos de píxeles, que representan los patrones de diferentes clases temáticas (muestras). Es importante que la muestra sea homogénea, pero al mismo tiempo incluye la variabilidad espectral de cada clase temática. Se recomienda  que el usuario adquiera más de un área de entrenamiento por clase temática, utilizando   la información de campo, mapas y estudios existentes, entre otros.\n",
    "\n",
    "Estas áreas para “entrenar” al programa de clasificación en el proceso de reconocimiento de las distintas categorías sirven para caracterizan cada una de las clases, de tal modo que más tarde se asignan el resto de los píxeles de la imagen a una de esas categorías en función de la similitud de sus ND con los extraídos como referencia. Para una delimitación más precisa de éstas áreas de entrenamiento, puede ser de gran ayuda los trabajos de campo y otros documentos auxiliares,  como  la fotografía aérea y la cartografía convencional, teniendo en cuenta que debe tratarse de ejemplos suficientemente representativos y homogéneos de la clase que pretende definirse. Además, es importante que exista un control de campo suficiente, en fecha próxima a la adquisición de la imagen para garantizar la consistencia entre lo medido en el terreno y por el sensor."
   ]
  },
  {
   "cell_type": "markdown",
   "metadata": {},
   "source": [
    "Algoritmos de clasificación supervisados ​​disponibles en Earth Engine\n",
    "\n",
    "Fuente: https://developers.google.com/earth-engine/classification\n",
    "\n",
    "El paquete `Classifier` maneja la clasificación supervisada por algoritmos tradicionales de ML que se ejecutan en Earth Engine. Estos clasificadores incluyen CART, RandomForest, NaiveBayes y SVM. El flujo de trabajo general para la clasificación es:\n",
    "\n",
    "1. Recopile datos de entrenamiento. Reúna entidades que tienen una propiedad que almacena la etiqueta de clase conocida y las propiedades que almacenan valores numéricos para los predictores.\n",
    "2. Cree una instancia de un clasificador. Configure sus parámetros si es necesario.\n",
    "3. Entrene al clasificador utilizando los datos de entrenamiento.\n",
    "4. Clasifique una colección de imágenes o características.\n",
    "5. Estime el error de clasificación con datos de validación independientes.\n",
    "\n",
    "Los datos de entrenamiento son un \"FeatureCollection\" con una propiedad que almacena la etiqueta de clase y las propiedades que almacenan las variables predictoras. Las etiquetas de clase deben ser consecutivas, enteros comenzando desde 0. Si es necesario, use remap () para convertir los valores de clase en enteros consecutivos. Los predictores deben ser numéricos."
   ]
  },
  {
   "cell_type": "markdown",
   "metadata": {},
   "source": [
    "### Creemos un mapa interactivo"
   ]
  },
  {
   "cell_type": "code",
   "execution_count": null,
   "metadata": {
    "scrolled": true
   },
   "outputs": [],
   "source": [
    "import ee\n",
    "import geemap\n",
    "Map = geemap.Map()\n",
    "Map"
   ]
  },
  {
   "cell_type": "code",
   "execution_count": null,
   "metadata": {},
   "outputs": [],
   "source": [
    "point = ee.Geometry.Point([-90.0950, 29.9584])\n",
    "# point = ee.Geometry.Point([-73.247223, -39.820141])\n",
    "\n",
    "# point = ee.Geometry.Point([-87.7719, 41.8799])\n",
    "\n",
    "image = ee.ImageCollection('LANDSAT/LC08/C01/T1_SR') \\\n",
    "    .filterBounds(point) \\\n",
    "    .filterDate('2016-01-01', '2016-12-31') \\\n",
    "    .sort('CLOUD_COVER') \\\n",
    "    .first() \\\n",
    "    .select('B[1-7]')\n",
    "\n",
    "vis_params = {\n",
    "    'min': 0,\n",
    "    'max': 3000,\n",
    "    'bands': ['B5', 'B4', 'B3']\n",
    "}\n",
    "\n",
    "Map.centerObject(point, 11)\n",
    "\n",
    "Map.addLayer(image, vis_params, \"Landsat-8\")"
   ]
  },
  {
   "cell_type": "code",
   "execution_count": null,
   "metadata": {},
   "outputs": [],
   "source": [
    "ee.Date(image.get('system:time_start')).format('YYYY-MM-dd').getInfo()"
   ]
  },
  {
   "cell_type": "code",
   "execution_count": null,
   "metadata": {},
   "outputs": [],
   "source": [
    "image.get('CLOUD_COVER').getInfo()"
   ]
  },
  {
   "cell_type": "code",
   "execution_count": null,
   "metadata": {},
   "outputs": [],
   "source": [
    "nlcd = ee.Image('USGS/NLCD/NLCD2016').select('landcover').clip(image.geometry())\n",
    "Map.addLayer(nlcd, {}, 'NLCD')\n",
    "Map"
   ]
  },
  {
   "cell_type": "markdown",
   "metadata": {},
   "source": [
    "### 2 Creamos un conjunto de datos de entrenamiento\n",
    "\n",
    "Hay varias formas de crear una región para generar el conjunto de datos de entrenamiento.\n",
    "\n",
    "- Dibuja una forma (por ejemplo, un rectángulo) en el mapa y usa `region = Map.user_roi`\n",
    "- Definir una geometría, como `region = ee.Geometry.Rectangle ([- 122.6003, 37.4831, -121.8036, 37.8288])`\n",
    "- Cree una zona de amortiguación alrededor de un punto, como `region = ee.Geometry.Point ([- 122.4439, 37.7538]). Buffer (10000)`\n",
    "- Si no define una región, utilizará la huella de la imagen de forma predeterminada"
   ]
  },
  {
   "cell_type": "code",
   "execution_count": null,
   "metadata": {},
   "outputs": [],
   "source": [
    "region = Map.user_roi"
   ]
  },
  {
   "cell_type": "code",
   "execution_count": null,
   "metadata": {},
   "outputs": [],
   "source": [
    "# Make the training dataset.\n",
    "points = nlcd.sample(**{\n",
    "   # 'region': image.geometry(),\n",
    "    \n",
    "    'region': region,\n",
    "    'scale': 30,\n",
    "    'numPixels': 5000,\n",
    "    'seed': 0,\n",
    "    'geometries': True  # Set this to False to ignore geometries\n",
    "})\n",
    "\n",
    "Map.addLayer(points, {}, 'training', False)"
   ]
  },
  {
   "cell_type": "code",
   "execution_count": null,
   "metadata": {},
   "outputs": [],
   "source": []
  },
  {
   "cell_type": "code",
   "execution_count": null,
   "metadata": {},
   "outputs": [],
   "source": []
  },
  {
   "cell_type": "code",
   "execution_count": null,
   "metadata": {},
   "outputs": [],
   "source": [
    "print(points.size().getInfo())"
   ]
  },
  {
   "cell_type": "code",
   "execution_count": null,
   "metadata": {},
   "outputs": [],
   "source": [
    "print(points.first().getInfo())"
   ]
  },
  {
   "cell_type": "code",
   "execution_count": null,
   "metadata": {},
   "outputs": [],
   "source": [
    "# Use these bands for prediction.\n",
    "bands = ['B1', 'B2', 'B3', 'B4', 'B5', 'B6', 'B7']\n",
    "\n",
    "\n",
    "# This property of the table stores the land cover labels.\n",
    "label = 'landcover'\n",
    "\n",
    "# Overlay the points on the imagery to get training.\n",
    "training = image.select(bands).sampleRegions(**{\n",
    "  'collection': points,\n",
    "  'properties': [label],\n",
    "  'scale': 30\n",
    "})\n",
    "\n",
    "# Train a CART classifier with default parameters.\n",
    "trained = ee.Classifier.smileCart().train(training, label, bands)"
   ]
  },
  {
   "cell_type": "code",
   "execution_count": null,
   "metadata": {},
   "outputs": [],
   "source": [
    "print(training.first().getInfo())"
   ]
  },
  {
   "cell_type": "code",
   "execution_count": null,
   "metadata": {},
   "outputs": [],
   "source": [
    "# Classify the image with the same bands used for training.\n",
    "result = image.select(bands).classify(trained)\n",
    "\n",
    "# # Display the clusters with random colors.\n",
    "Map.addLayer(result.randomVisualizer(), {}, 'classfied')\n",
    "Map"
   ]
  },
  {
   "cell_type": "code",
   "execution_count": null,
   "metadata": {},
   "outputs": [],
   "source": [
    "class_values = nlcd.get('landcover_class_values').getInfo()\n",
    "class_values"
   ]
  },
  {
   "cell_type": "code",
   "execution_count": null,
   "metadata": {},
   "outputs": [],
   "source": [
    "class_palette = nlcd.get('landcover_class_palette').getInfo()\n",
    "class_palette"
   ]
  },
  {
   "cell_type": "code",
   "execution_count": null,
   "metadata": {},
   "outputs": [],
   "source": [
    "landcover = result.set('classification_class_values', class_values)\n",
    "landcover = landcover.set('classification_class_palette', class_palette)"
   ]
  },
  {
   "cell_type": "code",
   "execution_count": null,
   "metadata": {},
   "outputs": [],
   "source": [
    "Map.addLayer(landcover, {}, 'Land cover')\n",
    "Map"
   ]
  },
  {
   "cell_type": "code",
   "execution_count": null,
   "metadata": {},
   "outputs": [],
   "source": [
    "print('Change layer opacity:')\n",
    "cluster_layer = Map.layers[-1]\n",
    "cluster_layer.interact(opacity=(0, 1, 0.1))"
   ]
  },
  {
   "cell_type": "code",
   "execution_count": null,
   "metadata": {},
   "outputs": [],
   "source": [
    "Map.add_legend(builtin_legend='NLCD')\n",
    "Map"
   ]
  },
  {
   "cell_type": "code",
   "execution_count": null,
   "metadata": {},
   "outputs": [],
   "source": [
    "import os\n",
    "out_dir = os.path.join(os.path.expanduser('~'), 'Downloads')\n",
    "out_file = os.path.join(out_dir, 'landcover.tif')"
   ]
  },
  {
   "cell_type": "code",
   "execution_count": null,
   "metadata": {},
   "outputs": [],
   "source": [
    "geemap.ee_export_image(landcover, filename=out_file, scale=900)"
   ]
  },
  {
   "cell_type": "code",
   "execution_count": null,
   "metadata": {},
   "outputs": [],
   "source": [
    "geemap.ee_export_image_to_drive(landcover, description='landcover', folder='export', scale=900)"
   ]
  },
  {
   "cell_type": "code",
   "execution_count": null,
   "metadata": {},
   "outputs": [],
   "source": []
  },
  {
   "cell_type": "code",
   "execution_count": null,
   "metadata": {},
   "outputs": [],
   "source": []
  },
  {
   "cell_type": "code",
   "execution_count": null,
   "metadata": {},
   "outputs": [],
   "source": []
  },
  {
   "cell_type": "markdown",
   "metadata": {},
   "source": [
    "## 33 Aprendizaje automático con Earth Engine: evaluación de la precisión: Accuracy Assessment\n",
    "\n"
   ]
  },
  {
   "cell_type": "markdown",
   "metadata": {},
   "source": [
    "El paquete `Classifier` maneja la clasificación supervisada por algoritmos tradicionales de ML que se ejecutan en Earth Engine. Estos clasificadores incluyen <span style=\"color:red\"> *CART, RandomForest, NaiveBayes y SVM*</span>. El flujo de trabajo general para la clasificación es:\n",
    "\n",
    "1. Recopile datos de entrenamiento. Reúna entidades que tienen una propiedad que almacena la etiqueta de clase conocida y las propiedades que almacenan valores numéricos para los predictores.\n",
    "2. Cree una instancia de un clasificador. Configure sus parámetros si es necesario.\n",
    "3. Entrene al clasificador utilizando los datos de entrenamiento.\n",
    "4. Clasifique una colección de imágenes o características.\n",
    "5. Estime el error de clasificación con datos de validación independientes.\n",
    "\n",
    "Los datos de entrenamiento son un \"FeatureCollection\" con una propiedad que almacena la etiqueta de clase y las propiedades que almacenan las variables predictoras. Las etiquetas de clase deben ser consecutivas, enteros comenzando desde 0. Si es necesario, use remap () para convertir los valores de clase en enteros consecutivos. Los predictores deben ser numéricos.\n",
    "\n",
    "Para evaluar la precisión de un clasificador, use una \"ConfusionMatrix\". El método `sample ()` genera dos muestras aleatorias a partir de los datos de entrada: una para entrenamiento y otra para validación. La muestra de entrenamiento se usa para entrenar al clasificador. Puede obtener precisión de resustitución en los datos de entrenamiento de `classifier.confusionMatrix ()`. Para obtener precisión en la validación, clasifique los datos de validación. Esto agrega una propiedad de `clasificación` a la validación` FeatureCollection`. Llame a \"errorMatrix ()\" en el \"FeatureCollection\" clasificado para obtener una matriz de confusión que represente la precisión de la validación (esperada)."
   ]
  },
  {
   "cell_type": "markdown",
   "metadata": {},
   "source": [
    "### Creamos un mapa interactivo"
   ]
  },
  {
   "cell_type": "code",
   "execution_count": null,
   "metadata": {},
   "outputs": [],
   "source": [
    "import ee\n",
    "import geemap\n",
    "Map = geemap.Map()\n",
    "Map"
   ]
  },
  {
   "cell_type": "markdown",
   "metadata": {},
   "source": [
    "### Le anadimos data al mapa"
   ]
  },
  {
   "cell_type": "code",
   "execution_count": null,
   "metadata": {},
   "outputs": [],
   "source": [
    "NLCD2016 = ee.Image('USGS/NLCD/NLCD2016').select('landcover')\n",
    "Map.addLayer(NLCD2016, {}, 'NLCD 2016')\n",
    "NLCD_metadata = ee.FeatureCollection(\"users/giswqs/landcover/NLCD2016_metadata\")\n",
    "Map.addLayer(NLCD_metadata, {}, 'NLCD Metadata')\n",
    "point = ee.Geometry.Point([-88.3070, 41.7471])\n",
    "metadata = NLCD_metadata.filterBounds(point).first()\n",
    "region = metadata.geometry()\n",
    "metadata.get('2016on_bas').getInfo()\n",
    "doy = metadata.get('2016on_bas').getInfo().replace('LC08_', '')\n",
    "doy\n",
    "ee.Date.parse('YYYYDDD', doy).format('YYYY-MM-dd').getInfo()\n",
    "start_date = ee.Date.parse('YYYYDDD', doy)\n",
    "end_date = start_date.advance(1, 'day')\n"
   ]
  },
  {
   "cell_type": "code",
   "execution_count": null,
   "metadata": {},
   "outputs": [],
   "source": [
    "image = ee.ImageCollection('LANDSAT/LC08/C01/T1_SR') \\\n",
    "    .filterBounds(point) \\\n",
    "    .filterDate(start_date, end_date) \\\n",
    "    .first() \\\n",
    "    .select('B[1-7]') \\\n",
    "    .clip(region)\n",
    "\n",
    "vis_params = {\n",
    "    'min': 0,\n",
    "    'max': 3000,\n",
    "    'bands': ['B5', 'B4', 'B3']\n",
    "}\n",
    "\n",
    "Map.centerObject(point, 8)\n",
    "Map.addLayer(image, vis_params, \"Landsat-8\")\n",
    "Map"
   ]
  },
  {
   "cell_type": "code",
   "execution_count": null,
   "metadata": {},
   "outputs": [],
   "source": [
    "nlcd_raw = NLCD2016.clip(region)\n",
    "Map.addLayer(nlcd_raw, {}, 'NLCD')"
   ]
  },
  {
   "cell_type": "markdown",
   "metadata": {},
   "source": [
    "Prepárese para etiquetas de clase consecutivas\n",
    "\n",
    "En este ejemplo, vamos a utilizar la [Base de datos de cobertura terrestre nacional (NLCD) del USGS] (https://developers.google.com/earth-engine/datasets/catalog/USGS_NLCD) para crear un conjunto de datos de etiquetas para el entrenamiento.\n",
    "\n",
    "Primero, necesitamos usar la función `remap ()` para convertir las etiquetas de clase en enteros consecutivos."
   ]
  },
  {
   "cell_type": "code",
   "execution_count": null,
   "metadata": {},
   "outputs": [],
   "source": [
    "raw_class_values = nlcd_raw.get('landcover_class_values').getInfo()\n",
    "print(raw_class_values)\n",
    "\n",
    "n_classes = len(raw_class_values)\n",
    "new_class_values = list(range(0, n_classes))\n",
    "new_class_values\n",
    "\n",
    "class_palette = nlcd_raw.get('landcover_class_palette').getInfo()\n",
    "print(class_palette)\n",
    "\n",
    "nlcd = nlcd_raw.remap(raw_class_values, new_class_values).select(['remapped'], ['landcover'])\n",
    "nlcd = nlcd.set('landcover_class_values', new_class_values)\n",
    "nlcd = nlcd.set('landcover_class_palette', class_palette)\n",
    "\n",
    "Map.addLayer(nlcd, {}, 'NLCD')\n",
    "Map"
   ]
  },
  {
   "cell_type": "code",
   "execution_count": null,
   "metadata": {},
   "outputs": [],
   "source": []
  },
  {
   "cell_type": "code",
   "execution_count": null,
   "metadata": {},
   "outputs": [],
   "source": []
  },
  {
   "cell_type": "code",
   "execution_count": null,
   "metadata": {},
   "outputs": [],
   "source": []
  },
  {
   "cell_type": "markdown",
   "metadata": {},
   "source": [
    "## 34 1 Extracción interactiva de valores de píxeles"
   ]
  },
  {
   "cell_type": "markdown",
   "metadata": {},
   "source": [
    "de lo que se trata es poder extraer para cada pixel un grafico con el valor de sus bandas B, dandole click al mapa."
   ]
  },
  {
   "cell_type": "code",
   "execution_count": null,
   "metadata": {},
   "outputs": [],
   "source": [
    "import os\n",
    "import ee\n",
    "import geemap\n",
    "Map = geemap.Map()\n",
    "Map\n"
   ]
  },
  {
   "cell_type": "code",
   "execution_count": null,
   "metadata": {},
   "outputs": [],
   "source": [
    "landsat7 = ee.Image('LE7_TOA_5YEAR/1999_2003') \\\n",
    "    .select([0, 1, 2, 3, 4, 6])\n",
    "landsat_vis = {\n",
    "    'bands': ['B4', 'B3', 'B2'], \n",
    "    'gamma': 1.4\n",
    "}\n",
    "Map.addLayer(landsat7, landsat_vis, \"LE7_TOA_5YEAR/1999_2003\")\n",
    "\n",
    "Map.set_plot_options(add_marker_cluster=True)"
   ]
  },
  {
   "cell_type": "markdown",
   "metadata": {},
   "source": [
    "Exportamos"
   ]
  },
  {
   "cell_type": "code",
   "execution_count": null,
   "metadata": {},
   "outputs": [],
   "source": [
    "out_dir = os.path.join(os.path.expanduser('~'), 'Downloads')\n",
    "# out_csv = os.path.join(out_dir, 'points.csv')\n",
    "out_shp = os.path.join(out_dir, 'points.shp')\n",
    "Map.extract_values_to_points(out_shp)"
   ]
  },
  {
   "cell_type": "markdown",
   "metadata": {},
   "source": [
    "## 34 2 Reducción de región interactiva"
   ]
  },
  {
   "cell_type": "code",
   "execution_count": null,
   "metadata": {},
   "outputs": [],
   "source": [
    "import os\n",
    "import ee\n",
    "import geemap"
   ]
  },
  {
   "cell_type": "code",
   "execution_count": null,
   "metadata": {},
   "outputs": [],
   "source": [
    "m = geemap.Map()"
   ]
  },
  {
   "cell_type": "code",
   "execution_count": null,
   "metadata": {},
   "outputs": [],
   "source": [
    "collection = ee.ImageCollection('MODIS/006/MOD13A2') \\\n",
    "    .filterDate('2015-01-01', '2019-12-31') \\\n",
    "    .select('NDVI')\n",
    "\n",
    "# Convert the image collection to an image.\n",
    "image = collection.toBands()\n",
    "\n",
    "ndvi_vis = {\n",
    "  'min': 0.0,\n",
    "  'max': 9000.0,\n",
    "  'palette': [\n",
    "    'FFFFFF', 'CE7E45', 'DF923D', 'F1B555', 'FCD163', '99B718', '74A901',\n",
    "    '66A000', '529400', '3E8601', '207401', '056201', '004C00', '023B01',\n",
    "    '012E01', '011D01', '011301'\n",
    "  ]\n",
    "}\n",
    "\n",
    "m.addLayer(image, {}, 'MODIS NDVI Time-series')\n",
    "m.addLayer(image.select(0), ndvi_vis, 'MODIS NDVI VIS')\n",
    "\n",
    "m"
   ]
  },
  {
   "cell_type": "code",
   "execution_count": null,
   "metadata": {},
   "outputs": [],
   "source": [
    "m.set_plot_options(add_marker_cluster=True, marker=None)\n",
    "m.roi_reducer = ee.Reducer.mean()"
   ]
  },
  {
   "cell_type": "code",
   "execution_count": null,
   "metadata": {},
   "outputs": [],
   "source": [
    "out_dir = os.path.join(os.path.expanduser('~'), 'Downloads')\n",
    "# out_csv = os.path.join(out_dir, 'points.csv')\n",
    "out_shp = os.path.join(out_dir, 'ndvi.shp')\n",
    "m.extract_values_to_points(out_shp)"
   ]
  },
  {
   "cell_type": "code",
   "execution_count": null,
   "metadata": {},
   "outputs": [],
   "source": []
  },
  {
   "cell_type": "markdown",
   "metadata": {},
   "source": [
    "### 35 Cómo usar geemap y GEE en Google Colab\n",
    "Es muy util poder colaborar en linea."
   ]
  },
  {
   "cell_type": "markdown",
   "metadata": {},
   "source": [
    "El paquete geemap Python tiene dos backends de trazado: \n",
    "\n",
    "1. ipyleaflet y \n",
    "\n",
    "2. folium. \n",
    "\n",
    "Una diferencia clave entre folium e ipyleaflet es que ipyleaflet se basa en ipywidgets y permite la comunicación bidireccional entre el front-end y el backend, lo que permite el uso del mapa para capturar la entrada del usuario, mientras que folium está diseñado para mostrar solo datos estáticos (fuente). \n",
    "\n",
    "Google Colab actualmente no es compatible con ipyleaflet. \n",
    "\n",
    "Por lo tanto, si está utilizando geemap con Google Colab, geemap utilizará automáticamente el backend de trazado de folium."
   ]
  },
  {
   "cell_type": "code",
   "execution_count": null,
   "metadata": {},
   "outputs": [],
   "source": [
    "Map = geemap.Map()"
   ]
  },
  {
   "cell_type": "code",
   "execution_count": null,
   "metadata": {},
   "outputs": [],
   "source": [
    "# Add Earth Engine dataset\n",
    "image = ee.Image('USGS/SRTMGL1_003')\n",
    "\n",
    "# Set visualization parameters.\n",
    "vis_params = {\n",
    "  'min': 0,\n",
    "  'max': 4000,\n",
    "  'palette': ['006633', 'E5FFCC', '662A00', 'D8D8D8', 'F5F5F5']}\n",
    "\n",
    "# Print the elevation of Mount Everest.\n",
    "xy = ee.Geometry.Point([86.9250, 27.9881])\n",
    "elev = image.sample(xy, 30).first().get('elevation').getInfo()\n",
    "print('Mount Everest elevation (m):', elev)\n",
    "\n",
    "# Add Earth Engine layers to Map\n",
    "Map.addLayer(image, vis_params, 'DEM')\n",
    "Map.addLayer(xy, {'color': 'red'}, 'Mount Everest')\n",
    "\n",
    "# Center the map based on an Earth Engine object or coordinates (longitude, latitude)\n",
    "# Map.centerObject(xy, 4)\n",
    "Map.setCenter(86.9250, 27.9881, 4)"
   ]
  },
  {
   "cell_type": "code",
   "execution_count": null,
   "metadata": {},
   "outputs": [],
   "source": [
    "Map.addLayerControl() \n",
    "Map"
   ]
  },
  {
   "cell_type": "markdown",
   "metadata": {},
   "source": [
    "https://colab.research.google.com/drive/1zNuMpMUntX4dteCaaYpsL8gGrjKb7c8H#scrollTo=1HCa7cXaoOMM"
   ]
  },
  {
   "cell_type": "markdown",
   "metadata": {},
   "source": [
    "## 36 La calidad del mosaico. \n",
    "### Cómo averiguar el día más verde del año para cada localidad\n",
    "### no me sale!"
   ]
  },
  {
   "cell_type": "markdown",
   "metadata": {},
   "source": [
    "Importamos librerias, cremos un mapa interactivo y definimos una region de interes."
   ]
  },
  {
   "cell_type": "code",
   "execution_count": null,
   "metadata": {},
   "outputs": [],
   "source": [
    "import ee\n",
    "import geemap\n",
    "Map = geemap.Map()\n",
    "\n",
    "countries = ee.FeatureCollection('users/giswqs/public/countries')\n",
    "Map.addLayer(countries, {}, 'coutries')\n",
    "roi = countries.filter(ee.Filter.eq('id', 'USA'))\n",
    "Map.addLayer(roi, {}, 'roi')\n",
    "Map"
   ]
  },
  {
   "cell_type": "markdown",
   "metadata": {},
   "source": [
    "Filtramos unas imageCollection"
   ]
  },
  {
   "cell_type": "code",
   "execution_count": null,
   "metadata": {},
   "outputs": [],
   "source": []
  },
  {
   "cell_type": "code",
   "execution_count": null,
   "metadata": {},
   "outputs": [],
   "source": [
    "start_date = '2019-01-01'\n",
    "end_date = '2019-12-31'\n",
    "\n",
    "f = ee.ImageCollection('LANDSAT/LC08/C01/T1_TOA') \\\n",
    "    .filterBounds(roi) \\\n",
    "    .filterDate(start_date, end_date)\n",
    "\n",
    "print(f.size().getInfo())"
   ]
  },
  {
   "cell_type": "markdown",
   "metadata": {},
   "source": [
    "Creamos una media composite"
   ]
  },
  {
   "cell_type": "code",
   "execution_count": null,
   "metadata": {},
   "outputs": [],
   "source": [
    "median = f.median()\n",
    "\n",
    "visParams = {\n",
    "  'bands': ['B4', 'B3', 'B2'],\n",
    "  'min': 0,\n",
    "  'max': 0.4,\n",
    "}\n",
    "\n",
    "Map.addLayer(median, visParams, 'Median')"
   ]
  },
  {
   "cell_type": "markdown",
   "metadata": {},
   "source": [
    "#### Definimos las funciones para anadir bandas de tiempo"
   ]
  },
  {
   "cell_type": "code",
   "execution_count": null,
   "metadata": {},
   "outputs": [],
   "source": [
    "def addNDVI(image): \n",
    "    ndvi = image.normalizedDifference(['B5', 'B4']).rename('NDVI')\n",
    "    return image.addBands(ndvi)"
   ]
  },
  {
   "cell_type": "code",
   "execution_count": null,
   "metadata": {},
   "outputs": [],
   "source": [
    "def addDate(image):\n",
    "    img_date = ee.Date(image.date())\n",
    "    img_date = ee.Number.parse(img_date.format('YYYYMMdd'))\n",
    "    return image.addBands(ee.Image(img_date).rename('date').toInt())"
   ]
  },
  {
   "cell_type": "code",
   "execution_count": null,
   "metadata": {},
   "outputs": [],
   "source": [
    "def addMonth(image):\n",
    "    img_date = ee.Date(image.date())\n",
    "    img_doy = ee.Number.parse(img_date.format('M'))\n",
    "    return image.addBands(ee.Image(img_doy).rename('month').toInt())"
   ]
  },
  {
   "cell_type": "code",
   "execution_count": null,
   "metadata": {},
   "outputs": [],
   "source": [
    "def addDOY(image):\n",
    "    img_date = ee.Date(image.date())\n",
    "    img_doy = ee.Number.parse(img_date.format('D'))\n",
    "    return image.addBands(ee.Image(img_doy).rename('doy').toInt())"
   ]
  },
  {
   "cell_type": "code",
   "execution_count": null,
   "metadata": {},
   "outputs": [],
   "source": [
    "withNDVI = f.map(addNDVI).map(addDate).map(addMonth).map(addDOY)"
   ]
  },
  {
   "cell_type": "code",
   "execution_count": null,
   "metadata": {},
   "outputs": [],
   "source": [
    "greenest = withNDVI.qualityMosaic('NDVI')"
   ]
  },
  {
   "cell_type": "code",
   "execution_count": null,
   "metadata": {},
   "outputs": [],
   "source": [
    "greenest.bandNames().getInfo()"
   ]
  },
  {
   "cell_type": "code",
   "execution_count": null,
   "metadata": {},
   "outputs": [],
   "source": [
    "ndvi = greenest.select('NDVI')\n",
    "palette = ['#d73027', '#f46d43', '#fdae61', '#fee08b', '#d9ef8b', '#a6d96a', '#66bd63', '#1a9850']\n",
    "Map.addLayer(ndvi, {'palette': palette}, 'NDVI')"
   ]
  },
  {
   "cell_type": "code",
   "execution_count": null,
   "metadata": {},
   "outputs": [],
   "source": [
    "Map.addLayer(greenest, visParams, 'Greenest pixel')\n",
    "Map"
   ]
  },
  {
   "cell_type": "code",
   "execution_count": null,
   "metadata": {},
   "outputs": [],
   "source": [
    "Map.addLayer(greenest.select('month'), {'palette': ['red', 'blue'], 'min': 1, 'max': 12}, 'Greenest month')"
   ]
  },
  {
   "cell_type": "code",
   "execution_count": null,
   "metadata": {},
   "outputs": [],
   "source": [
    "Map.addLayer(greenest.select('doy'), {'palette': ['brown', 'green'], 'min': 1, 'max': 365}, 'Greenest doy')"
   ]
  },
  {
   "cell_type": "code",
   "execution_count": null,
   "metadata": {},
   "outputs": [],
   "source": []
  },
  {
   "cell_type": "markdown",
   "metadata": {},
   "source": [
    "## 37 Cómo utilizar Earth Engine con pydeck para la visualización del terreno en 3D"
   ]
  },
  {
   "cell_type": "code",
   "execution_count": null,
   "metadata": {},
   "outputs": [],
   "source": [
    "import ee\n",
    "import geemap"
   ]
  },
  {
   "cell_type": "code",
   "execution_count": null,
   "metadata": {},
   "outputs": [],
   "source": [
    "Map = geemap.Map()\n",
    "Map"
   ]
  },
  {
   "cell_type": "code",
   "execution_count": null,
   "metadata": {},
   "outputs": [],
   "source": [
    "image = ee.Image('USGS/NED').select('elevation')\n",
    "vis_params={\n",
    "    \"min\": 0, \n",
    "    \"max\": 4000,\n",
    "    \"palette\": ['006633', 'E5FFCC', '662A00', 'D8D8D8', 'F5F5F5']\n",
    "}\n",
    "Map.addLayer(image, vis_params, 'NED')"
   ]
  },
  {
   "cell_type": "code",
   "execution_count": null,
   "metadata": {},
   "outputs": [],
   "source": [
    "import ee\n",
    "import pydeck as pdk\n",
    "from pydeck_earthengine_layers import EarthEngineTerrainLayer"
   ]
  },
  {
   "cell_type": "code",
   "execution_count": null,
   "metadata": {},
   "outputs": [],
   "source": [
    "try:\n",
    "    ee.Initialize()\n",
    "except Exception as e:\n",
    "    ee.Authenticate()\n",
    "    ee.Initialize()"
   ]
  },
  {
   "cell_type": "code",
   "execution_count": null,
   "metadata": {},
   "outputs": [],
   "source": [
    "# image = ee.Image('USGS/SRTMGL1_003')\n",
    "#image = ee.Image('USGS/NED').select('elevation')\n",
    "#terrain = ee.Image('USGS/NED').select('elevation')\n",
    "\n",
    "\n",
    "image = ee.Image('USGS/SRTMGL1_003')\n",
    "terrain = ee.Image('USGS/NED').select('elevation')\n",
    "\n"
   ]
  },
  {
   "cell_type": "code",
   "execution_count": null,
   "metadata": {},
   "outputs": [],
   "source": [
    "vis_params={\n",
    "    \"min\": 0, \n",
    "    \"max\": 4000,\n",
    "    \"palette\": ['006633', 'E5FFCC', '662A00', 'D8D8D8', 'F5F5F5']\n",
    "}"
   ]
  },
  {
   "cell_type": "code",
   "execution_count": null,
   "metadata": {},
   "outputs": [],
   "source": [
    "ee_layer = EarthEngineTerrainLayer(\n",
    "    image,\n",
    "    terrain,\n",
    "    vis_params,\n",
    "    id=\"EETerrainLayer\"\n",
    ")"
   ]
  },
  {
   "cell_type": "code",
   "execution_count": null,
   "metadata": {},
   "outputs": [],
   "source": [
    "view_state = pdk.ViewState(\n",
    "    latitude=36.15,\n",
    "    longitude=-111.96,\n",
    "    zoom=10.5, \n",
    "    bearing=-66.16,\n",
    "    pitch=60)\n",
    "\n",
    "r = pdk.Deck(\n",
    "    layers=[ee_layer], \n",
    "    initial_view_state=view_state\n",
    ")\n",
    "\n",
    "r.show()"
   ]
  },
  {
   "cell_type": "code",
   "execution_count": null,
   "metadata": {},
   "outputs": [],
   "source": []
  },
  {
   "cell_type": "markdown",
   "metadata": {},
   "source": [
    "## 38 - How to use Cloud Optimized GeoTIFF with Earth Engine"
   ]
  },
  {
   "cell_type": "code",
   "execution_count": null,
   "metadata": {},
   "outputs": [],
   "source": []
  },
  {
   "cell_type": "code",
   "execution_count": null,
   "metadata": {},
   "outputs": [],
   "source": []
  },
  {
   "cell_type": "markdown",
   "metadata": {},
   "source": [
    "## 40 Cómo agregar widgets interactivos al mapa"
   ]
  },
  {
   "cell_type": "code",
   "execution_count": 285,
   "metadata": {},
   "outputs": [],
   "source": [
    "import ee\n",
    "import geemap\n",
    "import ipyleaflet\n",
    "import ipywidgets as widgets"
   ]
  },
  {
   "cell_type": "code",
   "execution_count": 286,
   "metadata": {},
   "outputs": [
    {
     "data": {
      "application/vnd.jupyter.widget-view+json": {
       "model_id": "fe3436ebf8754b2986a2209020c3ce01",
       "version_major": 2,
       "version_minor": 0
      },
      "text/plain": [
       "Map(center=[40, -100], controls=(WidgetControl(options=['position'], widget=HBox(children=(ToggleButton(value=…"
      ]
     },
     "metadata": {},
     "output_type": "display_data"
    }
   ],
   "source": [
    "Map = geemap.Map(center=[40, -100], zoom=4)\n",
    "Map"
   ]
  },
  {
   "cell_type": "code",
   "execution_count": 287,
   "metadata": {},
   "outputs": [],
   "source": [
    "dem = ee.Image('USGS/SRTMGL1_003')\n",
    "\n",
    "vis_params = {\n",
    "  'min': 0,\n",
    "  'max': 4000,\n",
    "  'palette': ['006633', 'E5FFCC', '662A00', 'D8D8D8', 'F5F5F5']}\n",
    "\n",
    "Map.addLayer(dem, vis_params, 'DEM')"
   ]
  },
  {
   "cell_type": "code",
   "execution_count": 288,
   "metadata": {},
   "outputs": [],
   "source": [
    "fc = ee.FeatureCollection('TIGER/2018/States')\n",
    "Map.addLayer(fc, {}, 'US States')"
   ]
  },
  {
   "cell_type": "code",
   "execution_count": 289,
   "metadata": {},
   "outputs": [
    {
     "data": {
      "application/vnd.jupyter.widget-view+json": {
       "model_id": "fe3436ebf8754b2986a2209020c3ce01",
       "version_major": 2,
       "version_minor": 0
      },
      "text/plain": [
       "Map(bottom=1851.0, center=[40, -100], controls=(WidgetControl(options=['position'], widget=HBox(children=(Togg…"
      ]
     },
     "metadata": {},
     "output_type": "display_data"
    }
   ],
   "source": [
    "Map"
   ]
  },
  {
   "cell_type": "code",
   "execution_count": 290,
   "metadata": {},
   "outputs": [
    {
     "data": {
      "application/vnd.jupyter.widget-view+json": {
       "model_id": "9f0dc5a74371438aa1d86209aaf290ef",
       "version_major": 2,
       "version_minor": 0
      },
      "text/plain": [
       "Box(children=(FloatSlider(value=1.0, description='opacity', max=1.0),))"
      ]
     },
     "metadata": {},
     "output_type": "display_data"
    }
   ],
   "source": [
    "dem_layer = Map.find_layer('DEM')\n",
    "dem_layer.interact(opacity=(0, 1, 0.1))"
   ]
  },
  {
   "cell_type": "code",
   "execution_count": 291,
   "metadata": {},
   "outputs": [
    {
     "data": {
      "application/vnd.jupyter.widget-view+json": {
       "model_id": "a6fc528f1aa644dbb53111850e8db10b",
       "version_major": 2,
       "version_minor": 0
      },
      "text/plain": [
       "Box(children=(FloatSlider(value=1.0, description='opacity', max=1.0),))"
      ]
     },
     "metadata": {},
     "output_type": "display_data"
    }
   ],
   "source": [
    "vector_layer = Map.find_layer('US States')\n",
    "vector_layer.interact(opacity=(0, 1, 0.1))"
   ]
  },
  {
   "cell_type": "code",
   "execution_count": 294,
   "metadata": {},
   "outputs": [
    {
     "data": {
      "application/vnd.jupyter.widget-view+json": {
       "model_id": "0c367617ca9548c2977b213b75ff3e05",
       "version_major": 2,
       "version_minor": 0
      },
      "text/plain": [
       "IntSlider(value=2000, description='Year:', max=2020, min=1984)"
      ]
     },
     "metadata": {},
     "output_type": "display_data"
    }
   ],
   "source": [
    "int_slider = widgets.IntSlider(\n",
    "    value=2000,\n",
    "    min=1984,\n",
    "    max=2020,\n",
    "    step=1,\n",
    "    description='Year:'\n",
    ")\n",
    "int_slider"
   ]
  },
  {
   "cell_type": "code",
   "execution_count": 295,
   "metadata": {},
   "outputs": [
    {
     "data": {
      "text/plain": [
       "2000"
      ]
     },
     "execution_count": 295,
     "metadata": {},
     "output_type": "execute_result"
    }
   ],
   "source": [
    "int_slider.value"
   ]
  },
  {
   "cell_type": "code",
   "execution_count": 296,
   "metadata": {},
   "outputs": [
    {
     "data": {
      "application/vnd.jupyter.widget-view+json": {
       "model_id": "05043806c89140cd9cf1a5293ceeb685",
       "version_major": 2,
       "version_minor": 0
      },
      "text/plain": [
       "FloatSlider(value=0.0, description='Threshold:', max=1.0, min=-1.0, step=0.05)"
      ]
     },
     "metadata": {},
     "output_type": "display_data"
    }
   ],
   "source": [
    "float_slider = widgets.FloatSlider(\n",
    "    value=0,\n",
    "    min=-1,\n",
    "    max=1,\n",
    "    step=0.05,\n",
    "    description='Threshold:'\n",
    ")\n",
    "float_slider"
   ]
  },
  {
   "cell_type": "code",
   "execution_count": 297,
   "metadata": {},
   "outputs": [
    {
     "data": {
      "text/plain": [
       "0.0"
      ]
     },
     "execution_count": 297,
     "metadata": {},
     "output_type": "execute_result"
    }
   ],
   "source": [
    "float_slider.value"
   ]
  },
  {
   "cell_type": "code",
   "execution_count": null,
   "metadata": {},
   "outputs": [],
   "source": []
  },
  {
   "cell_type": "code",
   "execution_count": null,
   "metadata": {},
   "outputs": [],
   "source": []
  },
  {
   "cell_type": "markdown",
   "metadata": {},
   "source": [
    "## Agrega un widget al mapa\n",
    "\n"
   ]
  },
  {
   "cell_type": "code",
   "execution_count": 301,
   "metadata": {},
   "outputs": [
    {
     "data": {
      "application/vnd.jupyter.widget-view+json": {
       "model_id": "7c2392c5fd8b4be6a07f223c41bc48f0",
       "version_major": 2,
       "version_minor": 0
      },
      "text/plain": [
       "Map(center=[40, -100], controls=(WidgetControl(options=['position'], widget=HBox(children=(ToggleButton(value=…"
      ]
     },
     "metadata": {},
     "output_type": "display_data"
    },
    {
     "name": "stdout",
     "output_type": "stream",
     "text": [
      "Element.toDictionary: Parameter 'element' is required.\n"
     ]
    }
   ],
   "source": [
    "Map = geemap.Map()\n",
    "\n",
    "dem = ee.Image('USGS/SRTMGL1_003')\n",
    "fc = ee.FeatureCollection('TIGER/2018/States')\n",
    "vis_params = {\n",
    "  'min': 0,\n",
    "  'max': 4000,\n",
    "  'palette': ['006633', 'E5FFCC', '662A00', 'D8D8D8', 'F5F5F5']}\n",
    "\n",
    "Map.addLayer(dem, vis_params, 'DEM')\n",
    "Map.addLayer(fc, {}, 'US States')\n",
    "\n",
    "Map"
   ]
  },
  {
   "cell_type": "code",
   "execution_count": 302,
   "metadata": {},
   "outputs": [],
   "source": [
    "output_widget = widgets.Output(layout={'border': '1px solid black'})\n",
    "output_control = ipyleaflet.WidgetControl(widget=output_widget, position='bottomright')\n",
    "Map.add_control(output_control)"
   ]
  },
  {
   "cell_type": "code",
   "execution_count": 303,
   "metadata": {},
   "outputs": [],
   "source": [
    "with output_widget:\n",
    "    print('Nice map!')"
   ]
  },
  {
   "cell_type": "code",
   "execution_count": 304,
   "metadata": {},
   "outputs": [],
   "source": [
    "output_widget.clear_output()\n",
    "logo = widgets.HTML(\n",
    "    value='<img src=\"https://earthengine.google.com/static/images/earth-engine-logo.png\" width=\"100\" height=\"100\">'\n",
    ")\n",
    "with output_widget:\n",
    "    display(logo)"
   ]
  },
  {
   "cell_type": "code",
   "execution_count": 306,
   "metadata": {},
   "outputs": [],
   "source": [
    "def handle_interaction(**kwargs):\n",
    "    latlon = kwargs.get('coordinates')\n",
    "    if kwargs.get('type') == 'click':\n",
    "        Map.default_style = {'cursor': 'wait'}\n",
    "        xy = ee.Geometry.Point(latlon[::-1])\n",
    "        selected_fc = fc.filterBounds(xy)\n",
    "        \n",
    "        with output_widget:\n",
    "            output_widget.clear_output()\n",
    "        \n",
    "            try:\n",
    "                name = selected_fc.first().get('NAME').getInfo()\n",
    "                usps = selected_fc.first().get('STUSPS').getInfo()\n",
    "                Map.layers = Map.layers[:4]        \n",
    "                geom = selected_fc.geometry()\n",
    "                layer_name = name + '-' + usps\n",
    "                Map.addLayer(ee.Image().paint(geom, 0, 2), {'palette': 'red'}, layer_name)  \n",
    "                print(layer_name)\n",
    "            except Exception as e:\n",
    "                print('No feature could be found')\n",
    "                Map.layers = Map.layers[:4]\n",
    "            \n",
    "        Map.default_style = {'cursor': 'pointer'}\n",
    "\n",
    "Map.on_interaction(handle_interaction)"
   ]
  },
  {
   "cell_type": "code",
   "execution_count": null,
   "metadata": {},
   "outputs": [],
   "source": []
  },
  {
   "cell_type": "code",
   "execution_count": null,
   "metadata": {},
   "outputs": [],
   "source": []
  },
  {
   "cell_type": "markdown",
   "metadata": {},
   "source": [
    "## 41 - How to develop an Earth Engine app for mapping surface water dynamics"
   ]
  },
  {
   "cell_type": "markdown",
   "metadata": {},
   "source": [
    "## 42 - How to upload data to Earth Engine Apps using ipywidgets"
   ]
  },
  {
   "cell_type": "code",
   "execution_count": 298,
   "metadata": {},
   "outputs": [
    {
     "data": {
      "application/vnd.jupyter.widget-view+json": {
       "model_id": "367eb036bdad4c48880048fb3e831683",
       "version_major": 2,
       "version_minor": 0
      },
      "text/plain": [
       "IntProgress(value=7, description='Loading:', max=10)"
      ]
     },
     "metadata": {},
     "output_type": "display_data"
    }
   ],
   "source": [
    "int_progress = widgets.IntProgress(\n",
    "    value=7,\n",
    "    min=0,\n",
    "    max=10,\n",
    "    step=1,\n",
    "    description='Loading:',\n",
    "    bar_style='', # 'success', 'info', 'warning', 'danger' or ''\n",
    "    orientation='horizontal'\n",
    ")\n",
    "int_progress"
   ]
  },
  {
   "cell_type": "code",
   "execution_count": 299,
   "metadata": {},
   "outputs": [
    {
     "data": {
      "application/vnd.jupyter.widget-view+json": {
       "model_id": "842a8a994fe04f28a1d06456fc260b03",
       "version_major": 2,
       "version_minor": 0
      },
      "text/plain": [
       "IntText(value=7, description='Any:')"
      ]
     },
     "metadata": {},
     "output_type": "display_data"
    }
   ],
   "source": [
    "int_text = widgets.IntText(\n",
    "    value=7,\n",
    "    description='Any:',\n",
    ")\n",
    "int_text"
   ]
  },
  {
   "cell_type": "code",
   "execution_count": 300,
   "metadata": {
    "scrolled": true
   },
   "outputs": [
    {
     "data": {
      "application/vnd.jupyter.widget-view+json": {
       "model_id": "f97f993770504e8086931621f0a1ebfc",
       "version_major": 2,
       "version_minor": 0
      },
      "text/plain": [
       "FloatText(value=7.5, description='Any:')"
      ]
     },
     "metadata": {},
     "output_type": "display_data"
    }
   ],
   "source": [
    "float_text = widgets.FloatText(\n",
    "    value=7.5,\n",
    "    description='Any:',\n",
    ")\n",
    "float_text"
   ]
  },
  {
   "cell_type": "code",
   "execution_count": null,
   "metadata": {},
   "outputs": [],
   "source": []
  },
  {
   "cell_type": "code",
   "execution_count": null,
   "metadata": {},
   "outputs": [],
   "source": []
  },
  {
   "cell_type": "code",
   "execution_count": null,
   "metadata": {},
   "outputs": [],
   "source": []
  },
  {
   "cell_type": "code",
   "execution_count": null,
   "metadata": {},
   "outputs": [],
   "source": []
  },
  {
   "cell_type": "code",
   "execution_count": null,
   "metadata": {},
   "outputs": [],
   "source": []
  },
  {
   "cell_type": "code",
   "execution_count": null,
   "metadata": {},
   "outputs": [],
   "source": []
  },
  {
   "cell_type": "code",
   "execution_count": null,
   "metadata": {},
   "outputs": [],
   "source": []
  },
  {
   "cell_type": "code",
   "execution_count": null,
   "metadata": {},
   "outputs": [],
   "source": []
  },
  {
   "cell_type": "code",
   "execution_count": null,
   "metadata": {},
   "outputs": [],
   "source": []
  },
  {
   "cell_type": "code",
   "execution_count": null,
   "metadata": {},
   "outputs": [],
   "source": []
  },
  {
   "cell_type": "code",
   "execution_count": null,
   "metadata": {},
   "outputs": [],
   "source": []
  },
  {
   "cell_type": "code",
   "execution_count": null,
   "metadata": {},
   "outputs": [],
   "source": []
  },
  {
   "cell_type": "markdown",
   "metadata": {},
   "source": [
    "#  cartoee"
   ]
  },
  {
   "cell_type": "markdown",
   "metadata": {},
   "source": [
    "## 50 How to create publication quality maps using `cartoee`"
   ]
  },
  {
   "cell_type": "code",
   "execution_count": null,
   "metadata": {},
   "outputs": [],
   "source": [
    "%pylab inline\n",
    "\n",
    "import ee\n",
    "import geemap\n",
    "\n",
    "# import the cartoee functionality from geemap\n",
    "from geemap import cartoee"
   ]
  },
  {
   "cell_type": "code",
   "execution_count": null,
   "metadata": {},
   "outputs": [],
   "source": [
    "geemap.ee_initialize()"
   ]
  },
  {
   "cell_type": "code",
   "execution_count": null,
   "metadata": {},
   "outputs": [],
   "source": [
    "# get an image\n",
    "srtm = ee.Image(\"CGIAR/SRTM90_V4\")"
   ]
  },
  {
   "cell_type": "code",
   "execution_count": null,
   "metadata": {},
   "outputs": [],
   "source": [
    "region = [-180, -60, 180, 85] # define bounding box to request data\n",
    "vis = {'min':0, 'max':3000} # define visualization parameters for image"
   ]
  },
  {
   "cell_type": "code",
   "execution_count": null,
   "metadata": {},
   "outputs": [],
   "source": [
    "fig = plt.figure(figsize=(15, 10))\n",
    "\n",
    "# use cartoee to get a map\n",
    "ax = cartoee.get_map(srtm, region=region, vis_params=vis)\n",
    "\n",
    "# add a colorbar to the map using the visualization params we passed to the map\n",
    "cartoee.add_colorbar(ax, vis, loc=\"bottom\", label=\"Elevation\", orientation=\"horizontal\")\n",
    "\n",
    "# add gridlines to the map at a specified interval\n",
    "cartoee.add_gridlines(ax, interval=[60,30], linestyle=\":\")\n",
    "\n",
    "# add coastlines using the cartopy api\n",
    "ax.coastlines(color=\"red\")\n",
    "\n",
    "show()"
   ]
  },
  {
   "cell_type": "code",
   "execution_count": null,
   "metadata": {},
   "outputs": [],
   "source": [
    "fig = plt.figure(figsize=(15, 10))\n",
    "\n",
    "cmap = \"gist_earth\" # colormap we want to use\n",
    "# cmap = \"terrain\"\n",
    "\n",
    "# use cartoee to get a map\n",
    "ax = cartoee.get_map(srtm, region=region, vis_params=vis, cmap=cmap)\n",
    "\n",
    "# add a colorbar to the map using the visualization params we passed to the map\n",
    "cartoee.add_colorbar(ax, vis, cmap=cmap, loc=\"right\", label=\"Elevation\", orientation=\"vertical\")\n",
    "\n",
    "# add gridlines to the map at a specified interval\n",
    "cartoee.add_gridlines(ax, interval=[60,30], linestyle=\"--\")\n",
    "\n",
    "# add coastlines using the cartopy api\n",
    "ax.coastlines(color=\"red\")\n",
    "\n",
    "ax.set_title(label = 'Global Elevation Map', fontsize=15)\n",
    "\n",
    "show()"
   ]
  },
  {
   "cell_type": "code",
   "execution_count": null,
   "metadata": {},
   "outputs": [],
   "source": [
    "# get a landsat image to visualize\n",
    "image = ee.Image('LANDSAT/LC08/C01/T1_SR/LC08_044034_20140318')\n",
    "\n",
    "# define the visualization parameters to view\n",
    "vis ={\"bands\": ['B5', 'B4', 'B3'], \"min\": 0, \"max\":5000, \"gamma\":1.3}"
   ]
  },
  {
   "cell_type": "code",
   "execution_count": null,
   "metadata": {},
   "outputs": [],
   "source": [
    "fig = plt.figure(figsize=(15, 10))\n",
    "\n",
    "# use cartoee to get a map\n",
    "ax = cartoee.get_map(image, vis_params=vis)\n",
    "\n",
    "# pad the view for some visual appeal\n",
    "cartoee.pad_view(ax)\n",
    "\n",
    "# add the gridlines and specify that the xtick labels be rotated 45 degrees\n",
    "cartoee.add_gridlines(ax,interval=0.5,xtick_rotation=45,linestyle=\":\")\n",
    "\n",
    "# add the coastline\n",
    "ax.coastlines(color=\"yellow\")\n",
    "\n",
    "show()"
   ]
  },
  {
   "cell_type": "code",
   "execution_count": null,
   "metadata": {},
   "outputs": [],
   "source": [
    "fig = plt.figure(figsize=(15, 10))\n",
    "\n",
    "# here is the bounding box of the map extent we want to use\n",
    "# formatted a [W,S,E,N]\n",
    "zoom_region = [-122.6265, 37.3458, -121.8025, 37.9178]\n",
    "\n",
    "# plot the map over the region of interest\n",
    "ax = cartoee.get_map(image, vis_params=vis, region=zoom_region)\n",
    "\n",
    "# add the gridlines and specify that the xtick labels be rotated 45 degrees\n",
    "cartoee.add_gridlines(ax, interval=0.15, xtick_rotation=45, linestyle=\":\")\n",
    "\n",
    "# add coastline\n",
    "ax.coastlines(color=\"yellow\")\n",
    "\n",
    "show()"
   ]
  },
  {
   "cell_type": "code",
   "execution_count": null,
   "metadata": {},
   "outputs": [],
   "source": [
    "fig = plt.figure(figsize=(15, 10))\n",
    "\n",
    "# here is the bounding box of the map extent we want to use\n",
    "# formatted a [W,S,E,N]\n",
    "zoom_region = [-122.6265, 37.3458, -121.8025, 37.9178]\n",
    "\n",
    "# plot the map over the region of interest\n",
    "ax = cartoee.get_map(image, vis_params=vis, region=zoom_region)\n",
    "\n",
    "# add the gridlines and specify that the xtick labels be rotated 45 degrees\n",
    "cartoee.add_gridlines(ax, interval=0.15, xtick_rotation=45, linestyle=\":\")\n",
    "\n",
    "# add coastline\n",
    "ax.coastlines(color=\"yellow\")\n",
    "\n",
    "# add north arrow\n",
    "cartoee.add_north_arrow(ax, text=\"N\", xy=(0.05, 0.25), text_color=\"white\", arrow_color=\"white\", fontsize=20)\n",
    "\n",
    "# add scale bar\n",
    "cartoee.add_scale_bar(ax, length=10, xy=(0.1, 0.05), fontsize=20, color=\"white\", unit=\"km\")\n",
    "\n",
    "ax.set_title(label = 'Landsat False Color Composite (Band 5/4/3)', fontsize=15)\n",
    "\n",
    "show()"
   ]
  },
  {
   "cell_type": "code",
   "execution_count": 50,
   "metadata": {},
   "outputs": [
    {
     "ename": "AttributeError",
     "evalue": "'WindowsPath' object has no attribute 'read'",
     "output_type": "error",
     "traceback": [
      "\u001b[1;31m---------------------------------------------------------------------------\u001b[0m",
      "\u001b[1;31mAttributeError\u001b[0m                            Traceback (most recent call last)",
      "\u001b[1;32m<ipython-input-50-19a072cc1890>\u001b[0m in \u001b[0;36m<module>\u001b[1;34m\u001b[0m\n\u001b[0;32m     11\u001b[0m             \u001b[0mchrome_path\u001b[0m\u001b[1;33m=\u001b[0m\u001b[1;32mNone\u001b[0m\u001b[1;33m,\u001b[0m\u001b[1;33m\u001b[0m\u001b[1;33m\u001b[0m\u001b[0m\n\u001b[0;32m     12\u001b[0m             \u001b[0msave_markdown\u001b[0m\u001b[1;33m=\u001b[0m\u001b[1;32mFalse\u001b[0m\u001b[1;33m,\u001b[0m\u001b[1;33m\u001b[0m\u001b[1;33m\u001b[0m\u001b[0m\n\u001b[1;32m---> 13\u001b[1;33m             \u001b[0mtable_conversion\u001b[0m\u001b[1;33m=\u001b[0m\u001b[1;34m'chrome'\u001b[0m\u001b[1;33m\u001b[0m\u001b[1;33m\u001b[0m\u001b[0m\n\u001b[0m\u001b[0;32m     14\u001b[0m             )\n",
      "\u001b[1;32m~\\anaconda3\\lib\\site-packages\\jupyter_to_medium\\_publish_to_medium.py\u001b[0m in \u001b[0;36mpublish\u001b[1;34m(filename, integration_token, pub_name, title, tags, publish_status, notify_followers, license, canonical_url, chrome_path, save_markdown, table_conversion)\u001b[0m\n\u001b[0;32m    297\u001b[0m     p = Publish(filename, integration_token, pub_name, title, tags, \n\u001b[0;32m    298\u001b[0m                 \u001b[0mpublish_status\u001b[0m\u001b[1;33m,\u001b[0m \u001b[0mnotify_followers\u001b[0m\u001b[1;33m,\u001b[0m \u001b[0mlicense\u001b[0m\u001b[1;33m,\u001b[0m \u001b[0mcanonical_url\u001b[0m\u001b[1;33m,\u001b[0m\u001b[1;33m\u001b[0m\u001b[1;33m\u001b[0m\u001b[0m\n\u001b[1;32m--> 299\u001b[1;33m                 chrome_path, save_markdown, table_conversion)\n\u001b[0m\u001b[0;32m    300\u001b[0m     \u001b[0mp\u001b[0m\u001b[1;33m.\u001b[0m\u001b[0mmain\u001b[0m\u001b[1;33m(\u001b[0m\u001b[1;33m)\u001b[0m\u001b[1;33m\u001b[0m\u001b[1;33m\u001b[0m\u001b[0m\n\u001b[0;32m    301\u001b[0m     \u001b[1;32mreturn\u001b[0m \u001b[0mp\u001b[0m\u001b[1;33m.\u001b[0m\u001b[0mresult\u001b[0m\u001b[1;33m\u001b[0m\u001b[1;33m\u001b[0m\u001b[0m\n",
      "\u001b[1;32m~\\anaconda3\\lib\\site-packages\\jupyter_to_medium\\_publish_to_medium.py\u001b[0m in \u001b[0;36m__init__\u001b[1;34m(self, filename, integration_token, pub_name, title, tags, publish_status, notify_followers, license, canonical_url, chrome_path, save_markdown, table_conversion)\u001b[0m\n\u001b[0;32m     39\u001b[0m         \u001b[0mself\u001b[0m\u001b[1;33m.\u001b[0m\u001b[0mnb_home\u001b[0m \u001b[1;33m=\u001b[0m \u001b[0mself\u001b[0m\u001b[1;33m.\u001b[0m\u001b[0mfilename\u001b[0m\u001b[1;33m.\u001b[0m\u001b[0mparent\u001b[0m\u001b[1;33m\u001b[0m\u001b[1;33m\u001b[0m\u001b[0m\n\u001b[0;32m     40\u001b[0m         \u001b[0mself\u001b[0m\u001b[1;33m.\u001b[0m\u001b[0mresources\u001b[0m \u001b[1;33m=\u001b[0m \u001b[0mself\u001b[0m\u001b[1;33m.\u001b[0m\u001b[0mget_resources\u001b[0m\u001b[1;33m(\u001b[0m\u001b[1;33m)\u001b[0m\u001b[1;33m\u001b[0m\u001b[1;33m\u001b[0m\u001b[0m\n\u001b[1;32m---> 41\u001b[1;33m         \u001b[0mself\u001b[0m\u001b[1;33m.\u001b[0m\u001b[0mnb\u001b[0m \u001b[1;33m=\u001b[0m \u001b[0mself\u001b[0m\u001b[1;33m.\u001b[0m\u001b[0mget_notebook\u001b[0m\u001b[1;33m(\u001b[0m\u001b[1;33m)\u001b[0m\u001b[1;33m\u001b[0m\u001b[1;33m\u001b[0m\u001b[0m\n\u001b[0m\u001b[0;32m     42\u001b[0m         \u001b[0mself\u001b[0m\u001b[1;33m.\u001b[0m\u001b[0mheaders\u001b[0m \u001b[1;33m=\u001b[0m \u001b[0mself\u001b[0m\u001b[1;33m.\u001b[0m\u001b[0mget_headers\u001b[0m\u001b[1;33m(\u001b[0m\u001b[1;33m)\u001b[0m\u001b[1;33m\u001b[0m\u001b[1;33m\u001b[0m\u001b[0m\n\u001b[0;32m     43\u001b[0m         \u001b[0mself\u001b[0m\u001b[1;33m.\u001b[0m\u001b[0mvalidate_args\u001b[0m\u001b[1;33m(\u001b[0m\u001b[1;33m)\u001b[0m\u001b[1;33m\u001b[0m\u001b[1;33m\u001b[0m\u001b[0m\n",
      "\u001b[1;32m~\\anaconda3\\lib\\site-packages\\jupyter_to_medium\\_publish_to_medium.py\u001b[0m in \u001b[0;36mget_notebook\u001b[1;34m(self)\u001b[0m\n\u001b[0;32m     74\u001b[0m \u001b[1;33m\u001b[0m\u001b[0m\n\u001b[0;32m     75\u001b[0m     \u001b[1;32mdef\u001b[0m \u001b[0mget_notebook\u001b[0m\u001b[1;33m(\u001b[0m\u001b[0mself\u001b[0m\u001b[1;33m)\u001b[0m\u001b[1;33m:\u001b[0m\u001b[1;33m\u001b[0m\u001b[1;33m\u001b[0m\u001b[0m\n\u001b[1;32m---> 76\u001b[1;33m         \u001b[1;32mreturn\u001b[0m \u001b[0mnbformat\u001b[0m\u001b[1;33m.\u001b[0m\u001b[0mread\u001b[0m\u001b[1;33m(\u001b[0m\u001b[0mself\u001b[0m\u001b[1;33m.\u001b[0m\u001b[0mfilename\u001b[0m\u001b[1;33m,\u001b[0m \u001b[0mas_version\u001b[0m\u001b[1;33m=\u001b[0m\u001b[1;36m4\u001b[0m\u001b[1;33m)\u001b[0m\u001b[1;33m\u001b[0m\u001b[1;33m\u001b[0m\u001b[0m\n\u001b[0m\u001b[0;32m     77\u001b[0m \u001b[1;33m\u001b[0m\u001b[0m\n\u001b[0;32m     78\u001b[0m     \u001b[1;32mdef\u001b[0m \u001b[0mget_integration_token\u001b[0m\u001b[1;33m(\u001b[0m\u001b[0mself\u001b[0m\u001b[1;33m,\u001b[0m \u001b[0mit\u001b[0m\u001b[1;33m)\u001b[0m\u001b[1;33m:\u001b[0m\u001b[1;33m\u001b[0m\u001b[1;33m\u001b[0m\u001b[0m\n",
      "\u001b[1;32m~\\anaconda3\\lib\\site-packages\\nbformat\\__init__.py\u001b[0m in \u001b[0;36mread\u001b[1;34m(fp, as_version, **kwargs)\u001b[0m\n\u001b[0;32m    138\u001b[0m             \u001b[1;32mreturn\u001b[0m \u001b[0mread\u001b[0m\u001b[1;33m(\u001b[0m\u001b[0mf\u001b[0m\u001b[1;33m,\u001b[0m \u001b[0mas_version\u001b[0m\u001b[1;33m,\u001b[0m \u001b[1;33m**\u001b[0m\u001b[0mkwargs\u001b[0m\u001b[1;33m)\u001b[0m\u001b[1;33m\u001b[0m\u001b[1;33m\u001b[0m\u001b[0m\n\u001b[0;32m    139\u001b[0m \u001b[1;33m\u001b[0m\u001b[0m\n\u001b[1;32m--> 140\u001b[1;33m     \u001b[1;32mreturn\u001b[0m \u001b[0mreads\u001b[0m\u001b[1;33m(\u001b[0m\u001b[0mfp\u001b[0m\u001b[1;33m.\u001b[0m\u001b[0mread\u001b[0m\u001b[1;33m(\u001b[0m\u001b[1;33m)\u001b[0m\u001b[1;33m,\u001b[0m \u001b[0mas_version\u001b[0m\u001b[1;33m,\u001b[0m \u001b[1;33m**\u001b[0m\u001b[0mkwargs\u001b[0m\u001b[1;33m)\u001b[0m\u001b[1;33m\u001b[0m\u001b[1;33m\u001b[0m\u001b[0m\n\u001b[0m\u001b[0;32m    141\u001b[0m \u001b[1;33m\u001b[0m\u001b[0m\n\u001b[0;32m    142\u001b[0m \u001b[1;33m\u001b[0m\u001b[0m\n",
      "\u001b[1;31mAttributeError\u001b[0m: 'WindowsPath' object has no attribute 'read'"
     ]
    }
   ],
   "source": [
    "import jupyter_to_medium as jtm\n",
    "jtm.publish('Curso de geemap.ipynb',\n",
    "    integration_token='20fc9fec57ac2bd784e508569635fbf06870b8fd1bf9e5584ee17d47ee394dca3',\n",
    "    pub_name=None,\n",
    "            title=None,\n",
    "            tags=None,\n",
    "            publish_status='draft',\n",
    "            notify_followers=False,\n",
    "            license='all-rights-reserved',\n",
    "            canonical_url=None,\n",
    "            chrome_path=None,\n",
    "            save_markdown=False,\n",
    "            table_conversion='chrome'\n",
    "            )"
   ]
  },
  {
   "cell_type": "code",
   "execution_count": null,
   "metadata": {},
   "outputs": [],
   "source": []
  }
 ],
 "metadata": {
  "hide_input": false,
  "kernelspec": {
   "display_name": "Python 3",
   "language": "python",
   "name": "python3"
  },
  "language_info": {
   "codemirror_mode": {
    "name": "ipython",
    "version": 3
   },
   "file_extension": ".py",
   "mimetype": "text/x-python",
   "name": "python",
   "nbconvert_exporter": "python",
   "pygments_lexer": "ipython3",
   "version": "3.7.6"
  },
  "toc": {
   "base_numbering": 1,
   "nav_menu": {},
   "number_sections": true,
   "sideBar": true,
   "skip_h1_title": true,
   "title_cell": "Table of Contents",
   "title_sidebar": "Contents",
   "toc_cell": true,
   "toc_position": {},
   "toc_section_display": true,
   "toc_window_display": true
  },
  "varInspector": {
   "cols": {
    "lenName": 16,
    "lenType": 16,
    "lenVar": 40
   },
   "kernels_config": {
    "python": {
     "delete_cmd_postfix": "",
     "delete_cmd_prefix": "del ",
     "library": "var_list.py",
     "varRefreshCmd": "print(var_dic_list())"
    },
    "r": {
     "delete_cmd_postfix": ") ",
     "delete_cmd_prefix": "rm(",
     "library": "var_list.r",
     "varRefreshCmd": "cat(var_dic_list()) "
    }
   },
   "types_to_exclude": [
    "module",
    "function",
    "builtin_function_or_method",
    "instance",
    "_Feature"
   ],
   "window_display": false
  }
 },
 "nbformat": 4,
 "nbformat_minor": 4
}
