{
 "cells": [
  {
   "cell_type": "markdown",
   "metadata": {},
   "source": [
    "<a href=\"https://githubtocolab.com/giswqs/geemap/blob/master/examples/notebooks/us_census_data.ipynb\" target=\"_parent\"><img src=\"https://colab.research.google.com/assets/colab-badge.svg\" alt=\"Open in Colab\"/></a>\n",
    "\n",
    "Uncomment the following line to install [geemap](https://geemap.org) if needed."
   ]
  },
  {
   "cell_type": "markdown",
   "metadata": {},
   "source": [
    "# U.S. Census Data \n",
    "\n",
    "The United States Census Bureau Topologically Integrated Geographic Encoding and Referencing (TIGER) dataset contains the 2018 boundaries for the primary governmental divisions of the United States. In addition to the fifty states, the Census Bureau treats the District of Columbia, Puerto Rico, and each of the island areas (American Samoa, the Commonwealth of the Northern Mariana Islands, Guam, and the U.S. Virgin Islands) as the statistical equivalents of States for the purpose of data presentation. Each feature represents a state or state equivalent.\n",
    "\n",
    "For full technical details on all TIGER 2018 products, see the [TIGER technical documentation](https://www2.census.gov/geo/pdfs/maps-data/data/tiger/tgrshp2018/TGRSHP2018_TechDoc.pdf).\n",
    "\n",
    "* [TIGER: US Census States](https://developers.google.com/earth-engine/datasets/catalog/TIGER_2018_States): `ee.FeatureCollection(\"TIGER/2018/States\")`\n",
    "* [TIGER: US Census Counties](https://developers.google.com/earth-engine/datasets/catalog/TIGER_2018_Counties): `ee.FeatureCollection(\"TIGER/2018/Counties\")`\n",
    "* [TIGER: US Census Tracts](https://developers.google.com/earth-engine/datasets/catalog/TIGER_2010_Tracts_DP1): `ee.FeatureCollection(\"TIGER/2010/Tracts_DP1\")`\n",
    "* [TIGER: US Census Blocks](https://developers.google.com/earth-engine/datasets/catalog/TIGER_2010_Blocks): `ee.FeatureCollection(\"TIGER/2010/Blocks\")`\n",
    "* [TIGER: US Census Roads](https://developers.google.com/earth-engine/datasets/catalog/TIGER_2016_Roads): `ee.FeatureCollection(\"TIGER/2016/Roads\")`\n",
    "* [TIGER: US Census 5-digit ZIP Code](https://developers.google.com/earth-engine/datasets/catalog/TIGER_2010_ZCTA5): `ee.FeatureCollection(\"TIGER/2010/ZCTA5\")`"
   ]
  },
  {
   "cell_type": "markdown",
   "metadata": {},
   "source": [
    "## Install Earth Engine API and geemap\n",
    "Install the [Earth Engine Python API](https://developers.google.com/earth-engine/python_install) and [geemap](https://github.com/giswqs/geemap). The **geemap** Python package is built upon the [ipyleaflet](https://github.com/jupyter-widgets/ipyleaflet) and [folium](https://github.com/python-visualization/folium) packages and implements several methods for interacting with Earth Engine data layers, such as `Map.addLayer()`, `Map.setCenter()`, and `Map.centerObject()`.\n",
    "The following script checks if the geemap package has been installed. If not, it will install geemap, which automatically installs its [dependencies](https://github.com/giswqs/geemap#dependencies), including earthengine-api, folium, and ipyleaflet."
   ]
  },
  {
   "cell_type": "code",
   "execution_count": 1,
   "metadata": {},
   "outputs": [],
   "source": [
    "# Installs geemap package\n",
    "import subprocess\n",
    "\n",
    "try:\n",
    "    import geemap\n",
    "except ImportError:\n",
    "    print('geemap package not installed. Installing ...')\n",
    "    subprocess.check_call([\"python\", '-m', 'pip', 'install', 'geemap'])"
   ]
  },
  {
   "cell_type": "code",
   "execution_count": 2,
   "metadata": {},
   "outputs": [],
   "source": [
    "import ee\n",
    "import geemap"
   ]
  },
  {
   "cell_type": "markdown",
   "metadata": {},
   "source": [
    "## TIGER: US Census States\n",
    "\n",
    "https://developers.google.com/earth-engine/datasets/catalog/TIGER_2018_States\n",
    "\n",
    "![](https://i.imgur.com/DAESBK4.png)\n",
    "\n",
    "### Displaying data"
   ]
  },
  {
   "cell_type": "code",
   "execution_count": 3,
   "metadata": {},
   "outputs": [
    {
     "data": {
      "application/vnd.jupyter.widget-view+json": {
       "model_id": "ef581e64dee74ec28c00b122bece77f8",
       "version_major": 2,
       "version_minor": 0
      },
      "text/plain": [
       "Map(center=[45.14685155912081, -104.21966841664756], controls=(WidgetControl(options=['position'], widget=HBox…"
      ]
     },
     "metadata": {},
     "output_type": "display_data"
    }
   ],
   "source": [
    "Map = geemap.Map(center=[40, -100], zoom=4)\n",
    "\n",
    "states = ee.FeatureCollection('TIGER/2018/States')\n",
    "\n",
    "Map.centerObject(states, 4)\n",
    "Map.addLayer(states, {}, 'US States')\n",
    "\n",
    "Map.addLayerControl()  #This line is not needed for ipyleaflet-based Map\n",
    "Map"
   ]
  },
  {
   "cell_type": "markdown",
   "metadata": {},
   "source": [
    "### Dispalying vector as raster"
   ]
  },
  {
   "cell_type": "code",
   "execution_count": 7,
   "metadata": {},
   "outputs": [
    {
     "data": {
      "application/vnd.jupyter.widget-view+json": {
       "model_id": "e9eef059e91f4ed2a7eed5495ff9663c",
       "version_major": 2,
       "version_minor": 0
      },
      "text/plain": [
       "Map(center=[45.14685155912081, -104.21966841664756], controls=(WidgetControl(options=['position'], widget=HBox…"
      ]
     },
     "metadata": {},
     "output_type": "display_data"
    }
   ],
   "source": [
    "Map = geemap.Map(center=[40, -100], zoom=4)\n",
    "\n",
    "states = ee.FeatureCollection('TIGER/2018/States')\n",
    "image = ee.Image().paint(states, 0, 2)\n",
    "\n",
    "Map.centerObject(states, 4)\n",
    "Map.addLayer(image, {}, 'US States')\n",
    "\n",
    "Map.addLayerControl()\n",
    "Map"
   ]
  },
  {
   "cell_type": "markdown",
   "metadata": {},
   "source": [
    "### Select by attribute\n",
    "\n",
    "#### Select one single state"
   ]
  },
  {
   "cell_type": "code",
   "execution_count": 9,
   "metadata": {},
   "outputs": [
    {
     "data": {
      "application/vnd.jupyter.widget-view+json": {
       "model_id": "a272713c5c5f4392ba43e5a3f5e2c742",
       "version_major": 2,
       "version_minor": 0
      },
      "text/plain": [
       "Map(center=[35.8579904338385, -86.35074162079951], controls=(WidgetControl(options=['position'], widget=HBox(c…"
      ]
     },
     "metadata": {},
     "output_type": "display_data"
    }
   ],
   "source": [
    "Map = geemap.Map(center=[40, -100], zoom=4)\n",
    "\n",
    "tn = ee.FeatureCollection('TIGER/2018/States') \\\n",
    "    .filter(ee.Filter.eq(\"NAME\", 'Tennessee')) \n",
    "\n",
    "Map.centerObject(tn, 6)\n",
    "Map.addLayer(tn, {}, 'Tennessee')\n",
    "\n",
    "Map.addLayerControl()\n",
    "Map"
   ]
  },
  {
   "cell_type": "code",
   "execution_count": 10,
   "metadata": {},
   "outputs": [
    {
     "name": "stdout",
     "output_type": "stream",
     "text": [
      "{'ALAND': 106802728188, 'AWATER': 2350123465, 'DIVISION': '6', 'FUNCSTAT': 'A', 'GEOID': '47', 'INTPTLAT': '+35.8608030', 'INTPTLON': '-086.3499896', 'LSAD': '00', 'MTFCC': 'G4000', 'NAME': 'Tennessee', 'REGION': '3', 'STATEFP': '47', 'STATENS': '01325873', 'STUSPS': 'TN'}\n"
     ]
    }
   ],
   "source": [
    "tn = ee.FeatureCollection('TIGER/2018/States') \\\n",
    "    .filter(ee.Filter.eq(\"NAME\", 'Tennessee')) \\\n",
    "    .first()\n",
    "\n",
    "props = tn.toDictionary().getInfo()\n",
    "print(props)"
   ]
  },
  {
   "cell_type": "markdown",
   "metadata": {},
   "source": [
    "#### Select multiple states"
   ]
  },
  {
   "cell_type": "code",
   "execution_count": 11,
   "metadata": {
    "scrolled": true
   },
   "outputs": [
    {
     "data": {
      "application/vnd.jupyter.widget-view+json": {
       "model_id": "528868eabf134e2bb858cc7b94496eb1",
       "version_major": 2,
       "version_minor": 0
      },
      "text/plain": [
       "Map(center=[33.56045133541526, -85.3765438704669], controls=(WidgetControl(options=['position'], widget=HBox(c…"
      ]
     },
     "metadata": {},
     "output_type": "display_data"
    }
   ],
   "source": [
    "Map = geemap.Map(center=[40, -100], zoom=4)\n",
    "\n",
    "selected = ee.FeatureCollection('TIGER/2018/States') \\\n",
    "    .filter(ee.Filter.inList(\"NAME\", ['Tennessee', 'Alabama', 'Georgia']))\n",
    "\n",
    "Map.centerObject(selected, 6)\n",
    "Map.addLayer(selected, {}, 'Selected states')\n",
    "\n",
    "Map.addLayerControl()\n",
    "Map"
   ]
  },
  {
   "cell_type": "markdown",
   "metadata": {},
   "source": [
    "#### Printing all values of a column"
   ]
  },
  {
   "cell_type": "code",
   "execution_count": 12,
   "metadata": {},
   "outputs": [
    {
     "name": "stdout",
     "output_type": "stream",
     "text": [
      "['AK', 'TX', 'CA', 'MT', 'NM', 'AZ', 'NV', 'CO', 'WY', 'OR', 'ID', 'UT', 'KS', 'MN', 'NE', 'SD', 'ND', 'MO', 'OK', 'WA', 'GA', 'MI', 'IA', 'IL', 'WI', 'FL', 'AR', 'AL', 'NC', 'NY', 'MS', 'PA', 'LA', 'TN', 'OH', 'KY', 'VA', 'IN', 'ME', 'SC', 'WV', 'MD', 'VT', 'NH', 'MA', 'NJ', 'HI', 'CT', 'PR', 'DE', 'RI', 'GU', 'MP', 'VI', 'AS', 'DC']\n"
     ]
    }
   ],
   "source": [
    "states = ee.FeatureCollection('TIGER/2018/States').sort('ALAND', False)\n",
    "names = states.aggregate_array(\"STUSPS\").getInfo()\n",
    "print(names)"
   ]
  },
  {
   "cell_type": "code",
   "execution_count": 13,
   "metadata": {},
   "outputs": [
    {
     "name": "stdout",
     "output_type": "stream",
     "text": [
      "[1478839695958, 676653171537, 403503931312, 376962738765, 314196306401, 294198551143, 284329506470, 268422891711, 251458544898, 248606993270, 214049787659, 212886221680, 211755344060, 206228939448, 198956658395, 196346981786, 178707534813, 178050802184, 177662925723, 172112588220, 149482048342, 146600952990, 144661267977, 143780567633, 140290039723, 138949136250, 134768872727, 131174048583, 125923656064, 122049149763, 121533519481, 115884442321, 111897594374, 106802728188, 105828882568, 102279490672, 102257717110, 92789302676, 79887426037, 77864918488, 62266474513, 25151100280, 23874175944, 23189413166, 20205125364, 19047825980, 16633990195, 12542497068, 8868896030, 5045925646, 2677779902, 543555840, 472292529, 348021896, 197759063, 158340391]\n"
     ]
    }
   ],
   "source": [
    "areas = states.aggregate_array(\"ALAND\").getInfo()\n",
    "print(areas)"
   ]
  },
  {
   "cell_type": "code",
   "execution_count": 14,
   "metadata": {},
   "outputs": [],
   "source": [
    "import matplotlib.pyplot as plt\n",
    "%matplotlib notebook"
   ]
  },
  {
   "cell_type": "code",
   "execution_count": 15,
   "metadata": {},
   "outputs": [
    {
     "data": {
      "application/javascript": [
       "/* Put everything inside the global mpl namespace */\n",
       "window.mpl = {};\n",
       "\n",
       "\n",
       "mpl.get_websocket_type = function() {\n",
       "    if (typeof(WebSocket) !== 'undefined') {\n",
       "        return WebSocket;\n",
       "    } else if (typeof(MozWebSocket) !== 'undefined') {\n",
       "        return MozWebSocket;\n",
       "    } else {\n",
       "        alert('Your browser does not have WebSocket support. ' +\n",
       "              'Please try Chrome, Safari or Firefox ≥ 6. ' +\n",
       "              'Firefox 4 and 5 are also supported but you ' +\n",
       "              'have to enable WebSockets in about:config.');\n",
       "    };\n",
       "}\n",
       "\n",
       "mpl.figure = function(figure_id, websocket, ondownload, parent_element) {\n",
       "    this.id = figure_id;\n",
       "\n",
       "    this.ws = websocket;\n",
       "\n",
       "    this.supports_binary = (this.ws.binaryType != undefined);\n",
       "\n",
       "    if (!this.supports_binary) {\n",
       "        var warnings = document.getElementById(\"mpl-warnings\");\n",
       "        if (warnings) {\n",
       "            warnings.style.display = 'block';\n",
       "            warnings.textContent = (\n",
       "                \"This browser does not support binary websocket messages. \" +\n",
       "                    \"Performance may be slow.\");\n",
       "        }\n",
       "    }\n",
       "\n",
       "    this.imageObj = new Image();\n",
       "\n",
       "    this.context = undefined;\n",
       "    this.message = undefined;\n",
       "    this.canvas = undefined;\n",
       "    this.rubberband_canvas = undefined;\n",
       "    this.rubberband_context = undefined;\n",
       "    this.format_dropdown = undefined;\n",
       "\n",
       "    this.image_mode = 'full';\n",
       "\n",
       "    this.root = $('<div/>');\n",
       "    this._root_extra_style(this.root)\n",
       "    this.root.attr('style', 'display: inline-block');\n",
       "\n",
       "    $(parent_element).append(this.root);\n",
       "\n",
       "    this._init_header(this);\n",
       "    this._init_canvas(this);\n",
       "    this._init_toolbar(this);\n",
       "\n",
       "    var fig = this;\n",
       "\n",
       "    this.waiting = false;\n",
       "\n",
       "    this.ws.onopen =  function () {\n",
       "            fig.send_message(\"supports_binary\", {value: fig.supports_binary});\n",
       "            fig.send_message(\"send_image_mode\", {});\n",
       "            if (mpl.ratio != 1) {\n",
       "                fig.send_message(\"set_dpi_ratio\", {'dpi_ratio': mpl.ratio});\n",
       "            }\n",
       "            fig.send_message(\"refresh\", {});\n",
       "        }\n",
       "\n",
       "    this.imageObj.onload = function() {\n",
       "            if (fig.image_mode == 'full') {\n",
       "                // Full images could contain transparency (where diff images\n",
       "                // almost always do), so we need to clear the canvas so that\n",
       "                // there is no ghosting.\n",
       "                fig.context.clearRect(0, 0, fig.canvas.width, fig.canvas.height);\n",
       "            }\n",
       "            fig.context.drawImage(fig.imageObj, 0, 0);\n",
       "        };\n",
       "\n",
       "    this.imageObj.onunload = function() {\n",
       "        fig.ws.close();\n",
       "    }\n",
       "\n",
       "    this.ws.onmessage = this._make_on_message_function(this);\n",
       "\n",
       "    this.ondownload = ondownload;\n",
       "}\n",
       "\n",
       "mpl.figure.prototype._init_header = function() {\n",
       "    var titlebar = $(\n",
       "        '<div class=\"ui-dialog-titlebar ui-widget-header ui-corner-all ' +\n",
       "        'ui-helper-clearfix\"/>');\n",
       "    var titletext = $(\n",
       "        '<div class=\"ui-dialog-title\" style=\"width: 100%; ' +\n",
       "        'text-align: center; padding: 3px;\"/>');\n",
       "    titlebar.append(titletext)\n",
       "    this.root.append(titlebar);\n",
       "    this.header = titletext[0];\n",
       "}\n",
       "\n",
       "\n",
       "\n",
       "mpl.figure.prototype._canvas_extra_style = function(canvas_div) {\n",
       "\n",
       "}\n",
       "\n",
       "\n",
       "mpl.figure.prototype._root_extra_style = function(canvas_div) {\n",
       "\n",
       "}\n",
       "\n",
       "mpl.figure.prototype._init_canvas = function() {\n",
       "    var fig = this;\n",
       "\n",
       "    var canvas_div = $('<div/>');\n",
       "\n",
       "    canvas_div.attr('style', 'position: relative; clear: both; outline: 0');\n",
       "\n",
       "    function canvas_keyboard_event(event) {\n",
       "        return fig.key_event(event, event['data']);\n",
       "    }\n",
       "\n",
       "    canvas_div.keydown('key_press', canvas_keyboard_event);\n",
       "    canvas_div.keyup('key_release', canvas_keyboard_event);\n",
       "    this.canvas_div = canvas_div\n",
       "    this._canvas_extra_style(canvas_div)\n",
       "    this.root.append(canvas_div);\n",
       "\n",
       "    var canvas = $('<canvas/>');\n",
       "    canvas.addClass('mpl-canvas');\n",
       "    canvas.attr('style', \"left: 0; top: 0; z-index: 0; outline: 0\")\n",
       "\n",
       "    this.canvas = canvas[0];\n",
       "    this.context = canvas[0].getContext(\"2d\");\n",
       "\n",
       "    var backingStore = this.context.backingStorePixelRatio ||\n",
       "\tthis.context.webkitBackingStorePixelRatio ||\n",
       "\tthis.context.mozBackingStorePixelRatio ||\n",
       "\tthis.context.msBackingStorePixelRatio ||\n",
       "\tthis.context.oBackingStorePixelRatio ||\n",
       "\tthis.context.backingStorePixelRatio || 1;\n",
       "\n",
       "    mpl.ratio = (window.devicePixelRatio || 1) / backingStore;\n",
       "\n",
       "    var rubberband = $('<canvas/>');\n",
       "    rubberband.attr('style', \"position: absolute; left: 0; top: 0; z-index: 1;\")\n",
       "\n",
       "    var pass_mouse_events = true;\n",
       "\n",
       "    canvas_div.resizable({\n",
       "        start: function(event, ui) {\n",
       "            pass_mouse_events = false;\n",
       "        },\n",
       "        resize: function(event, ui) {\n",
       "            fig.request_resize(ui.size.width, ui.size.height);\n",
       "        },\n",
       "        stop: function(event, ui) {\n",
       "            pass_mouse_events = true;\n",
       "            fig.request_resize(ui.size.width, ui.size.height);\n",
       "        },\n",
       "    });\n",
       "\n",
       "    function mouse_event_fn(event) {\n",
       "        if (pass_mouse_events)\n",
       "            return fig.mouse_event(event, event['data']);\n",
       "    }\n",
       "\n",
       "    rubberband.mousedown('button_press', mouse_event_fn);\n",
       "    rubberband.mouseup('button_release', mouse_event_fn);\n",
       "    // Throttle sequential mouse events to 1 every 20ms.\n",
       "    rubberband.mousemove('motion_notify', mouse_event_fn);\n",
       "\n",
       "    rubberband.mouseenter('figure_enter', mouse_event_fn);\n",
       "    rubberband.mouseleave('figure_leave', mouse_event_fn);\n",
       "\n",
       "    canvas_div.on(\"wheel\", function (event) {\n",
       "        event = event.originalEvent;\n",
       "        event['data'] = 'scroll'\n",
       "        if (event.deltaY < 0) {\n",
       "            event.step = 1;\n",
       "        } else {\n",
       "            event.step = -1;\n",
       "        }\n",
       "        mouse_event_fn(event);\n",
       "    });\n",
       "\n",
       "    canvas_div.append(canvas);\n",
       "    canvas_div.append(rubberband);\n",
       "\n",
       "    this.rubberband = rubberband;\n",
       "    this.rubberband_canvas = rubberband[0];\n",
       "    this.rubberband_context = rubberband[0].getContext(\"2d\");\n",
       "    this.rubberband_context.strokeStyle = \"#000000\";\n",
       "\n",
       "    this._resize_canvas = function(width, height) {\n",
       "        // Keep the size of the canvas, canvas container, and rubber band\n",
       "        // canvas in synch.\n",
       "        canvas_div.css('width', width)\n",
       "        canvas_div.css('height', height)\n",
       "\n",
       "        canvas.attr('width', width * mpl.ratio);\n",
       "        canvas.attr('height', height * mpl.ratio);\n",
       "        canvas.attr('style', 'width: ' + width + 'px; height: ' + height + 'px;');\n",
       "\n",
       "        rubberband.attr('width', width);\n",
       "        rubberband.attr('height', height);\n",
       "    }\n",
       "\n",
       "    // Set the figure to an initial 600x600px, this will subsequently be updated\n",
       "    // upon first draw.\n",
       "    this._resize_canvas(600, 600);\n",
       "\n",
       "    // Disable right mouse context menu.\n",
       "    $(this.rubberband_canvas).bind(\"contextmenu\",function(e){\n",
       "        return false;\n",
       "    });\n",
       "\n",
       "    function set_focus () {\n",
       "        canvas.focus();\n",
       "        canvas_div.focus();\n",
       "    }\n",
       "\n",
       "    window.setTimeout(set_focus, 100);\n",
       "}\n",
       "\n",
       "mpl.figure.prototype._init_toolbar = function() {\n",
       "    var fig = this;\n",
       "\n",
       "    var nav_element = $('<div/>');\n",
       "    nav_element.attr('style', 'width: 100%');\n",
       "    this.root.append(nav_element);\n",
       "\n",
       "    // Define a callback function for later on.\n",
       "    function toolbar_event(event) {\n",
       "        return fig.toolbar_button_onclick(event['data']);\n",
       "    }\n",
       "    function toolbar_mouse_event(event) {\n",
       "        return fig.toolbar_button_onmouseover(event['data']);\n",
       "    }\n",
       "\n",
       "    for(var toolbar_ind in mpl.toolbar_items) {\n",
       "        var name = mpl.toolbar_items[toolbar_ind][0];\n",
       "        var tooltip = mpl.toolbar_items[toolbar_ind][1];\n",
       "        var image = mpl.toolbar_items[toolbar_ind][2];\n",
       "        var method_name = mpl.toolbar_items[toolbar_ind][3];\n",
       "\n",
       "        if (!name) {\n",
       "            // put a spacer in here.\n",
       "            continue;\n",
       "        }\n",
       "        var button = $('<button/>');\n",
       "        button.addClass('ui-button ui-widget ui-state-default ui-corner-all ' +\n",
       "                        'ui-button-icon-only');\n",
       "        button.attr('role', 'button');\n",
       "        button.attr('aria-disabled', 'false');\n",
       "        button.click(method_name, toolbar_event);\n",
       "        button.mouseover(tooltip, toolbar_mouse_event);\n",
       "\n",
       "        var icon_img = $('<span/>');\n",
       "        icon_img.addClass('ui-button-icon-primary ui-icon');\n",
       "        icon_img.addClass(image);\n",
       "        icon_img.addClass('ui-corner-all');\n",
       "\n",
       "        var tooltip_span = $('<span/>');\n",
       "        tooltip_span.addClass('ui-button-text');\n",
       "        tooltip_span.html(tooltip);\n",
       "\n",
       "        button.append(icon_img);\n",
       "        button.append(tooltip_span);\n",
       "\n",
       "        nav_element.append(button);\n",
       "    }\n",
       "\n",
       "    var fmt_picker_span = $('<span/>');\n",
       "\n",
       "    var fmt_picker = $('<select/>');\n",
       "    fmt_picker.addClass('mpl-toolbar-option ui-widget ui-widget-content');\n",
       "    fmt_picker_span.append(fmt_picker);\n",
       "    nav_element.append(fmt_picker_span);\n",
       "    this.format_dropdown = fmt_picker[0];\n",
       "\n",
       "    for (var ind in mpl.extensions) {\n",
       "        var fmt = mpl.extensions[ind];\n",
       "        var option = $(\n",
       "            '<option/>', {selected: fmt === mpl.default_extension}).html(fmt);\n",
       "        fmt_picker.append(option);\n",
       "    }\n",
       "\n",
       "    // Add hover states to the ui-buttons\n",
       "    $( \".ui-button\" ).hover(\n",
       "        function() { $(this).addClass(\"ui-state-hover\");},\n",
       "        function() { $(this).removeClass(\"ui-state-hover\");}\n",
       "    );\n",
       "\n",
       "    var status_bar = $('<span class=\"mpl-message\"/>');\n",
       "    nav_element.append(status_bar);\n",
       "    this.message = status_bar[0];\n",
       "}\n",
       "\n",
       "mpl.figure.prototype.request_resize = function(x_pixels, y_pixels) {\n",
       "    // Request matplotlib to resize the figure. Matplotlib will then trigger a resize in the client,\n",
       "    // which will in turn request a refresh of the image.\n",
       "    this.send_message('resize', {'width': x_pixels, 'height': y_pixels});\n",
       "}\n",
       "\n",
       "mpl.figure.prototype.send_message = function(type, properties) {\n",
       "    properties['type'] = type;\n",
       "    properties['figure_id'] = this.id;\n",
       "    this.ws.send(JSON.stringify(properties));\n",
       "}\n",
       "\n",
       "mpl.figure.prototype.send_draw_message = function() {\n",
       "    if (!this.waiting) {\n",
       "        this.waiting = true;\n",
       "        this.ws.send(JSON.stringify({type: \"draw\", figure_id: this.id}));\n",
       "    }\n",
       "}\n",
       "\n",
       "\n",
       "mpl.figure.prototype.handle_save = function(fig, msg) {\n",
       "    var format_dropdown = fig.format_dropdown;\n",
       "    var format = format_dropdown.options[format_dropdown.selectedIndex].value;\n",
       "    fig.ondownload(fig, format);\n",
       "}\n",
       "\n",
       "\n",
       "mpl.figure.prototype.handle_resize = function(fig, msg) {\n",
       "    var size = msg['size'];\n",
       "    if (size[0] != fig.canvas.width || size[1] != fig.canvas.height) {\n",
       "        fig._resize_canvas(size[0], size[1]);\n",
       "        fig.send_message(\"refresh\", {});\n",
       "    };\n",
       "}\n",
       "\n",
       "mpl.figure.prototype.handle_rubberband = function(fig, msg) {\n",
       "    var x0 = msg['x0'] / mpl.ratio;\n",
       "    var y0 = (fig.canvas.height - msg['y0']) / mpl.ratio;\n",
       "    var x1 = msg['x1'] / mpl.ratio;\n",
       "    var y1 = (fig.canvas.height - msg['y1']) / mpl.ratio;\n",
       "    x0 = Math.floor(x0) + 0.5;\n",
       "    y0 = Math.floor(y0) + 0.5;\n",
       "    x1 = Math.floor(x1) + 0.5;\n",
       "    y1 = Math.floor(y1) + 0.5;\n",
       "    var min_x = Math.min(x0, x1);\n",
       "    var min_y = Math.min(y0, y1);\n",
       "    var width = Math.abs(x1 - x0);\n",
       "    var height = Math.abs(y1 - y0);\n",
       "\n",
       "    fig.rubberband_context.clearRect(\n",
       "        0, 0, fig.canvas.width / mpl.ratio, fig.canvas.height / mpl.ratio);\n",
       "\n",
       "    fig.rubberband_context.strokeRect(min_x, min_y, width, height);\n",
       "}\n",
       "\n",
       "mpl.figure.prototype.handle_figure_label = function(fig, msg) {\n",
       "    // Updates the figure title.\n",
       "    fig.header.textContent = msg['label'];\n",
       "}\n",
       "\n",
       "mpl.figure.prototype.handle_cursor = function(fig, msg) {\n",
       "    var cursor = msg['cursor'];\n",
       "    switch(cursor)\n",
       "    {\n",
       "    case 0:\n",
       "        cursor = 'pointer';\n",
       "        break;\n",
       "    case 1:\n",
       "        cursor = 'default';\n",
       "        break;\n",
       "    case 2:\n",
       "        cursor = 'crosshair';\n",
       "        break;\n",
       "    case 3:\n",
       "        cursor = 'move';\n",
       "        break;\n",
       "    }\n",
       "    fig.rubberband_canvas.style.cursor = cursor;\n",
       "}\n",
       "\n",
       "mpl.figure.prototype.handle_message = function(fig, msg) {\n",
       "    fig.message.textContent = msg['message'];\n",
       "}\n",
       "\n",
       "mpl.figure.prototype.handle_draw = function(fig, msg) {\n",
       "    // Request the server to send over a new figure.\n",
       "    fig.send_draw_message();\n",
       "}\n",
       "\n",
       "mpl.figure.prototype.handle_image_mode = function(fig, msg) {\n",
       "    fig.image_mode = msg['mode'];\n",
       "}\n",
       "\n",
       "mpl.figure.prototype.updated_canvas_event = function() {\n",
       "    // Called whenever the canvas gets updated.\n",
       "    this.send_message(\"ack\", {});\n",
       "}\n",
       "\n",
       "// A function to construct a web socket function for onmessage handling.\n",
       "// Called in the figure constructor.\n",
       "mpl.figure.prototype._make_on_message_function = function(fig) {\n",
       "    return function socket_on_message(evt) {\n",
       "        if (evt.data instanceof Blob) {\n",
       "            /* FIXME: We get \"Resource interpreted as Image but\n",
       "             * transferred with MIME type text/plain:\" errors on\n",
       "             * Chrome.  But how to set the MIME type?  It doesn't seem\n",
       "             * to be part of the websocket stream */\n",
       "            evt.data.type = \"image/png\";\n",
       "\n",
       "            /* Free the memory for the previous frames */\n",
       "            if (fig.imageObj.src) {\n",
       "                (window.URL || window.webkitURL).revokeObjectURL(\n",
       "                    fig.imageObj.src);\n",
       "            }\n",
       "\n",
       "            fig.imageObj.src = (window.URL || window.webkitURL).createObjectURL(\n",
       "                evt.data);\n",
       "            fig.updated_canvas_event();\n",
       "            fig.waiting = false;\n",
       "            return;\n",
       "        }\n",
       "        else if (typeof evt.data === 'string' && evt.data.slice(0, 21) == \"data:image/png;base64\") {\n",
       "            fig.imageObj.src = evt.data;\n",
       "            fig.updated_canvas_event();\n",
       "            fig.waiting = false;\n",
       "            return;\n",
       "        }\n",
       "\n",
       "        var msg = JSON.parse(evt.data);\n",
       "        var msg_type = msg['type'];\n",
       "\n",
       "        // Call the  \"handle_{type}\" callback, which takes\n",
       "        // the figure and JSON message as its only arguments.\n",
       "        try {\n",
       "            var callback = fig[\"handle_\" + msg_type];\n",
       "        } catch (e) {\n",
       "            console.log(\"No handler for the '\" + msg_type + \"' message type: \", msg);\n",
       "            return;\n",
       "        }\n",
       "\n",
       "        if (callback) {\n",
       "            try {\n",
       "                // console.log(\"Handling '\" + msg_type + \"' message: \", msg);\n",
       "                callback(fig, msg);\n",
       "            } catch (e) {\n",
       "                console.log(\"Exception inside the 'handler_\" + msg_type + \"' callback:\", e, e.stack, msg);\n",
       "            }\n",
       "        }\n",
       "    };\n",
       "}\n",
       "\n",
       "// from http://stackoverflow.com/questions/1114465/getting-mouse-location-in-canvas\n",
       "mpl.findpos = function(e) {\n",
       "    //this section is from http://www.quirksmode.org/js/events_properties.html\n",
       "    var targ;\n",
       "    if (!e)\n",
       "        e = window.event;\n",
       "    if (e.target)\n",
       "        targ = e.target;\n",
       "    else if (e.srcElement)\n",
       "        targ = e.srcElement;\n",
       "    if (targ.nodeType == 3) // defeat Safari bug\n",
       "        targ = targ.parentNode;\n",
       "\n",
       "    // jQuery normalizes the pageX and pageY\n",
       "    // pageX,Y are the mouse positions relative to the document\n",
       "    // offset() returns the position of the element relative to the document\n",
       "    var x = e.pageX - $(targ).offset().left;\n",
       "    var y = e.pageY - $(targ).offset().top;\n",
       "\n",
       "    return {\"x\": x, \"y\": y};\n",
       "};\n",
       "\n",
       "/*\n",
       " * return a copy of an object with only non-object keys\n",
       " * we need this to avoid circular references\n",
       " * http://stackoverflow.com/a/24161582/3208463\n",
       " */\n",
       "function simpleKeys (original) {\n",
       "  return Object.keys(original).reduce(function (obj, key) {\n",
       "    if (typeof original[key] !== 'object')\n",
       "        obj[key] = original[key]\n",
       "    return obj;\n",
       "  }, {});\n",
       "}\n",
       "\n",
       "mpl.figure.prototype.mouse_event = function(event, name) {\n",
       "    var canvas_pos = mpl.findpos(event)\n",
       "\n",
       "    if (name === 'button_press')\n",
       "    {\n",
       "        this.canvas.focus();\n",
       "        this.canvas_div.focus();\n",
       "    }\n",
       "\n",
       "    var x = canvas_pos.x * mpl.ratio;\n",
       "    var y = canvas_pos.y * mpl.ratio;\n",
       "\n",
       "    this.send_message(name, {x: x, y: y, button: event.button,\n",
       "                             step: event.step,\n",
       "                             guiEvent: simpleKeys(event)});\n",
       "\n",
       "    /* This prevents the web browser from automatically changing to\n",
       "     * the text insertion cursor when the button is pressed.  We want\n",
       "     * to control all of the cursor setting manually through the\n",
       "     * 'cursor' event from matplotlib */\n",
       "    event.preventDefault();\n",
       "    return false;\n",
       "}\n",
       "\n",
       "mpl.figure.prototype._key_event_extra = function(event, name) {\n",
       "    // Handle any extra behaviour associated with a key event\n",
       "}\n",
       "\n",
       "mpl.figure.prototype.key_event = function(event, name) {\n",
       "\n",
       "    // Prevent repeat events\n",
       "    if (name == 'key_press')\n",
       "    {\n",
       "        if (event.which === this._key)\n",
       "            return;\n",
       "        else\n",
       "            this._key = event.which;\n",
       "    }\n",
       "    if (name == 'key_release')\n",
       "        this._key = null;\n",
       "\n",
       "    var value = '';\n",
       "    if (event.ctrlKey && event.which != 17)\n",
       "        value += \"ctrl+\";\n",
       "    if (event.altKey && event.which != 18)\n",
       "        value += \"alt+\";\n",
       "    if (event.shiftKey && event.which != 16)\n",
       "        value += \"shift+\";\n",
       "\n",
       "    value += 'k';\n",
       "    value += event.which.toString();\n",
       "\n",
       "    this._key_event_extra(event, name);\n",
       "\n",
       "    this.send_message(name, {key: value,\n",
       "                             guiEvent: simpleKeys(event)});\n",
       "    return false;\n",
       "}\n",
       "\n",
       "mpl.figure.prototype.toolbar_button_onclick = function(name) {\n",
       "    if (name == 'download') {\n",
       "        this.handle_save(this, null);\n",
       "    } else {\n",
       "        this.send_message(\"toolbar_button\", {name: name});\n",
       "    }\n",
       "};\n",
       "\n",
       "mpl.figure.prototype.toolbar_button_onmouseover = function(tooltip) {\n",
       "    this.message.textContent = tooltip;\n",
       "};\n",
       "mpl.toolbar_items = [[\"Home\", \"Reset original view\", \"fa fa-home icon-home\", \"home\"], [\"Back\", \"Back to previous view\", \"fa fa-arrow-left icon-arrow-left\", \"back\"], [\"Forward\", \"Forward to next view\", \"fa fa-arrow-right icon-arrow-right\", \"forward\"], [\"\", \"\", \"\", \"\"], [\"Pan\", \"Pan axes with left mouse, zoom with right\", \"fa fa-arrows icon-move\", \"pan\"], [\"Zoom\", \"Zoom to rectangle\", \"fa fa-square-o icon-check-empty\", \"zoom\"], [\"\", \"\", \"\", \"\"], [\"Download\", \"Download plot\", \"fa fa-floppy-o icon-save\", \"download\"]];\n",
       "\n",
       "mpl.extensions = [\"eps\", \"jpeg\", \"pdf\", \"png\", \"ps\", \"raw\", \"svg\", \"tif\"];\n",
       "\n",
       "mpl.default_extension = \"png\";var comm_websocket_adapter = function(comm) {\n",
       "    // Create a \"websocket\"-like object which calls the given IPython comm\n",
       "    // object with the appropriate methods. Currently this is a non binary\n",
       "    // socket, so there is still some room for performance tuning.\n",
       "    var ws = {};\n",
       "\n",
       "    ws.close = function() {\n",
       "        comm.close()\n",
       "    };\n",
       "    ws.send = function(m) {\n",
       "        //console.log('sending', m);\n",
       "        comm.send(m);\n",
       "    };\n",
       "    // Register the callback with on_msg.\n",
       "    comm.on_msg(function(msg) {\n",
       "        //console.log('receiving', msg['content']['data'], msg);\n",
       "        // Pass the mpl event to the overridden (by mpl) onmessage function.\n",
       "        ws.onmessage(msg['content']['data'])\n",
       "    });\n",
       "    return ws;\n",
       "}\n",
       "\n",
       "mpl.mpl_figure_comm = function(comm, msg) {\n",
       "    // This is the function which gets called when the mpl process\n",
       "    // starts-up an IPython Comm through the \"matplotlib\" channel.\n",
       "\n",
       "    var id = msg.content.data.id;\n",
       "    // Get hold of the div created by the display call when the Comm\n",
       "    // socket was opened in Python.\n",
       "    var element = $(\"#\" + id);\n",
       "    var ws_proxy = comm_websocket_adapter(comm)\n",
       "\n",
       "    function ondownload(figure, format) {\n",
       "        window.open(figure.imageObj.src);\n",
       "    }\n",
       "\n",
       "    var fig = new mpl.figure(id, ws_proxy,\n",
       "                           ondownload,\n",
       "                           element.get(0));\n",
       "\n",
       "    // Call onopen now - mpl needs it, as it is assuming we've passed it a real\n",
       "    // web socket which is closed, not our websocket->open comm proxy.\n",
       "    ws_proxy.onopen();\n",
       "\n",
       "    fig.parent_element = element.get(0);\n",
       "    fig.cell_info = mpl.find_output_cell(\"<div id='\" + id + \"'></div>\");\n",
       "    if (!fig.cell_info) {\n",
       "        console.error(\"Failed to find cell for figure\", id, fig);\n",
       "        return;\n",
       "    }\n",
       "\n",
       "    var output_index = fig.cell_info[2]\n",
       "    var cell = fig.cell_info[0];\n",
       "\n",
       "};\n",
       "\n",
       "mpl.figure.prototype.handle_close = function(fig, msg) {\n",
       "    var width = fig.canvas.width/mpl.ratio\n",
       "    fig.root.unbind('remove')\n",
       "\n",
       "    // Update the output cell to use the data from the current canvas.\n",
       "    fig.push_to_output();\n",
       "    var dataURL = fig.canvas.toDataURL();\n",
       "    // Re-enable the keyboard manager in IPython - without this line, in FF,\n",
       "    // the notebook keyboard shortcuts fail.\n",
       "    IPython.keyboard_manager.enable()\n",
       "    $(fig.parent_element).html('<img src=\"' + dataURL + '\" width=\"' + width + '\">');\n",
       "    fig.close_ws(fig, msg);\n",
       "}\n",
       "\n",
       "mpl.figure.prototype.close_ws = function(fig, msg){\n",
       "    fig.send_message('closing', msg);\n",
       "    // fig.ws.close()\n",
       "}\n",
       "\n",
       "mpl.figure.prototype.push_to_output = function(remove_interactive) {\n",
       "    // Turn the data on the canvas into data in the output cell.\n",
       "    var width = this.canvas.width/mpl.ratio\n",
       "    var dataURL = this.canvas.toDataURL();\n",
       "    this.cell_info[1]['text/html'] = '<img src=\"' + dataURL + '\" width=\"' + width + '\">';\n",
       "}\n",
       "\n",
       "mpl.figure.prototype.updated_canvas_event = function() {\n",
       "    // Tell IPython that the notebook contents must change.\n",
       "    IPython.notebook.set_dirty(true);\n",
       "    this.send_message(\"ack\", {});\n",
       "    var fig = this;\n",
       "    // Wait a second, then push the new image to the DOM so\n",
       "    // that it is saved nicely (might be nice to debounce this).\n",
       "    setTimeout(function () { fig.push_to_output() }, 1000);\n",
       "}\n",
       "\n",
       "mpl.figure.prototype._init_toolbar = function() {\n",
       "    var fig = this;\n",
       "\n",
       "    var nav_element = $('<div/>');\n",
       "    nav_element.attr('style', 'width: 100%');\n",
       "    this.root.append(nav_element);\n",
       "\n",
       "    // Define a callback function for later on.\n",
       "    function toolbar_event(event) {\n",
       "        return fig.toolbar_button_onclick(event['data']);\n",
       "    }\n",
       "    function toolbar_mouse_event(event) {\n",
       "        return fig.toolbar_button_onmouseover(event['data']);\n",
       "    }\n",
       "\n",
       "    for(var toolbar_ind in mpl.toolbar_items){\n",
       "        var name = mpl.toolbar_items[toolbar_ind][0];\n",
       "        var tooltip = mpl.toolbar_items[toolbar_ind][1];\n",
       "        var image = mpl.toolbar_items[toolbar_ind][2];\n",
       "        var method_name = mpl.toolbar_items[toolbar_ind][3];\n",
       "\n",
       "        if (!name) { continue; };\n",
       "\n",
       "        var button = $('<button class=\"btn btn-default\" href=\"#\" title=\"' + name + '\"><i class=\"fa ' + image + ' fa-lg\"></i></button>');\n",
       "        button.click(method_name, toolbar_event);\n",
       "        button.mouseover(tooltip, toolbar_mouse_event);\n",
       "        nav_element.append(button);\n",
       "    }\n",
       "\n",
       "    // Add the status bar.\n",
       "    var status_bar = $('<span class=\"mpl-message\" style=\"text-align:right; float: right;\"/>');\n",
       "    nav_element.append(status_bar);\n",
       "    this.message = status_bar[0];\n",
       "\n",
       "    // Add the close button to the window.\n",
       "    var buttongrp = $('<div class=\"btn-group inline pull-right\"></div>');\n",
       "    var button = $('<button class=\"btn btn-mini btn-primary\" href=\"#\" title=\"Stop Interaction\"><i class=\"fa fa-power-off icon-remove icon-large\"></i></button>');\n",
       "    button.click(function (evt) { fig.handle_close(fig, {}); } );\n",
       "    button.mouseover('Stop Interaction', toolbar_mouse_event);\n",
       "    buttongrp.append(button);\n",
       "    var titlebar = this.root.find($('.ui-dialog-titlebar'));\n",
       "    titlebar.prepend(buttongrp);\n",
       "}\n",
       "\n",
       "mpl.figure.prototype._root_extra_style = function(el){\n",
       "    var fig = this\n",
       "    el.on(\"remove\", function(){\n",
       "\tfig.close_ws(fig, {});\n",
       "    });\n",
       "}\n",
       "\n",
       "mpl.figure.prototype._canvas_extra_style = function(el){\n",
       "    // this is important to make the div 'focusable\n",
       "    el.attr('tabindex', 0)\n",
       "    // reach out to IPython and tell the keyboard manager to turn it's self\n",
       "    // off when our div gets focus\n",
       "\n",
       "    // location in version 3\n",
       "    if (IPython.notebook.keyboard_manager) {\n",
       "        IPython.notebook.keyboard_manager.register_events(el);\n",
       "    }\n",
       "    else {\n",
       "        // location in version 2\n",
       "        IPython.keyboard_manager.register_events(el);\n",
       "    }\n",
       "\n",
       "}\n",
       "\n",
       "mpl.figure.prototype._key_event_extra = function(event, name) {\n",
       "    var manager = IPython.notebook.keyboard_manager;\n",
       "    if (!manager)\n",
       "        manager = IPython.keyboard_manager;\n",
       "\n",
       "    // Check for shift+enter\n",
       "    if (event.shiftKey && event.which == 13) {\n",
       "        this.canvas_div.blur();\n",
       "        // select the cell after this one\n",
       "        var index = IPython.notebook.find_cell_index(this.cell_info[0]);\n",
       "        IPython.notebook.select(index + 1);\n",
       "    }\n",
       "}\n",
       "\n",
       "mpl.figure.prototype.handle_save = function(fig, msg) {\n",
       "    fig.ondownload(fig, null);\n",
       "}\n",
       "\n",
       "\n",
       "mpl.find_output_cell = function(html_output) {\n",
       "    // Return the cell and output element which can be found *uniquely* in the notebook.\n",
       "    // Note - this is a bit hacky, but it is done because the \"notebook_saving.Notebook\"\n",
       "    // IPython event is triggered only after the cells have been serialised, which for\n",
       "    // our purposes (turning an active figure into a static one), is too late.\n",
       "    var cells = IPython.notebook.get_cells();\n",
       "    var ncells = cells.length;\n",
       "    for (var i=0; i<ncells; i++) {\n",
       "        var cell = cells[i];\n",
       "        if (cell.cell_type === 'code'){\n",
       "            for (var j=0; j<cell.output_area.outputs.length; j++) {\n",
       "                var data = cell.output_area.outputs[j];\n",
       "                if (data.data) {\n",
       "                    // IPython >= 3 moved mimebundle to data attribute of output\n",
       "                    data = data.data;\n",
       "                }\n",
       "                if (data['text/html'] == html_output) {\n",
       "                    return [cell, data, j];\n",
       "                }\n",
       "            }\n",
       "        }\n",
       "    }\n",
       "}\n",
       "\n",
       "// Register the function which deals with the matplotlib target/channel.\n",
       "// The kernel may be null if the page has been refreshed.\n",
       "if (IPython.notebook.kernel != null) {\n",
       "    IPython.notebook.kernel.comm_manager.register_target('matplotlib', mpl.mpl_figure_comm);\n",
       "}\n"
      ],
      "text/plain": [
       "<IPython.core.display.Javascript object>"
      ]
     },
     "metadata": {},
     "output_type": "display_data"
    },
    {
     "data": {
      "text/html": [
       "<img src=\"data:image/png;base64,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\" width=\"640\">"
      ],
      "text/plain": [
       "<IPython.core.display.HTML object>"
      ]
     },
     "metadata": {},
     "output_type": "display_data"
    }
   ],
   "source": [
    "plt.bar(names, areas)\n",
    "plt.show()"
   ]
  },
  {
   "cell_type": "markdown",
   "metadata": {},
   "source": [
    "#### Discriptive statistics of a column\n",
    "\n",
    "For example, we can calcualte the total land area of all states:"
   ]
  },
  {
   "cell_type": "code",
   "execution_count": 16,
   "metadata": {},
   "outputs": [
    {
     "name": "stdout",
     "output_type": "stream",
     "text": [
      "Total land area:  9159859.051207  km2\n"
     ]
    }
   ],
   "source": [
    "states = ee.FeatureCollection('TIGER/2018/States')\n",
    "area_m2 = states.aggregate_sum(\"ALAND\").getInfo()\n",
    "area_km2 = area_m2 / 1000000\n",
    "print(\"Total land area: \", area_km2, \" km2\")"
   ]
  },
  {
   "cell_type": "code",
   "execution_count": 17,
   "metadata": {},
   "outputs": [
    {
     "name": "stdout",
     "output_type": "stream",
     "text": [
      "{'max': 1478839695958, 'mean': 163568911628.69644, 'min': 158340391, 'sample_sd': 217378106661.36972, 'sample_var': 4.7253241255681835e+22, 'sum': 9159859051207, 'sum_sq': 4.0971964447406937e+24, 'total_count': 56, 'total_sd': 215428487847.16492, 'total_var': 4.640943337611609e+22, 'valid_count': 56, 'weight_sum': 56, 'weighted_sum': 9159859051207}\n"
     ]
    }
   ],
   "source": [
    "states = ee.FeatureCollection('TIGER/2018/States')\n",
    "stats = states.aggregate_stats(\"ALAND\").getInfo()\n",
    "print(stats)"
   ]
  },
  {
   "cell_type": "markdown",
   "metadata": {},
   "source": [
    "#### Add a new column to the attribute table"
   ]
  },
  {
   "cell_type": "code",
   "execution_count": 18,
   "metadata": {},
   "outputs": [
    {
     "name": "stdout",
     "output_type": "stream",
     "text": [
      "{'ALAND': 1478839695958, 'AWATER': 245481577452, 'AreaKm2': 1713742, 'DIVISION': '9', 'FUNCSTAT': 'A', 'GEOID': '02', 'INTPTLAT': '+63.3473560', 'INTPTLON': '-152.8397334', 'LSAD': '00', 'MTFCC': 'G4000', 'NAME': 'Alaska', 'REGION': '4', 'STATEFP': '02', 'STATENS': '01785533', 'STUSPS': 'AK'}\n"
     ]
    }
   ],
   "source": [
    "states = ee.FeatureCollection('TIGER/2018/States').sort('ALAND', False)\n",
    "states = states.map(lambda x: x.set('AreaKm2', x.area().divide(1000000).toLong()))\n",
    "first = states.first().toDictionary().getInfo()\n",
    "print(first)"
   ]
  },
  {
   "cell_type": "markdown",
   "metadata": {},
   "source": [
    "#### Set symbology based on column  values"
   ]
  },
  {
   "cell_type": "code",
   "execution_count": 19,
   "metadata": {},
   "outputs": [
    {
     "data": {
      "application/vnd.jupyter.widget-view+json": {
       "model_id": "7fb9b63fd69347609a89125916cff005",
       "version_major": 2,
       "version_minor": 0
      },
      "text/plain": [
       "Map(center=[40, -100], controls=(WidgetControl(options=['position'], widget=HBox(children=(ToggleButton(value=…"
      ]
     },
     "metadata": {},
     "output_type": "display_data"
    }
   ],
   "source": [
    "Map = geemap.Map(center=[40, -100], zoom=4)\n",
    "\n",
    "states = ee.FeatureCollection('TIGER/2018/States')\n",
    "\n",
    "visParams = {\n",
    "  'palette': ['purple', 'blue', 'green', 'yellow', 'orange', 'red'],\n",
    "  'min': 500000000.0,\n",
    "  'max': 5e+11,\n",
    "  'opacity': 0.8,\n",
    "}\n",
    "\n",
    "image = ee.Image().float().paint(states, 'ALAND')\n",
    "Map.addLayer(image, visParams, 'TIGER/2018/States')\n",
    "\n",
    "Map.addLayerControl()\n",
    "Map"
   ]
  },
  {
   "cell_type": "markdown",
   "metadata": {},
   "source": [
    "#### Download attribute table as a CSV"
   ]
  },
  {
   "cell_type": "code",
   "execution_count": null,
   "metadata": {},
   "outputs": [],
   "source": [
    "states = ee.FeatureCollection('TIGER/2018/States')\n",
    "url = states.getDownloadURL(filetype=\"csv\", selectors=['NAME', 'ALAND', 'REGION', 'STATEFP', 'STUSPS'], filename=\"states\")\n",
    "print(url)"
   ]
  },
  {
   "cell_type": "markdown",
   "metadata": {},
   "source": [
    "#### Formatting the output"
   ]
  },
  {
   "cell_type": "code",
   "execution_count": null,
   "metadata": {},
   "outputs": [],
   "source": [
    "first = states.first()\n",
    "props = first.propertyNames().getInfo()\n",
    "print(props)\n",
    "props = states.first().toDictionary(props).getInfo()\n",
    "print(props)\n",
    "\n",
    "for key, value in props.items():\n",
    "    print(\"{}: {}\".format(key, value))"
   ]
  },
  {
   "cell_type": "markdown",
   "metadata": {},
   "source": [
    "#### Download data as shapefile to Google Drive"
   ]
  },
  {
   "cell_type": "code",
   "execution_count": null,
   "metadata": {},
   "outputs": [],
   "source": [
    "# function for converting GeometryCollection to Polygon/MultiPolygon\n",
    "def filter_polygons(ftr):\n",
    "    geometries = ftr.geometry().geometries()\n",
    "    geometries = geometries.map(lambda geo: ee.Feature( ee.Geometry(geo)).set('geoType',  ee.Geometry(geo).type()))\n",
    "\n",
    "    polygons = ee.FeatureCollection(geometries).filter(ee.Filter.eq('geoType', 'Polygon')).geometry()\n",
    "    return ee.Feature(polygons).copyProperties(ftr)\n",
    "\n",
    "states = ee.FeatureCollection('TIGER/2018/States')\n",
    "new_states = states.map(filter_polygons)\n",
    "\n",
    "col_names = states.first().propertyNames().getInfo()\n",
    "print(\"Column names: \", col_names)\n",
    "\n",
    "url = new_states.getDownloadURL(\"shp\", col_names, 'states');\n",
    "print(url)\n",
    "\n",
    "desc = 'states'\n",
    "\n",
    "# Set configration parameters for output vector\n",
    "task_config = {\n",
    "    'folder': 'gee-data', # output Google Drive folder\n",
    "    'fileFormat': 'SHP',  \n",
    "    'selectors': col_names # a list of properties/attributes to be exported\n",
    "    }\n",
    "\n",
    "print('Exporting {}'.format(desc))\n",
    "task = ee.batch.Export.table.toDrive(new_states, desc, **task_config)\n",
    "task.start()"
   ]
  },
  {
   "cell_type": "markdown",
   "metadata": {},
   "source": [
    "## TIGER: US Census Blocks\n",
    "\n",
    "https://developers.google.com/earth-engine/datasets/catalog/TIGER_2010_Blocks\n",
    "\n",
    "![](https://i.imgur.com/KTQqb8v.png)"
   ]
  },
  {
   "cell_type": "code",
   "execution_count": 20,
   "metadata": {},
   "outputs": [
    {
     "name": "stdout",
     "output_type": "stream",
     "text": [
      "The number of census blocks:  240116\n",
      "Total population:  6346105\n"
     ]
    },
    {
     "data": {
      "application/vnd.jupyter.widget-view+json": {
       "model_id": "517ee4dd57a84b0fbfa0366523d66871",
       "version_major": 2,
       "version_minor": 0
      },
      "text/plain": [
       "Map(center=[40.74101, -73.99172], controls=(WidgetControl(options=['position'], widget=HBox(children=(ToggleBu…"
      ]
     },
     "metadata": {},
     "output_type": "display_data"
    }
   ],
   "source": [
    "Map = geemap.Map(center=[40, -100], zoom=4)\n",
    "\n",
    "dataset = ee.FeatureCollection('TIGER/2010/Blocks') \\\n",
    "    .filter(ee.Filter.eq('statefp10', '47'))\n",
    "    \n",
    "pop = dataset.aggregate_sum('pop10')\n",
    "    \n",
    "print(\"The number of census blocks: \", dataset.size().getInfo())\n",
    "print(\"Total population: \", pop.getInfo())\n",
    "    \n",
    "Map.setCenter(-86.79, 35.87, 6)   \n",
    "Map.addLayer(dataset, {}, \"Census Block\", False)\n",
    "    \n",
    "visParams = {\n",
    "  'min': 0.0,\n",
    "  'max': 700.0,\n",
    "  'palette': ['black', 'brown', 'yellow', 'orange', 'red']\n",
    "}\n",
    "\n",
    "image = ee.Image().float().paint(dataset, 'pop10')\n",
    "\n",
    "Map.setCenter(-73.99172, 40.74101, 13)\n",
    "Map.addLayer(image, visParams, 'TIGER/2010/Blocks')\n",
    "\n",
    "Map.addLayerControl()\n",
    "Map"
   ]
  },
  {
   "cell_type": "markdown",
   "metadata": {},
   "source": [
    "## TIGER: US Census Counties 2018\n",
    "\n",
    "https://developers.google.com/earth-engine/datasets/catalog/TIGER_2018_Counties\n",
    "\n",
    "![](https://i.imgur.com/K3j99eA.png)"
   ]
  },
  {
   "cell_type": "code",
   "execution_count": 21,
   "metadata": {},
   "outputs": [
    {
     "data": {
      "application/vnd.jupyter.widget-view+json": {
       "model_id": "11e8febd455049ffa72a2968d196bff1",
       "version_major": 2,
       "version_minor": 0
      },
      "text/plain": [
       "Map(center=[40, -110], controls=(WidgetControl(options=['position'], widget=HBox(children=(ToggleButton(value=…"
      ]
     },
     "metadata": {},
     "output_type": "display_data"
    }
   ],
   "source": [
    "Map = geemap.Map(center=[40, -100], zoom=4)\n",
    "\n",
    "Map.setCenter(-110, 40, 5)\n",
    "states = ee.FeatureCollection('TIGER/2018/States') \n",
    "#     .filter(ee.Filter.eq('STUSPS', 'TN'))\n",
    "# // Turn the strings into numbers\n",
    "states = states.map(lambda f: f.set('STATEFP', ee.Number.parse(f.get('STATEFP'))))\n",
    "\n",
    "state_image = ee.Image().float().paint(states, 'STATEFP')\n",
    "\n",
    "visParams = {\n",
    "  'palette': ['purple', 'blue', 'green', 'yellow', 'orange', 'red'],\n",
    "  'min': 0,\n",
    "  'max': 50,\n",
    "  'opacity': 0.8,\n",
    "};\n",
    "\n",
    "counties = ee.FeatureCollection('TIGER/2016/Counties')  \n",
    "# print(counties.first().propertyNames().getInfo())\n",
    "\n",
    "image = ee.Image().paint(states, 0, 2)\n",
    "# Map.setCenter(-99.844, 37.649, 4)\n",
    "# Map.addLayer(image, {'palette': 'FF0000'}, 'TIGER/2018/States')\n",
    "Map.addLayer(state_image, visParams, 'TIGER/2016/States');\n",
    "Map.addLayer(ee.Image().paint(counties, 0, 1), {}, 'TIGER/2016/Counties')\n",
    "\n",
    "Map.addLayerControl()\n",
    "Map"
   ]
  },
  {
   "cell_type": "markdown",
   "metadata": {},
   "source": [
    "## TIGER: US Census Tracts\n",
    "\n",
    "https://developers.google.com/earth-engine/datasets/catalog/TIGER_2010_Tracts_DP1\n",
    "\n",
    "http://magic.lib.uconn.edu/magic_2/vector/37800/demogprofilehousect_37800_0000_2010_s100_census_1_t.htm\n",
    "\n",
    "![](https://i.imgur.com/WV2XA9b.png)"
   ]
  },
  {
   "cell_type": "code",
   "execution_count": 22,
   "metadata": {},
   "outputs": [
    {
     "data": {
      "application/vnd.jupyter.widget-view+json": {
       "model_id": "a30765af65914377929c7b84b0260954",
       "version_major": 2,
       "version_minor": 0
      },
      "text/plain": [
       "Map(center=[40, -100], controls=(WidgetControl(options=['position'], widget=HBox(children=(ToggleButton(value=…"
      ]
     },
     "metadata": {},
     "output_type": "display_data"
    }
   ],
   "source": [
    "Map = geemap.Map(center=[40, -100], zoom=4)\n",
    "\n",
    "dataset = ee.FeatureCollection('TIGER/2010/Tracts_DP1')\n",
    "visParams = {\n",
    "  'min': 0,\n",
    "  'max': 4000,\n",
    "  'opacity': 0.8,\n",
    "   'palette': ['#ece7f2', '#d0d1e6', '#a6bddb', '#74a9cf', '#3690c0', '#0570b0', '#045a8d', '#023858']\n",
    "}\n",
    "\n",
    "# print(dataset.first().propertyNames().getInfo())\n",
    "\n",
    "# Turn the strings into numbers\n",
    "dataset = dataset.map(lambda f: f.set('shape_area', ee.Number.parse(f.get('dp0010001'))))\n",
    "\n",
    "# Map.setCenter(-103.882, 43.036, 8)\n",
    "image = ee.Image().float().paint(dataset, 'dp0010001')\n",
    "\n",
    "Map.addLayer(image, visParams, 'TIGER/2010/Tracts_DP1')\n",
    "\n",
    "Map.addLayerControl()\n",
    "Map"
   ]
  },
  {
   "cell_type": "markdown",
   "metadata": {},
   "source": [
    "## TIGER: US Census Roads\n",
    "\n",
    "https://developers.google.com/earth-engine/datasets/catalog/TIGER_2016_Roads\n",
    "\n",
    "![](https://i.imgur.com/mguD0IQ.png)"
   ]
  },
  {
   "cell_type": "code",
   "execution_count": 23,
   "metadata": {},
   "outputs": [
    {
     "data": {
      "application/vnd.jupyter.widget-view+json": {
       "model_id": "0136d6802f924a08869b9c4ce1a6af13",
       "version_major": 2,
       "version_minor": 0
      },
      "text/plain": [
       "Map(center=[40.7688, -73.9596], controls=(WidgetControl(options=['position'], widget=HBox(children=(ToggleButt…"
      ]
     },
     "metadata": {},
     "output_type": "display_data"
    }
   ],
   "source": [
    "Map = geemap.Map(center=[40, -100], zoom=4)\n",
    "\n",
    "fc = ee.FeatureCollection('TIGER/2016/Roads')\n",
    "Map.setCenter(-73.9596, 40.7688, 12)\n",
    "Map.addLayer(fc, {}, 'Census roads')\n",
    "\n",
    "Map.addLayerControl()\n",
    "Map"
   ]
  },
  {
   "cell_type": "code",
   "execution_count": null,
   "metadata": {},
   "outputs": [],
   "source": []
  },
  {
   "cell_type": "code",
   "execution_count": null,
   "metadata": {},
   "outputs": [],
   "source": []
  }
 ],
 "metadata": {
  "anaconda-cloud": {},
  "hide_input": false,
  "kernelspec": {
   "display_name": "Python 3",
   "language": "python",
   "name": "python3"
  },
  "language_info": {
   "codemirror_mode": {
    "name": "ipython",
    "version": 3
   },
   "file_extension": ".py",
   "mimetype": "text/x-python",
   "name": "python",
   "nbconvert_exporter": "python",
   "pygments_lexer": "ipython3",
   "version": "3.7.6"
  },
  "toc": {
   "base_numbering": 1,
   "nav_menu": {},
   "number_sections": true,
   "sideBar": true,
   "skip_h1_title": true,
   "title_cell": "Table of Contents",
   "title_sidebar": "Table of Contents",
   "toc_cell": false,
   "toc_position": {},
   "toc_section_display": true,
   "toc_window_display": true
  },
  "varInspector": {
   "cols": {
    "lenName": 16,
    "lenType": 16,
    "lenVar": 40
   },
   "kernels_config": {
    "python": {
     "delete_cmd_postfix": "",
     "delete_cmd_prefix": "del ",
     "library": "var_list.py",
     "varRefreshCmd": "print(var_dic_list())"
    },
    "r": {
     "delete_cmd_postfix": ") ",
     "delete_cmd_prefix": "rm(",
     "library": "var_list.r",
     "varRefreshCmd": "cat(var_dic_list()) "
    }
   },
   "types_to_exclude": [
    "module",
    "function",
    "builtin_function_or_method",
    "instance",
    "_Feature"
   ],
   "window_display": false
  }
 },
 "nbformat": 4,
 "nbformat_minor": 4
}
