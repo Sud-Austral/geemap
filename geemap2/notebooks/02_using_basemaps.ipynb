{
 "cells": [
  {
   "cell_type": "markdown",
   "metadata": {},
   "source": [
    "<a href=\"https://githubtocolab.com/giswqs/geemap/blob/master/examples/notebooks/02_using_basemaps.ipynb\" target=\"_parent\"><img src=\"https://colab.research.google.com/assets/colab-badge.svg\" alt=\"Open in Colab\"/></a>"
   ]
  },
  {
   "cell_type": "markdown",
   "metadata": {},
   "source": [
    "Uncomment the following line to install [geemap](https://geemap.org) if needed."
   ]
  },
  {
   "cell_type": "code",
   "execution_count": null,
   "metadata": {},
   "outputs": [],
   "source": [
    "# !pip install geemap"
   ]
  },
  {
   "cell_type": "code",
   "execution_count": 1,
   "metadata": {},
   "outputs": [],
   "source": [
    "import geemap"
   ]
  },
  {
   "cell_type": "code",
   "execution_count": 2,
   "metadata": {},
   "outputs": [
    {
     "data": {
      "application/vnd.jupyter.widget-view+json": {
       "model_id": "7616256351554b46b412efa4689c5c75",
       "version_major": 2,
       "version_minor": 0
      },
      "text/plain": [
       "Output(layout=Layout(width='815px'))"
      ]
     },
     "metadata": {},
     "output_type": "display_data"
    }
   ],
   "source": [
    "geemap.show_youtube('6J5ZCIUPXfI')"
   ]
  },
  {
   "cell_type": "code",
   "execution_count": 3,
   "metadata": {},
   "outputs": [
    {
     "data": {
      "application/vnd.jupyter.widget-view+json": {
       "model_id": "f45446f4499442f29fb7cf1ec20d104a",
       "version_major": 2,
       "version_minor": 0
      },
      "text/plain": [
       "Map(center=[40, -100], controls=(WidgetControl(options=['position'], widget=HBox(children=(ToggleButton(value=…"
      ]
     },
     "metadata": {},
     "output_type": "display_data"
    }
   ],
   "source": [
    "Map = geemap.Map(center=[40, -100], zoom=4)\n",
    "Map"
   ]
  },
  {
   "cell_type": "code",
   "execution_count": 8,
   "metadata": {},
   "outputs": [
    {
     "name": "stdout",
     "output_type": "stream",
     "text": [
      "layer already on map: TileLayer(attribution='Google', name='Google Satellite', options=['attribution', 'detect_retina', 'max_native_zoom', 'max_zoom', 'min_native_zoom', 'min_zoom', 'no_wrap', 'tile_size', 'tms'], url='https://mt1.google.com/vt/lyrs=y&x={x}&y={y}&z={z}')\n",
      "Basemap can only be one of the following:\n",
      "  ROADMAP\n",
      "  SATELLITE\n",
      "  TERRAIN\n",
      "  HYBRID\n",
      "  ESRI\n",
      "  Esri Ocean\n",
      "  Esri Satellite\n",
      "  Esri Standard\n",
      "  Esri Terrain\n",
      "  Esri Transportation\n",
      "  Esri Topo World\n",
      "  Esri National Geographic\n",
      "  Esri Shaded Relief\n",
      "  Esri Physical Map\n",
      "  FWS NWI Wetlands\n",
      "  FWS NWI Wetlands Raster\n",
      "  Google Maps\n",
      "  Google Satellite\n",
      "  Google Terrain\n",
      "  Google Satellite Hybrid\n",
      "  NLCD 2016 CONUS Land Cover\n",
      "  NLCD 2013 CONUS Land Cover\n",
      "  NLCD 2011 CONUS Land Cover\n",
      "  NLCD 2008 CONUS Land Cover\n",
      "  NLCD 2006 CONUS Land Cover\n",
      "  NLCD 2004 CONUS Land Cover\n",
      "  NLCD 2001 CONUS Land Cover\n",
      "  USGS NAIP Imagery\n",
      "  USGS Hydrography\n",
      "  USGS 3DEP Elevation\n",
      "  OpenStreetMap.Mapnik\n",
      "  OpenStreetMap.BlackAndWhite\n",
      "  OpenStreetMap.DE\n",
      "  OpenStreetMap.France\n",
      "  OpenStreetMap.HOT\n",
      "  OpenTopoMap\n",
      "  Hydda.Full\n",
      "  Hydda.Base\n",
      "  Esri.WorldStreetMap\n",
      "  Esri.DeLorme\n",
      "  Esri.WorldTopoMap\n",
      "  Esri.WorldImagery\n",
      "  Esri.NatGeoWorldMap\n",
      "  HikeBike.HikeBike\n",
      "  MtbMap\n",
      "  CartoDB.Positron\n",
      "  CartoDB.DarkMatter\n",
      "  NASAGIBS.ModisTerraTrueColorCR\n",
      "  NASAGIBS.ModisTerraBands367CR\n",
      "  NASAGIBS.ModisTerraBands721CR\n",
      "  NASAGIBS.ModisAquaTrueColorCR\n",
      "  NASAGIBS.ModisAquaBands721CR\n",
      "  NASAGIBS.ViirsTrueColorCR\n",
      "  NASAGIBS.ViirsEarthAtNight2012\n",
      "  NASAGIBS.BlueMarble3413\n",
      "  NASAGIBS.BlueMarble3031\n",
      "  NASAGIBS.BlueMarble\n",
      "  Strava.All\n",
      "  Strava.Ride\n",
      "  Strava.Run\n",
      "  Strava.Water\n",
      "  Strava.Winter\n",
      "  Stamen.Terrain\n",
      "  Stamen.Toner\n",
      "  Stamen.Watercolor\n"
     ]
    }
   ],
   "source": [
    "Map.add_basemap('HYBRID')"
   ]
  },
  {
   "cell_type": "code",
   "execution_count": 1,
   "metadata": {},
   "outputs": [
    {
     "ename": "NameError",
     "evalue": "name 'Map' is not defined",
     "output_type": "error",
     "traceback": [
      "\u001b[1;31m---------------------------------------------------------------------------\u001b[0m",
      "\u001b[1;31mNameError\u001b[0m                                 Traceback (most recent call last)",
      "\u001b[1;32m<ipython-input-1-4272da996741>\u001b[0m in \u001b[0;36m<module>\u001b[1;34m\u001b[0m\n\u001b[0;32m      1\u001b[0m \u001b[0mnaip_url\u001b[0m \u001b[1;33m=\u001b[0m \u001b[1;34m'https://services.nationalmap.gov/arcgis/services/USGSNAIPImagery/ImageServer/WMSServer?'\u001b[0m\u001b[1;33m\u001b[0m\u001b[1;33m\u001b[0m\u001b[0m\n\u001b[1;32m----> 2\u001b[1;33m \u001b[0mMap\u001b[0m\u001b[1;33m.\u001b[0m\u001b[0madd_wms_layer\u001b[0m\u001b[1;33m(\u001b[0m\u001b[0murl\u001b[0m\u001b[1;33m=\u001b[0m\u001b[0mnaip_url\u001b[0m\u001b[1;33m,\u001b[0m \u001b[0mlayers\u001b[0m\u001b[1;33m=\u001b[0m\u001b[1;34m'0'\u001b[0m\u001b[1;33m,\u001b[0m \u001b[0mname\u001b[0m\u001b[1;33m=\u001b[0m\u001b[1;34m'NAIP Imagery'\u001b[0m\u001b[1;33m,\u001b[0m \u001b[0mformat\u001b[0m\u001b[1;33m=\u001b[0m\u001b[1;34m'image/png'\u001b[0m\u001b[1;33m,\u001b[0m \u001b[0mshown\u001b[0m\u001b[1;33m=\u001b[0m\u001b[1;32mTrue\u001b[0m\u001b[1;33m)\u001b[0m\u001b[1;33m\u001b[0m\u001b[1;33m\u001b[0m\u001b[0m\n\u001b[0m",
      "\u001b[1;31mNameError\u001b[0m: name 'Map' is not defined"
     ]
    }
   ],
   "source": [
    "naip_url = 'https://services.nationalmap.gov/arcgis/services/USGSNAIPImagery/ImageServer/WMSServer?'\n",
    "Map.add_wms_layer(url=naip_url, layers='0', name='NAIP Imagery', format='image/png', shown=True)"
   ]
  },
  {
   "cell_type": "code",
   "execution_count": 10,
   "metadata": {},
   "outputs": [],
   "source": [
    "url = 'https://mt1.google.com/vt/lyrs=m&x={x}&y={y}&z={z}'\n",
    "Map.add_tile_layer(url, name='Google Map', attribution='Google')"
   ]
  },
  {
   "cell_type": "code",
   "execution_count": 11,
   "metadata": {},
   "outputs": [
    {
     "ename": "ControlException",
     "evalue": "control not on map: WidgetControl(options=['position'], position='topright', widget=VBox(children=(Checkbox(value=False, description='Inspector', indent=False, layout=Layout(height='18px', width='13ex')), Checkbox(value=False, description='Plotting', indent=False, layout=Layout(width='13ex')))))",
     "output_type": "error",
     "traceback": [
      "\u001b[1;31m---------------------------------------------------------------------------\u001b[0m",
      "\u001b[1;31mControlException\u001b[0m                          Traceback (most recent call last)",
      "\u001b[1;32m<ipython-input-11-5838d8ec22e8>\u001b[0m in \u001b[0;36m<module>\u001b[1;34m\u001b[0m\n\u001b[0;32m      1\u001b[0m \u001b[0mm\u001b[0m \u001b[1;33m=\u001b[0m \u001b[0mgeemap\u001b[0m\u001b[1;33m.\u001b[0m\u001b[0mMap\u001b[0m\u001b[1;33m(\u001b[0m\u001b[1;33m)\u001b[0m\u001b[1;33m\u001b[0m\u001b[1;33m\u001b[0m\u001b[0m\n\u001b[1;32m----> 2\u001b[1;33m \u001b[0mm\u001b[0m\u001b[1;33m.\u001b[0m\u001b[0mbasemap_demo\u001b[0m\u001b[1;33m(\u001b[0m\u001b[1;33m)\u001b[0m\u001b[1;33m\u001b[0m\u001b[1;33m\u001b[0m\u001b[0m\n\u001b[0m\u001b[0;32m      3\u001b[0m \u001b[0mm\u001b[0m\u001b[1;33m\u001b[0m\u001b[1;33m\u001b[0m\u001b[0m\n",
      "\u001b[1;32m~\\anaconda3\\lib\\site-packages\\geemap\\geemap.py\u001b[0m in \u001b[0;36mbasemap_demo\u001b[1;34m(self)\u001b[0m\n\u001b[0;32m   2003\u001b[0m         \u001b[0mdropdown\u001b[0m\u001b[1;33m.\u001b[0m\u001b[0mobserve\u001b[0m\u001b[1;33m(\u001b[0m\u001b[0mon_click\u001b[0m\u001b[1;33m,\u001b[0m \u001b[1;34m\"value\"\u001b[0m\u001b[1;33m)\u001b[0m\u001b[1;33m\u001b[0m\u001b[1;33m\u001b[0m\u001b[0m\n\u001b[0;32m   2004\u001b[0m         \u001b[0mbasemap_control\u001b[0m \u001b[1;33m=\u001b[0m \u001b[0mWidgetControl\u001b[0m\u001b[1;33m(\u001b[0m\u001b[0mwidget\u001b[0m\u001b[1;33m=\u001b[0m\u001b[0mdropdown\u001b[0m\u001b[1;33m,\u001b[0m \u001b[0mposition\u001b[0m\u001b[1;33m=\u001b[0m\u001b[1;34m\"topright\"\u001b[0m\u001b[1;33m)\u001b[0m\u001b[1;33m\u001b[0m\u001b[1;33m\u001b[0m\u001b[0m\n\u001b[1;32m-> 2005\u001b[1;33m         \u001b[0mself\u001b[0m\u001b[1;33m.\u001b[0m\u001b[0mremove_control\u001b[0m\u001b[1;33m(\u001b[0m\u001b[0mself\u001b[0m\u001b[1;33m.\u001b[0m\u001b[0minspector_control\u001b[0m\u001b[1;33m)\u001b[0m\u001b[1;33m\u001b[0m\u001b[1;33m\u001b[0m\u001b[0m\n\u001b[0m\u001b[0;32m   2006\u001b[0m         \u001b[1;31m# self.remove_control(self.layer_control)\u001b[0m\u001b[1;33m\u001b[0m\u001b[1;33m\u001b[0m\u001b[1;33m\u001b[0m\u001b[0m\n\u001b[0;32m   2007\u001b[0m         \u001b[0mself\u001b[0m\u001b[1;33m.\u001b[0m\u001b[0madd_control\u001b[0m\u001b[1;33m(\u001b[0m\u001b[0mbasemap_control\u001b[0m\u001b[1;33m)\u001b[0m\u001b[1;33m\u001b[0m\u001b[1;33m\u001b[0m\u001b[0m\n",
      "\u001b[1;32m~\\anaconda3\\lib\\site-packages\\ipyleaflet\\leaflet.py\u001b[0m in \u001b[0;36mremove_control\u001b[1;34m(self, control)\u001b[0m\n\u001b[0;32m   2016\u001b[0m         \"\"\"\n\u001b[0;32m   2017\u001b[0m         \u001b[1;32mif\u001b[0m \u001b[0mcontrol\u001b[0m\u001b[1;33m.\u001b[0m\u001b[0mmodel_id\u001b[0m \u001b[1;32mnot\u001b[0m \u001b[1;32min\u001b[0m \u001b[0mself\u001b[0m\u001b[1;33m.\u001b[0m\u001b[0m_control_ids\u001b[0m\u001b[1;33m:\u001b[0m\u001b[1;33m\u001b[0m\u001b[1;33m\u001b[0m\u001b[0m\n\u001b[1;32m-> 2018\u001b[1;33m             \u001b[1;32mraise\u001b[0m \u001b[0mControlException\u001b[0m\u001b[1;33m(\u001b[0m\u001b[1;34m'control not on map: %r'\u001b[0m \u001b[1;33m%\u001b[0m \u001b[0mcontrol\u001b[0m\u001b[1;33m)\u001b[0m\u001b[1;33m\u001b[0m\u001b[1;33m\u001b[0m\u001b[0m\n\u001b[0m\u001b[0;32m   2019\u001b[0m         \u001b[0mself\u001b[0m\u001b[1;33m.\u001b[0m\u001b[0mcontrols\u001b[0m \u001b[1;33m=\u001b[0m \u001b[0mtuple\u001b[0m\u001b[1;33m(\u001b[0m\u001b[1;33m[\u001b[0m\u001b[0mc\u001b[0m \u001b[1;32mfor\u001b[0m \u001b[0mc\u001b[0m \u001b[1;32min\u001b[0m \u001b[0mself\u001b[0m\u001b[1;33m.\u001b[0m\u001b[0mcontrols\u001b[0m \u001b[1;32mif\u001b[0m \u001b[0mc\u001b[0m\u001b[1;33m.\u001b[0m\u001b[0mmodel_id\u001b[0m \u001b[1;33m!=\u001b[0m \u001b[0mcontrol\u001b[0m\u001b[1;33m.\u001b[0m\u001b[0mmodel_id\u001b[0m\u001b[1;33m]\u001b[0m\u001b[1;33m)\u001b[0m\u001b[1;33m\u001b[0m\u001b[1;33m\u001b[0m\u001b[0m\n\u001b[0;32m   2020\u001b[0m \u001b[1;33m\u001b[0m\u001b[0m\n",
      "\u001b[1;31mControlException\u001b[0m: control not on map: WidgetControl(options=['position'], position='topright', widget=VBox(children=(Checkbox(value=False, description='Inspector', indent=False, layout=Layout(height='18px', width='13ex')), Checkbox(value=False, description='Plotting', indent=False, layout=Layout(width='13ex')))))"
     ]
    }
   ],
   "source": [
    "m = geemap.Map()\n",
    "m.basemap_demo()\n",
    "m"
   ]
  },
  {
   "cell_type": "code",
   "execution_count": null,
   "metadata": {},
   "outputs": [],
   "source": []
  }
 ],
 "metadata": {
  "hide_input": false,
  "kernelspec": {
   "display_name": "Python 3",
   "language": "python",
   "name": "python3"
  },
  "language_info": {
   "codemirror_mode": {
    "name": "ipython",
    "version": 3
   },
   "file_extension": ".py",
   "mimetype": "text/x-python",
   "name": "python",
   "nbconvert_exporter": "python",
   "pygments_lexer": "ipython3",
   "version": "3.7.6"
  },
  "toc": {
   "base_numbering": 1,
   "nav_menu": {},
   "number_sections": true,
   "sideBar": true,
   "skip_h1_title": true,
   "title_cell": "Table of Contents",
   "title_sidebar": "Table of Contents",
   "toc_cell": false,
   "toc_position": {},
   "toc_section_display": true,
   "toc_window_display": true
  },
  "varInspector": {
   "cols": {
    "lenName": 16,
    "lenType": 16,
    "lenVar": 40
   },
   "kernels_config": {
    "python": {
     "delete_cmd_postfix": "",
     "delete_cmd_prefix": "del ",
     "library": "var_list.py",
     "varRefreshCmd": "print(var_dic_list())"
    },
    "r": {
     "delete_cmd_postfix": ") ",
     "delete_cmd_prefix": "rm(",
     "library": "var_list.r",
     "varRefreshCmd": "cat(var_dic_list()) "
    }
   },
   "types_to_exclude": [
    "module",
    "function",
    "builtin_function_or_method",
    "instance",
    "_Feature"
   ],
   "window_display": false
  }
 },
 "nbformat": 4,
 "nbformat_minor": 4
}
